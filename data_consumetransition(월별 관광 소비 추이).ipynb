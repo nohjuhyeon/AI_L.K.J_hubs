{
 "cells": [
  {
   "cell_type": "markdown",
   "id": "38da6f59-eacb-42bd-addd-fefa9b267e39",
   "metadata": {},
   "source": [
    "# 시각화"
   ]
  },
  {
   "cell_type": "code",
   "execution_count": 4,
   "id": "cdf4dc05-4178-4304-a0fc-00668d7ed329",
   "metadata": {},
   "outputs": [
    {
     "name": "stdout",
     "output_type": "stream",
     "text": [
      "Reading package lists... Done\n",
      "Building dependency tree... Done\n",
      "Reading state information... Done\n",
      "fonts-nanum is already the newest version (20200506-1).\n",
      "0 upgraded, 0 newly installed, 0 to remove and 0 not upgraded.\n",
      "Font directories:\n",
      "\t/root/.local/share/fonts\n",
      "\t/usr/local/share/fonts\n",
      "\t/usr/share/fonts\n",
      "\t/root/.fonts\n",
      "\t/usr/share/fonts/truetype\n",
      "\t/usr/share/fonts/truetype/dejavu\n",
      "\t/usr/share/fonts/truetype/nanum\n",
      "/root/.local/share/fonts: skipping, no such directory\n",
      "/usr/local/share/fonts: caching, new cache contents: 0 fonts, 0 dirs\n",
      "/usr/share/fonts: caching, new cache contents: 0 fonts, 1 dirs\n",
      "/usr/share/fonts/truetype: caching, new cache contents: 0 fonts, 2 dirs\n",
      "/usr/share/fonts/truetype/dejavu: caching, new cache contents: 22 fonts, 0 dirs\n",
      "/usr/share/fonts/truetype/nanum: caching, new cache contents: 12 fonts, 0 dirs\n",
      "/root/.fonts: skipping, no such directory\n",
      "/usr/share/fonts/truetype: skipping, looped directory detected\n",
      "/usr/share/fonts/truetype/dejavu: skipping, looped directory detected\n",
      "/usr/share/fonts/truetype/nanum: skipping, looped directory detected\n",
      "/var/cache/fontconfig: cleaning cache directory\n",
      "/root/.cache/fontconfig: not cleaning non-existent cache directory\n",
      "/root/.fontconfig: not cleaning non-existent cache directory\n",
      "fc-cache: succeeded\n"
     ]
    }
   ],
   "source": [
    "# 한글 폰트 설치\n",
    "!apt-get install -y fonts-nanum\n",
    "!fc-cache -fv\n",
    "!rm ~/.cache/matplotlib -rf\n",
    "# 설치 후 colab 경우 Reuntime > Restart session 필요"
   ]
  },
  {
   "cell_type": "code",
   "execution_count": 5,
   "id": "2bca301a-954c-4b33-a9ec-20addea967a9",
   "metadata": {},
   "outputs": [],
   "source": [
    "import matplotlib.pyplot as plt\n",
    "import matplotlib as mpl\n",
    "import seaborn as sns\n",
    "mpl.rc('font', family='NanumBarunGothic') # 혹은 다른 설치한 Nanum 폰트 사용"
   ]
  },
  {
   "cell_type": "markdown",
   "id": "6fc598ac-7350-4a99-a0e8-dcdf30f201a9",
   "metadata": {},
   "source": [
    "# 데이터 전처리"
   ]
  },
  {
   "cell_type": "code",
   "execution_count": 10,
   "id": "f2a08496-b7a1-4277-89f9-d2ced77bf0c1",
   "metadata": {},
   "outputs": [
    {
     "data": {
      "text/html": [
       "<div>\n",
       "<style scoped>\n",
       "    .dataframe tbody tr th:only-of-type {\n",
       "        vertical-align: middle;\n",
       "    }\n",
       "\n",
       "    .dataframe tbody tr th {\n",
       "        vertical-align: top;\n",
       "    }\n",
       "\n",
       "    .dataframe thead th {\n",
       "        text-align: right;\n",
       "    }\n",
       "</style>\n",
       "<table border=\"1\" class=\"dataframe\">\n",
       "  <thead>\n",
       "    <tr style=\"text-align: right;\">\n",
       "      <th></th>\n",
       "      <th>_id</th>\n",
       "      <th>industry_major_cate</th>\n",
       "      <th>std_year_month</th>\n",
       "      <th>std_year</th>\n",
       "      <th>std_month</th>\n",
       "      <th>consumption_amount</th>\n",
       "      <th>region</th>\n",
       "    </tr>\n",
       "  </thead>\n",
       "  <tbody>\n",
       "    <tr>\n",
       "      <th>0</th>\n",
       "      <td>65e932a1bb908e26c804492e</td>\n",
       "      <td>전체</td>\n",
       "      <td>202012</td>\n",
       "      <td>2020</td>\n",
       "      <td>12</td>\n",
       "      <td>59888524.0</td>\n",
       "      <td>강원</td>\n",
       "    </tr>\n",
       "    <tr>\n",
       "      <th>1</th>\n",
       "      <td>65e932a1bb908e26c804492f</td>\n",
       "      <td>전체</td>\n",
       "      <td>202001</td>\n",
       "      <td>2020</td>\n",
       "      <td>1</td>\n",
       "      <td>98147222.0</td>\n",
       "      <td>강원</td>\n",
       "    </tr>\n",
       "    <tr>\n",
       "      <th>2</th>\n",
       "      <td>65e932a1bb908e26c8044930</td>\n",
       "      <td>전체</td>\n",
       "      <td>202002</td>\n",
       "      <td>2020</td>\n",
       "      <td>2</td>\n",
       "      <td>69547139.0</td>\n",
       "      <td>강원</td>\n",
       "    </tr>\n",
       "    <tr>\n",
       "      <th>3</th>\n",
       "      <td>65e932a1bb908e26c8044931</td>\n",
       "      <td>전체</td>\n",
       "      <td>202003</td>\n",
       "      <td>2020</td>\n",
       "      <td>3</td>\n",
       "      <td>62071229.0</td>\n",
       "      <td>강원</td>\n",
       "    </tr>\n",
       "    <tr>\n",
       "      <th>4</th>\n",
       "      <td>65e932a1bb908e26c8044932</td>\n",
       "      <td>전체</td>\n",
       "      <td>202004</td>\n",
       "      <td>2020</td>\n",
       "      <td>4</td>\n",
       "      <td>75022238.0</td>\n",
       "      <td>강원</td>\n",
       "    </tr>\n",
       "  </tbody>\n",
       "</table>\n",
       "</div>"
      ],
      "text/plain": [
       "                        _id industry_major_cate  std_year_month  std_year  \\\n",
       "0  65e932a1bb908e26c804492e                  전체          202012      2020   \n",
       "1  65e932a1bb908e26c804492f                  전체          202001      2020   \n",
       "2  65e932a1bb908e26c8044930                  전체          202002      2020   \n",
       "3  65e932a1bb908e26c8044931                  전체          202003      2020   \n",
       "4  65e932a1bb908e26c8044932                  전체          202004      2020   \n",
       "\n",
       "   std_month  consumption_amount region  \n",
       "0         12          59888524.0     강원  \n",
       "1          1          98147222.0     강원  \n",
       "2          2          69547139.0     강원  \n",
       "3          3          62071229.0     강원  \n",
       "4          4          75022238.0     강원  "
      ]
     },
     "execution_count": 10,
     "metadata": {},
     "output_type": "execute_result"
    }
   ],
   "source": [
    "import numpy as np\n",
    "import pandas as pd\n",
    "import pymongo\n",
    "client=pymongo.MongoClient(\"192.168.10.240\",27017)\n",
    "db= client['AI_LKJ']\n",
    "collection=db['data_consume_transition']\n",
    "data = collection.find()\n",
    "df_consume_transition = pd.DataFrame(data)\n",
    "df_consume_transition[:5]"
   ]
  },
  {
   "cell_type": "code",
   "execution_count": 12,
   "id": "738bcc0b-f549-4d3e-babb-98c7084ba03d",
   "metadata": {},
   "outputs": [
    {
     "data": {
      "text/plain": [
       "_id                    0\n",
       "industry_major_cate    0\n",
       "std_year_month         0\n",
       "std_year               0\n",
       "std_month              0\n",
       "consumption_amount     0\n",
       "region                 0\n",
       "dtype: int64"
      ]
     },
     "execution_count": 12,
     "metadata": {},
     "output_type": "execute_result"
    }
   ],
   "source": [
    "# 결츨치와 이상치 확인    -> 없음 확인\n",
    "df_consume_transition.isnull().sum()"
   ]
  },
  {
   "cell_type": "code",
   "execution_count": 13,
   "id": "be450148-7386-4b34-ad3b-979bbcb47796",
   "metadata": {},
   "outputs": [
    {
     "data": {
      "text/plain": [
       "Index(['_id', 'industry_major_cate', 'std_year_month', 'std_year', 'std_month',\n",
       "       'consumption_amount', 'region'],\n",
       "      dtype='object')"
      ]
     },
     "execution_count": 13,
     "metadata": {},
     "output_type": "execute_result"
    }
   ],
   "source": [
    "df_consume_transition.columns"
   ]
  },
  {
   "cell_type": "code",
   "execution_count": 15,
   "id": "13233e4a-b333-416d-95f8-152209952be1",
   "metadata": {},
   "outputs": [
    {
     "data": {
      "text/plain": [
       "array(['전체', '운송업', '여행업', '숙박업', '식음료업', '여가서비스업', '쇼핑업'], dtype=object)"
      ]
     },
     "execution_count": 15,
     "metadata": {},
     "output_type": "execute_result"
    }
   ],
   "source": [
    "df_consume_transition['industry_major_cate'].unique()"
   ]
  },
  {
   "cell_type": "code",
   "execution_count": 16,
   "id": "c52868f1-7be9-4699-abf7-51a571ecc48c",
   "metadata": {},
   "outputs": [
    {
     "data": {
      "text/plain": [
       "array([12,  1,  2,  3,  4,  5,  6,  7,  8,  9, 10, 11])"
      ]
     },
     "execution_count": 16,
     "metadata": {},
     "output_type": "execute_result"
    }
   ],
   "source": [
    "df_consume_transition['std_month'].unique()"
   ]
  },
  {
   "cell_type": "code",
   "execution_count": 21,
   "id": "ae2b0dc3-ef5d-4825-aeb0-f687a265bf79",
   "metadata": {},
   "outputs": [
    {
     "data": {
      "text/plain": [
       "str"
      ]
     },
     "execution_count": 21,
     "metadata": {},
     "output_type": "execute_result"
    }
   ],
   "source": [
    "type('std_month')"
   ]
  },
  {
   "cell_type": "code",
   "execution_count": null,
   "id": "bfd28c88-c73b-4910-ab40-40c7a8603e57",
   "metadata": {},
   "outputs": [],
   "source": []
  }
 ],
 "metadata": {
  "kernelspec": {
   "display_name": "Python 3 (ipykernel)",
   "language": "python",
   "name": "python3"
  },
  "language_info": {
   "codemirror_mode": {
    "name": "ipython",
    "version": 3
   },
   "file_extension": ".py",
   "mimetype": "text/x-python",
   "name": "python",
   "nbconvert_exporter": "python",
   "pygments_lexer": "ipython3",
   "version": "3.11.8"
  }
 },
 "nbformat": 4,
 "nbformat_minor": 5
}
