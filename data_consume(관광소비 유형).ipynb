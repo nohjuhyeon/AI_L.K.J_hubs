{
 "cells": [
  {
   "cell_type": "markdown",
   "id": "dc9f8b0f-6a28-4a83-825e-2f3178458d97",
   "metadata": {},
   "source": [
    "# 시각화"
   ]
  },
  {
   "cell_type": "code",
   "execution_count": 1,
   "id": "fee9a893-918c-4c22-91bd-a189175b7b05",
   "metadata": {},
   "outputs": [
    {
     "name": "stdout",
     "output_type": "stream",
     "text": [
      "Reading package lists... Done\n",
      "Building dependency tree... Done\n",
      "Reading state information... Done\n",
      "fonts-nanum is already the newest version (20200506-1).\n",
      "0 upgraded, 0 newly installed, 0 to remove and 0 not upgraded.\n",
      "Font directories:\n",
      "\t/root/.local/share/fonts\n",
      "\t/usr/local/share/fonts\n",
      "\t/usr/share/fonts\n",
      "\t/root/.fonts\n",
      "\t/usr/share/fonts/truetype\n",
      "\t/usr/share/fonts/truetype/dejavu\n",
      "\t/usr/share/fonts/truetype/nanum\n",
      "/root/.local/share/fonts: skipping, no such directory\n",
      "/usr/local/share/fonts: caching, new cache contents: 0 fonts, 0 dirs\n",
      "/usr/share/fonts: caching, new cache contents: 0 fonts, 1 dirs\n",
      "/usr/share/fonts/truetype: caching, new cache contents: 0 fonts, 2 dirs\n",
      "/usr/share/fonts/truetype/dejavu: caching, new cache contents: 22 fonts, 0 dirs\n",
      "/usr/share/fonts/truetype/nanum: caching, new cache contents: 12 fonts, 0 dirs\n",
      "/root/.fonts: skipping, no such directory\n",
      "/usr/share/fonts/truetype: skipping, looped directory detected\n",
      "/usr/share/fonts/truetype/dejavu: skipping, looped directory detected\n",
      "/usr/share/fonts/truetype/nanum: skipping, looped directory detected\n",
      "/var/cache/fontconfig: cleaning cache directory\n",
      "/root/.cache/fontconfig: not cleaning non-existent cache directory\n",
      "/root/.fontconfig: not cleaning non-existent cache directory\n",
      "fc-cache: succeeded\n"
     ]
    }
   ],
   "source": [
    "# 한글 폰트 설치\n",
    "!apt-get install -y fonts-nanum\n",
    "!fc-cache -fv\n",
    "!rm ~/.cache/matplotlib -rf\n",
    "# 설치 후 colab 경우 Reuntime > Restart session 필요"
   ]
  },
  {
   "cell_type": "code",
   "execution_count": 2,
   "id": "3a9cbceb-40f9-47db-bd77-668405fcd709",
   "metadata": {},
   "outputs": [],
   "source": [
    "import matplotlib.pyplot as plt\n",
    "import matplotlib as mpl\n",
    "import seaborn as sns\n",
    "mpl.rc('font', family='NanumBarunGothic') # 혹은 다른 설치한 Nanum 폰트 사용"
   ]
  },
  {
   "cell_type": "markdown",
   "id": "d81c21d0-23f6-4c6b-b022-d79031464727",
   "metadata": {},
   "source": [
    "# 데이터 전처리"
   ]
  },
  {
   "cell_type": "markdown",
   "id": "fcf64c19-2559-437e-9b4d-0169074eb774",
   "metadata": {},
   "source": [
    "## 관광소비 유형(20-23년도)"
   ]
  },
  {
   "cell_type": "code",
   "execution_count": 5,
   "id": "7e613ad8-3620-4827-8659-8abc1ee1f1b5",
   "metadata": {},
   "outputs": [
    {
     "data": {
      "text/html": [
       "<div>\n",
       "<style scoped>\n",
       "    .dataframe tbody tr th:only-of-type {\n",
       "        vertical-align: middle;\n",
       "    }\n",
       "\n",
       "    .dataframe tbody tr th {\n",
       "        vertical-align: top;\n",
       "    }\n",
       "\n",
       "    .dataframe thead th {\n",
       "        text-align: right;\n",
       "    }\n",
       "</style>\n",
       "<table border=\"1\" class=\"dataframe\">\n",
       "  <thead>\n",
       "    <tr style=\"text-align: right;\">\n",
       "      <th></th>\n",
       "      <th>_id</th>\n",
       "      <th>std_year</th>\n",
       "      <th>region</th>\n",
       "      <th>consumption_amount</th>\n",
       "      <th>industry_major_cate</th>\n",
       "      <th>industry_middle_cate</th>\n",
       "    </tr>\n",
       "  </thead>\n",
       "  <tbody>\n",
       "    <tr>\n",
       "      <th>0</th>\n",
       "      <td>65e912c3bb908e26c803dea3</td>\n",
       "      <td>2020</td>\n",
       "      <td>강원</td>\n",
       "      <td>2.870202e+06</td>\n",
       "      <td>쇼핑업</td>\n",
       "      <td>관광기념품</td>\n",
       "    </tr>\n",
       "    <tr>\n",
       "      <th>1</th>\n",
       "      <td>65e912c3bb908e26c803dea4</td>\n",
       "      <td>2020</td>\n",
       "      <td>강원</td>\n",
       "      <td>8.180715e+07</td>\n",
       "      <td>쇼핑업</td>\n",
       "      <td>레저용품쇼핑</td>\n",
       "    </tr>\n",
       "    <tr>\n",
       "      <th>2</th>\n",
       "      <td>65e912c3bb908e26c803dea5</td>\n",
       "      <td>2020</td>\n",
       "      <td>강원</td>\n",
       "      <td>8.001180e+07</td>\n",
       "      <td>쇼핑업</td>\n",
       "      <td>대형쇼핑몰</td>\n",
       "    </tr>\n",
       "    <tr>\n",
       "      <th>3</th>\n",
       "      <td>65e912c3bb908e26c803dea6</td>\n",
       "      <td>2020</td>\n",
       "      <td>강원</td>\n",
       "      <td>6.250369e+04</td>\n",
       "      <td>쇼핑업</td>\n",
       "      <td>면세점</td>\n",
       "    </tr>\n",
       "    <tr>\n",
       "      <th>4</th>\n",
       "      <td>65e912c3bb908e26c803dea7</td>\n",
       "      <td>2020</td>\n",
       "      <td>강원</td>\n",
       "      <td>2.938260e+07</td>\n",
       "      <td>숙박업</td>\n",
       "      <td>호텔</td>\n",
       "    </tr>\n",
       "  </tbody>\n",
       "</table>\n",
       "</div>"
      ],
      "text/plain": [
       "                        _id  std_year region  consumption_amount  \\\n",
       "0  65e912c3bb908e26c803dea3      2020     강원        2.870202e+06   \n",
       "1  65e912c3bb908e26c803dea4      2020     강원        8.180715e+07   \n",
       "2  65e912c3bb908e26c803dea5      2020     강원        8.001180e+07   \n",
       "3  65e912c3bb908e26c803dea6      2020     강원        6.250369e+04   \n",
       "4  65e912c3bb908e26c803dea7      2020     강원        2.938260e+07   \n",
       "\n",
       "  industry_major_cate industry_middle_cate  \n",
       "0                 쇼핑업                관광기념품  \n",
       "1                 쇼핑업               레저용품쇼핑  \n",
       "2                 쇼핑업                대형쇼핑몰  \n",
       "3                 쇼핑업                  면세점  \n",
       "4                 숙박업                   호텔  "
      ]
     },
     "execution_count": 5,
     "metadata": {},
     "output_type": "execute_result"
    }
   ],
   "source": [
    "import numpy as np\n",
    "import pandas as pd\n",
    "import pymongo\n",
    "client=pymongo.MongoClient(\"192.168.10.240\",27017)\n",
    "db= client['AI_LKJ']\n",
    "collection=db['data_consume']\n",
    "data = collection.find()\n",
    "df_consume = pd.DataFrame(data)\n",
    "df_consume[:5]"
   ]
  },
  {
   "cell_type": "code",
   "execution_count": 7,
   "id": "17e79d92-9a10-437b-8c8c-bab4960c01c8",
   "metadata": {},
   "outputs": [
    {
     "data": {
      "text/plain": [
       "_id                     0\n",
       "std_year                0\n",
       "region                  0\n",
       "consumption_amount      0\n",
       "industry_major_cate     0\n",
       "industry_middle_cate    0\n",
       "dtype: int64"
      ]
     },
     "execution_count": 7,
     "metadata": {},
     "output_type": "execute_result"
    }
   ],
   "source": [
    "# 결측치와 이상치 확인      -> 없음 확인\n",
    "df_consume.isnull().sum()"
   ]
  },
  {
   "cell_type": "code",
   "execution_count": 9,
   "id": "5724608c-169b-4777-a72d-750741c12aa8",
   "metadata": {},
   "outputs": [
    {
     "data": {
      "text/plain": [
       "Index(['_id', 'std_year', 'region', 'consumption_amount',\n",
       "       'industry_major_cate', 'industry_middle_cate'],\n",
       "      dtype='object')"
      ]
     },
     "execution_count": 9,
     "metadata": {},
     "output_type": "execute_result"
    }
   ],
   "source": [
    "df_consume.columns"
   ]
  },
  {
   "cell_type": "code",
   "execution_count": 11,
   "id": "f1f8fc16-9ff2-44ec-9970-b86c0b96c9aa",
   "metadata": {},
   "outputs": [
    {
     "data": {
      "text/html": [
       "<div>\n",
       "<style scoped>\n",
       "    .dataframe tbody tr th:only-of-type {\n",
       "        vertical-align: middle;\n",
       "    }\n",
       "\n",
       "    .dataframe tbody tr th {\n",
       "        vertical-align: top;\n",
       "    }\n",
       "\n",
       "    .dataframe thead th {\n",
       "        text-align: right;\n",
       "    }\n",
       "</style>\n",
       "<table border=\"1\" class=\"dataframe\">\n",
       "  <thead>\n",
       "    <tr style=\"text-align: right;\">\n",
       "      <th></th>\n",
       "      <th>_id</th>\n",
       "      <th>std_year</th>\n",
       "      <th>region</th>\n",
       "      <th>consumption_amount</th>\n",
       "      <th>industry_major_cate</th>\n",
       "      <th>industry_middle_cate</th>\n",
       "    </tr>\n",
       "  </thead>\n",
       "  <tbody>\n",
       "    <tr>\n",
       "      <th>593</th>\n",
       "      <td>65e912c3bb908e26c803e0f4</td>\n",
       "      <td>2022</td>\n",
       "      <td>강원</td>\n",
       "      <td>4.160299e+07</td>\n",
       "      <td>숙박업</td>\n",
       "      <td>호텔</td>\n",
       "    </tr>\n",
       "    <tr>\n",
       "      <th>886</th>\n",
       "      <td>65e912c3bb908e26c803e219</td>\n",
       "      <td>2023</td>\n",
       "      <td>강원</td>\n",
       "      <td>4.358227e+07</td>\n",
       "      <td>숙박업</td>\n",
       "      <td>호텔</td>\n",
       "    </tr>\n",
       "    <tr>\n",
       "      <th>300</th>\n",
       "      <td>65e912c3bb908e26c803dfcf</td>\n",
       "      <td>2021</td>\n",
       "      <td>강원</td>\n",
       "      <td>3.238068e+07</td>\n",
       "      <td>숙박업</td>\n",
       "      <td>호텔</td>\n",
       "    </tr>\n",
       "    <tr>\n",
       "      <th>4</th>\n",
       "      <td>65e912c3bb908e26c803dea7</td>\n",
       "      <td>2020</td>\n",
       "      <td>강원</td>\n",
       "      <td>2.938260e+07</td>\n",
       "      <td>숙박업</td>\n",
       "      <td>호텔</td>\n",
       "    </tr>\n",
       "    <tr>\n",
       "      <th>18</th>\n",
       "      <td>65e912c3bb908e26c803deb5</td>\n",
       "      <td>2020</td>\n",
       "      <td>강원</td>\n",
       "      <td>8.135180e+04</td>\n",
       "      <td>운송업</td>\n",
       "      <td>항공운송</td>\n",
       "    </tr>\n",
       "  </tbody>\n",
       "</table>\n",
       "</div>"
      ],
      "text/plain": [
       "                          _id  std_year region  consumption_amount  \\\n",
       "593  65e912c3bb908e26c803e0f4      2022     강원        4.160299e+07   \n",
       "886  65e912c3bb908e26c803e219      2023     강원        4.358227e+07   \n",
       "300  65e912c3bb908e26c803dfcf      2021     강원        3.238068e+07   \n",
       "4    65e912c3bb908e26c803dea7      2020     강원        2.938260e+07   \n",
       "18   65e912c3bb908e26c803deb5      2020     강원        8.135180e+04   \n",
       "\n",
       "    industry_major_cate industry_middle_cate  \n",
       "593                 숙박업                   호텔  \n",
       "886                 숙박업                   호텔  \n",
       "300                 숙박업                   호텔  \n",
       "4                   숙박업                   호텔  \n",
       "18                  운송업                 항공운송  "
      ]
     },
     "execution_count": 11,
     "metadata": {},
     "output_type": "execute_result"
    }
   ],
   "source": [
    "df_consume_IC = df_consume[df_consume['region'] == '강원'].sort_values('industry_middle_cate', ascending=False)\n",
    "df_consume_IC[:5]"
   ]
  },
  {
   "cell_type": "code",
   "execution_count": 13,
   "id": "ebcd77fb-0486-4262-af22-a91c84261fe0",
   "metadata": {},
   "outputs": [
    {
     "data": {
      "text/plain": [
       "array(['쇼핑업', '숙박업', '식음료업', '여가서비스업', '여행업', '운송업'], dtype=object)"
      ]
     },
     "execution_count": 13,
     "metadata": {},
     "output_type": "execute_result"
    }
   ],
   "source": [
    "df_consume['industry_major_cate'].unique()"
   ]
  },
  {
   "cell_type": "code",
   "execution_count": null,
   "id": "87cea534-2c03-4734-a711-7d7100145904",
   "metadata": {},
   "outputs": [],
   "source": []
  }
 ],
 "metadata": {
  "kernelspec": {
   "display_name": "Python 3 (ipykernel)",
   "language": "python",
   "name": "python3"
  },
  "language_info": {
   "codemirror_mode": {
    "name": "ipython",
    "version": 3
   },
   "file_extension": ".py",
   "mimetype": "text/x-python",
   "name": "python",
   "nbconvert_exporter": "python",
   "pygments_lexer": "ipython3",
   "version": "3.11.8"
  }
 },
 "nbformat": 4,
 "nbformat_minor": 5
}
