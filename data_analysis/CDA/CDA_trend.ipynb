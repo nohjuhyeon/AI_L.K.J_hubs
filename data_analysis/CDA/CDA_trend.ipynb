{
 "cells": [
  {
   "cell_type": "markdown",
   "id": "79d12fc9-5307-4969-bfc1-07dbac346092",
   "metadata": {},
   "source": [
    "## 가설 : 달마다 많이 검색한 관광 유형과 관련된 관광지가 특화되어 있는 지역에 방문객이 많다."
   ]
  },
  {
   "cell_type": "markdown",
   "id": "3dab7baa-23ee-497e-bb1a-11695ed3c63f",
   "metadata": {},
   "source": [
    "## 데이터 불러오기"
   ]
  },
  {
   "cell_type": "code",
   "execution_count": 660,
   "id": "d24527c4-53ec-42de-b594-e8fe22e0590f",
   "metadata": {},
   "outputs": [],
   "source": [
    "import pandas as pd\n",
    "import pymongo\n",
    "import seaborn as sns\n",
    "import numpy as np\n",
    "import matplotlib.pyplot as plt\n",
    "import matplotlib as mpl\n",
    "mpl.rc('font', family='NanumBarunGothic') # 혹은 다른 설치한 Nanum 폰트 사용\n",
    "import scipy\n",
    "import scipy.stats as stats\n",
    "\n",
    "client=pymongo.MongoClient(\"192.168.10.240\",27017)\n",
    "db= client['AI_LKJ']\n",
    "collection_attraction = db['attraction_place_2023']\n",
    "collection_concept = db['concept_2023']\n",
    "collection_trend = db['trend_2023']\n",
    "collection_trend_keyword = db['trend_keyword_2023']\n",
    "collection_visitor=db['month_visitor_2023']\n",
    "data_attraction = collection_attraction.find()\n",
    "data_concept = collection_concept.find()\n",
    "data_trend = collection_trend.find()\n",
    "data_trend_keyword = collection_trend_keyword.find()\n",
    "data_visitor = collection_visitor.find()\n",
    "df_attraction = pd.DataFrame(data_attraction)\n",
    "df_concept = pd.DataFrame(data_concept)\n",
    "df_trend = pd.DataFrame(data_trend)\n",
    "df_visitor = pd.DataFrame(data_visitor)\n",
    "df_trend_keyword = pd.DataFrame(data_trend_keyword)\n",
    "df_trend_keyword=df_trend_keyword.query(\"분류 !='기타'\")\n",
    "df_trend = df_trend.rename(columns={'여행유형/트렌드명': '여행유형'})\n",
    "df_concept = df_concept.rename(columns={'목적지 유형': '목적지_유형'})\n",
    "df_concept = df_concept.rename(columns={'목적지 검색량': '목적지_검색량'})"
   ]
  },
  {
   "cell_type": "code",
   "execution_count": 661,
   "id": "07f7b644-ab6d-45cf-b764-3b408b51dd6b",
   "metadata": {},
   "outputs": [
    {
     "data": {
      "text/html": [
       "<div>\n",
       "<style scoped>\n",
       "    .dataframe tbody tr th:only-of-type {\n",
       "        vertical-align: middle;\n",
       "    }\n",
       "\n",
       "    .dataframe tbody tr th {\n",
       "        vertical-align: top;\n",
       "    }\n",
       "\n",
       "    .dataframe thead th {\n",
       "        text-align: right;\n",
       "    }\n",
       "</style>\n",
       "<table border=\"1\" class=\"dataframe\">\n",
       "  <thead>\n",
       "    <tr style=\"text-align: right;\">\n",
       "      <th></th>\n",
       "      <th>_id</th>\n",
       "      <th>순위</th>\n",
       "      <th>분류</th>\n",
       "      <th>관련 키워드</th>\n",
       "      <th>언급건수</th>\n",
       "      <th>지역구분</th>\n",
       "    </tr>\n",
       "  </thead>\n",
       "  <tbody>\n",
       "    <tr>\n",
       "      <th>0</th>\n",
       "      <td>65dd3806bb908e26c802f1c1</td>\n",
       "      <td>1</td>\n",
       "      <td>휴식/힐링</td>\n",
       "      <td>힐링</td>\n",
       "      <td>104518</td>\n",
       "      <td>인천</td>\n",
       "    </tr>\n",
       "    <tr>\n",
       "      <th>1</th>\n",
       "      <td>65dd3806bb908e26c802f1c2</td>\n",
       "      <td>2</td>\n",
       "      <td>휴식/힐링</td>\n",
       "      <td>나들이</td>\n",
       "      <td>46381</td>\n",
       "      <td>인천</td>\n",
       "    </tr>\n",
       "    <tr>\n",
       "      <th>2</th>\n",
       "      <td>65dd3806bb908e26c802f1c3</td>\n",
       "      <td>3</td>\n",
       "      <td>레포츠</td>\n",
       "      <td>캠핑</td>\n",
       "      <td>43371</td>\n",
       "      <td>인천</td>\n",
       "    </tr>\n",
       "    <tr>\n",
       "      <th>4</th>\n",
       "      <td>65dd3806bb908e26c802f1c5</td>\n",
       "      <td>5</td>\n",
       "      <td>레포츠</td>\n",
       "      <td>등산</td>\n",
       "      <td>30371</td>\n",
       "      <td>인천</td>\n",
       "    </tr>\n",
       "    <tr>\n",
       "      <th>6</th>\n",
       "      <td>65dd3806bb908e26c802f1c7</td>\n",
       "      <td>7</td>\n",
       "      <td>레포츠</td>\n",
       "      <td>낚시</td>\n",
       "      <td>17505</td>\n",
       "      <td>인천</td>\n",
       "    </tr>\n",
       "    <tr>\n",
       "      <th>...</th>\n",
       "      <td>...</td>\n",
       "      <td>...</td>\n",
       "      <td>...</td>\n",
       "      <td>...</td>\n",
       "      <td>...</td>\n",
       "      <td>...</td>\n",
       "    </tr>\n",
       "    <tr>\n",
       "      <th>2110</th>\n",
       "      <td>65dd3806bb908e26c802f9ff</td>\n",
       "      <td>420</td>\n",
       "      <td>휴식/힐링</td>\n",
       "      <td>백캉스</td>\n",
       "      <td>1</td>\n",
       "      <td>강원</td>\n",
       "    </tr>\n",
       "    <tr>\n",
       "      <th>2111</th>\n",
       "      <td>65dd3806bb908e26c802fa00</td>\n",
       "      <td>420</td>\n",
       "      <td>레포츠</td>\n",
       "      <td>오프로드라이딩</td>\n",
       "      <td>1</td>\n",
       "      <td>강원</td>\n",
       "    </tr>\n",
       "    <tr>\n",
       "      <th>2112</th>\n",
       "      <td>65dd3806bb908e26c802fa01</td>\n",
       "      <td>420</td>\n",
       "      <td>체험</td>\n",
       "      <td>현지인체험</td>\n",
       "      <td>1</td>\n",
       "      <td>강원</td>\n",
       "    </tr>\n",
       "    <tr>\n",
       "      <th>2113</th>\n",
       "      <td>65dd3806bb908e26c802fa02</td>\n",
       "      <td>420</td>\n",
       "      <td>레포츠</td>\n",
       "      <td>bsac</td>\n",
       "      <td>1</td>\n",
       "      <td>강원</td>\n",
       "    </tr>\n",
       "    <tr>\n",
       "      <th>2114</th>\n",
       "      <td>65dd3806bb908e26c802fa03</td>\n",
       "      <td>420</td>\n",
       "      <td>체험</td>\n",
       "      <td>전기자전거체험</td>\n",
       "      <td>1</td>\n",
       "      <td>강원</td>\n",
       "    </tr>\n",
       "  </tbody>\n",
       "</table>\n",
       "<p>1886 rows × 6 columns</p>\n",
       "</div>"
      ],
      "text/plain": [
       "                           _id   순위     분류   관련 키워드    언급건수 지역구분\n",
       "0     65dd3806bb908e26c802f1c1    1  휴식/힐링       힐링  104518   인천\n",
       "1     65dd3806bb908e26c802f1c2    2  휴식/힐링      나들이   46381   인천\n",
       "2     65dd3806bb908e26c802f1c3    3    레포츠       캠핑   43371   인천\n",
       "4     65dd3806bb908e26c802f1c5    5    레포츠       등산   30371   인천\n",
       "6     65dd3806bb908e26c802f1c7    7    레포츠       낚시   17505   인천\n",
       "...                        ...  ...    ...      ...     ...  ...\n",
       "2110  65dd3806bb908e26c802f9ff  420  휴식/힐링      백캉스       1   강원\n",
       "2111  65dd3806bb908e26c802fa00  420    레포츠  오프로드라이딩       1   강원\n",
       "2112  65dd3806bb908e26c802fa01  420     체험    현지인체험       1   강원\n",
       "2113  65dd3806bb908e26c802fa02  420    레포츠     bsac       1   강원\n",
       "2114  65dd3806bb908e26c802fa03  420     체험  전기자전거체험       1   강원\n",
       "\n",
       "[1886 rows x 6 columns]"
      ]
     },
     "execution_count": 661,
     "metadata": {},
     "output_type": "execute_result"
    }
   ],
   "source": [
    "df_trend_keyword"
   ]
  },
  {
   "cell_type": "code",
   "execution_count": 662,
   "id": "633c16f6-ee0e-43ca-b685-21dbbae14d00",
   "metadata": {},
   "outputs": [
    {
     "data": {
      "text/html": [
       "<div>\n",
       "<style scoped>\n",
       "    .dataframe tbody tr th:only-of-type {\n",
       "        vertical-align: middle;\n",
       "    }\n",
       "\n",
       "    .dataframe tbody tr th {\n",
       "        vertical-align: top;\n",
       "    }\n",
       "\n",
       "    .dataframe thead th {\n",
       "        text-align: right;\n",
       "    }\n",
       "</style>\n",
       "<table border=\"1\" class=\"dataframe\">\n",
       "  <thead>\n",
       "    <tr style=\"text-align: right;\">\n",
       "      <th></th>\n",
       "      <th>_id</th>\n",
       "      <th>기준연월</th>\n",
       "      <th>여행유형</th>\n",
       "      <th>언급건수</th>\n",
       "      <th>지역구분</th>\n",
       "    </tr>\n",
       "  </thead>\n",
       "  <tbody>\n",
       "    <tr>\n",
       "      <th>0</th>\n",
       "      <td>65d86664bb908e26c802a800</td>\n",
       "      <td>202310</td>\n",
       "      <td>휴식/힐링</td>\n",
       "      <td>25282</td>\n",
       "      <td>인천</td>\n",
       "    </tr>\n",
       "    <tr>\n",
       "      <th>1</th>\n",
       "      <td>65d86664bb908e26c802a801</td>\n",
       "      <td>202308</td>\n",
       "      <td>휴식/힐링</td>\n",
       "      <td>23383</td>\n",
       "      <td>인천</td>\n",
       "    </tr>\n",
       "    <tr>\n",
       "      <th>2</th>\n",
       "      <td>65d86664bb908e26c802a802</td>\n",
       "      <td>202306</td>\n",
       "      <td>휴식/힐링</td>\n",
       "      <td>22363</td>\n",
       "      <td>인천</td>\n",
       "    </tr>\n",
       "    <tr>\n",
       "      <th>3</th>\n",
       "      <td>65d86664bb908e26c802a803</td>\n",
       "      <td>202309</td>\n",
       "      <td>휴식/힐링</td>\n",
       "      <td>21743</td>\n",
       "      <td>인천</td>\n",
       "    </tr>\n",
       "    <tr>\n",
       "      <th>4</th>\n",
       "      <td>65d86664bb908e26c802a804</td>\n",
       "      <td>202305</td>\n",
       "      <td>휴식/힐링</td>\n",
       "      <td>21319</td>\n",
       "      <td>인천</td>\n",
       "    </tr>\n",
       "    <tr>\n",
       "      <th>...</th>\n",
       "      <td>...</td>\n",
       "      <td>...</td>\n",
       "      <td>...</td>\n",
       "      <td>...</td>\n",
       "      <td>...</td>\n",
       "    </tr>\n",
       "    <tr>\n",
       "      <th>295</th>\n",
       "      <td>65d86664bb908e26c802a927</td>\n",
       "      <td>202310</td>\n",
       "      <td>미식</td>\n",
       "      <td>2699</td>\n",
       "      <td>강원</td>\n",
       "    </tr>\n",
       "    <tr>\n",
       "      <th>296</th>\n",
       "      <td>65d86664bb908e26c802a928</td>\n",
       "      <td>202304</td>\n",
       "      <td>미식</td>\n",
       "      <td>2699</td>\n",
       "      <td>강원</td>\n",
       "    </tr>\n",
       "    <tr>\n",
       "      <th>297</th>\n",
       "      <td>65d86664bb908e26c802a929</td>\n",
       "      <td>202311</td>\n",
       "      <td>미식</td>\n",
       "      <td>2614</td>\n",
       "      <td>강원</td>\n",
       "    </tr>\n",
       "    <tr>\n",
       "      <th>298</th>\n",
       "      <td>65d86664bb908e26c802a92a</td>\n",
       "      <td>202302</td>\n",
       "      <td>체험</td>\n",
       "      <td>2555</td>\n",
       "      <td>강원</td>\n",
       "    </tr>\n",
       "    <tr>\n",
       "      <th>299</th>\n",
       "      <td>65d86664bb908e26c802a92b</td>\n",
       "      <td>202312</td>\n",
       "      <td>미식</td>\n",
       "      <td>2512</td>\n",
       "      <td>강원</td>\n",
       "    </tr>\n",
       "  </tbody>\n",
       "</table>\n",
       "<p>300 rows × 5 columns</p>\n",
       "</div>"
      ],
      "text/plain": [
       "                          _id    기준연월   여행유형   언급건수 지역구분\n",
       "0    65d86664bb908e26c802a800  202310  휴식/힐링  25282   인천\n",
       "1    65d86664bb908e26c802a801  202308  휴식/힐링  23383   인천\n",
       "2    65d86664bb908e26c802a802  202306  휴식/힐링  22363   인천\n",
       "3    65d86664bb908e26c802a803  202309  휴식/힐링  21743   인천\n",
       "4    65d86664bb908e26c802a804  202305  휴식/힐링  21319   인천\n",
       "..                        ...     ...    ...    ...  ...\n",
       "295  65d86664bb908e26c802a927  202310     미식   2699   강원\n",
       "296  65d86664bb908e26c802a928  202304     미식   2699   강원\n",
       "297  65d86664bb908e26c802a929  202311     미식   2614   강원\n",
       "298  65d86664bb908e26c802a92a  202302     체험   2555   강원\n",
       "299  65d86664bb908e26c802a92b  202312     미식   2512   강원\n",
       "\n",
       "[300 rows x 5 columns]"
      ]
     },
     "execution_count": 662,
     "metadata": {},
     "output_type": "execute_result"
    }
   ],
   "source": [
    "df_trend"
   ]
  },
  {
   "cell_type": "code",
   "execution_count": 663,
   "id": "6d71ca94-7b12-4947-85dd-1e4f467b40f0",
   "metadata": {},
   "outputs": [
    {
     "data": {
      "text/plain": [
       "array(['휴식/힐링', '레포츠', '기타', '미식', '체험'], dtype=object)"
      ]
     },
     "execution_count": 663,
     "metadata": {},
     "output_type": "execute_result"
    }
   ],
   "source": [
    "df_trend['여행유형'].unique()"
   ]
  },
  {
   "cell_type": "code",
   "execution_count": 664,
   "id": "ce52daa0-e4a1-4f19-9819-e13d16662b0f",
   "metadata": {},
   "outputs": [
    {
     "data": {
      "text/plain": [
       "array(['전체', '숙박', '음식', '기타관광', '쇼핑', '자연관광', '문화관광', '역사관광', '체험관광',\n",
       "       '레저스포츠'], dtype=object)"
      ]
     },
     "execution_count": 664,
     "metadata": {},
     "output_type": "execute_result"
    }
   ],
   "source": [
    "df_concept['목적지_유형'].unique()"
   ]
  },
  {
   "cell_type": "markdown",
   "id": "04da619b-2ab6-48ca-8048-07f6592823ad",
   "metadata": {},
   "source": [
    "## 데이터 전처리"
   ]
  },
  {
   "cell_type": "markdown",
   "id": "1c96cf33-59ad-466e-86fe-f3530e24eae8",
   "metadata": {},
   "source": [
    "### attraction 분류"
   ]
  },
  {
   "cell_type": "code",
   "execution_count": 665,
   "id": "1bde778c-50b0-4830-ba26-452e32e527a5",
   "metadata": {},
   "outputs": [
    {
     "data": {
      "text/plain": [
       "array(['교통시설', '쇼핑몰', '백화점', '시장', '자연경관(하천/해양)', '호텔', '도시공원', '전시시설',\n",
       "       '육상레저스포츠', '종교성지', '콘도미니엄', '레저스포츠시설', '대형마트', '웰니스관광', '공연시설',\n",
       "       '랜드마크관광', '기타문화관광지', '기타레저스포츠', '자연경관(산)', '테마공원', '기타관광',\n",
       "       '복합관광시설', '수상레저스포츠', '역사유적지', '데이트코스', '자연공원', '면세점', '자연생태',\n",
       "       '자연관광(산)', '농/산/어촌체험', '카페/찻집', '음식점기타', '외국식', '간이음식', '전문음식',\n",
       "       '한식'], dtype=object)"
      ]
     },
     "execution_count": 665,
     "metadata": {},
     "output_type": "execute_result"
    }
   ],
   "source": [
    "df_attraction['분류'].unique()"
   ]
  },
  {
   "cell_type": "code",
   "execution_count": 666,
   "id": "3260e0a0-ba6a-476f-ada6-3e9bef80cb3e",
   "metadata": {},
   "outputs": [],
   "source": [
    "df_attraction= df_attraction.drop(df_attraction.query(\"분류 =='교통시설'\").index)"
   ]
  },
  {
   "cell_type": "code",
   "execution_count": 667,
   "id": "e9a82375-3dfc-4ee7-99a2-98a73dd2e977",
   "metadata": {},
   "outputs": [],
   "source": [
    "df_attraction.loc[df_attraction.query(\"분류 in ['카페/찻집', '간이음식', '한식', '전문음식', '외국식','음식점기타']\").index,'목적지_유형'] = '음식'\n",
    "# ['카페/찻집', '간이음식', '한식', '전문음식', '외국식', '음식점기타']"
   ]
  },
  {
   "cell_type": "code",
   "execution_count": 668,
   "id": "8e1a417b-fcc9-4b91-83a6-41616579032d",
   "metadata": {},
   "outputs": [],
   "source": [
    "df_attraction.loc[df_attraction.query(\"분류 == ['도시공원', '자연경관(하천/해양)','자연경관(산)','자연관광(산)', '자연생태','데이트코스', '자연공원','랜드마크관광']\").index,'목적지_유형']='자연관광'"
   ]
  },
  {
   "cell_type": "code",
   "execution_count": 669,
   "id": "8a509543-8e73-41d8-8fba-b679373fcec8",
   "metadata": {},
   "outputs": [],
   "source": [
    "df_attraction.loc[df_attraction.query(\"분류 == ['쇼핑몰', '백화점', '대형마트','면세점']\").index,'목적지_유형']='쇼핑'"
   ]
  },
  {
   "cell_type": "code",
   "execution_count": 670,
   "id": "d5d7d004-21b2-40a7-9b63-6e60a79dd8a4",
   "metadata": {},
   "outputs": [],
   "source": [
    "df_attraction.loc[df_attraction.query(\"분류 == ['시장', '전시시설', '공연시설', '기타문화관광지', '테마공원','웰니스관광','농/산/어촌체험','역사유적지','종교성지']\").index,'목적지_유형']='문화관광'"
   ]
  },
  {
   "cell_type": "code",
   "execution_count": 671,
   "id": "3dcf7b28-5f90-4d72-8ba3-9d2afe250ca9",
   "metadata": {},
   "outputs": [],
   "source": [
    "df_attraction.loc[df_attraction.query(\"분류 == ['육상레저스포츠','레저스포츠시설','캠핑','수상레저스포츠', '기타레저스포츠']\").index,'목적지_유형']='레저스포츠'"
   ]
  },
  {
   "cell_type": "code",
   "execution_count": 672,
   "id": "05126f09-417e-456d-8da1-0d51be2a3100",
   "metadata": {},
   "outputs": [],
   "source": [
    "df_attraction.loc[df_attraction.query(\"분류 == ['콘도미니엄', '호텔', '기타숙박']\").index,'목적지_유형']='숙박'"
   ]
  },
  {
   "cell_type": "code",
   "execution_count": 673,
   "id": "5c2e3ff8-631e-4935-a56f-aebe4e805465",
   "metadata": {},
   "outputs": [
    {
     "data": {
      "text/plain": [
       "array(['쇼핑', '문화관광', '자연관광', '숙박', '레저스포츠', nan, '음식'], dtype=object)"
      ]
     },
     "execution_count": 673,
     "metadata": {},
     "output_type": "execute_result"
    }
   ],
   "source": [
    "df_attraction['목적지_유형'].unique()"
   ]
  },
  {
   "cell_type": "code",
   "execution_count": 709,
   "id": "478a455f-cc34-4122-a0d8-4fb3fe7cdae2",
   "metadata": {},
   "outputs": [],
   "source": [
    "df_attraction.loc[df_attraction.loc[df_attraction['분류']=='복합관광시설'].index,\"목적지_유형\"] = '문화관광'"
   ]
  },
  {
   "cell_type": "code",
   "execution_count": 718,
   "id": "747d1652-47ab-4a2b-b013-f8c911360e6e",
   "metadata": {},
   "outputs": [
    {
     "data": {
      "text/html": [
       "<div>\n",
       "<style scoped>\n",
       "    .dataframe tbody tr th:only-of-type {\n",
       "        vertical-align: middle;\n",
       "    }\n",
       "\n",
       "    .dataframe tbody tr th {\n",
       "        vertical-align: top;\n",
       "    }\n",
       "\n",
       "    .dataframe thead th {\n",
       "        text-align: right;\n",
       "    }\n",
       "</style>\n",
       "<table border=\"1\" class=\"dataframe\">\n",
       "  <thead>\n",
       "    <tr style=\"text-align: right;\">\n",
       "      <th></th>\n",
       "      <th>_id</th>\n",
       "      <th>순위</th>\n",
       "      <th>관광지명</th>\n",
       "      <th>주소</th>\n",
       "      <th>분류</th>\n",
       "      <th>외지인 검색 수</th>\n",
       "      <th>지역구분</th>\n",
       "      <th>목적지_유형</th>\n",
       "    </tr>\n",
       "  </thead>\n",
       "  <tbody>\n",
       "    <tr>\n",
       "      <th>90</th>\n",
       "      <td>65dec2ebbb908e26c803483b</td>\n",
       "      <td>91</td>\n",
       "      <td>파라다이스시티원더박스</td>\n",
       "      <td>인천 중구 영종해안남로321번길 186-0</td>\n",
       "      <td>복합관광시설</td>\n",
       "      <td>24283</td>\n",
       "      <td>인천</td>\n",
       "      <td>문화관광</td>\n",
       "    </tr>\n",
       "    <tr>\n",
       "      <th>168</th>\n",
       "      <td>65dec2ebbb908e26c8034889</td>\n",
       "      <td>69</td>\n",
       "      <td>아난티코브</td>\n",
       "      <td>부산 기장군 기장해안로 268-32</td>\n",
       "      <td>복합관광시설</td>\n",
       "      <td>33402</td>\n",
       "      <td>부산</td>\n",
       "      <td>숙박</td>\n",
       "    </tr>\n",
       "    <tr>\n",
       "      <th>336</th>\n",
       "      <td>65dec2ebbb908e26c8034931</td>\n",
       "      <td>37</td>\n",
       "      <td>제주신화월드</td>\n",
       "      <td>제주 서귀포시 신화역사로304번길 139-0</td>\n",
       "      <td>복합관광시설</td>\n",
       "      <td>30008</td>\n",
       "      <td>제주</td>\n",
       "      <td>문화관광</td>\n",
       "    </tr>\n",
       "    <tr>\n",
       "      <th>365</th>\n",
       "      <td>65dec2ebbb908e26c803494e</td>\n",
       "      <td>66</td>\n",
       "      <td>산굼부리</td>\n",
       "      <td>제주 제주시</td>\n",
       "      <td>복합관광시설</td>\n",
       "      <td>19850</td>\n",
       "      <td>제주</td>\n",
       "      <td>자연관광</td>\n",
       "    </tr>\n",
       "    <tr>\n",
       "      <th>407</th>\n",
       "      <td>65dec2ebbb908e26c8034978</td>\n",
       "      <td>8</td>\n",
       "      <td>휘닉스평창</td>\n",
       "      <td>강원 평창군 태기로 174-0</td>\n",
       "      <td>복합관광시설</td>\n",
       "      <td>146744</td>\n",
       "      <td>강원</td>\n",
       "      <td>문화관광</td>\n",
       "    </tr>\n",
       "    <tr>\n",
       "      <th>442</th>\n",
       "      <td>65dec2ebbb908e26c803499b</td>\n",
       "      <td>43</td>\n",
       "      <td>강원랜드</td>\n",
       "      <td>강원 정선군 하이원길 265-0</td>\n",
       "      <td>복합관광시설</td>\n",
       "      <td>73490</td>\n",
       "      <td>강원</td>\n",
       "      <td>문화관광</td>\n",
       "    </tr>\n",
       "    <tr>\n",
       "      <th>447</th>\n",
       "      <td>65dec2ebbb908e26c80349a0</td>\n",
       "      <td>48</td>\n",
       "      <td>고석정국민관광지</td>\n",
       "      <td>강원 철원군 창동로 2386-0</td>\n",
       "      <td>복합관광시설</td>\n",
       "      <td>65429</td>\n",
       "      <td>강원</td>\n",
       "      <td>문화관광</td>\n",
       "    </tr>\n",
       "    <tr>\n",
       "      <th>463</th>\n",
       "      <td>65dec2ebbb908e26c80349b0</td>\n",
       "      <td>64</td>\n",
       "      <td>하슬라아트월드</td>\n",
       "      <td>강원 강릉시 율곡로 1441-0</td>\n",
       "      <td>복합관광시설</td>\n",
       "      <td>50102</td>\n",
       "      <td>강원</td>\n",
       "      <td>문화관광</td>\n",
       "    </tr>\n",
       "    <tr>\n",
       "      <th>469</th>\n",
       "      <td>65dec2ebbb908e26c80349b6</td>\n",
       "      <td>70</td>\n",
       "      <td>정동진</td>\n",
       "      <td>강원 강릉시 정동역길 17-0</td>\n",
       "      <td>복합관광시설</td>\n",
       "      <td>47568</td>\n",
       "      <td>강원</td>\n",
       "      <td>자연관광</td>\n",
       "    </tr>\n",
       "  </tbody>\n",
       "</table>\n",
       "</div>"
      ],
      "text/plain": [
       "                          _id  순위         관광지명                        주소  \\\n",
       "90   65dec2ebbb908e26c803483b  91  파라다이스시티원더박스   인천 중구 영종해안남로321번길 186-0   \n",
       "168  65dec2ebbb908e26c8034889  69        아난티코브       부산 기장군 기장해안로 268-32   \n",
       "336  65dec2ebbb908e26c8034931  37       제주신화월드  제주 서귀포시 신화역사로304번길 139-0   \n",
       "365  65dec2ebbb908e26c803494e  66         산굼부리                    제주 제주시   \n",
       "407  65dec2ebbb908e26c8034978   8        휘닉스평창          강원 평창군 태기로 174-0   \n",
       "442  65dec2ebbb908e26c803499b  43         강원랜드         강원 정선군 하이원길 265-0   \n",
       "447  65dec2ebbb908e26c80349a0  48     고석정국민관광지         강원 철원군 창동로 2386-0   \n",
       "463  65dec2ebbb908e26c80349b0  64      하슬라아트월드         강원 강릉시 율곡로 1441-0   \n",
       "469  65dec2ebbb908e26c80349b6  70          정동진          강원 강릉시 정동역길 17-0   \n",
       "\n",
       "         분류  외지인 검색 수 지역구분 목적지_유형  \n",
       "90   복합관광시설     24283   인천   문화관광  \n",
       "168  복합관광시설     33402   부산     숙박  \n",
       "336  복합관광시설     30008   제주   문화관광  \n",
       "365  복합관광시설     19850   제주   자연관광  \n",
       "407  복합관광시설    146744   강원   문화관광  \n",
       "442  복합관광시설     73490   강원   문화관광  \n",
       "447  복합관광시설     65429   강원   문화관광  \n",
       "463  복합관광시설     50102   강원   문화관광  \n",
       "469  복합관광시설     47568   강원   자연관광  "
      ]
     },
     "execution_count": 718,
     "metadata": {},
     "output_type": "execute_result"
    }
   ],
   "source": [
    "df_attraction.loc[df_attraction['분류']=='복합관광시설']"
   ]
  },
  {
   "cell_type": "code",
   "execution_count": 719,
   "id": "93a918e9-4ab5-4ad5-b042-6c88bf485aae",
   "metadata": {},
   "outputs": [],
   "source": [
    "df_attraction.loc[[92,151,305,317,323,324,331,411,449,451,469,365],'목적지_유형']= '자연관광'"
   ]
  },
  {
   "cell_type": "code",
   "execution_count": 720,
   "id": "138da1f0-d808-40b1-80d2-050db36cc603",
   "metadata": {},
   "outputs": [],
   "source": [
    "df_attraction.loc[[88, 140,193,172,315,351,428,435,445],'목적지_유형']= '문화관광'"
   ]
  },
  {
   "cell_type": "code",
   "execution_count": 721,
   "id": "f43f84a9-f0e7-406f-b4cc-9d0264eb11fb",
   "metadata": {},
   "outputs": [],
   "source": [
    "df_attraction.loc[[189, ],'목적지_유형']= '음식'"
   ]
  },
  {
   "cell_type": "code",
   "execution_count": 722,
   "id": "209ffd4e-d446-4564-9050-a2d981a24cb0",
   "metadata": {},
   "outputs": [],
   "source": [
    "df_attraction.loc[[168, ],'목적지_유형']= '숙박'"
   ]
  },
  {
   "cell_type": "code",
   "execution_count": 723,
   "id": "a5bc8c8b-6fb8-4bdf-a14e-bc238529dbb9",
   "metadata": {},
   "outputs": [
    {
     "data": {
      "text/plain": [
       "array(['쇼핑', '문화관광', '자연관광', '숙박', '레저스포츠', '음식'], dtype=object)"
      ]
     },
     "execution_count": 723,
     "metadata": {},
     "output_type": "execute_result"
    }
   ],
   "source": [
    "df_attraction['목적지_유형'].unique()"
   ]
  },
  {
   "cell_type": "code",
   "execution_count": 724,
   "id": "b7abcfc9-7af8-4629-be12-f743e95ae455",
   "metadata": {},
   "outputs": [
    {
     "data": {
      "text/html": [
       "<div>\n",
       "<style scoped>\n",
       "    .dataframe tbody tr th:only-of-type {\n",
       "        vertical-align: middle;\n",
       "    }\n",
       "\n",
       "    .dataframe tbody tr th {\n",
       "        vertical-align: top;\n",
       "    }\n",
       "\n",
       "    .dataframe thead th {\n",
       "        text-align: right;\n",
       "    }\n",
       "</style>\n",
       "<table border=\"1\" class=\"dataframe\">\n",
       "  <thead>\n",
       "    <tr style=\"text-align: right;\">\n",
       "      <th></th>\n",
       "      <th>_id</th>\n",
       "      <th>순위</th>\n",
       "      <th>관광지명</th>\n",
       "      <th>주소</th>\n",
       "      <th>분류</th>\n",
       "      <th>외지인 검색 수</th>\n",
       "      <th>지역구분</th>\n",
       "      <th>목적지_유형</th>\n",
       "    </tr>\n",
       "  </thead>\n",
       "  <tbody>\n",
       "    <tr>\n",
       "      <th>400</th>\n",
       "      <td>65dec2ebbb908e26c8034971</td>\n",
       "      <td>1</td>\n",
       "      <td>속초관광수산시장</td>\n",
       "      <td>강원 속초시 중앙로147번길 16-0</td>\n",
       "      <td>시장</td>\n",
       "      <td>751688</td>\n",
       "      <td>강원</td>\n",
       "      <td>문화관광</td>\n",
       "    </tr>\n",
       "    <tr>\n",
       "      <th>403</th>\n",
       "      <td>65dec2ebbb908e26c8034974</td>\n",
       "      <td>4</td>\n",
       "      <td>강원랜드카지노</td>\n",
       "      <td>강원 정선군 하이원길 265-0</td>\n",
       "      <td>기타문화관광지</td>\n",
       "      <td>186869</td>\n",
       "      <td>강원</td>\n",
       "      <td>문화관광</td>\n",
       "    </tr>\n",
       "    <tr>\n",
       "      <th>404</th>\n",
       "      <td>65dec2ebbb908e26c8034975</td>\n",
       "      <td>5</td>\n",
       "      <td>강릉중앙시장</td>\n",
       "      <td>강원 강릉시 금성로 21-0</td>\n",
       "      <td>시장</td>\n",
       "      <td>166226</td>\n",
       "      <td>강원</td>\n",
       "      <td>문화관광</td>\n",
       "    </tr>\n",
       "    <tr>\n",
       "      <th>405</th>\n",
       "      <td>65dec2ebbb908e26c8034976</td>\n",
       "      <td>6</td>\n",
       "      <td>낙산사</td>\n",
       "      <td>강원 양양군 낙산사로 100-0</td>\n",
       "      <td>종교성지</td>\n",
       "      <td>149315</td>\n",
       "      <td>강원</td>\n",
       "      <td>문화관광</td>\n",
       "    </tr>\n",
       "    <tr>\n",
       "      <th>407</th>\n",
       "      <td>65dec2ebbb908e26c8034978</td>\n",
       "      <td>8</td>\n",
       "      <td>휘닉스평창</td>\n",
       "      <td>강원 평창군 태기로 174-0</td>\n",
       "      <td>복합관광시설</td>\n",
       "      <td>146744</td>\n",
       "      <td>강원</td>\n",
       "      <td>문화관광</td>\n",
       "    </tr>\n",
       "    <tr>\n",
       "      <th>409</th>\n",
       "      <td>65dec2ebbb908e26c803497a</td>\n",
       "      <td>10</td>\n",
       "      <td>비발디파크 오션월드</td>\n",
       "      <td>강원 홍천군 한치골길 262-0</td>\n",
       "      <td>테마공원</td>\n",
       "      <td>139851</td>\n",
       "      <td>강원</td>\n",
       "      <td>문화관광</td>\n",
       "    </tr>\n",
       "    <tr>\n",
       "      <th>414</th>\n",
       "      <td>65dec2ebbb908e26c803497f</td>\n",
       "      <td>15</td>\n",
       "      <td>주문진수산시장</td>\n",
       "      <td>강원 강릉시 시장1길 4-1</td>\n",
       "      <td>시장</td>\n",
       "      <td>126916</td>\n",
       "      <td>강원</td>\n",
       "      <td>문화관광</td>\n",
       "    </tr>\n",
       "    <tr>\n",
       "      <th>423</th>\n",
       "      <td>65dec2ebbb908e26c8034988</td>\n",
       "      <td>24</td>\n",
       "      <td>레고랜드코리아리조트</td>\n",
       "      <td>강원 춘천시 하중도길 125-0</td>\n",
       "      <td>테마공원</td>\n",
       "      <td>98265</td>\n",
       "      <td>강원</td>\n",
       "      <td>문화관광</td>\n",
       "    </tr>\n",
       "    <tr>\n",
       "      <th>424</th>\n",
       "      <td>65dec2ebbb908e26c8034989</td>\n",
       "      <td>25</td>\n",
       "      <td>경포대</td>\n",
       "      <td>강원 강릉시 경포로 365-0</td>\n",
       "      <td>역사유적지</td>\n",
       "      <td>96570</td>\n",
       "      <td>강원</td>\n",
       "      <td>문화관광</td>\n",
       "    </tr>\n",
       "    <tr>\n",
       "      <th>428</th>\n",
       "      <td>65dec2ebbb908e26c803498d</td>\n",
       "      <td>29</td>\n",
       "      <td>속초아이대관람차</td>\n",
       "      <td>강원 속초시 청호해안길 2-0</td>\n",
       "      <td>기타관광</td>\n",
       "      <td>89549</td>\n",
       "      <td>강원</td>\n",
       "      <td>문화관광</td>\n",
       "    </tr>\n",
       "    <tr>\n",
       "      <th>429</th>\n",
       "      <td>65dec2ebbb908e26c803498e</td>\n",
       "      <td>30</td>\n",
       "      <td>아르떼뮤지엄강릉</td>\n",
       "      <td>강원 강릉시 난설헌로 131-0</td>\n",
       "      <td>전시시설</td>\n",
       "      <td>87731</td>\n",
       "      <td>강원</td>\n",
       "      <td>문화관광</td>\n",
       "    </tr>\n",
       "    <tr>\n",
       "      <th>430</th>\n",
       "      <td>65dec2ebbb908e26c803498f</td>\n",
       "      <td>31</td>\n",
       "      <td>월정사</td>\n",
       "      <td>강원 평창군 오대산로 374-8</td>\n",
       "      <td>종교성지</td>\n",
       "      <td>86610</td>\n",
       "      <td>강원</td>\n",
       "      <td>문화관광</td>\n",
       "    </tr>\n",
       "    <tr>\n",
       "      <th>435</th>\n",
       "      <td>65dec2ebbb908e26c8034994</td>\n",
       "      <td>36</td>\n",
       "      <td>대관령양떼목장</td>\n",
       "      <td>강원 평창군 대관령마루길 483-32</td>\n",
       "      <td>기타관광</td>\n",
       "      <td>81294</td>\n",
       "      <td>강원</td>\n",
       "      <td>문화관광</td>\n",
       "    </tr>\n",
       "    <tr>\n",
       "      <th>437</th>\n",
       "      <td>65dec2ebbb908e26c8034996</td>\n",
       "      <td>38</td>\n",
       "      <td>휴휴암</td>\n",
       "      <td>강원 양양군 광진2길 3-16</td>\n",
       "      <td>종교성지</td>\n",
       "      <td>78225</td>\n",
       "      <td>강원</td>\n",
       "      <td>문화관광</td>\n",
       "    </tr>\n",
       "    <tr>\n",
       "      <th>441</th>\n",
       "      <td>65dec2ebbb908e26c803499a</td>\n",
       "      <td>42</td>\n",
       "      <td>뮤지엄산</td>\n",
       "      <td>강원 원주시 오크밸리2길 260-0</td>\n",
       "      <td>전시시설</td>\n",
       "      <td>75156</td>\n",
       "      <td>강원</td>\n",
       "      <td>문화관광</td>\n",
       "    </tr>\n",
       "    <tr>\n",
       "      <th>442</th>\n",
       "      <td>65dec2ebbb908e26c803499b</td>\n",
       "      <td>43</td>\n",
       "      <td>강원랜드</td>\n",
       "      <td>강원 정선군 하이원길 265-0</td>\n",
       "      <td>복합관광시설</td>\n",
       "      <td>73490</td>\n",
       "      <td>강원</td>\n",
       "      <td>문화관광</td>\n",
       "    </tr>\n",
       "    <tr>\n",
       "      <th>443</th>\n",
       "      <td>65dec2ebbb908e26c803499c</td>\n",
       "      <td>44</td>\n",
       "      <td>정선아리랑시장</td>\n",
       "      <td>강원 정선군 봉양7길 39-0</td>\n",
       "      <td>시장</td>\n",
       "      <td>69856</td>\n",
       "      <td>강원</td>\n",
       "      <td>문화관광</td>\n",
       "    </tr>\n",
       "    <tr>\n",
       "      <th>444</th>\n",
       "      <td>65dec2ebbb908e26c803499d</td>\n",
       "      <td>45</td>\n",
       "      <td>양양전통시장</td>\n",
       "      <td>강원 양양군 남문5길 9-0</td>\n",
       "      <td>시장</td>\n",
       "      <td>67902</td>\n",
       "      <td>강원</td>\n",
       "      <td>문화관광</td>\n",
       "    </tr>\n",
       "    <tr>\n",
       "      <th>445</th>\n",
       "      <td>65dec2ebbb908e26c803499e</td>\n",
       "      <td>46</td>\n",
       "      <td>원주소금산출렁다리</td>\n",
       "      <td>강원 원주시 소금산길 12-0</td>\n",
       "      <td>기타관광</td>\n",
       "      <td>66846</td>\n",
       "      <td>강원</td>\n",
       "      <td>문화관광</td>\n",
       "    </tr>\n",
       "    <tr>\n",
       "      <th>447</th>\n",
       "      <td>65dec2ebbb908e26c80349a0</td>\n",
       "      <td>48</td>\n",
       "      <td>고석정국민관광지</td>\n",
       "      <td>강원 철원군 창동로 2386-0</td>\n",
       "      <td>복합관광시설</td>\n",
       "      <td>65429</td>\n",
       "      <td>강원</td>\n",
       "      <td>문화관광</td>\n",
       "    </tr>\n",
       "    <tr>\n",
       "      <th>463</th>\n",
       "      <td>65dec2ebbb908e26c80349b0</td>\n",
       "      <td>64</td>\n",
       "      <td>하슬라아트월드</td>\n",
       "      <td>강원 강릉시 율곡로 1441-0</td>\n",
       "      <td>복합관광시설</td>\n",
       "      <td>50102</td>\n",
       "      <td>강원</td>\n",
       "      <td>문화관광</td>\n",
       "    </tr>\n",
       "    <tr>\n",
       "      <th>475</th>\n",
       "      <td>65dec2ebbb908e26c80349bc</td>\n",
       "      <td>76</td>\n",
       "      <td>백담사</td>\n",
       "      <td>강원 인제군 백담로 746-0</td>\n",
       "      <td>종교성지</td>\n",
       "      <td>44811</td>\n",
       "      <td>강원</td>\n",
       "      <td>문화관광</td>\n",
       "    </tr>\n",
       "    <tr>\n",
       "      <th>487</th>\n",
       "      <td>65dec2ebbb908e26c80349c8</td>\n",
       "      <td>88</td>\n",
       "      <td>서부시장</td>\n",
       "      <td>강원 영월군 서부시장길 8-1</td>\n",
       "      <td>시장</td>\n",
       "      <td>38205</td>\n",
       "      <td>강원</td>\n",
       "      <td>문화관광</td>\n",
       "    </tr>\n",
       "    <tr>\n",
       "      <th>489</th>\n",
       "      <td>65dec2ebbb908e26c80349ca</td>\n",
       "      <td>90</td>\n",
       "      <td>하이원워터월드</td>\n",
       "      <td>강원 정선군 하이원길 175-0</td>\n",
       "      <td>테마공원</td>\n",
       "      <td>38118</td>\n",
       "      <td>강원</td>\n",
       "      <td>문화관광</td>\n",
       "    </tr>\n",
       "    <tr>\n",
       "      <th>498</th>\n",
       "      <td>65dec2ebbb908e26c80349d3</td>\n",
       "      <td>99</td>\n",
       "      <td>설악워터피아</td>\n",
       "      <td>강원 속초시 미시령로2983번길 88-0</td>\n",
       "      <td>테마공원</td>\n",
       "      <td>35294</td>\n",
       "      <td>강원</td>\n",
       "      <td>문화관광</td>\n",
       "    </tr>\n",
       "  </tbody>\n",
       "</table>\n",
       "</div>"
      ],
      "text/plain": [
       "                          _id  순위        관광지명                      주소  \\\n",
       "400  65dec2ebbb908e26c8034971   1    속초관광수산시장    강원 속초시 중앙로147번길 16-0   \n",
       "403  65dec2ebbb908e26c8034974   4     강원랜드카지노       강원 정선군 하이원길 265-0   \n",
       "404  65dec2ebbb908e26c8034975   5      강릉중앙시장         강원 강릉시 금성로 21-0   \n",
       "405  65dec2ebbb908e26c8034976   6         낙산사       강원 양양군 낙산사로 100-0   \n",
       "407  65dec2ebbb908e26c8034978   8       휘닉스평창        강원 평창군 태기로 174-0   \n",
       "409  65dec2ebbb908e26c803497a  10  비발디파크 오션월드       강원 홍천군 한치골길 262-0   \n",
       "414  65dec2ebbb908e26c803497f  15     주문진수산시장         강원 강릉시 시장1길 4-1   \n",
       "423  65dec2ebbb908e26c8034988  24  레고랜드코리아리조트       강원 춘천시 하중도길 125-0   \n",
       "424  65dec2ebbb908e26c8034989  25         경포대        강원 강릉시 경포로 365-0   \n",
       "428  65dec2ebbb908e26c803498d  29    속초아이대관람차        강원 속초시 청호해안길 2-0   \n",
       "429  65dec2ebbb908e26c803498e  30    아르떼뮤지엄강릉       강원 강릉시 난설헌로 131-0   \n",
       "430  65dec2ebbb908e26c803498f  31         월정사       강원 평창군 오대산로 374-8   \n",
       "435  65dec2ebbb908e26c8034994  36     대관령양떼목장    강원 평창군 대관령마루길 483-32   \n",
       "437  65dec2ebbb908e26c8034996  38         휴휴암        강원 양양군 광진2길 3-16   \n",
       "441  65dec2ebbb908e26c803499a  42        뮤지엄산     강원 원주시 오크밸리2길 260-0   \n",
       "442  65dec2ebbb908e26c803499b  43        강원랜드       강원 정선군 하이원길 265-0   \n",
       "443  65dec2ebbb908e26c803499c  44     정선아리랑시장        강원 정선군 봉양7길 39-0   \n",
       "444  65dec2ebbb908e26c803499d  45      양양전통시장         강원 양양군 남문5길 9-0   \n",
       "445  65dec2ebbb908e26c803499e  46   원주소금산출렁다리        강원 원주시 소금산길 12-0   \n",
       "447  65dec2ebbb908e26c80349a0  48    고석정국민관광지       강원 철원군 창동로 2386-0   \n",
       "463  65dec2ebbb908e26c80349b0  64     하슬라아트월드       강원 강릉시 율곡로 1441-0   \n",
       "475  65dec2ebbb908e26c80349bc  76         백담사        강원 인제군 백담로 746-0   \n",
       "487  65dec2ebbb908e26c80349c8  88        서부시장        강원 영월군 서부시장길 8-1   \n",
       "489  65dec2ebbb908e26c80349ca  90     하이원워터월드       강원 정선군 하이원길 175-0   \n",
       "498  65dec2ebbb908e26c80349d3  99      설악워터피아  강원 속초시 미시령로2983번길 88-0   \n",
       "\n",
       "          분류  외지인 검색 수 지역구분 목적지_유형  \n",
       "400       시장    751688   강원   문화관광  \n",
       "403  기타문화관광지    186869   강원   문화관광  \n",
       "404       시장    166226   강원   문화관광  \n",
       "405     종교성지    149315   강원   문화관광  \n",
       "407   복합관광시설    146744   강원   문화관광  \n",
       "409     테마공원    139851   강원   문화관광  \n",
       "414       시장    126916   강원   문화관광  \n",
       "423     테마공원     98265   강원   문화관광  \n",
       "424    역사유적지     96570   강원   문화관광  \n",
       "428     기타관광     89549   강원   문화관광  \n",
       "429     전시시설     87731   강원   문화관광  \n",
       "430     종교성지     86610   강원   문화관광  \n",
       "435     기타관광     81294   강원   문화관광  \n",
       "437     종교성지     78225   강원   문화관광  \n",
       "441     전시시설     75156   강원   문화관광  \n",
       "442   복합관광시설     73490   강원   문화관광  \n",
       "443       시장     69856   강원   문화관광  \n",
       "444       시장     67902   강원   문화관광  \n",
       "445     기타관광     66846   강원   문화관광  \n",
       "447   복합관광시설     65429   강원   문화관광  \n",
       "463   복합관광시설     50102   강원   문화관광  \n",
       "475     종교성지     44811   강원   문화관광  \n",
       "487       시장     38205   강원   문화관광  \n",
       "489     테마공원     38118   강원   문화관광  \n",
       "498     테마공원     35294   강원   문화관광  "
      ]
     },
     "execution_count": 724,
     "metadata": {},
     "output_type": "execute_result"
    }
   ],
   "source": [
    "conditiona = \"지역구분 =='강원'\"\n",
    "conditionb = \"목적지_유형 =='문화관광'\"\n",
    "conditions = f\"{conditiona} and {conditionb}\"\n",
    "df_attraction.query(conditions)"
   ]
  },
  {
   "cell_type": "code",
   "execution_count": 737,
   "id": "0b64127b-f4e3-4150-87a5-1f8863582384",
   "metadata": {},
   "outputs": [
    {
     "data": {
      "text/html": [
       "<div>\n",
       "<style scoped>\n",
       "    .dataframe tbody tr th:only-of-type {\n",
       "        vertical-align: middle;\n",
       "    }\n",
       "\n",
       "    .dataframe tbody tr th {\n",
       "        vertical-align: top;\n",
       "    }\n",
       "\n",
       "    .dataframe thead th {\n",
       "        text-align: right;\n",
       "    }\n",
       "</style>\n",
       "<table border=\"1\" class=\"dataframe\">\n",
       "  <thead>\n",
       "    <tr style=\"text-align: right;\">\n",
       "      <th></th>\n",
       "      <th>지역구분</th>\n",
       "      <th>목적지_유형</th>\n",
       "      <th>외지인 검색 수</th>\n",
       "    </tr>\n",
       "  </thead>\n",
       "  <tbody>\n",
       "    <tr>\n",
       "      <th>0</th>\n",
       "      <td>인천</td>\n",
       "      <td>쇼핑</td>\n",
       "      <td>1581325</td>\n",
       "    </tr>\n",
       "    <tr>\n",
       "      <th>1</th>\n",
       "      <td>인천</td>\n",
       "      <td>문화관광</td>\n",
       "      <td>1744408</td>\n",
       "    </tr>\n",
       "    <tr>\n",
       "      <th>2</th>\n",
       "      <td>인천</td>\n",
       "      <td>자연관광</td>\n",
       "      <td>1689039</td>\n",
       "    </tr>\n",
       "    <tr>\n",
       "      <th>3</th>\n",
       "      <td>인천</td>\n",
       "      <td>숙박</td>\n",
       "      <td>795159</td>\n",
       "    </tr>\n",
       "    <tr>\n",
       "      <th>4</th>\n",
       "      <td>인천</td>\n",
       "      <td>레저스포츠</td>\n",
       "      <td>598081</td>\n",
       "    </tr>\n",
       "    <tr>\n",
       "      <th>5</th>\n",
       "      <td>인천</td>\n",
       "      <td>음식</td>\n",
       "      <td>4052458</td>\n",
       "    </tr>\n",
       "    <tr>\n",
       "      <th>6</th>\n",
       "      <td>부산</td>\n",
       "      <td>쇼핑</td>\n",
       "      <td>2529353</td>\n",
       "    </tr>\n",
       "    <tr>\n",
       "      <th>7</th>\n",
       "      <td>부산</td>\n",
       "      <td>문화관광</td>\n",
       "      <td>1702520</td>\n",
       "    </tr>\n",
       "    <tr>\n",
       "      <th>8</th>\n",
       "      <td>부산</td>\n",
       "      <td>자연관광</td>\n",
       "      <td>1292879</td>\n",
       "    </tr>\n",
       "    <tr>\n",
       "      <th>9</th>\n",
       "      <td>부산</td>\n",
       "      <td>숙박</td>\n",
       "      <td>822314</td>\n",
       "    </tr>\n",
       "    <tr>\n",
       "      <th>10</th>\n",
       "      <td>부산</td>\n",
       "      <td>레저스포츠</td>\n",
       "      <td>312421</td>\n",
       "    </tr>\n",
       "    <tr>\n",
       "      <th>11</th>\n",
       "      <td>부산</td>\n",
       "      <td>음식</td>\n",
       "      <td>3196312</td>\n",
       "    </tr>\n",
       "    <tr>\n",
       "      <th>12</th>\n",
       "      <td>서울</td>\n",
       "      <td>쇼핑</td>\n",
       "      <td>8183739</td>\n",
       "    </tr>\n",
       "    <tr>\n",
       "      <th>13</th>\n",
       "      <td>서울</td>\n",
       "      <td>문화관광</td>\n",
       "      <td>3945879</td>\n",
       "    </tr>\n",
       "    <tr>\n",
       "      <th>14</th>\n",
       "      <td>서울</td>\n",
       "      <td>자연관광</td>\n",
       "      <td>1525746</td>\n",
       "    </tr>\n",
       "    <tr>\n",
       "      <th>15</th>\n",
       "      <td>서울</td>\n",
       "      <td>숙박</td>\n",
       "      <td>2332599</td>\n",
       "    </tr>\n",
       "    <tr>\n",
       "      <th>16</th>\n",
       "      <td>서울</td>\n",
       "      <td>레저스포츠</td>\n",
       "      <td>251706</td>\n",
       "    </tr>\n",
       "    <tr>\n",
       "      <th>17</th>\n",
       "      <td>서울</td>\n",
       "      <td>음식</td>\n",
       "      <td>4365632</td>\n",
       "    </tr>\n",
       "    <tr>\n",
       "      <th>18</th>\n",
       "      <td>제주</td>\n",
       "      <td>쇼핑</td>\n",
       "      <td>29034</td>\n",
       "    </tr>\n",
       "    <tr>\n",
       "      <th>19</th>\n",
       "      <td>제주</td>\n",
       "      <td>문화관광</td>\n",
       "      <td>999317</td>\n",
       "    </tr>\n",
       "    <tr>\n",
       "      <th>20</th>\n",
       "      <td>제주</td>\n",
       "      <td>자연관광</td>\n",
       "      <td>1323187</td>\n",
       "    </tr>\n",
       "    <tr>\n",
       "      <th>21</th>\n",
       "      <td>제주</td>\n",
       "      <td>숙박</td>\n",
       "      <td>624379</td>\n",
       "    </tr>\n",
       "    <tr>\n",
       "      <th>22</th>\n",
       "      <td>제주</td>\n",
       "      <td>레저스포츠</td>\n",
       "      <td>98071</td>\n",
       "    </tr>\n",
       "    <tr>\n",
       "      <th>23</th>\n",
       "      <td>제주</td>\n",
       "      <td>음식</td>\n",
       "      <td>2615488</td>\n",
       "    </tr>\n",
       "    <tr>\n",
       "      <th>24</th>\n",
       "      <td>강원</td>\n",
       "      <td>쇼핑</td>\n",
       "      <td>0</td>\n",
       "    </tr>\n",
       "    <tr>\n",
       "      <th>25</th>\n",
       "      <td>강원</td>\n",
       "      <td>문화관광</td>\n",
       "      <td>2911062</td>\n",
       "    </tr>\n",
       "    <tr>\n",
       "      <th>26</th>\n",
       "      <td>강원</td>\n",
       "      <td>자연관광</td>\n",
       "      <td>1890285</td>\n",
       "    </tr>\n",
       "    <tr>\n",
       "      <th>27</th>\n",
       "      <td>강원</td>\n",
       "      <td>숙박</td>\n",
       "      <td>2268453</td>\n",
       "    </tr>\n",
       "    <tr>\n",
       "      <th>28</th>\n",
       "      <td>강원</td>\n",
       "      <td>레저스포츠</td>\n",
       "      <td>764070</td>\n",
       "    </tr>\n",
       "    <tr>\n",
       "      <th>29</th>\n",
       "      <td>강원</td>\n",
       "      <td>음식</td>\n",
       "      <td>4781362</td>\n",
       "    </tr>\n",
       "  </tbody>\n",
       "</table>\n",
       "</div>"
      ],
      "text/plain": [
       "   지역구분 목적지_유형  외지인 검색 수\n",
       "0    인천     쇼핑   1581325\n",
       "1    인천   문화관광   1744408\n",
       "2    인천   자연관광   1689039\n",
       "3    인천     숙박    795159\n",
       "4    인천  레저스포츠    598081\n",
       "5    인천     음식   4052458\n",
       "6    부산     쇼핑   2529353\n",
       "7    부산   문화관광   1702520\n",
       "8    부산   자연관광   1292879\n",
       "9    부산     숙박    822314\n",
       "10   부산  레저스포츠    312421\n",
       "11   부산     음식   3196312\n",
       "12   서울     쇼핑   8183739\n",
       "13   서울   문화관광   3945879\n",
       "14   서울   자연관광   1525746\n",
       "15   서울     숙박   2332599\n",
       "16   서울  레저스포츠    251706\n",
       "17   서울     음식   4365632\n",
       "18   제주     쇼핑     29034\n",
       "19   제주   문화관광    999317\n",
       "20   제주   자연관광   1323187\n",
       "21   제주     숙박    624379\n",
       "22   제주  레저스포츠     98071\n",
       "23   제주     음식   2615488\n",
       "24   강원     쇼핑         0\n",
       "25   강원   문화관광   2911062\n",
       "26   강원   자연관광   1890285\n",
       "27   강원     숙박   2268453\n",
       "28   강원  레저스포츠    764070\n",
       "29   강원     음식   4781362"
      ]
     },
     "execution_count": 737,
     "metadata": {},
     "output_type": "execute_result"
    }
   ],
   "source": [
    "list_data = []\n",
    "for x in list(df_attraction['지역구분'].unique()):\n",
    "    for y in list(df_attraction['목적지_유형'].unique()):\n",
    "        data_dict = {}\n",
    "        data_dict['지역구분']=x\n",
    "        data_dict['목적지_유형']=y\n",
    "        data_dict['외지인 검색 수']=df_attraction.loc[(df_attraction['지역구분']==x) & (df_attraction['목적지_유형']==y),'외지인 검색 수'].sum()\n",
    "        list_data.append(data_dict)\n",
    "data_attraction_sum = pd.DataFrame(data=list_data)\n",
    "data_attraction_sum"
   ]
  },
  {
   "cell_type": "markdown",
   "id": "057e8f2b-4003-406e-bf0d-017db030106c",
   "metadata": {},
   "source": [
    "### concept 분류"
   ]
  },
  {
   "cell_type": "code",
   "execution_count": 738,
   "id": "2ab58891-bd64-420b-bfc8-6ff4d966c96a",
   "metadata": {},
   "outputs": [
    {
     "data": {
      "text/html": [
       "<div>\n",
       "<style scoped>\n",
       "    .dataframe tbody tr th:only-of-type {\n",
       "        vertical-align: middle;\n",
       "    }\n",
       "\n",
       "    .dataframe tbody tr th {\n",
       "        vertical-align: top;\n",
       "    }\n",
       "\n",
       "    .dataframe thead th {\n",
       "        text-align: right;\n",
       "    }\n",
       "</style>\n",
       "<table border=\"1\" class=\"dataframe\">\n",
       "  <thead>\n",
       "    <tr style=\"text-align: right;\">\n",
       "      <th></th>\n",
       "      <th>_id</th>\n",
       "      <th>기준연월</th>\n",
       "      <th>목적지_유형</th>\n",
       "      <th>목적지_검색량</th>\n",
       "      <th>지역구분</th>\n",
       "    </tr>\n",
       "  </thead>\n",
       "  <tbody>\n",
       "    <tr>\n",
       "      <th>12</th>\n",
       "      <td>65dd913cbb908e26c80341ab</td>\n",
       "      <td>202303</td>\n",
       "      <td>숙박</td>\n",
       "      <td>190207</td>\n",
       "      <td>인천</td>\n",
       "    </tr>\n",
       "    <tr>\n",
       "      <th>13</th>\n",
       "      <td>65dd913cbb908e26c80341ac</td>\n",
       "      <td>202303</td>\n",
       "      <td>음식</td>\n",
       "      <td>942682</td>\n",
       "      <td>인천</td>\n",
       "    </tr>\n",
       "    <tr>\n",
       "      <th>15</th>\n",
       "      <td>65dd913cbb908e26c80341ae</td>\n",
       "      <td>202303</td>\n",
       "      <td>쇼핑</td>\n",
       "      <td>359873</td>\n",
       "      <td>인천</td>\n",
       "    </tr>\n",
       "    <tr>\n",
       "      <th>16</th>\n",
       "      <td>65dd913cbb908e26c80341af</td>\n",
       "      <td>202303</td>\n",
       "      <td>자연관광</td>\n",
       "      <td>189499</td>\n",
       "      <td>인천</td>\n",
       "    </tr>\n",
       "    <tr>\n",
       "      <th>17</th>\n",
       "      <td>65dd913cbb908e26c80341b0</td>\n",
       "      <td>202303</td>\n",
       "      <td>문화관광</td>\n",
       "      <td>237606</td>\n",
       "      <td>인천</td>\n",
       "    </tr>\n",
       "    <tr>\n",
       "      <th>...</th>\n",
       "      <td>...</td>\n",
       "      <td>...</td>\n",
       "      <td>...</td>\n",
       "      <td>...</td>\n",
       "      <td>...</td>\n",
       "    </tr>\n",
       "    <tr>\n",
       "      <th>595</th>\n",
       "      <td>65dd913cbb908e26c80343f2</td>\n",
       "      <td>202312</td>\n",
       "      <td>문화관광</td>\n",
       "      <td>230390</td>\n",
       "      <td>강원</td>\n",
       "    </tr>\n",
       "    <tr>\n",
       "      <th>596</th>\n",
       "      <td>65dd913cbb908e26c80343f3</td>\n",
       "      <td>202312</td>\n",
       "      <td>문화관광</td>\n",
       "      <td>56014</td>\n",
       "      <td>강원</td>\n",
       "    </tr>\n",
       "    <tr>\n",
       "      <th>597</th>\n",
       "      <td>65dd913cbb908e26c80343f4</td>\n",
       "      <td>202312</td>\n",
       "      <td>자연관광</td>\n",
       "      <td>217036</td>\n",
       "      <td>강원</td>\n",
       "    </tr>\n",
       "    <tr>\n",
       "      <th>598</th>\n",
       "      <td>65dd913cbb908e26c80343f5</td>\n",
       "      <td>202312</td>\n",
       "      <td>문화관광</td>\n",
       "      <td>16478</td>\n",
       "      <td>강원</td>\n",
       "    </tr>\n",
       "    <tr>\n",
       "      <th>599</th>\n",
       "      <td>65dd913cbb908e26c80343f6</td>\n",
       "      <td>202312</td>\n",
       "      <td>레저스포츠</td>\n",
       "      <td>128227</td>\n",
       "      <td>강원</td>\n",
       "    </tr>\n",
       "  </tbody>\n",
       "</table>\n",
       "<p>480 rows × 5 columns</p>\n",
       "</div>"
      ],
      "text/plain": [
       "                          _id    기준연월 목적지_유형  목적지_검색량 지역구분\n",
       "12   65dd913cbb908e26c80341ab  202303     숙박   190207   인천\n",
       "13   65dd913cbb908e26c80341ac  202303     음식   942682   인천\n",
       "15   65dd913cbb908e26c80341ae  202303     쇼핑   359873   인천\n",
       "16   65dd913cbb908e26c80341af  202303   자연관광   189499   인천\n",
       "17   65dd913cbb908e26c80341b0  202303   문화관광   237606   인천\n",
       "..                        ...     ...    ...      ...  ...\n",
       "595  65dd913cbb908e26c80343f2  202312   문화관광   230390   강원\n",
       "596  65dd913cbb908e26c80343f3  202312   문화관광    56014   강원\n",
       "597  65dd913cbb908e26c80343f4  202312   자연관광   217036   강원\n",
       "598  65dd913cbb908e26c80343f5  202312   문화관광    16478   강원\n",
       "599  65dd913cbb908e26c80343f6  202312  레저스포츠   128227   강원\n",
       "\n",
       "[480 rows x 5 columns]"
      ]
     },
     "execution_count": 738,
     "metadata": {},
     "output_type": "execute_result"
    }
   ],
   "source": [
    "df_concept"
   ]
  },
  {
   "cell_type": "code",
   "execution_count": 739,
   "id": "b4536cea-3f1a-4c68-9ac3-57c6ceee2c0e",
   "metadata": {},
   "outputs": [
    {
     "data": {
      "text/plain": [
       "array(['숙박', '음식', '쇼핑', '자연관광', '문화관광', '레저스포츠'], dtype=object)"
      ]
     },
     "execution_count": 739,
     "metadata": {},
     "output_type": "execute_result"
    }
   ],
   "source": [
    "df_concept['목적지_유형'].unique()"
   ]
  },
  {
   "cell_type": "code",
   "execution_count": 740,
   "id": "5f1b97fd-892b-4653-bd86-b8439c521d37",
   "metadata": {},
   "outputs": [
    {
     "data": {
      "text/plain": [
       "array(['숙박', '음식', '쇼핑', '자연관광', '문화관광', '레저스포츠'], dtype=object)"
      ]
     },
     "execution_count": 740,
     "metadata": {},
     "output_type": "execute_result"
    }
   ],
   "source": [
    "df_concept=df_concept.query(\"목적지_유형 != ['전체','기타관광']\")\n",
    "df_concept['목적지_유형'].unique()"
   ]
  },
  {
   "cell_type": "code",
   "execution_count": 741,
   "id": "02634503-4aa2-402a-a9d8-35965d315250",
   "metadata": {},
   "outputs": [],
   "source": [
    "df_concept.loc[df_concept.query(\"목적지_유형 == ['체험관광','역사관광']\").index,'목적지_유형']='문화관광'"
   ]
  },
  {
   "cell_type": "code",
   "execution_count": 742,
   "id": "ca550f6b-e4e0-4b0c-97f9-18f33a20c454",
   "metadata": {},
   "outputs": [
    {
     "data": {
      "text/html": [
       "<div>\n",
       "<style scoped>\n",
       "    .dataframe tbody tr th:only-of-type {\n",
       "        vertical-align: middle;\n",
       "    }\n",
       "\n",
       "    .dataframe tbody tr th {\n",
       "        vertical-align: top;\n",
       "    }\n",
       "\n",
       "    .dataframe thead th {\n",
       "        text-align: right;\n",
       "    }\n",
       "</style>\n",
       "<table border=\"1\" class=\"dataframe\">\n",
       "  <thead>\n",
       "    <tr style=\"text-align: right;\">\n",
       "      <th></th>\n",
       "      <th>기준년월</th>\n",
       "      <th>목적지_유형</th>\n",
       "      <th>목적지_검색량</th>\n",
       "    </tr>\n",
       "  </thead>\n",
       "  <tbody>\n",
       "    <tr>\n",
       "      <th>0</th>\n",
       "      <td>202303</td>\n",
       "      <td>숙박</td>\n",
       "      <td>1610566</td>\n",
       "    </tr>\n",
       "    <tr>\n",
       "      <th>1</th>\n",
       "      <td>202303</td>\n",
       "      <td>음식</td>\n",
       "      <td>5063675</td>\n",
       "    </tr>\n",
       "    <tr>\n",
       "      <th>2</th>\n",
       "      <td>202303</td>\n",
       "      <td>쇼핑</td>\n",
       "      <td>2227940</td>\n",
       "    </tr>\n",
       "    <tr>\n",
       "      <th>3</th>\n",
       "      <td>202303</td>\n",
       "      <td>자연관광</td>\n",
       "      <td>733461</td>\n",
       "    </tr>\n",
       "    <tr>\n",
       "      <th>4</th>\n",
       "      <td>202303</td>\n",
       "      <td>문화관광</td>\n",
       "      <td>2037415</td>\n",
       "    </tr>\n",
       "    <tr>\n",
       "      <th>...</th>\n",
       "      <td>...</td>\n",
       "      <td>...</td>\n",
       "      <td>...</td>\n",
       "    </tr>\n",
       "    <tr>\n",
       "      <th>67</th>\n",
       "      <td>202312</td>\n",
       "      <td>음식</td>\n",
       "      <td>5842078</td>\n",
       "    </tr>\n",
       "    <tr>\n",
       "      <th>68</th>\n",
       "      <td>202312</td>\n",
       "      <td>쇼핑</td>\n",
       "      <td>2625588</td>\n",
       "    </tr>\n",
       "    <tr>\n",
       "      <th>69</th>\n",
       "      <td>202312</td>\n",
       "      <td>자연관광</td>\n",
       "      <td>600543</td>\n",
       "    </tr>\n",
       "    <tr>\n",
       "      <th>70</th>\n",
       "      <td>202312</td>\n",
       "      <td>문화관광</td>\n",
       "      <td>2063092</td>\n",
       "    </tr>\n",
       "    <tr>\n",
       "      <th>71</th>\n",
       "      <td>202312</td>\n",
       "      <td>레저스포츠</td>\n",
       "      <td>344194</td>\n",
       "    </tr>\n",
       "  </tbody>\n",
       "</table>\n",
       "<p>72 rows × 3 columns</p>\n",
       "</div>"
      ],
      "text/plain": [
       "      기준년월 목적지_유형  목적지_검색량\n",
       "0   202303     숙박  1610566\n",
       "1   202303     음식  5063675\n",
       "2   202303     쇼핑  2227940\n",
       "3   202303   자연관광   733461\n",
       "4   202303   문화관광  2037415\n",
       "..     ...    ...      ...\n",
       "67  202312     음식  5842078\n",
       "68  202312     쇼핑  2625588\n",
       "69  202312   자연관광   600543\n",
       "70  202312   문화관광  2063092\n",
       "71  202312  레저스포츠   344194\n",
       "\n",
       "[72 rows x 3 columns]"
      ]
     },
     "execution_count": 742,
     "metadata": {},
     "output_type": "execute_result"
    }
   ],
   "source": [
    "list_data = []\n",
    "for x in list(df_concept['기준연월'].unique()):\n",
    "    for y in list(df_concept['목적지_유형'].unique()):\n",
    "        data_dict = {}\n",
    "        data_dict['기준년월']=x\n",
    "        data_dict['목적지_유형']=y\n",
    "        data_dict['목적지_검색량']=df_concept.loc[(df_concept['기준연월']==x) & (df_concept['목적지_유형']==y),'목적지_검색량'].sum()\n",
    "        list_data.append(data_dict)\n",
    "data_concept_sum = pd.DataFrame(data=list_data)\n",
    "data_concept_sum"
   ]
  },
  {
   "cell_type": "markdown",
   "id": "ee541800-1862-4b23-8156-7e038628bc17",
   "metadata": {},
   "source": [
    "### visitor 분류"
   ]
  },
  {
   "cell_type": "code",
   "execution_count": 743,
   "id": "649992b8-e860-4758-afd2-b5c613be207c",
   "metadata": {
    "scrolled": true
   },
   "outputs": [
    {
     "data": {
      "text/html": [
       "<div>\n",
       "<style scoped>\n",
       "    .dataframe tbody tr th:only-of-type {\n",
       "        vertical-align: middle;\n",
       "    }\n",
       "\n",
       "    .dataframe tbody tr th {\n",
       "        vertical-align: top;\n",
       "    }\n",
       "\n",
       "    .dataframe thead th {\n",
       "        text-align: right;\n",
       "    }\n",
       "</style>\n",
       "<table border=\"1\" class=\"dataframe\">\n",
       "  <thead>\n",
       "    <tr style=\"text-align: right;\">\n",
       "      <th></th>\n",
       "      <th>_id</th>\n",
       "      <th>기준년월</th>\n",
       "      <th>방문자_수</th>\n",
       "      <th>지역구분</th>\n",
       "    </tr>\n",
       "  </thead>\n",
       "  <tbody>\n",
       "    <tr>\n",
       "      <th>0</th>\n",
       "      <td>65dd76f9bb908e26c8034161</td>\n",
       "      <td>202301</td>\n",
       "      <td>14321833</td>\n",
       "      <td>인천</td>\n",
       "    </tr>\n",
       "    <tr>\n",
       "      <th>1</th>\n",
       "      <td>65dd76f9bb908e26c8034162</td>\n",
       "      <td>202302</td>\n",
       "      <td>13187354</td>\n",
       "      <td>인천</td>\n",
       "    </tr>\n",
       "    <tr>\n",
       "      <th>2</th>\n",
       "      <td>65dd76f9bb908e26c8034163</td>\n",
       "      <td>202303</td>\n",
       "      <td>15620369</td>\n",
       "      <td>인천</td>\n",
       "    </tr>\n",
       "    <tr>\n",
       "      <th>3</th>\n",
       "      <td>65dd76f9bb908e26c8034164</td>\n",
       "      <td>202304</td>\n",
       "      <td>13830096</td>\n",
       "      <td>인천</td>\n",
       "    </tr>\n",
       "    <tr>\n",
       "      <th>4</th>\n",
       "      <td>65dd76f9bb908e26c8034165</td>\n",
       "      <td>202305</td>\n",
       "      <td>15906026</td>\n",
       "      <td>인천</td>\n",
       "    </tr>\n",
       "    <tr>\n",
       "      <th>5</th>\n",
       "      <td>65dd76f9bb908e26c8034166</td>\n",
       "      <td>202306</td>\n",
       "      <td>14338822</td>\n",
       "      <td>인천</td>\n",
       "    </tr>\n",
       "    <tr>\n",
       "      <th>6</th>\n",
       "      <td>65dd76f9bb908e26c8034167</td>\n",
       "      <td>202307</td>\n",
       "      <td>15492589</td>\n",
       "      <td>인천</td>\n",
       "    </tr>\n",
       "    <tr>\n",
       "      <th>7</th>\n",
       "      <td>65dd76f9bb908e26c8034168</td>\n",
       "      <td>202308</td>\n",
       "      <td>15449316</td>\n",
       "      <td>인천</td>\n",
       "    </tr>\n",
       "    <tr>\n",
       "      <th>8</th>\n",
       "      <td>65dd76f9bb908e26c8034169</td>\n",
       "      <td>202309</td>\n",
       "      <td>16422889</td>\n",
       "      <td>인천</td>\n",
       "    </tr>\n",
       "    <tr>\n",
       "      <th>9</th>\n",
       "      <td>65dd76f9bb908e26c803416a</td>\n",
       "      <td>202310</td>\n",
       "      <td>16131144</td>\n",
       "      <td>인천</td>\n",
       "    </tr>\n",
       "    <tr>\n",
       "      <th>10</th>\n",
       "      <td>65dd76f9bb908e26c803416b</td>\n",
       "      <td>202311</td>\n",
       "      <td>14341875</td>\n",
       "      <td>인천</td>\n",
       "    </tr>\n",
       "    <tr>\n",
       "      <th>11</th>\n",
       "      <td>65dd76f9bb908e26c803416c</td>\n",
       "      <td>202312</td>\n",
       "      <td>15642889</td>\n",
       "      <td>인천</td>\n",
       "    </tr>\n",
       "    <tr>\n",
       "      <th>12</th>\n",
       "      <td>65dd76f9bb908e26c803416d</td>\n",
       "      <td>202301</td>\n",
       "      <td>13180063</td>\n",
       "      <td>부산</td>\n",
       "    </tr>\n",
       "    <tr>\n",
       "      <th>13</th>\n",
       "      <td>65dd76f9bb908e26c803416e</td>\n",
       "      <td>202302</td>\n",
       "      <td>11238505</td>\n",
       "      <td>부산</td>\n",
       "    </tr>\n",
       "    <tr>\n",
       "      <th>14</th>\n",
       "      <td>65dd76f9bb908e26c803416f</td>\n",
       "      <td>202303</td>\n",
       "      <td>13159913</td>\n",
       "      <td>부산</td>\n",
       "    </tr>\n",
       "    <tr>\n",
       "      <th>15</th>\n",
       "      <td>65dd76f9bb908e26c8034170</td>\n",
       "      <td>202304</td>\n",
       "      <td>11489345</td>\n",
       "      <td>부산</td>\n",
       "    </tr>\n",
       "    <tr>\n",
       "      <th>16</th>\n",
       "      <td>65dd76f9bb908e26c8034171</td>\n",
       "      <td>202305</td>\n",
       "      <td>12455221</td>\n",
       "      <td>부산</td>\n",
       "    </tr>\n",
       "    <tr>\n",
       "      <th>17</th>\n",
       "      <td>65dd76f9bb908e26c8034172</td>\n",
       "      <td>202306</td>\n",
       "      <td>11702524</td>\n",
       "      <td>부산</td>\n",
       "    </tr>\n",
       "    <tr>\n",
       "      <th>18</th>\n",
       "      <td>65dd76f9bb908e26c8034173</td>\n",
       "      <td>202307</td>\n",
       "      <td>12825366</td>\n",
       "      <td>부산</td>\n",
       "    </tr>\n",
       "    <tr>\n",
       "      <th>19</th>\n",
       "      <td>65dd76f9bb908e26c8034174</td>\n",
       "      <td>202308</td>\n",
       "      <td>13322368</td>\n",
       "      <td>부산</td>\n",
       "    </tr>\n",
       "    <tr>\n",
       "      <th>20</th>\n",
       "      <td>65dd76f9bb908e26c8034175</td>\n",
       "      <td>202309</td>\n",
       "      <td>13666837</td>\n",
       "      <td>부산</td>\n",
       "    </tr>\n",
       "    <tr>\n",
       "      <th>21</th>\n",
       "      <td>65dd76f9bb908e26c8034176</td>\n",
       "      <td>202310</td>\n",
       "      <td>12641711</td>\n",
       "      <td>부산</td>\n",
       "    </tr>\n",
       "    <tr>\n",
       "      <th>22</th>\n",
       "      <td>65dd76f9bb908e26c8034177</td>\n",
       "      <td>202311</td>\n",
       "      <td>11626722</td>\n",
       "      <td>부산</td>\n",
       "    </tr>\n",
       "    <tr>\n",
       "      <th>23</th>\n",
       "      <td>65dd76f9bb908e26c8034178</td>\n",
       "      <td>202312</td>\n",
       "      <td>12946350</td>\n",
       "      <td>부산</td>\n",
       "    </tr>\n",
       "    <tr>\n",
       "      <th>24</th>\n",
       "      <td>65dd76f9bb908e26c8034179</td>\n",
       "      <td>202301</td>\n",
       "      <td>47255715</td>\n",
       "      <td>서울</td>\n",
       "    </tr>\n",
       "    <tr>\n",
       "      <th>25</th>\n",
       "      <td>65dd76f9bb908e26c803417a</td>\n",
       "      <td>202302</td>\n",
       "      <td>47090565</td>\n",
       "      <td>서울</td>\n",
       "    </tr>\n",
       "    <tr>\n",
       "      <th>26</th>\n",
       "      <td>65dd76f9bb908e26c803417b</td>\n",
       "      <td>202303</td>\n",
       "      <td>54980858</td>\n",
       "      <td>서울</td>\n",
       "    </tr>\n",
       "    <tr>\n",
       "      <th>27</th>\n",
       "      <td>65dd76f9bb908e26c803417c</td>\n",
       "      <td>202304</td>\n",
       "      <td>45025765</td>\n",
       "      <td>서울</td>\n",
       "    </tr>\n",
       "    <tr>\n",
       "      <th>28</th>\n",
       "      <td>65dd76f9bb908e26c803417d</td>\n",
       "      <td>202305</td>\n",
       "      <td>49506461</td>\n",
       "      <td>서울</td>\n",
       "    </tr>\n",
       "    <tr>\n",
       "      <th>29</th>\n",
       "      <td>65dd76f9bb908e26c803417e</td>\n",
       "      <td>202306</td>\n",
       "      <td>47768488</td>\n",
       "      <td>서울</td>\n",
       "    </tr>\n",
       "    <tr>\n",
       "      <th>30</th>\n",
       "      <td>65dd76f9bb908e26c803417f</td>\n",
       "      <td>202307</td>\n",
       "      <td>50292484</td>\n",
       "      <td>서울</td>\n",
       "    </tr>\n",
       "    <tr>\n",
       "      <th>31</th>\n",
       "      <td>65dd76f9bb908e26c8034180</td>\n",
       "      <td>202308</td>\n",
       "      <td>49277340</td>\n",
       "      <td>서울</td>\n",
       "    </tr>\n",
       "    <tr>\n",
       "      <th>32</th>\n",
       "      <td>65dd76f9bb908e26c8034181</td>\n",
       "      <td>202309</td>\n",
       "      <td>51928425</td>\n",
       "      <td>서울</td>\n",
       "    </tr>\n",
       "    <tr>\n",
       "      <th>33</th>\n",
       "      <td>65dd76f9bb908e26c8034182</td>\n",
       "      <td>202310</td>\n",
       "      <td>51118153</td>\n",
       "      <td>서울</td>\n",
       "    </tr>\n",
       "    <tr>\n",
       "      <th>34</th>\n",
       "      <td>65dd76f9bb908e26c8034183</td>\n",
       "      <td>202311</td>\n",
       "      <td>49451765</td>\n",
       "      <td>서울</td>\n",
       "    </tr>\n",
       "    <tr>\n",
       "      <th>35</th>\n",
       "      <td>65dd76f9bb908e26c8034184</td>\n",
       "      <td>202312</td>\n",
       "      <td>52547645</td>\n",
       "      <td>서울</td>\n",
       "    </tr>\n",
       "    <tr>\n",
       "      <th>36</th>\n",
       "      <td>65dd76f9bb908e26c8034185</td>\n",
       "      <td>202301</td>\n",
       "      <td>5377591</td>\n",
       "      <td>제주</td>\n",
       "    </tr>\n",
       "    <tr>\n",
       "      <th>37</th>\n",
       "      <td>65dd76f9bb908e26c8034186</td>\n",
       "      <td>202302</td>\n",
       "      <td>4935915</td>\n",
       "      <td>제주</td>\n",
       "    </tr>\n",
       "    <tr>\n",
       "      <th>38</th>\n",
       "      <td>65dd76f9bb908e26c8034187</td>\n",
       "      <td>202303</td>\n",
       "      <td>5274889</td>\n",
       "      <td>제주</td>\n",
       "    </tr>\n",
       "    <tr>\n",
       "      <th>39</th>\n",
       "      <td>65dd76f9bb908e26c8034188</td>\n",
       "      <td>202304</td>\n",
       "      <td>5123197</td>\n",
       "      <td>제주</td>\n",
       "    </tr>\n",
       "    <tr>\n",
       "      <th>40</th>\n",
       "      <td>65dd76f9bb908e26c8034189</td>\n",
       "      <td>202305</td>\n",
       "      <td>5208883</td>\n",
       "      <td>제주</td>\n",
       "    </tr>\n",
       "    <tr>\n",
       "      <th>41</th>\n",
       "      <td>65dd76f9bb908e26c803418a</td>\n",
       "      <td>202306</td>\n",
       "      <td>5059521</td>\n",
       "      <td>제주</td>\n",
       "    </tr>\n",
       "    <tr>\n",
       "      <th>42</th>\n",
       "      <td>65dd76f9bb908e26c803418b</td>\n",
       "      <td>202307</td>\n",
       "      <td>5336175</td>\n",
       "      <td>제주</td>\n",
       "    </tr>\n",
       "    <tr>\n",
       "      <th>43</th>\n",
       "      <td>65dd76f9bb908e26c803418c</td>\n",
       "      <td>202308</td>\n",
       "      <td>5982112</td>\n",
       "      <td>제주</td>\n",
       "    </tr>\n",
       "    <tr>\n",
       "      <th>44</th>\n",
       "      <td>65dd76f9bb908e26c803418d</td>\n",
       "      <td>202309</td>\n",
       "      <td>4788081</td>\n",
       "      <td>제주</td>\n",
       "    </tr>\n",
       "    <tr>\n",
       "      <th>45</th>\n",
       "      <td>65dd76f9bb908e26c803418e</td>\n",
       "      <td>202310</td>\n",
       "      <td>5614039</td>\n",
       "      <td>제주</td>\n",
       "    </tr>\n",
       "    <tr>\n",
       "      <th>46</th>\n",
       "      <td>65dd76f9bb908e26c803418f</td>\n",
       "      <td>202311</td>\n",
       "      <td>4672499</td>\n",
       "      <td>제주</td>\n",
       "    </tr>\n",
       "    <tr>\n",
       "      <th>47</th>\n",
       "      <td>65dd76f9bb908e26c8034190</td>\n",
       "      <td>202312</td>\n",
       "      <td>4638646</td>\n",
       "      <td>제주</td>\n",
       "    </tr>\n",
       "    <tr>\n",
       "      <th>48</th>\n",
       "      <td>65dd76f9bb908e26c8034191</td>\n",
       "      <td>202301</td>\n",
       "      <td>12613168</td>\n",
       "      <td>강원</td>\n",
       "    </tr>\n",
       "    <tr>\n",
       "      <th>49</th>\n",
       "      <td>65dd76f9bb908e26c8034192</td>\n",
       "      <td>202302</td>\n",
       "      <td>11183755</td>\n",
       "      <td>강원</td>\n",
       "    </tr>\n",
       "    <tr>\n",
       "      <th>50</th>\n",
       "      <td>65dd76f9bb908e26c8034193</td>\n",
       "      <td>202303</td>\n",
       "      <td>12150911</td>\n",
       "      <td>강원</td>\n",
       "    </tr>\n",
       "    <tr>\n",
       "      <th>51</th>\n",
       "      <td>65dd76f9bb908e26c8034194</td>\n",
       "      <td>202304</td>\n",
       "      <td>11164195</td>\n",
       "      <td>강원</td>\n",
       "    </tr>\n",
       "    <tr>\n",
       "      <th>52</th>\n",
       "      <td>65dd76f9bb908e26c8034195</td>\n",
       "      <td>202305</td>\n",
       "      <td>12499622</td>\n",
       "      <td>강원</td>\n",
       "    </tr>\n",
       "    <tr>\n",
       "      <th>53</th>\n",
       "      <td>65dd76f9bb908e26c8034196</td>\n",
       "      <td>202306</td>\n",
       "      <td>12291416</td>\n",
       "      <td>강원</td>\n",
       "    </tr>\n",
       "    <tr>\n",
       "      <th>54</th>\n",
       "      <td>65dd76f9bb908e26c8034197</td>\n",
       "      <td>202307</td>\n",
       "      <td>14682347</td>\n",
       "      <td>강원</td>\n",
       "    </tr>\n",
       "    <tr>\n",
       "      <th>55</th>\n",
       "      <td>65dd76f9bb908e26c8034198</td>\n",
       "      <td>202308</td>\n",
       "      <td>17103945</td>\n",
       "      <td>강원</td>\n",
       "    </tr>\n",
       "    <tr>\n",
       "      <th>56</th>\n",
       "      <td>65dd76f9bb908e26c8034199</td>\n",
       "      <td>202309</td>\n",
       "      <td>13520176</td>\n",
       "      <td>강원</td>\n",
       "    </tr>\n",
       "    <tr>\n",
       "      <th>57</th>\n",
       "      <td>65dd76f9bb908e26c803419a</td>\n",
       "      <td>202310</td>\n",
       "      <td>13928972</td>\n",
       "      <td>강원</td>\n",
       "    </tr>\n",
       "    <tr>\n",
       "      <th>58</th>\n",
       "      <td>65dd76f9bb908e26c803419b</td>\n",
       "      <td>202311</td>\n",
       "      <td>9878631</td>\n",
       "      <td>강원</td>\n",
       "    </tr>\n",
       "    <tr>\n",
       "      <th>59</th>\n",
       "      <td>65dd76f9bb908e26c803419c</td>\n",
       "      <td>202312</td>\n",
       "      <td>11320438</td>\n",
       "      <td>강원</td>\n",
       "    </tr>\n",
       "  </tbody>\n",
       "</table>\n",
       "</div>"
      ],
      "text/plain": [
       "                         _id    기준년월     방문자_수 지역구분\n",
       "0   65dd76f9bb908e26c8034161  202301  14321833   인천\n",
       "1   65dd76f9bb908e26c8034162  202302  13187354   인천\n",
       "2   65dd76f9bb908e26c8034163  202303  15620369   인천\n",
       "3   65dd76f9bb908e26c8034164  202304  13830096   인천\n",
       "4   65dd76f9bb908e26c8034165  202305  15906026   인천\n",
       "5   65dd76f9bb908e26c8034166  202306  14338822   인천\n",
       "6   65dd76f9bb908e26c8034167  202307  15492589   인천\n",
       "7   65dd76f9bb908e26c8034168  202308  15449316   인천\n",
       "8   65dd76f9bb908e26c8034169  202309  16422889   인천\n",
       "9   65dd76f9bb908e26c803416a  202310  16131144   인천\n",
       "10  65dd76f9bb908e26c803416b  202311  14341875   인천\n",
       "11  65dd76f9bb908e26c803416c  202312  15642889   인천\n",
       "12  65dd76f9bb908e26c803416d  202301  13180063   부산\n",
       "13  65dd76f9bb908e26c803416e  202302  11238505   부산\n",
       "14  65dd76f9bb908e26c803416f  202303  13159913   부산\n",
       "15  65dd76f9bb908e26c8034170  202304  11489345   부산\n",
       "16  65dd76f9bb908e26c8034171  202305  12455221   부산\n",
       "17  65dd76f9bb908e26c8034172  202306  11702524   부산\n",
       "18  65dd76f9bb908e26c8034173  202307  12825366   부산\n",
       "19  65dd76f9bb908e26c8034174  202308  13322368   부산\n",
       "20  65dd76f9bb908e26c8034175  202309  13666837   부산\n",
       "21  65dd76f9bb908e26c8034176  202310  12641711   부산\n",
       "22  65dd76f9bb908e26c8034177  202311  11626722   부산\n",
       "23  65dd76f9bb908e26c8034178  202312  12946350   부산\n",
       "24  65dd76f9bb908e26c8034179  202301  47255715   서울\n",
       "25  65dd76f9bb908e26c803417a  202302  47090565   서울\n",
       "26  65dd76f9bb908e26c803417b  202303  54980858   서울\n",
       "27  65dd76f9bb908e26c803417c  202304  45025765   서울\n",
       "28  65dd76f9bb908e26c803417d  202305  49506461   서울\n",
       "29  65dd76f9bb908e26c803417e  202306  47768488   서울\n",
       "30  65dd76f9bb908e26c803417f  202307  50292484   서울\n",
       "31  65dd76f9bb908e26c8034180  202308  49277340   서울\n",
       "32  65dd76f9bb908e26c8034181  202309  51928425   서울\n",
       "33  65dd76f9bb908e26c8034182  202310  51118153   서울\n",
       "34  65dd76f9bb908e26c8034183  202311  49451765   서울\n",
       "35  65dd76f9bb908e26c8034184  202312  52547645   서울\n",
       "36  65dd76f9bb908e26c8034185  202301   5377591   제주\n",
       "37  65dd76f9bb908e26c8034186  202302   4935915   제주\n",
       "38  65dd76f9bb908e26c8034187  202303   5274889   제주\n",
       "39  65dd76f9bb908e26c8034188  202304   5123197   제주\n",
       "40  65dd76f9bb908e26c8034189  202305   5208883   제주\n",
       "41  65dd76f9bb908e26c803418a  202306   5059521   제주\n",
       "42  65dd76f9bb908e26c803418b  202307   5336175   제주\n",
       "43  65dd76f9bb908e26c803418c  202308   5982112   제주\n",
       "44  65dd76f9bb908e26c803418d  202309   4788081   제주\n",
       "45  65dd76f9bb908e26c803418e  202310   5614039   제주\n",
       "46  65dd76f9bb908e26c803418f  202311   4672499   제주\n",
       "47  65dd76f9bb908e26c8034190  202312   4638646   제주\n",
       "48  65dd76f9bb908e26c8034191  202301  12613168   강원\n",
       "49  65dd76f9bb908e26c8034192  202302  11183755   강원\n",
       "50  65dd76f9bb908e26c8034193  202303  12150911   강원\n",
       "51  65dd76f9bb908e26c8034194  202304  11164195   강원\n",
       "52  65dd76f9bb908e26c8034195  202305  12499622   강원\n",
       "53  65dd76f9bb908e26c8034196  202306  12291416   강원\n",
       "54  65dd76f9bb908e26c8034197  202307  14682347   강원\n",
       "55  65dd76f9bb908e26c8034198  202308  17103945   강원\n",
       "56  65dd76f9bb908e26c8034199  202309  13520176   강원\n",
       "57  65dd76f9bb908e26c803419a  202310  13928972   강원\n",
       "58  65dd76f9bb908e26c803419b  202311   9878631   강원\n",
       "59  65dd76f9bb908e26c803419c  202312  11320438   강원"
      ]
     },
     "execution_count": 743,
     "metadata": {},
     "output_type": "execute_result"
    }
   ],
   "source": [
    "df_visitor"
   ]
  },
  {
   "cell_type": "code",
   "execution_count": 744,
   "id": "5a34fead-1de0-4f3d-b6cf-15d5f885b155",
   "metadata": {},
   "outputs": [
    {
     "data": {
      "text/html": [
       "<div>\n",
       "<style scoped>\n",
       "    .dataframe tbody tr th:only-of-type {\n",
       "        vertical-align: middle;\n",
       "    }\n",
       "\n",
       "    .dataframe tbody tr th {\n",
       "        vertical-align: top;\n",
       "    }\n",
       "\n",
       "    .dataframe thead th {\n",
       "        text-align: right;\n",
       "    }\n",
       "</style>\n",
       "<table border=\"1\" class=\"dataframe\">\n",
       "  <thead>\n",
       "    <tr style=\"text-align: right;\">\n",
       "      <th></th>\n",
       "      <th>지역구분</th>\n",
       "      <th>기준년월</th>\n",
       "      <th>방문자_수</th>\n",
       "    </tr>\n",
       "  </thead>\n",
       "  <tbody>\n",
       "    <tr>\n",
       "      <th>0</th>\n",
       "      <td>인천</td>\n",
       "      <td>202301</td>\n",
       "      <td>14321833</td>\n",
       "    </tr>\n",
       "    <tr>\n",
       "      <th>1</th>\n",
       "      <td>인천</td>\n",
       "      <td>202302</td>\n",
       "      <td>13187354</td>\n",
       "    </tr>\n",
       "    <tr>\n",
       "      <th>2</th>\n",
       "      <td>인천</td>\n",
       "      <td>202303</td>\n",
       "      <td>15620369</td>\n",
       "    </tr>\n",
       "    <tr>\n",
       "      <th>3</th>\n",
       "      <td>인천</td>\n",
       "      <td>202304</td>\n",
       "      <td>13830096</td>\n",
       "    </tr>\n",
       "    <tr>\n",
       "      <th>4</th>\n",
       "      <td>인천</td>\n",
       "      <td>202305</td>\n",
       "      <td>15906026</td>\n",
       "    </tr>\n",
       "    <tr>\n",
       "      <th>5</th>\n",
       "      <td>인천</td>\n",
       "      <td>202306</td>\n",
       "      <td>14338822</td>\n",
       "    </tr>\n",
       "    <tr>\n",
       "      <th>6</th>\n",
       "      <td>인천</td>\n",
       "      <td>202307</td>\n",
       "      <td>15492589</td>\n",
       "    </tr>\n",
       "    <tr>\n",
       "      <th>7</th>\n",
       "      <td>인천</td>\n",
       "      <td>202308</td>\n",
       "      <td>15449316</td>\n",
       "    </tr>\n",
       "    <tr>\n",
       "      <th>8</th>\n",
       "      <td>인천</td>\n",
       "      <td>202309</td>\n",
       "      <td>16422889</td>\n",
       "    </tr>\n",
       "    <tr>\n",
       "      <th>9</th>\n",
       "      <td>인천</td>\n",
       "      <td>202310</td>\n",
       "      <td>16131144</td>\n",
       "    </tr>\n",
       "    <tr>\n",
       "      <th>10</th>\n",
       "      <td>인천</td>\n",
       "      <td>202311</td>\n",
       "      <td>14341875</td>\n",
       "    </tr>\n",
       "    <tr>\n",
       "      <th>11</th>\n",
       "      <td>인천</td>\n",
       "      <td>202312</td>\n",
       "      <td>15642889</td>\n",
       "    </tr>\n",
       "    <tr>\n",
       "      <th>12</th>\n",
       "      <td>부산</td>\n",
       "      <td>202301</td>\n",
       "      <td>13180063</td>\n",
       "    </tr>\n",
       "    <tr>\n",
       "      <th>13</th>\n",
       "      <td>부산</td>\n",
       "      <td>202302</td>\n",
       "      <td>11238505</td>\n",
       "    </tr>\n",
       "    <tr>\n",
       "      <th>14</th>\n",
       "      <td>부산</td>\n",
       "      <td>202303</td>\n",
       "      <td>13159913</td>\n",
       "    </tr>\n",
       "    <tr>\n",
       "      <th>15</th>\n",
       "      <td>부산</td>\n",
       "      <td>202304</td>\n",
       "      <td>11489345</td>\n",
       "    </tr>\n",
       "    <tr>\n",
       "      <th>16</th>\n",
       "      <td>부산</td>\n",
       "      <td>202305</td>\n",
       "      <td>12455221</td>\n",
       "    </tr>\n",
       "    <tr>\n",
       "      <th>17</th>\n",
       "      <td>부산</td>\n",
       "      <td>202306</td>\n",
       "      <td>11702524</td>\n",
       "    </tr>\n",
       "    <tr>\n",
       "      <th>18</th>\n",
       "      <td>부산</td>\n",
       "      <td>202307</td>\n",
       "      <td>12825366</td>\n",
       "    </tr>\n",
       "    <tr>\n",
       "      <th>19</th>\n",
       "      <td>부산</td>\n",
       "      <td>202308</td>\n",
       "      <td>13322368</td>\n",
       "    </tr>\n",
       "    <tr>\n",
       "      <th>20</th>\n",
       "      <td>부산</td>\n",
       "      <td>202309</td>\n",
       "      <td>13666837</td>\n",
       "    </tr>\n",
       "    <tr>\n",
       "      <th>21</th>\n",
       "      <td>부산</td>\n",
       "      <td>202310</td>\n",
       "      <td>12641711</td>\n",
       "    </tr>\n",
       "    <tr>\n",
       "      <th>22</th>\n",
       "      <td>부산</td>\n",
       "      <td>202311</td>\n",
       "      <td>11626722</td>\n",
       "    </tr>\n",
       "    <tr>\n",
       "      <th>23</th>\n",
       "      <td>부산</td>\n",
       "      <td>202312</td>\n",
       "      <td>12946350</td>\n",
       "    </tr>\n",
       "    <tr>\n",
       "      <th>24</th>\n",
       "      <td>서울</td>\n",
       "      <td>202301</td>\n",
       "      <td>47255715</td>\n",
       "    </tr>\n",
       "    <tr>\n",
       "      <th>25</th>\n",
       "      <td>서울</td>\n",
       "      <td>202302</td>\n",
       "      <td>47090565</td>\n",
       "    </tr>\n",
       "    <tr>\n",
       "      <th>26</th>\n",
       "      <td>서울</td>\n",
       "      <td>202303</td>\n",
       "      <td>54980858</td>\n",
       "    </tr>\n",
       "    <tr>\n",
       "      <th>27</th>\n",
       "      <td>서울</td>\n",
       "      <td>202304</td>\n",
       "      <td>45025765</td>\n",
       "    </tr>\n",
       "    <tr>\n",
       "      <th>28</th>\n",
       "      <td>서울</td>\n",
       "      <td>202305</td>\n",
       "      <td>49506461</td>\n",
       "    </tr>\n",
       "    <tr>\n",
       "      <th>29</th>\n",
       "      <td>서울</td>\n",
       "      <td>202306</td>\n",
       "      <td>47768488</td>\n",
       "    </tr>\n",
       "    <tr>\n",
       "      <th>30</th>\n",
       "      <td>서울</td>\n",
       "      <td>202307</td>\n",
       "      <td>50292484</td>\n",
       "    </tr>\n",
       "    <tr>\n",
       "      <th>31</th>\n",
       "      <td>서울</td>\n",
       "      <td>202308</td>\n",
       "      <td>49277340</td>\n",
       "    </tr>\n",
       "    <tr>\n",
       "      <th>32</th>\n",
       "      <td>서울</td>\n",
       "      <td>202309</td>\n",
       "      <td>51928425</td>\n",
       "    </tr>\n",
       "    <tr>\n",
       "      <th>33</th>\n",
       "      <td>서울</td>\n",
       "      <td>202310</td>\n",
       "      <td>51118153</td>\n",
       "    </tr>\n",
       "    <tr>\n",
       "      <th>34</th>\n",
       "      <td>서울</td>\n",
       "      <td>202311</td>\n",
       "      <td>49451765</td>\n",
       "    </tr>\n",
       "    <tr>\n",
       "      <th>35</th>\n",
       "      <td>서울</td>\n",
       "      <td>202312</td>\n",
       "      <td>52547645</td>\n",
       "    </tr>\n",
       "    <tr>\n",
       "      <th>36</th>\n",
       "      <td>제주</td>\n",
       "      <td>202301</td>\n",
       "      <td>5377591</td>\n",
       "    </tr>\n",
       "    <tr>\n",
       "      <th>37</th>\n",
       "      <td>제주</td>\n",
       "      <td>202302</td>\n",
       "      <td>4935915</td>\n",
       "    </tr>\n",
       "    <tr>\n",
       "      <th>38</th>\n",
       "      <td>제주</td>\n",
       "      <td>202303</td>\n",
       "      <td>5274889</td>\n",
       "    </tr>\n",
       "    <tr>\n",
       "      <th>39</th>\n",
       "      <td>제주</td>\n",
       "      <td>202304</td>\n",
       "      <td>5123197</td>\n",
       "    </tr>\n",
       "    <tr>\n",
       "      <th>40</th>\n",
       "      <td>제주</td>\n",
       "      <td>202305</td>\n",
       "      <td>5208883</td>\n",
       "    </tr>\n",
       "    <tr>\n",
       "      <th>41</th>\n",
       "      <td>제주</td>\n",
       "      <td>202306</td>\n",
       "      <td>5059521</td>\n",
       "    </tr>\n",
       "    <tr>\n",
       "      <th>42</th>\n",
       "      <td>제주</td>\n",
       "      <td>202307</td>\n",
       "      <td>5336175</td>\n",
       "    </tr>\n",
       "    <tr>\n",
       "      <th>43</th>\n",
       "      <td>제주</td>\n",
       "      <td>202308</td>\n",
       "      <td>5982112</td>\n",
       "    </tr>\n",
       "    <tr>\n",
       "      <th>44</th>\n",
       "      <td>제주</td>\n",
       "      <td>202309</td>\n",
       "      <td>4788081</td>\n",
       "    </tr>\n",
       "    <tr>\n",
       "      <th>45</th>\n",
       "      <td>제주</td>\n",
       "      <td>202310</td>\n",
       "      <td>5614039</td>\n",
       "    </tr>\n",
       "    <tr>\n",
       "      <th>46</th>\n",
       "      <td>제주</td>\n",
       "      <td>202311</td>\n",
       "      <td>4672499</td>\n",
       "    </tr>\n",
       "    <tr>\n",
       "      <th>47</th>\n",
       "      <td>제주</td>\n",
       "      <td>202312</td>\n",
       "      <td>4638646</td>\n",
       "    </tr>\n",
       "    <tr>\n",
       "      <th>48</th>\n",
       "      <td>강원</td>\n",
       "      <td>202301</td>\n",
       "      <td>12613168</td>\n",
       "    </tr>\n",
       "    <tr>\n",
       "      <th>49</th>\n",
       "      <td>강원</td>\n",
       "      <td>202302</td>\n",
       "      <td>11183755</td>\n",
       "    </tr>\n",
       "    <tr>\n",
       "      <th>50</th>\n",
       "      <td>강원</td>\n",
       "      <td>202303</td>\n",
       "      <td>12150911</td>\n",
       "    </tr>\n",
       "    <tr>\n",
       "      <th>51</th>\n",
       "      <td>강원</td>\n",
       "      <td>202304</td>\n",
       "      <td>11164195</td>\n",
       "    </tr>\n",
       "    <tr>\n",
       "      <th>52</th>\n",
       "      <td>강원</td>\n",
       "      <td>202305</td>\n",
       "      <td>12499622</td>\n",
       "    </tr>\n",
       "    <tr>\n",
       "      <th>53</th>\n",
       "      <td>강원</td>\n",
       "      <td>202306</td>\n",
       "      <td>12291416</td>\n",
       "    </tr>\n",
       "    <tr>\n",
       "      <th>54</th>\n",
       "      <td>강원</td>\n",
       "      <td>202307</td>\n",
       "      <td>14682347</td>\n",
       "    </tr>\n",
       "    <tr>\n",
       "      <th>55</th>\n",
       "      <td>강원</td>\n",
       "      <td>202308</td>\n",
       "      <td>17103945</td>\n",
       "    </tr>\n",
       "    <tr>\n",
       "      <th>56</th>\n",
       "      <td>강원</td>\n",
       "      <td>202309</td>\n",
       "      <td>13520176</td>\n",
       "    </tr>\n",
       "    <tr>\n",
       "      <th>57</th>\n",
       "      <td>강원</td>\n",
       "      <td>202310</td>\n",
       "      <td>13928972</td>\n",
       "    </tr>\n",
       "    <tr>\n",
       "      <th>58</th>\n",
       "      <td>강원</td>\n",
       "      <td>202311</td>\n",
       "      <td>9878631</td>\n",
       "    </tr>\n",
       "    <tr>\n",
       "      <th>59</th>\n",
       "      <td>강원</td>\n",
       "      <td>202312</td>\n",
       "      <td>11320438</td>\n",
       "    </tr>\n",
       "  </tbody>\n",
       "</table>\n",
       "</div>"
      ],
      "text/plain": [
       "   지역구분    기준년월     방문자_수\n",
       "0    인천  202301  14321833\n",
       "1    인천  202302  13187354\n",
       "2    인천  202303  15620369\n",
       "3    인천  202304  13830096\n",
       "4    인천  202305  15906026\n",
       "5    인천  202306  14338822\n",
       "6    인천  202307  15492589\n",
       "7    인천  202308  15449316\n",
       "8    인천  202309  16422889\n",
       "9    인천  202310  16131144\n",
       "10   인천  202311  14341875\n",
       "11   인천  202312  15642889\n",
       "12   부산  202301  13180063\n",
       "13   부산  202302  11238505\n",
       "14   부산  202303  13159913\n",
       "15   부산  202304  11489345\n",
       "16   부산  202305  12455221\n",
       "17   부산  202306  11702524\n",
       "18   부산  202307  12825366\n",
       "19   부산  202308  13322368\n",
       "20   부산  202309  13666837\n",
       "21   부산  202310  12641711\n",
       "22   부산  202311  11626722\n",
       "23   부산  202312  12946350\n",
       "24   서울  202301  47255715\n",
       "25   서울  202302  47090565\n",
       "26   서울  202303  54980858\n",
       "27   서울  202304  45025765\n",
       "28   서울  202305  49506461\n",
       "29   서울  202306  47768488\n",
       "30   서울  202307  50292484\n",
       "31   서울  202308  49277340\n",
       "32   서울  202309  51928425\n",
       "33   서울  202310  51118153\n",
       "34   서울  202311  49451765\n",
       "35   서울  202312  52547645\n",
       "36   제주  202301   5377591\n",
       "37   제주  202302   4935915\n",
       "38   제주  202303   5274889\n",
       "39   제주  202304   5123197\n",
       "40   제주  202305   5208883\n",
       "41   제주  202306   5059521\n",
       "42   제주  202307   5336175\n",
       "43   제주  202308   5982112\n",
       "44   제주  202309   4788081\n",
       "45   제주  202310   5614039\n",
       "46   제주  202311   4672499\n",
       "47   제주  202312   4638646\n",
       "48   강원  202301  12613168\n",
       "49   강원  202302  11183755\n",
       "50   강원  202303  12150911\n",
       "51   강원  202304  11164195\n",
       "52   강원  202305  12499622\n",
       "53   강원  202306  12291416\n",
       "54   강원  202307  14682347\n",
       "55   강원  202308  17103945\n",
       "56   강원  202309  13520176\n",
       "57   강원  202310  13928972\n",
       "58   강원  202311   9878631\n",
       "59   강원  202312  11320438"
      ]
     },
     "execution_count": 744,
     "metadata": {},
     "output_type": "execute_result"
    }
   ],
   "source": [
    "list_data = []\n",
    "for x in list(df_visitor['지역구분'].unique()):\n",
    "    for y in list(df_visitor['기준년월'].unique()):\n",
    "        data_dict = {}\n",
    "        data_dict['지역구분']=x\n",
    "        data_dict['기준년월']=y\n",
    "        data_dict['방문자_수']=df_visitor.loc[(df_visitor['지역구분']==x) & (df_visitor['기준년월']==y),'방문자_수'].sum()\n",
    "        list_data.append(data_dict)\n",
    "data_visitor_sum = pd.DataFrame(data=list_data)\n",
    "data_visitor_sum"
   ]
  },
  {
   "cell_type": "markdown",
   "id": "3af758d2-8b73-4d72-84c6-bcf3fbc5c867",
   "metadata": {},
   "source": [
    "## DDA & EDA"
   ]
  },
  {
   "cell_type": "markdown",
   "id": "868c0938-e8e1-4027-a136-02bc2cf926ed",
   "metadata": {},
   "source": [
    "### 지역별 방문자 수가 많은 관광지 유형\n",
    "* 서울 : 쇼핑, 음식, 문화관광\n",
    "* 부산 : 음심, 쇼핑, 문화관광\n",
    "* 인천 : 음식, 문화관광, 자연관광\n",
    "* 강원 : 음식, 문화관광, 숙박\n",
    "* 제주 : 음식, 자연관광, 문화관광"
   ]
  },
  {
   "cell_type": "code",
   "execution_count": 751,
   "id": "902776d6-a7ff-4383-975b-0dd2ac878fd6",
   "metadata": {},
   "outputs": [
    {
     "data": {
      "text/plain": [
       "목적지_유형\n",
       "음식      2615488.0\n",
       "자연관광    1323187.0\n",
       "문화관광     999317.0\n",
       "Name: 제주, dtype: float64"
      ]
     },
     "execution_count": 751,
     "metadata": {},
     "output_type": "execute_result"
    }
   ],
   "source": [
    "pivot_attraction=pd.pivot_table(data=df_attraction,index=\"지역구분\",columns = \"목적지_유형\",values='외지인 검색 수',aggfunc='sum')\n",
    "pivot_attraction.loc['제주'].sort_values(ascending=False)[:3]"
   ]
  },
  {
   "cell_type": "code",
   "execution_count": 770,
   "id": "b9e90061-6791-41ad-96d6-cce33ceaee01",
   "metadata": {},
   "outputs": [
    {
     "data": {
      "text/plain": [
       "<Axes: xlabel='목적지_유형', ylabel='외지인 검색 수'>"
      ]
     },
     "execution_count": 770,
     "metadata": {},
     "output_type": "execute_result"
    },
    {
     "data": {
      "image/png": "[encoded data removed]",
      "text/plain": [
       "<Figure size 640x480 with 1 Axes>"
      ]
     },
     "metadata": {},
     "output_type": "display_data"
    }
   ],
   "source": [
    "sns.barplot(data=data_attraction_sum, x= \"목적지_유형\", y= \"외지인 검색 수\",hue=\"지역구분\",errorbar=None)"
   ]
  },
  {
   "cell_type": "markdown",
   "id": "af7b3085-5eb9-480b-a154-146c8a40f07e",
   "metadata": {},
   "source": [
    "### 목적지 유형별 검색량이 많은 월\n",
    "* 숙박 : 8월, 7월, 12월\n",
    "* 음식 : 8월, 7월, 12월\n",
    "* 문화관광 : 10월, 8월, 9월\n",
    "* 쇼핑 : 12월, 9월, 10월\n",
    "* 자연관광 : 10월, 9월, 8월\n",
    "* 레저스포츠 : 10월, 8월, 9월\n"
   ]
  },
  {
   "cell_type": "code",
   "execution_count": 521,
   "id": "5dc93535-a065-4ed7-853b-dfb31e9597d3",
   "metadata": {},
   "outputs": [
    {
     "data": {
      "text/plain": [
       "기준연월\n",
       "202308    2573834\n",
       "202307    2278415\n",
       "202312    2128577\n",
       "Name: 숙박, dtype: int64"
      ]
     },
     "execution_count": 521,
     "metadata": {},
     "output_type": "execute_result"
    }
   ],
   "source": [
    "pivot_concept=pd.pivot_table(data=df_concept,index=\"목적지_유형\",columns = \"기준연월\",values='목적지_검색량',aggfunc='sum')\n",
    "pivot_concept.loc['숙박',:].sort_values(ascending=False)[:3]"
   ]
  },
  {
   "cell_type": "code",
   "execution_count": 522,
   "id": "1614c2ae-450f-46bd-be0e-d314eb3137b3",
   "metadata": {},
   "outputs": [
    {
     "data": {
      "text/plain": [
       "기준연월\n",
       "202308    6641833\n",
       "202307    6107752\n",
       "202312    5842078\n",
       "Name: 음식, dtype: int64"
      ]
     },
     "execution_count": 522,
     "metadata": {},
     "output_type": "execute_result"
    }
   ],
   "source": [
    "pivot_concept.loc['음식',:].sort_values(ascending=False)[:3]"
   ]
  },
  {
   "cell_type": "code",
   "execution_count": 654,
   "id": "d066c22d-10c3-4af6-8204-13ec48eb83b5",
   "metadata": {},
   "outputs": [
    {
     "data": {
      "text/plain": [
       "기준연월\n",
       "202310    2825296\n",
       "202308    2519828\n",
       "202309    2436732\n",
       "202305    2318110\n",
       "202306    2243152\n",
       "Name: 문화관광, dtype: int64"
      ]
     },
     "execution_count": 654,
     "metadata": {},
     "output_type": "execute_result"
    }
   ],
   "source": [
    "pivot_concept.loc['문화관광',:].sort_values(ascending=False)[:5]"
   ]
  },
  {
   "cell_type": "code",
   "execution_count": 659,
   "id": "66ba6b7f-7892-4d79-8e8c-2e4bfb6c8841",
   "metadata": {},
   "outputs": [
    {
     "data": {
      "text/plain": [
       "기준연월\n",
       "202312    2625588\n",
       "202309    2411906\n",
       "202310    2408879\n",
       "Name: 쇼핑, dtype: int64"
      ]
     },
     "execution_count": 659,
     "metadata": {},
     "output_type": "execute_result"
    }
   ],
   "source": [
    "pivot_concept.loc['쇼핑',:].sort_values(ascending=False)[:3]"
   ]
  },
  {
   "cell_type": "code",
   "execution_count": 658,
   "id": "8b8673bc-723b-46e1-b5aa-4fae9cad2593",
   "metadata": {},
   "outputs": [
    {
     "data": {
      "text/plain": [
       "기준연월\n",
       "202310    1004736\n",
       "202309     947937\n",
       "202308     888573\n",
       "Name: 자연관광, dtype: int64"
      ]
     },
     "execution_count": 658,
     "metadata": {},
     "output_type": "execute_result"
    }
   ],
   "source": [
    "pivot_concept.loc['자연관광',:].sort_values(ascending=False)[:3]"
   ]
  },
  {
   "cell_type": "code",
   "execution_count": 526,
   "id": "3590d14d-1a7e-4423-b6cf-283f63a27e26",
   "metadata": {},
   "outputs": [
    {
     "data": {
      "text/plain": [
       "기준연월\n",
       "202310    619549\n",
       "202308    566495\n",
       "202309    555517\n",
       "Name: 레저스포츠, dtype: int64"
      ]
     },
     "execution_count": 526,
     "metadata": {},
     "output_type": "execute_result"
    }
   ],
   "source": [
    "pivot_concept.loc['레저스포츠',:].sort_values(ascending=False)[:3]"
   ]
  },
  {
   "cell_type": "code",
   "execution_count": 762,
   "id": "aca5b100-1c2b-40c1-9f40-a315d4307b62",
   "metadata": {},
   "outputs": [
    {
     "data": {
      "text/html": [
       "<div>\n",
       "<style scoped>\n",
       "    .dataframe tbody tr th:only-of-type {\n",
       "        vertical-align: middle;\n",
       "    }\n",
       "\n",
       "    .dataframe tbody tr th {\n",
       "        vertical-align: top;\n",
       "    }\n",
       "\n",
       "    .dataframe thead th {\n",
       "        text-align: right;\n",
       "    }\n",
       "</style>\n",
       "<table border=\"1\" class=\"dataframe\">\n",
       "  <thead>\n",
       "    <tr style=\"text-align: right;\">\n",
       "      <th></th>\n",
       "      <th>기준년월</th>\n",
       "      <th>목적지_유형</th>\n",
       "      <th>목적지_검색량</th>\n",
       "    </tr>\n",
       "  </thead>\n",
       "  <tbody>\n",
       "    <tr>\n",
       "      <th>0</th>\n",
       "      <td>202303</td>\n",
       "      <td>숙박</td>\n",
       "      <td>1610566</td>\n",
       "    </tr>\n",
       "    <tr>\n",
       "      <th>1</th>\n",
       "      <td>202303</td>\n",
       "      <td>음식</td>\n",
       "      <td>5063675</td>\n",
       "    </tr>\n",
       "    <tr>\n",
       "      <th>2</th>\n",
       "      <td>202303</td>\n",
       "      <td>쇼핑</td>\n",
       "      <td>2227940</td>\n",
       "    </tr>\n",
       "    <tr>\n",
       "      <th>3</th>\n",
       "      <td>202303</td>\n",
       "      <td>자연관광</td>\n",
       "      <td>733461</td>\n",
       "    </tr>\n",
       "    <tr>\n",
       "      <th>4</th>\n",
       "      <td>202303</td>\n",
       "      <td>문화관광</td>\n",
       "      <td>2037415</td>\n",
       "    </tr>\n",
       "    <tr>\n",
       "      <th>...</th>\n",
       "      <td>...</td>\n",
       "      <td>...</td>\n",
       "      <td>...</td>\n",
       "    </tr>\n",
       "    <tr>\n",
       "      <th>67</th>\n",
       "      <td>202312</td>\n",
       "      <td>음식</td>\n",
       "      <td>5842078</td>\n",
       "    </tr>\n",
       "    <tr>\n",
       "      <th>68</th>\n",
       "      <td>202312</td>\n",
       "      <td>쇼핑</td>\n",
       "      <td>2625588</td>\n",
       "    </tr>\n",
       "    <tr>\n",
       "      <th>69</th>\n",
       "      <td>202312</td>\n",
       "      <td>자연관광</td>\n",
       "      <td>600543</td>\n",
       "    </tr>\n",
       "    <tr>\n",
       "      <th>70</th>\n",
       "      <td>202312</td>\n",
       "      <td>문화관광</td>\n",
       "      <td>2063092</td>\n",
       "    </tr>\n",
       "    <tr>\n",
       "      <th>71</th>\n",
       "      <td>202312</td>\n",
       "      <td>레저스포츠</td>\n",
       "      <td>344194</td>\n",
       "    </tr>\n",
       "  </tbody>\n",
       "</table>\n",
       "<p>72 rows × 3 columns</p>\n",
       "</div>"
      ],
      "text/plain": [
       "      기준년월 목적지_유형  목적지_검색량\n",
       "0   202303     숙박  1610566\n",
       "1   202303     음식  5063675\n",
       "2   202303     쇼핑  2227940\n",
       "3   202303   자연관광   733461\n",
       "4   202303   문화관광  2037415\n",
       "..     ...    ...      ...\n",
       "67  202312     음식  5842078\n",
       "68  202312     쇼핑  2625588\n",
       "69  202312   자연관광   600543\n",
       "70  202312   문화관광  2063092\n",
       "71  202312  레저스포츠   344194\n",
       "\n",
       "[72 rows x 3 columns]"
      ]
     },
     "execution_count": 762,
     "metadata": {},
     "output_type": "execute_result"
    }
   ],
   "source": [
    "data_concept_sum"
   ]
  },
  {
   "cell_type": "code",
   "execution_count": 767,
   "id": "1ebb48ef-6617-45ed-ab42-8ebebf652e26",
   "metadata": {},
   "outputs": [
    {
     "data": {
      "text/plain": [
       "<Axes: xlabel='기준년월', ylabel='목적지_검색량'>"
      ]
     },
     "execution_count": 767,
     "metadata": {},
     "output_type": "execute_result"
    },
    {
     "data": {
      "image/png": "[encoded data removed]",
      "text/plain": [
       "<Figure size 1200x600 with 1 Axes>"
      ]
     },
     "metadata": {},
     "output_type": "display_data"
    }
   ],
   "source": [
    "plt.figure(figsize=(12, 6))\n",
    "sns.lineplot(data=data_concept_sum.query(\"목적지_유형 =='숙박'\"), x= \"기준년월\", y= \"목적지_검색량\",errorbar=None)"
   ]
  },
  {
   "cell_type": "markdown",
   "id": "bcba7d90-3968-427f-861a-eebc88ad7301",
   "metadata": {},
   "source": [
    "### 지역별 방문자 수가 많은 월\n",
    "* 서울 : 3월, 12월, 9월\n",
    "* 부산 : 9월, 8월, 1월\n",
    "* 인천 : 9월, 10월, 5월\n",
    "* 강원 : 8월, 7월, 10월\n",
    "* 제주 : 8월, 10월, 1월"
   ]
  },
  {
   "cell_type": "code",
   "execution_count": 528,
   "id": "43822e2e-da1c-46ee-9648-80f00cebdd84",
   "metadata": {},
   "outputs": [
    {
     "data": {
      "text/plain": [
       "기준년월\n",
       "202308    5982112\n",
       "202310    5614039\n",
       "202301    5377591\n",
       "202307    5336175\n",
       "202303    5274889\n",
       "202305    5208883\n",
       "202304    5123197\n",
       "202306    5059521\n",
       "202302    4935915\n",
       "202309    4788081\n",
       "202311    4672499\n",
       "202312    4638646\n",
       "Name: 제주, dtype: int64"
      ]
     },
     "execution_count": 528,
     "metadata": {},
     "output_type": "execute_result"
    }
   ],
   "source": [
    "pivot_visitor=pd.pivot_table(data=df_visitor,index=\"지역구분\",columns = \"기준년월\",values='방문자_수',aggfunc='sum')\n",
    "pivot_visitor.loc['제주'].sort_values(ascending=False)"
   ]
  },
  {
   "cell_type": "code",
   "execution_count": 769,
   "id": "0a769d44-c957-42a9-bb1d-662112defcb1",
   "metadata": {},
   "outputs": [
    {
     "data": {
      "text/plain": [
       "<Axes: xlabel='기준년월', ylabel='방문자_수'>"
      ]
     },
     "execution_count": 769,
     "metadata": {},
     "output_type": "execute_result"
    },
    {
     "data": {
      "image/png": "[encoded data removed]",
      "text/plain": [
       "<Figure size 1200x600 with 1 Axes>"
      ]
     },
     "metadata": {},
     "output_type": "display_data"
    }
   ],
   "source": [
    "plt.figure(figsize=(12, 6))\n",
    "sns.lineplot(data=data_visitor_sum.query(\"지역구분 == '강원'\"), x= \"기준년월\",y='방문자_수',hue=\"지역구분\",errorbar=None)"
   ]
  },
  {
   "cell_type": "markdown",
   "id": "3bd50fde-e9c8-49f0-989c-5a101716139b",
   "metadata": {},
   "source": [
    "## CDA"
   ]
  },
  {
   "cell_type": "markdown",
   "id": "59327ed3-de3e-4fd0-aa84-fca69ec065ab",
   "metadata": {
    "jp-MarkdownHeadingCollapsed": true
   },
   "source": [
    "### 지역별 정규분포 확인\n",
    "* 서울 : 정규분포\n",
    "  * p-value = 0.9973136453905183\n",
    "* 부산 : 정규분포\n",
    "  * p-value = 0.28461342141298596\n",
    "* 강원 : 정규분포\n",
    "  * p-value = 0.4760507773414123\n",
    "* 제주 : 정규분포\n",
    "  * p-value = 0.8092344673462573\n",
    "* 인천 : 정규분포\n",
    "  * p-value = 0.32901922814749984"
   ]
  },
  {
   "cell_type": "code",
   "execution_count": 530,
   "id": "4d982d0b-e50c-4862-9eef-d9bea936fc34",
   "metadata": {},
   "outputs": [
    {
     "data": {
      "text/plain": [
       "ShapiroResult(statistic=0.9856587827031315, pvalue=0.9973136453905183)"
      ]
     },
     "execution_count": 530,
     "metadata": {},
     "output_type": "execute_result"
    }
   ],
   "source": [
    "# pvalue > 0.05 : 정규분포\n",
    "stats.shapiro(data_visitor_sum.query(\"지역구분 =='서울'\").sort_values(by='기준년월')['방문자_수'])"
   ]
  },
  {
   "cell_type": "code",
   "execution_count": 531,
   "id": "fa3b809a-f9b7-45ca-9b66-56e966250568",
   "metadata": {},
   "outputs": [
    {
     "data": {
      "text/plain": [
       "ShapiroResult(statistic=0.9198427916245954, pvalue=0.28461342141298596)"
      ]
     },
     "execution_count": 531,
     "metadata": {},
     "output_type": "execute_result"
    }
   ],
   "source": [
    "# pvalue > 0.05 : 정규분포\n",
    "stats.shapiro(data_visitor_sum.query(\"지역구분 =='부산'\").sort_values(by='기준년월')['방문자_수'])"
   ]
  },
  {
   "cell_type": "code",
   "execution_count": 532,
   "id": "2aea73b5-4be5-40c5-afaf-f814f4ba8d2a",
   "metadata": {},
   "outputs": [
    {
     "data": {
      "text/plain": [
       "ShapiroResult(statistic=0.9382747644577106, pvalue=0.4760507773414123)"
      ]
     },
     "execution_count": 532,
     "metadata": {},
     "output_type": "execute_result"
    }
   ],
   "source": [
    "# pvalue > 0.05 : 정규분포\n",
    "stats.shapiro(data_visitor_sum.query(\"지역구분 =='강원'\").sort_values(by='기준년월')['방문자_수'])"
   ]
  },
  {
   "cell_type": "code",
   "execution_count": 533,
   "id": "b45b8b0f-5bca-4dcc-a8a3-a5dc31b51bab",
   "metadata": {},
   "outputs": [
    {
     "data": {
      "text/plain": [
       "ShapiroResult(statistic=0.9618033569729677, pvalue=0.8092344673462573)"
      ]
     },
     "execution_count": 533,
     "metadata": {},
     "output_type": "execute_result"
    }
   ],
   "source": [
    "# pvalue > 0.05 : 정규분포\n",
    "stats.shapiro(data_visitor_sum.query(\"지역구분 =='제주'\").sort_values(by='기준년월')['방문자_수'])"
   ]
  },
  {
   "cell_type": "code",
   "execution_count": 534,
   "id": "e4939779-42cf-40de-a50b-8610fbce6893",
   "metadata": {},
   "outputs": [
    {
     "data": {
      "text/plain": [
       "ShapiroResult(statistic=0.9248841521619882, pvalue=0.32901922814749984)"
      ]
     },
     "execution_count": 534,
     "metadata": {},
     "output_type": "execute_result"
    }
   ],
   "source": [
    "# pvalue > 0.05 : 정규분포\n",
    "stats.shapiro(data_visitor_sum.query(\"지역구분 =='인천'\").sort_values(by='기준년월')['방문자_수'])"
   ]
  },
  {
   "cell_type": "markdown",
   "id": "961cc9f7-4990-4319-86fa-e3fff5c46137",
   "metadata": {
    "jp-MarkdownHeadingCollapsed": true
   },
   "source": [
    "### 목적지 유형별 정규분포 확인\n",
    "* 숙박\n",
    "  * p-value = 0.5630228165598207\n",
    "* 음식\n",
    "  * p-value = 0.40407951762031513\n",
    "* 문화관광\n",
    "  * p-value = 0.5360945988411083\n",
    "* 쇼핑\n",
    "  * p-value = 0.6220566078088251\n",
    "* 자연관광\n",
    "  * p-value = 0.4756991427233535\n",
    "* 레저스포츠\n",
    "  * p-value = 0.535901696770146"
   ]
  },
  {
   "cell_type": "code",
   "execution_count": 541,
   "id": "399cf483-514b-45b8-85f0-98e159c65c49",
   "metadata": {},
   "outputs": [
    {
     "data": {
      "text/plain": [
       "ShapiroResult(statistic=0.9448284940057353, pvalue=0.5630228165598207)"
      ]
     },
     "execution_count": 541,
     "metadata": {},
     "output_type": "execute_result"
    }
   ],
   "source": [
    "# pvalue > 0.05 : 정규분포\n",
    "stats.shapiro(data_concept_sum.query(\"목적지_유형 =='숙박'\").sort_values(by='기준년월')['목적지_검색량'])"
   ]
  },
  {
   "cell_type": "code",
   "execution_count": 537,
   "id": "713f8d55-cf68-491d-9461-fdba1c8dfbf0",
   "metadata": {},
   "outputs": [
    {
     "data": {
      "text/plain": [
       "ShapiroResult(statistic=0.9322057563272238, pvalue=0.40407951762031513)"
      ]
     },
     "execution_count": 537,
     "metadata": {},
     "output_type": "execute_result"
    }
   ],
   "source": [
    "# pvalue > 0.05 : 정규분포\n",
    "stats.shapiro(data_concept_sum.query(\"목적지_유형 =='음식'\").sort_values(by='기준년월')['목적지_검색량'])"
   ]
  },
  {
   "cell_type": "code",
   "execution_count": 538,
   "id": "87dea532-d076-49e8-9163-1ccf36920047",
   "metadata": {},
   "outputs": [
    {
     "data": {
      "text/plain": [
       "ShapiroResult(statistic=0.9428679178405824, pvalue=0.5360945988411083)"
      ]
     },
     "execution_count": 538,
     "metadata": {},
     "output_type": "execute_result"
    }
   ],
   "source": [
    "# pvalue > 0.05 : 정규분포\n",
    "stats.shapiro(data_concept_sum.query(\"목적지_유형 =='문화관광'\").sort_values(by='기준년월')['목적지_검색량'])"
   ]
  },
  {
   "cell_type": "code",
   "execution_count": 535,
   "id": "989bc8de-a8a6-451a-88b0-035f96b71460",
   "metadata": {},
   "outputs": [
    {
     "data": {
      "text/plain": [
       "ShapiroResult(statistic=0.9489753996289559, pvalue=0.6220566078088251)"
      ]
     },
     "execution_count": 535,
     "metadata": {},
     "output_type": "execute_result"
    }
   ],
   "source": [
    "# pvalue > 0.05 : 정규분포\n",
    "stats.shapiro(data_concept_sum.query(\"목적지_유형 =='쇼핑'\").sort_values(by='기준년월')['목적지_검색량'])"
   ]
  },
  {
   "cell_type": "code",
   "execution_count": 539,
   "id": "15edb664-b443-479d-b67c-837925be1325",
   "metadata": {},
   "outputs": [
    {
     "data": {
      "text/plain": [
       "ShapiroResult(statistic=0.9382467843259368, pvalue=0.4756991427233535)"
      ]
     },
     "execution_count": 539,
     "metadata": {},
     "output_type": "execute_result"
    }
   ],
   "source": [
    "# pvalue > 0.05 : 정규분포\n",
    "stats.shapiro(data_concept_sum.query(\"목적지_유형 =='자연관광'\").sort_values(by='기준년월')['목적지_검색량'])"
   ]
  },
  {
   "cell_type": "code",
   "execution_count": 540,
   "id": "c516ecf6-1c89-4b1e-9fdb-71231f08a0cf",
   "metadata": {},
   "outputs": [
    {
     "data": {
      "text/plain": [
       "ShapiroResult(statistic=0.9428536799448659, pvalue=0.535901696770146)"
      ]
     },
     "execution_count": 540,
     "metadata": {},
     "output_type": "execute_result"
    }
   ],
   "source": [
    "# pvalue > 0.05 : 정규분포\n",
    "stats.shapiro(data_concept_sum.query(\"목적지_유형 =='레저스포츠'\").sort_values(by='기준년월')['목적지_검색량'])"
   ]
  },
  {
   "cell_type": "markdown",
   "id": "b2d8b4e8-1264-416a-bafa-85d056dd5678",
   "metadata": {},
   "source": [
    "### 숙박 : 강원"
   ]
  },
  {
   "cell_type": "markdown",
   "id": "267e586b-9872-4f3a-86bb-3af33618c8d6",
   "metadata": {
    "jp-MarkdownHeadingCollapsed": true
   },
   "source": [
    "#### 서울\n",
    "* p-value = 0.990483508118553\n",
    "*  상관관계가 없음\n",
    "#### 부산\n",
    "* p-value = 0.28971251599469205\n",
    "*  상관관계가 없음\n",
    "#### 강원\n",
    "* p-value = 0.0021862858292930726\n",
    "*  상관관계가 있음\n",
    "#### 제주\n",
    "* p-value = 0.12725139344805295\n",
    "*  상관관계가 없음\n",
    "#### 인천\n",
    "* p-value = 0.2262992602331968\n",
    "*  상관관계가 없음"
   ]
  },
  {
   "cell_type": "code",
   "execution_count": 587,
   "id": "87c1623b-1d7f-41d9-9286-8a9a992f6ced",
   "metadata": {},
   "outputs": [
    {
     "data": {
      "text/plain": [
       "PearsonRResult(statistic=0.003867096029181304, pvalue=0.990483508118553)"
      ]
     },
     "execution_count": 587,
     "metadata": {},
     "output_type": "execute_result"
    }
   ],
   "source": [
    "# pvalue > 0.05 : 상관관계가 없음\n",
    "stats.pearsonr(data_visitor_sum.query(\"지역구분 =='서울'\").sort_values(by='기준년월')['방문자_수'],data_concept_sum.query(\"목적지_유형 =='숙박'\").sort_values(by='기준년월')['목적지_검색량'])"
   ]
  },
  {
   "cell_type": "code",
   "execution_count": 588,
   "id": "23fdb748-d836-4f78-9645-4ad78c63c2e3",
   "metadata": {},
   "outputs": [
    {
     "data": {
      "text/plain": [
       "PearsonRResult(statistic=0.3333197273833854, pvalue=0.28971251599469205)"
      ]
     },
     "execution_count": 588,
     "metadata": {},
     "output_type": "execute_result"
    }
   ],
   "source": [
    "# pvalue > 0.05 : 상관관계가 없음\n",
    "stats.pearsonr(data_visitor_sum.query(\"지역구분 =='부산'\").sort_values(by='기준년월')['방문자_수'],data_concept_sum.query(\"목적지_유형 =='숙박'\").sort_values(by='기준년월')['목적지_검색량'])"
   ]
  },
  {
   "cell_type": "code",
   "execution_count": 589,
   "id": "6bdfae01-21fc-414b-ac07-c06938602d5a",
   "metadata": {},
   "outputs": [
    {
     "data": {
      "text/plain": [
       "PearsonRResult(statistic=0.790967224131266, pvalue=0.0021862858292930726)"
      ]
     },
     "execution_count": 589,
     "metadata": {},
     "output_type": "execute_result"
    }
   ],
   "source": [
    "# pvalue < 0.05 : 상관관계가 있음\n",
    "stats.pearsonr(data_visitor_sum.query(\"지역구분 =='강원'\").sort_values(by='기준년월')['방문자_수'],data_concept_sum.query(\"목적지_유형 =='숙박'\").sort_values(by='기준년월')['목적지_검색량'])"
   ]
  },
  {
   "cell_type": "code",
   "execution_count": 590,
   "id": "660b3166-6690-4d71-be20-fcfb1d244ccb",
   "metadata": {},
   "outputs": [
    {
     "data": {
      "text/plain": [
       "PearsonRResult(statistic=0.4654911218026511, pvalue=0.12725139344805295)"
      ]
     },
     "execution_count": 590,
     "metadata": {},
     "output_type": "execute_result"
    }
   ],
   "source": [
    "# pvalue > 0.05 : 상관관계가 없음\n",
    "stats.pearsonr(data_visitor_sum.query(\"지역구분 =='제주'\").sort_values(by='기준년월')['방문자_수'],data_concept_sum.query(\"목적지_유형 =='숙박'\").sort_values(by='기준년월')['목적지_검색량'])"
   ]
  },
  {
   "cell_type": "code",
   "execution_count": 591,
   "id": "9c14cb7f-1aff-453f-99aa-fc6d073f87f1",
   "metadata": {
    "scrolled": true
   },
   "outputs": [
    {
     "data": {
      "text/plain": [
       "PearsonRResult(statistic=0.37755229725621253, pvalue=0.2262992602331968)"
      ]
     },
     "execution_count": 591,
     "metadata": {},
     "output_type": "execute_result"
    }
   ],
   "source": [
    "# pvalue > 0.05 : 상관관계가 없음\n",
    "stats.pearsonr(data_visitor_sum.query(\"지역구분 =='인천'\").sort_values(by='기준년월')['방문자_수'],data_concept_sum.query(\"목적지_유형 =='숙박'\").sort_values(by='기준년월')['목적지_검색량'])"
   ]
  },
  {
   "cell_type": "markdown",
   "id": "38cd87ef-8d75-449f-af74-e16db74721e7",
   "metadata": {},
   "source": [
    "### 음식 : 강원"
   ]
  },
  {
   "cell_type": "markdown",
   "id": "d0556e42-bbff-44a0-a1b6-e91c255d7abb",
   "metadata": {},
   "source": [
    "#### 서울\n",
    "* p-value = 0.6538630450177505\n",
    "*  상관관계가 없음\n",
    "#### 부산\n",
    "* p-value = 0.13908554832836928\n",
    "*  상관관계가 없음\n",
    "#### 강원\n",
    "* p-value = 0.001188649252708536\n",
    "*  상관관계가 있음\n",
    "#### 제주\n",
    "* p-value = 0.09443155788276819\n",
    "*  상관관계가 없음\n",
    "#### 인천\n",
    "* p-value = 0.11447584953446001\n",
    "*  상관관계가 없음"
   ]
  },
  {
   "cell_type": "code",
   "execution_count": 592,
   "id": "47278fac-1a1c-4dd8-a7b0-5f801029e973",
   "metadata": {},
   "outputs": [
    {
     "data": {
      "text/plain": [
       "PearsonRResult(statistic=0.14460941681289413, pvalue=0.6538630450177505)"
      ]
     },
     "execution_count": 592,
     "metadata": {},
     "output_type": "execute_result"
    }
   ],
   "source": [
    "# pvalue > 0.05 : 상관관계가 없음\n",
    "stats.pearsonr(data_visitor_sum.query(\"지역구분 =='서울'\").sort_values(by='기준년월')['방문자_수'],data_concept_sum.query(\"목적지_유형 =='음식'\").sort_values(by='기준년월')['목적지_검색량'])"
   ]
  },
  {
   "cell_type": "code",
   "execution_count": 593,
   "id": "ce29cb52-00ec-49e1-a9e7-55ca3dca470d",
   "metadata": {},
   "outputs": [
    {
     "data": {
      "text/plain": [
       "PearsonRResult(statistic=0.45308623215309946, pvalue=0.13908554832836928)"
      ]
     },
     "execution_count": 593,
     "metadata": {},
     "output_type": "execute_result"
    }
   ],
   "source": [
    "# pvalue > 0.05 : 상관관계가 없음\n",
    "stats.pearsonr(data_visitor_sum.query(\"지역구분 =='부산'\").sort_values(by='기준년월')['방문자_수'],data_concept_sum.query(\"목적지_유형 =='음식'\").sort_values(by='기준년월')['목적지_검색량'])"
   ]
  },
  {
   "cell_type": "code",
   "execution_count": 594,
   "id": "ebc022fb-4f67-4788-8905-8ac17a0933b5",
   "metadata": {},
   "outputs": [
    {
     "data": {
      "text/plain": [
       "PearsonRResult(statistic=0.8166553949908238, pvalue=0.001188649252708536)"
      ]
     },
     "execution_count": 594,
     "metadata": {},
     "output_type": "execute_result"
    }
   ],
   "source": [
    "# pvalue < 0.05 : 상관관계가 있음\n",
    "stats.pearsonr(data_visitor_sum.query(\"지역구분 =='강원'\").sort_values(by='기준년월')['방문자_수'],data_concept_sum.query(\"목적지_유형 =='음식'\").sort_values(by='기준년월')['목적지_검색량'])"
   ]
  },
  {
   "cell_type": "code",
   "execution_count": 595,
   "id": "a5764479-9813-42d6-b8c1-a46200a03d3c",
   "metadata": {},
   "outputs": [
    {
     "data": {
      "text/plain": [
       "PearsonRResult(statistic=0.5044487274015599, pvalue=0.09443155788276819)"
      ]
     },
     "execution_count": 595,
     "metadata": {},
     "output_type": "execute_result"
    }
   ],
   "source": [
    "# pvalue > 0.05 : 상관관계가 없음\n",
    "stats.pearsonr(data_visitor_sum.query(\"지역구분 =='제주'\").sort_values(by='기준년월')['방문자_수'],data_concept_sum.query(\"목적지_유형 =='음식'\").sort_values(by='기준년월')['목적지_검색량'])"
   ]
  },
  {
   "cell_type": "code",
   "execution_count": 596,
   "id": "51698016-6207-4ecb-aad3-462a56023580",
   "metadata": {
    "scrolled": true
   },
   "outputs": [
    {
     "data": {
      "text/plain": [
       "PearsonRResult(statistic=0.4797605377648344, pvalue=0.11447584953446001)"
      ]
     },
     "execution_count": 596,
     "metadata": {},
     "output_type": "execute_result"
    }
   ],
   "source": [
    "# pvalue > 0.05 : 상관관계가 없음\n",
    "stats.pearsonr(data_visitor_sum.query(\"지역구분 =='인천'\").sort_values(by='기준년월')['방문자_수'],data_concept_sum.query(\"목적지_유형 =='음식'\").sort_values(by='기준년월')['목적지_검색량'])"
   ]
  },
  {
   "cell_type": "markdown",
   "id": "b94eb473-1836-4687-bbeb-489e9cd0c844",
   "metadata": {
    "jp-MarkdownHeadingCollapsed": true
   },
   "source": [
    "### 문화관광 : 강원, 인천"
   ]
  },
  {
   "cell_type": "markdown",
   "id": "40f5dd50-be21-403d-a25e-9bcea21df252",
   "metadata": {
    "jp-MarkdownHeadingCollapsed": true
   },
   "source": [
    "#### 서울\n",
    "* p-value = 0.4869825100231865\n",
    "*  상관관계가 없음\n",
    "#### 부산\n",
    "* p-value = 0.31289112490561144\n",
    "*  상관관계가 없음\n",
    "#### 강원\n",
    "* p-value = 0.02512906049753106\n",
    "*  상관관계가 있음\n",
    "#### 제주\n",
    "* p-value = 0.09308079685774018\n",
    "*  상관관계가 없음\n",
    "#### 인천\n",
    "* p-value = 0.021900068051055294\n",
    "*  상관관계가 있음"
   ]
  },
  {
   "cell_type": "code",
   "execution_count": 614,
   "id": "58a91710-6fc1-4caa-a12c-2b598fe40e26",
   "metadata": {},
   "outputs": [
    {
     "data": {
      "text/plain": [
       "PearsonRResult(statistic=0.22251470278419502, pvalue=0.4869825100231865)"
      ]
     },
     "execution_count": 614,
     "metadata": {},
     "output_type": "execute_result"
    }
   ],
   "source": [
    "# pvalue > 0.05 : 상관관계가 없음\n",
    "stats.pearsonr(data_visitor_sum.query(\"지역구분 =='서울'\").sort_values(by='기준년월')['방문자_수'],data_concept_sum.query(\"목적지_유형 =='문화관광'\").sort_values(by='기준년월')['목적지_검색량'])"
   ]
  },
  {
   "cell_type": "code",
   "execution_count": 615,
   "id": "11eb2f53-66ed-450c-8ab7-34028bbe2676",
   "metadata": {},
   "outputs": [
    {
     "data": {
      "text/plain": [
       "PearsonRResult(statistic=0.31855904570044996, pvalue=0.31289112490561144)"
      ]
     },
     "execution_count": 615,
     "metadata": {},
     "output_type": "execute_result"
    }
   ],
   "source": [
    "# pvalue > 0.05 : 상관관계가 없음\n",
    "stats.pearsonr(data_visitor_sum.query(\"지역구분 =='부산'\").sort_values(by='기준년월')['방문자_수'],data_concept_sum.query(\"목적지_유형 =='문화관광'\").sort_values(by='기준년월')['목적지_검색량'])"
   ]
  },
  {
   "cell_type": "code",
   "execution_count": 616,
   "id": "dc773588-af50-42cd-abfe-678f9bfcf1ac",
   "metadata": {},
   "outputs": [
    {
     "data": {
      "text/plain": [
       "PearsonRResult(statistic=0.6395436419386263, pvalue=0.02512906049753106)"
      ]
     },
     "execution_count": 616,
     "metadata": {},
     "output_type": "execute_result"
    }
   ],
   "source": [
    "# pvalue < 0.05 : 상관관계가 있음\n",
    "stats.pearsonr(data_visitor_sum.query(\"지역구분 =='강원'\").sort_values(by='기준년월')['방문자_수'],data_concept_sum.query(\"목적지_유형 =='문화관광'\").sort_values(by='기준년월')['목적지_검색량'])"
   ]
  },
  {
   "cell_type": "code",
   "execution_count": 617,
   "id": "dd41f64f-a073-4c6f-a2d4-a1ddb4696a93",
   "metadata": {},
   "outputs": [
    {
     "data": {
      "text/plain": [
       "PearsonRResult(statistic=0.5062340428673195, pvalue=0.09308079685774018)"
      ]
     },
     "execution_count": 617,
     "metadata": {},
     "output_type": "execute_result"
    }
   ],
   "source": [
    "# pvalue > 0.05 : 상관관계가 없음\n",
    "stats.pearsonr(data_visitor_sum.query(\"지역구분 =='제주'\").sort_values(by='기준년월')['방문자_수'],data_concept_sum.query(\"목적지_유형 =='문화관광'\").sort_values(by='기준년월')['목적지_검색량'])"
   ]
  },
  {
   "cell_type": "code",
   "execution_count": 618,
   "id": "cc2aa9fd-a1f4-4749-afa0-979614bc2ff7",
   "metadata": {
    "scrolled": true
   },
   "outputs": [
    {
     "data": {
      "text/plain": [
       "PearsonRResult(statistic=0.650842287680369, pvalue=0.021900068051055294)"
      ]
     },
     "execution_count": 618,
     "metadata": {},
     "output_type": "execute_result"
    }
   ],
   "source": [
    "# pvalue < 0.05 : 상관관계가 있음\n",
    "stats.pearsonr(data_visitor_sum.query(\"지역구분 =='인천'\").sort_values(by='기준년월')['방문자_수'],data_concept_sum.query(\"목적지_유형 =='문화관광'\").sort_values(by='기준년월')['목적지_검색량'])"
   ]
  },
  {
   "cell_type": "markdown",
   "id": "a1a898dc-a7a6-45a8-8115-0f6f27b45712",
   "metadata": {
    "jp-MarkdownHeadingCollapsed": true
   },
   "source": [
    "### 쇼핑 : 인천, 부산, 서울 "
   ]
  },
  {
   "cell_type": "markdown",
   "id": "fbf898fe-a9ad-43b5-9672-6c9566718b05",
   "metadata": {
    "jp-MarkdownHeadingCollapsed": true
   },
   "source": [
    "#### 서울\n",
    "* p-value = 0.04940056388619214\n",
    "*  상관관계가 있음\n",
    "#### 부산\n",
    "* p-value = 0.04436822894483745\n",
    "*  상관관계가 있음\n",
    "#### 강원\n",
    "* p-value = 0.5215515020883321\n",
    "*  상관관계가 없음\n",
    "#### 제주\n",
    "* p-value = 0.6998069001225202\n",
    "*  상관관계가 없음\n",
    "#### 인천\n",
    "* p-value = 0.01604408597695678\n",
    "*  상관관계가 있음"
   ]
  },
  {
   "cell_type": "code",
   "execution_count": 603,
   "id": "7834fe9f-c6bd-4615-9c8a-354ae647c737",
   "metadata": {},
   "outputs": [
    {
     "data": {
      "text/plain": [
       "PearsonRResult(statistic=0.5772096944063122, pvalue=0.04940056388619214)"
      ]
     },
     "execution_count": 603,
     "metadata": {},
     "output_type": "execute_result"
    }
   ],
   "source": [
    "# pvalue < 0.05 : 상관관계가 있음\n",
    "stats.pearsonr(data_visitor_sum.query(\"지역구분 =='서울'\").sort_values(by='기준년월')['방문자_수'],data_concept_sum.query(\"목적지_유형 =='쇼핑'\").sort_values(by='기준년월')['목적지_검색량'])"
   ]
  },
  {
   "cell_type": "code",
   "execution_count": 604,
   "id": "9cbde44d-dddc-4a4c-a5e9-81950744cd76",
   "metadata": {},
   "outputs": [
    {
     "data": {
      "text/plain": [
       "PearsonRResult(statistic=0.5879459790968465, pvalue=0.04436822894483745)"
      ]
     },
     "execution_count": 604,
     "metadata": {},
     "output_type": "execute_result"
    }
   ],
   "source": [
    "# pvalue < 0.05 : 상관관계가 있음\n",
    "stats.pearsonr(data_visitor_sum.query(\"지역구분 =='부산'\").sort_values(by='기준년월')['방문자_수'],data_concept_sum.query(\"목적지_유형 =='쇼핑'\").sort_values(by='기준년월')['목적지_검색량'])"
   ]
  },
  {
   "cell_type": "code",
   "execution_count": 605,
   "id": "bba4ee0b-4d70-4a3a-b628-733a8fdd7608",
   "metadata": {},
   "outputs": [
    {
     "data": {
      "text/plain": [
       "PearsonRResult(statistic=0.20556802953517708, pvalue=0.5215515020883321)"
      ]
     },
     "execution_count": 605,
     "metadata": {},
     "output_type": "execute_result"
    }
   ],
   "source": [
    "# pvalue > 0.05 : 상관관계가 없음\n",
    "stats.pearsonr(data_visitor_sum.query(\"지역구분 =='강원'\").sort_values(by='기준년월')['방문자_수'],data_concept_sum.query(\"목적지_유형 =='쇼핑'\").sort_values(by='기준년월')['목적지_검색량'])"
   ]
  },
  {
   "cell_type": "code",
   "execution_count": 606,
   "id": "4e095c62-7d67-43c3-8ac1-de6894b7be41",
   "metadata": {},
   "outputs": [
    {
     "data": {
      "text/plain": [
       "PearsonRResult(statistic=-0.12452197007116611, pvalue=0.6998069001225202)"
      ]
     },
     "execution_count": 606,
     "metadata": {},
     "output_type": "execute_result"
    }
   ],
   "source": [
    "# pvalue > 0.05 : 상관관계가 없음\n",
    "stats.pearsonr(data_visitor_sum.query(\"지역구분 =='제주'\").sort_values(by='기준년월')['방문자_수'],data_concept_sum.query(\"목적지_유형 =='쇼핑'\").sort_values(by='기준년월')['목적지_검색량'])"
   ]
  },
  {
   "cell_type": "code",
   "execution_count": 607,
   "id": "bc9570c2-bda5-451c-ba92-e1a980f025f4",
   "metadata": {
    "scrolled": true
   },
   "outputs": [
    {
     "data": {
      "text/plain": [
       "PearsonRResult(statistic=0.674904599685121, pvalue=0.01604408597695678)"
      ]
     },
     "execution_count": 607,
     "metadata": {},
     "output_type": "execute_result"
    }
   ],
   "source": [
    "# pvalue < 0.05 : 상관관계가 있음\n",
    "stats.pearsonr(data_visitor_sum.query(\"지역구분 =='인천'\").sort_values(by='기준년월')['방문자_수'],data_concept_sum.query(\"목적지_유형 =='쇼핑'\").sort_values(by='기준년월')['목적지_검색량'])"
   ]
  },
  {
   "cell_type": "markdown",
   "id": "f0cda80f-ecbb-4acd-b625-44a56a0e8d35",
   "metadata": {
    "jp-MarkdownHeadingCollapsed": true
   },
   "source": [
    "### 자연관광"
   ]
  },
  {
   "cell_type": "markdown",
   "id": "60ad73fb-a656-4ba7-927d-47434ec05b4e",
   "metadata": {},
   "source": [
    "#### 서울\n",
    "* p-value = 0.14298624815250666\n",
    "*  상관관계가 없음\n",
    "#### 부산\n",
    "* p-value = 0.06303861881995301\n",
    "*  상관관계가 없음\n",
    "#### 강원\n",
    "* p-value = 0.07868976116963107\n",
    "*  상관관계가 없음\n",
    "#### 제주\n",
    "* p-value = 0.2528639854241719\n",
    "*  상관관계가 없음\n",
    "#### 인천\n",
    "* p-value = 0.1140732113999062\n",
    "*  상관관계가 없음"
   ]
  },
  {
   "cell_type": "code",
   "execution_count": 619,
   "id": "7f815b0e-1663-4c08-8b73-06f9fafd294f",
   "metadata": {},
   "outputs": [
    {
     "data": {
      "text/plain": [
       "PearsonRResult(statistic=0.44914790545543465, pvalue=0.14298624815250666)"
      ]
     },
     "execution_count": 619,
     "metadata": {},
     "output_type": "execute_result"
    }
   ],
   "source": [
    "# pvalue > 0.05 : 상관관계가 없음\n",
    "stats.pearsonr(data_visitor_sum.query(\"지역구분 =='서울'\").sort_values(by='기준년월')['방문자_수'],data_concept_sum.query(\"목적지_유형 =='자연관광'\").sort_values(by='기준년월')['목적지_검색량'])"
   ]
  },
  {
   "cell_type": "code",
   "execution_count": 620,
   "id": "d137bcf5-b1bf-4356-aba2-13f65fdb7cff",
   "metadata": {},
   "outputs": [
    {
     "data": {
      "text/plain": [
       "PearsonRResult(statistic=0.5515310934166969, pvalue=0.06303861881995301)"
      ]
     },
     "execution_count": 620,
     "metadata": {},
     "output_type": "execute_result"
    }
   ],
   "source": [
    "# pvalue > 0.05 : 상관관계가 없음\n",
    "stats.pearsonr(data_visitor_sum.query(\"지역구분 =='부산'\").sort_values(by='기준년월')['방문자_수'],data_concept_sum.query(\"목적지_유형 =='자연관광'\").sort_values(by='기준년월')['목적지_검색량'])"
   ]
  },
  {
   "cell_type": "code",
   "execution_count": 621,
   "id": "98ee4ae4-9b2f-4fc5-8f00-446b6420d6a8",
   "metadata": {},
   "outputs": [
    {
     "data": {
      "text/plain": [
       "PearsonRResult(statistic=0.5264430840344718, pvalue=0.07868976116963107)"
      ]
     },
     "execution_count": 621,
     "metadata": {},
     "output_type": "execute_result"
    }
   ],
   "source": [
    "# pvalue > 0.05 : 상관관계가 없음\n",
    "stats.pearsonr(data_visitor_sum.query(\"지역구분 =='강원'\").sort_values(by='기준년월')['방문자_수'],data_concept_sum.query(\"목적지_유형 =='자연관광'\").sort_values(by='기준년월')['목적지_검색량'])"
   ]
  },
  {
   "cell_type": "code",
   "execution_count": 622,
   "id": "76566547-acb1-4c69-b965-6044694faaa4",
   "metadata": {},
   "outputs": [
    {
     "data": {
      "text/plain": [
       "PearsonRResult(statistic=0.35823964047791723, pvalue=0.2528639854241719)"
      ]
     },
     "execution_count": 622,
     "metadata": {},
     "output_type": "execute_result"
    }
   ],
   "source": [
    "# pvalue > 0.05 : 상관관계가 없음\n",
    "stats.pearsonr(data_visitor_sum.query(\"지역구분 =='제주'\").sort_values(by='기준년월')['방문자_수'],data_concept_sum.query(\"목적지_유형 =='자연관광'\").sort_values(by='기준년월')['목적지_검색량'])"
   ]
  },
  {
   "cell_type": "code",
   "execution_count": 623,
   "id": "7cea4add-9846-4a55-9917-0fd5a5958d6e",
   "metadata": {
    "scrolled": true
   },
   "outputs": [
    {
     "data": {
      "text/plain": [
       "PearsonRResult(statistic=0.4802269183484463, pvalue=0.1140732113999062)"
      ]
     },
     "execution_count": 623,
     "metadata": {},
     "output_type": "execute_result"
    }
   ],
   "source": [
    "# pvalue > 0.05 : 상관관계가 없음\n",
    "stats.pearsonr(data_visitor_sum.query(\"지역구분 =='인천'\").sort_values(by='기준년월')['방문자_수'],data_concept_sum.query(\"목적지_유형 =='자연관광'\").sort_values(by='기준년월')['목적지_검색량'])"
   ]
  },
  {
   "cell_type": "markdown",
   "id": "75adb8b1-08f5-4c81-8c41-c925186205a7",
   "metadata": {
    "jp-MarkdownHeadingCollapsed": true
   },
   "source": [
    "### 레저스포츠"
   ]
  },
  {
   "cell_type": "markdown",
   "id": "df1f4341-58a9-4c87-8f1d-b8631c2c9927",
   "metadata": {},
   "source": [
    "#### 서울\n",
    "* p-value = 0.8168938172692074\n",
    "*  상관관계가 없음\n",
    "#### 부산\n",
    "* p-value = 0.712666664211392\n",
    "*  상관관계가 없음\n",
    "#### 강원\n",
    "* p-value = 0.05355735238738282\n",
    "*  상관관계가 없음\n",
    "#### 제주\n",
    "* p-value = 0.14479330086392703\n",
    "*  상관관계가 없음\n",
    "#### 인천\n",
    "* p-value = 0.10508733900841719\n",
    "*  상관관계가 없음"
   ]
  },
  {
   "cell_type": "code",
   "execution_count": 624,
   "id": "d9cc288c-57bd-407c-8f00-6d9b23439ee5",
   "metadata": {},
   "outputs": [
    {
     "data": {
      "text/plain": [
       "PearsonRResult(statistic=0.07496390711395372, pvalue=0.8168938172692074)"
      ]
     },
     "execution_count": 624,
     "metadata": {},
     "output_type": "execute_result"
    }
   ],
   "source": [
    "# pvalue > 0.05 : 상관관계가 없음\n",
    "stats.pearsonr(data_visitor_sum.query(\"지역구분 =='서울'\").sort_values(by='기준년월')['방문자_수'],data_concept_sum.query(\"목적지_유형 =='레저스포츠'\").sort_values(by='기준년월')['목적지_검색량'])"
   ]
  },
  {
   "cell_type": "code",
   "execution_count": 625,
   "id": "33805ed3-6457-4633-b925-0abe98355ea6",
   "metadata": {},
   "outputs": [
    {
     "data": {
      "text/plain": [
       "PearsonRResult(statistic=0.11897470561474566, pvalue=0.712666664211392)"
      ]
     },
     "execution_count": 625,
     "metadata": {},
     "output_type": "execute_result"
    }
   ],
   "source": [
    "# pvalue > 0.05 : 상관관계가 없음\n",
    "stats.pearsonr(data_visitor_sum.query(\"지역구분 =='부산'\").sort_values(by='기준년월')['방문자_수'],data_concept_sum.query(\"목적지_유형 =='레저스포츠'\").sort_values(by='기준년월')['목적지_검색량'])"
   ]
  },
  {
   "cell_type": "code",
   "execution_count": 626,
   "id": "962218a7-dde4-443b-8f89-df873d491c9c",
   "metadata": {},
   "outputs": [
    {
     "data": {
      "text/plain": [
       "PearsonRResult(statistic=0.5689078155657367, pvalue=0.05355735238738282)"
      ]
     },
     "execution_count": 626,
     "metadata": {},
     "output_type": "execute_result"
    }
   ],
   "source": [
    "# pvalue > 0.05 : 상관관계가 없음\n",
    "stats.pearsonr(data_visitor_sum.query(\"지역구분 =='강원'\").sort_values(by='기준년월')['방문자_수'],data_concept_sum.query(\"목적지_유형 =='레저스포츠'\").sort_values(by='기준년월')['목적지_검색량'])"
   ]
  },
  {
   "cell_type": "code",
   "execution_count": 627,
   "id": "0039a1c9-e678-4930-8fa6-14690e5fdb9e",
   "metadata": {},
   "outputs": [
    {
     "data": {
      "text/plain": [
       "PearsonRResult(statistic=0.44734687384862853, pvalue=0.14479330086392703)"
      ]
     },
     "execution_count": 627,
     "metadata": {},
     "output_type": "execute_result"
    }
   ],
   "source": [
    "# pvalue > 0.05 : 상관관계가 없음\n",
    "stats.pearsonr(data_visitor_sum.query(\"지역구분 =='제주'\").sort_values(by='기준년월')['방문자_수'],data_concept_sum.query(\"목적지_유형 =='레저스포츠'\").sort_values(by='기준년월')['목적지_검색량'])"
   ]
  },
  {
   "cell_type": "code",
   "execution_count": 628,
   "id": "943fc759-53b0-45b8-8221-e664c418ab7e",
   "metadata": {
    "scrolled": true
   },
   "outputs": [
    {
     "data": {
      "text/plain": [
       "PearsonRResult(statistic=0.49093185941249995, pvalue=0.10508733900841719)"
      ]
     },
     "execution_count": 628,
     "metadata": {},
     "output_type": "execute_result"
    }
   ],
   "source": [
    "# pvalue > 0.05 : 상관관계가 없음\n",
    "stats.pearsonr(data_visitor_sum.query(\"지역구분 =='인천'\").sort_values(by='기준년월')['방문자_수'],data_concept_sum.query(\"목적지_유형 =='레저스포츠'\").sort_values(by='기준년월')['목적지_검색량'])"
   ]
  },
  {
   "cell_type": "markdown",
   "id": "54082920-b5e5-4eb5-a167-5967f83a8392",
   "metadata": {
    "jp-MarkdownHeadingCollapsed": true
   },
   "source": [
    "### 상관계수 분석\n",
    "* 숙박 - 강원 : 0.790967\n",
    "* 음식 - 강원 : \t0.816655\n",
    "* 문화관광 - 강원 : 0.639544\n",
    "* 문화관광 - 인천 : 0.650842\n",
    "* 쇼핑 - 인천 : 0.674905\n",
    "* 쇼핑 - 부산 : 0.587946\n",
    "* 쇼핑 - 서울 : 0.57721"
   ]
  },
  {
   "cell_type": "code",
   "execution_count": 644,
   "id": "7e39b9cf-fcee-43e7-ab37-b00d85346db5",
   "metadata": {},
   "outputs": [
    {
     "data": {
      "text/html": [
       "<div>\n",
       "<style scoped>\n",
       "    .dataframe tbody tr th:only-of-type {\n",
       "        vertical-align: middle;\n",
       "    }\n",
       "\n",
       "    .dataframe tbody tr th {\n",
       "        vertical-align: top;\n",
       "    }\n",
       "\n",
       "    .dataframe thead th {\n",
       "        text-align: right;\n",
       "    }\n",
       "</style>\n",
       "<table border=\"1\" class=\"dataframe\">\n",
       "  <thead>\n",
       "    <tr style=\"text-align: right;\">\n",
       "      <th></th>\n",
       "      <th>index</th>\n",
       "      <th>0</th>\n",
       "    </tr>\n",
       "  </thead>\n",
       "  <tbody>\n",
       "    <tr>\n",
       "      <th>index</th>\n",
       "      <td>1.000000</td>\n",
       "      <td>0.790967</td>\n",
       "    </tr>\n",
       "    <tr>\n",
       "      <th>0</th>\n",
       "      <td>0.790967</td>\n",
       "      <td>1.000000</td>\n",
       "    </tr>\n",
       "  </tbody>\n",
       "</table>\n",
       "</div>"
      ],
      "text/plain": [
       "          index         0\n",
       "index  1.000000  0.790967\n",
       "0      0.790967  1.000000"
      ]
     },
     "execution_count": 644,
     "metadata": {},
     "output_type": "execute_result"
    }
   ],
   "source": [
    "# 숙박 - 강원\n",
    "pd.DataFrame(data_visitor_sum.query(\"지역구분 =='강원'\").sort_values(by='기준년월')['방문자_수'].values,data_concept_sum.query(\"목적지_유형 =='숙박'\").sort_values(by='기준년월')['목적지_검색량'].values).reset_index().corr()# pvalue < 0.05 : 상관관계가 있음"
   ]
  },
  {
   "cell_type": "code",
   "execution_count": 645,
   "id": "20922198-e114-4c67-8567-d98f661f8c85",
   "metadata": {},
   "outputs": [
    {
     "data": {
      "text/html": [
       "<div>\n",
       "<style scoped>\n",
       "    .dataframe tbody tr th:only-of-type {\n",
       "        vertical-align: middle;\n",
       "    }\n",
       "\n",
       "    .dataframe tbody tr th {\n",
       "        vertical-align: top;\n",
       "    }\n",
       "\n",
       "    .dataframe thead th {\n",
       "        text-align: right;\n",
       "    }\n",
       "</style>\n",
       "<table border=\"1\" class=\"dataframe\">\n",
       "  <thead>\n",
       "    <tr style=\"text-align: right;\">\n",
       "      <th></th>\n",
       "      <th>index</th>\n",
       "      <th>0</th>\n",
       "    </tr>\n",
       "  </thead>\n",
       "  <tbody>\n",
       "    <tr>\n",
       "      <th>index</th>\n",
       "      <td>1.000000</td>\n",
       "      <td>0.816655</td>\n",
       "    </tr>\n",
       "    <tr>\n",
       "      <th>0</th>\n",
       "      <td>0.816655</td>\n",
       "      <td>1.000000</td>\n",
       "    </tr>\n",
       "  </tbody>\n",
       "</table>\n",
       "</div>"
      ],
      "text/plain": [
       "          index         0\n",
       "index  1.000000  0.816655\n",
       "0      0.816655  1.000000"
      ]
     },
     "execution_count": 645,
     "metadata": {},
     "output_type": "execute_result"
    }
   ],
   "source": [
    "# 음식 - 강원\n",
    "pd.DataFrame(data_visitor_sum.query(\"지역구분 =='강원'\").sort_values(by='기준년월')['방문자_수'].values,data_concept_sum.query(\"목적지_유형 =='음식'\").sort_values(by='기준년월')['목적지_검색량'].values).reset_index().corr()"
   ]
  },
  {
   "cell_type": "code",
   "execution_count": 646,
   "id": "5f956a55-0d06-48a8-9c48-94581af24f24",
   "metadata": {},
   "outputs": [
    {
     "data": {
      "text/html": [
       "<div>\n",
       "<style scoped>\n",
       "    .dataframe tbody tr th:only-of-type {\n",
       "        vertical-align: middle;\n",
       "    }\n",
       "\n",
       "    .dataframe tbody tr th {\n",
       "        vertical-align: top;\n",
       "    }\n",
       "\n",
       "    .dataframe thead th {\n",
       "        text-align: right;\n",
       "    }\n",
       "</style>\n",
       "<table border=\"1\" class=\"dataframe\">\n",
       "  <thead>\n",
       "    <tr style=\"text-align: right;\">\n",
       "      <th></th>\n",
       "      <th>index</th>\n",
       "      <th>0</th>\n",
       "    </tr>\n",
       "  </thead>\n",
       "  <tbody>\n",
       "    <tr>\n",
       "      <th>index</th>\n",
       "      <td>1.000000</td>\n",
       "      <td>0.639544</td>\n",
       "    </tr>\n",
       "    <tr>\n",
       "      <th>0</th>\n",
       "      <td>0.639544</td>\n",
       "      <td>1.000000</td>\n",
       "    </tr>\n",
       "  </tbody>\n",
       "</table>\n",
       "</div>"
      ],
      "text/plain": [
       "          index         0\n",
       "index  1.000000  0.639544\n",
       "0      0.639544  1.000000"
      ]
     },
     "execution_count": 646,
     "metadata": {},
     "output_type": "execute_result"
    }
   ],
   "source": [
    "# 문화관광 - 강원\n",
    "pd.DataFrame(data_visitor_sum.query(\"지역구분 =='강원'\").sort_values(by='기준년월')['방문자_수'].values,data_concept_sum.query(\"목적지_유형 =='문화관광'\").sort_values(by='기준년월')['목적지_검색량'].values).reset_index().corr()"
   ]
  },
  {
   "cell_type": "code",
   "execution_count": 647,
   "id": "8591fa25-2911-4004-9d3d-280e8afe7281",
   "metadata": {},
   "outputs": [
    {
     "data": {
      "text/html": [
       "<div>\n",
       "<style scoped>\n",
       "    .dataframe tbody tr th:only-of-type {\n",
       "        vertical-align: middle;\n",
       "    }\n",
       "\n",
       "    .dataframe tbody tr th {\n",
       "        vertical-align: top;\n",
       "    }\n",
       "\n",
       "    .dataframe thead th {\n",
       "        text-align: right;\n",
       "    }\n",
       "</style>\n",
       "<table border=\"1\" class=\"dataframe\">\n",
       "  <thead>\n",
       "    <tr style=\"text-align: right;\">\n",
       "      <th></th>\n",
       "      <th>index</th>\n",
       "      <th>0</th>\n",
       "    </tr>\n",
       "  </thead>\n",
       "  <tbody>\n",
       "    <tr>\n",
       "      <th>index</th>\n",
       "      <td>1.000000</td>\n",
       "      <td>0.650842</td>\n",
       "    </tr>\n",
       "    <tr>\n",
       "      <th>0</th>\n",
       "      <td>0.650842</td>\n",
       "      <td>1.000000</td>\n",
       "    </tr>\n",
       "  </tbody>\n",
       "</table>\n",
       "</div>"
      ],
      "text/plain": [
       "          index         0\n",
       "index  1.000000  0.650842\n",
       "0      0.650842  1.000000"
      ]
     },
     "execution_count": 647,
     "metadata": {},
     "output_type": "execute_result"
    }
   ],
   "source": [
    "# 문화관광 - 인천\n",
    "pd.DataFrame(data_visitor_sum.query(\"지역구분 =='인천'\").sort_values(by='기준년월')['방문자_수'].values,data_concept_sum.query(\"목적지_유형 =='문화관광'\").sort_values(by='기준년월')['목적지_검색량'].values).reset_index().corr()"
   ]
  },
  {
   "cell_type": "code",
   "execution_count": 648,
   "id": "c02a45f9-ea0d-4534-9242-f02442de4f5a",
   "metadata": {},
   "outputs": [
    {
     "data": {
      "text/html": [
       "<div>\n",
       "<style scoped>\n",
       "    .dataframe tbody tr th:only-of-type {\n",
       "        vertical-align: middle;\n",
       "    }\n",
       "\n",
       "    .dataframe tbody tr th {\n",
       "        vertical-align: top;\n",
       "    }\n",
       "\n",
       "    .dataframe thead th {\n",
       "        text-align: right;\n",
       "    }\n",
       "</style>\n",
       "<table border=\"1\" class=\"dataframe\">\n",
       "  <thead>\n",
       "    <tr style=\"text-align: right;\">\n",
       "      <th></th>\n",
       "      <th>index</th>\n",
       "      <th>0</th>\n",
       "    </tr>\n",
       "  </thead>\n",
       "  <tbody>\n",
       "    <tr>\n",
       "      <th>index</th>\n",
       "      <td>1.000000</td>\n",
       "      <td>0.674905</td>\n",
       "    </tr>\n",
       "    <tr>\n",
       "      <th>0</th>\n",
       "      <td>0.674905</td>\n",
       "      <td>1.000000</td>\n",
       "    </tr>\n",
       "  </tbody>\n",
       "</table>\n",
       "</div>"
      ],
      "text/plain": [
       "          index         0\n",
       "index  1.000000  0.674905\n",
       "0      0.674905  1.000000"
      ]
     },
     "execution_count": 648,
     "metadata": {},
     "output_type": "execute_result"
    }
   ],
   "source": [
    "# 쇼핑 - 인천\n",
    "pd.DataFrame(data_visitor_sum.query(\"지역구분 =='인천'\").sort_values(by='기준년월')['방문자_수'].values,data_concept_sum.query(\"목적지_유형 =='쇼핑'\").sort_values(by='기준년월')['목적지_검색량'].values).reset_index().corr()"
   ]
  },
  {
   "cell_type": "code",
   "execution_count": 650,
   "id": "7731493a-2461-4909-8297-256cbc04eef8",
   "metadata": {},
   "outputs": [
    {
     "data": {
      "text/html": [
       "<div>\n",
       "<style scoped>\n",
       "    .dataframe tbody tr th:only-of-type {\n",
       "        vertical-align: middle;\n",
       "    }\n",
       "\n",
       "    .dataframe tbody tr th {\n",
       "        vertical-align: top;\n",
       "    }\n",
       "\n",
       "    .dataframe thead th {\n",
       "        text-align: right;\n",
       "    }\n",
       "</style>\n",
       "<table border=\"1\" class=\"dataframe\">\n",
       "  <thead>\n",
       "    <tr style=\"text-align: right;\">\n",
       "      <th></th>\n",
       "      <th>index</th>\n",
       "      <th>0</th>\n",
       "    </tr>\n",
       "  </thead>\n",
       "  <tbody>\n",
       "    <tr>\n",
       "      <th>index</th>\n",
       "      <td>1.000000</td>\n",
       "      <td>0.587946</td>\n",
       "    </tr>\n",
       "    <tr>\n",
       "      <th>0</th>\n",
       "      <td>0.587946</td>\n",
       "      <td>1.000000</td>\n",
       "    </tr>\n",
       "  </tbody>\n",
       "</table>\n",
       "</div>"
      ],
      "text/plain": [
       "          index         0\n",
       "index  1.000000  0.587946\n",
       "0      0.587946  1.000000"
      ]
     },
     "execution_count": 650,
     "metadata": {},
     "output_type": "execute_result"
    }
   ],
   "source": [
    "# 쇼핑 - 부산\n",
    "pd.DataFrame(data_visitor_sum.query(\"지역구분 =='부산'\").sort_values(by='기준년월')['방문자_수'].values,data_concept_sum.query(\"목적지_유형 =='쇼핑'\").sort_values(by='기준년월')['목적지_검색량'].values).reset_index().corr()"
   ]
  },
  {
   "cell_type": "code",
   "execution_count": 652,
   "id": "349509d0-8ea8-401c-9853-b435a3b7a407",
   "metadata": {},
   "outputs": [
    {
     "data": {
      "text/html": [
       "<div>\n",
       "<style scoped>\n",
       "    .dataframe tbody tr th:only-of-type {\n",
       "        vertical-align: middle;\n",
       "    }\n",
       "\n",
       "    .dataframe tbody tr th {\n",
       "        vertical-align: top;\n",
       "    }\n",
       "\n",
       "    .dataframe thead th {\n",
       "        text-align: right;\n",
       "    }\n",
       "</style>\n",
       "<table border=\"1\" class=\"dataframe\">\n",
       "  <thead>\n",
       "    <tr style=\"text-align: right;\">\n",
       "      <th></th>\n",
       "      <th>index</th>\n",
       "      <th>0</th>\n",
       "    </tr>\n",
       "  </thead>\n",
       "  <tbody>\n",
       "    <tr>\n",
       "      <th>index</th>\n",
       "      <td>1.00000</td>\n",
       "      <td>0.57721</td>\n",
       "    </tr>\n",
       "    <tr>\n",
       "      <th>0</th>\n",
       "      <td>0.57721</td>\n",
       "      <td>1.00000</td>\n",
       "    </tr>\n",
       "  </tbody>\n",
       "</table>\n",
       "</div>"
      ],
      "text/plain": [
       "         index        0\n",
       "index  1.00000  0.57721\n",
       "0      0.57721  1.00000"
      ]
     },
     "execution_count": 652,
     "metadata": {},
     "output_type": "execute_result"
    }
   ],
   "source": [
    "# 쇼핑 - 서울\n",
    "pd.DataFrame(data_visitor_sum.query(\"지역구분 =='서울'\").sort_values(by='기준년월')['방문자_수'].values,data_concept_sum.query(\"목적지_유형 =='쇼핑'\").sort_values(by='기준년월')['목적지_검색량'].values).reset_index().corr()"
   ]
  },
  {
   "cell_type": "markdown",
   "id": "a7d0f123-a982-4041-bc91-531609a6fa28",
   "metadata": {},
   "source": [
    "## 평가"
   ]
  },
  {
   "cell_type": "markdown",
   "id": "55185b2b-9b1b-4fb3-9887-fa2c8b8d0ecd",
   "metadata": {},
   "source": [
    "### 분석 \n",
    "* 목적지 유형 별 많이 방문한 월\n",
    "  * 숙박 : 8, 7, 12\n",
    "  * 음식 : 8, 7, 12\n",
    "  * 문화관광 : 10, 8, 9\n",
    "  * 쇼핑 : 12, 9, 10 \n",
    "  * 자연관광 : 10, 9, 8\n",
    "  * 레저스포츠 : 10, 8, 9\n",
    "* 지역 별 많이 방문한 월 \n",
    "  * 서울 : 3, 12, 9\n",
    "  * 부산 : 9, 8, 1\n",
    "  * 인천 : 9, 10, 5\n",
    "  * 강원 : 8, 7, 10\n",
    "  * 제주 : 8, 10, 1\n",
    "* 검색량과 방문객 수의 상관관계가 있는 목적지 유형과 지역\n",
    "  * 숙박 : 강원\n",
    "  * 음식 : 강원\n",
    "  * 문화관광 : 강원, 인천\n",
    "  * 쇼핑 - 인천, 부산, 서울\n",
    "  * 레저스포츠 : X\n",
    "  * 자연관광 : X"
   ]
  },
  {
   "cell_type": "markdown",
   "id": "c54f2f62-5ecb-4d65-9ef7-671c9b2c49ff",
   "metadata": {},
   "source": [
    "### 결론\n",
    "* 숙박과 음식관 관련된 관광지를 많이 방문한 8,7,12월에는 강원도를 여행지로 추천\n",
    "* 문화관광과 관련된 관광지를 많이 방문한 10, 8, 9월에는 인천, 강원도를 여행지로 추천\n",
    "* 쇼핑과 관련된 관광지를 많이 방문한 12, 9, 10월에는 인천, 서울, 부산을 여행지로 추천\n",
    "\n",
    "### 한계\n",
    "* 많이 방문한 월이 특정 달에만 집중되어 있는데, 이는 지역을 5개만 선택해서 그런것 같다.\n",
    "* 채택이 되면 더 많은 지역을 바탕으로 데이터를 수집하여 더 세부적인 여행지 추천을 제공해주겠다. "
   ]
  },
  {
   "cell_type": "code",
   "execution_count": null,
   "id": "c327f3bf-a443-433b-aa97-8ab8bc994da0",
   "metadata": {},
   "outputs": [],
   "source": []
  }
 ],
 "metadata": {
  "kernelspec": {
   "display_name": "Python 3 (ipykernel)",
   "language": "python",
   "name": "python3"
  },
  "language_info": {
   "codemirror_mode": {
    "name": "ipython",
    "version": 3
   },
   "file_extension": ".py",
   "mimetype": "text/x-python",
   "name": "python",
   "nbconvert_exporter": "python",
   "pygments_lexer": "ipython3",
   "version": "3.11.8"
  }
 },
 "nbformat": 4,
 "nbformat_minor": 5
}
