{
 "cells": [
  {
   "cell_type": "code",
   "execution_count": 152,
   "id": "13d31241-7da1-4f5c-8405-8304fe88010e",
   "metadata": {},
   "outputs": [],
   "source": [
    "\n",
    "# 경고창 무시\n",
    "import warnings\n",
    "warnings.filterwarnings('ignore')"
   ]
  },
  {
   "cell_type": "markdown",
   "id": "d6914eb8-a0f9-4f99-afb5-784941a52cd0",
   "metadata": {
    "jp-MarkdownHeadingCollapsed": true
   },
   "source": [
    "## 가설 : 지역별 유명 관광지와 상품 구매와 관련이 있다."
   ]
  },
  {
   "cell_type": "markdown",
   "id": "a8ef6ced-68f2-4717-8292-b82bbdf61be7",
   "metadata": {},
   "source": [
    "## 데이터 불러오기"
   ]
  },
  {
   "cell_type": "code",
   "execution_count": 153,
   "id": "d5a33851-f26c-40cf-8b37-d7e16ca2504f",
   "metadata": {},
   "outputs": [],
   "source": [
    "import pandas as pd\n",
    "import pymongo\n",
    "import seaborn as sns\n",
    "import numpy as np\n",
    "import matplotlib.pyplot as plt\n",
    "import matplotlib as mpl\n",
    "mpl.rc('font', family='NanumBarunGothic') # 혹은 다른 설치한 Nanum 폰트 사용\n",
    "import scipy\n",
    "import scipy.stats as stats\n",
    "\n",
    "client=pymongo.MongoClient(\"192.168.10.240\",27017)\n",
    "db= client['AI_LKJ']\n",
    "collection_consume = db['data_consume']\n",
    "collection_consume_transition = db['data_consume_transition']\n",
    "collection_attraction = db['data_attraction']\n",
    "data_consume = collection_consume.find()\n",
    "data_consume_transition = collection_consume_transition.find()\n",
    "data_attraction = collection_attraction.find()\n",
    "df_consume = pd.DataFrame(data_consume)\n",
    "df_consume_transition = pd.DataFrame(data_consume_transition)\n",
    "# df_visitor = df_concept.query(\"destination_type =='전체'\")\n",
    "# df_concept=df_concept.query(\"destination_type !='전체'\")\n",
    "df_attraction = pd.DataFrame(data_attraction)"
   ]
  },
  {
   "cell_type": "code",
   "execution_count": 154,
   "id": "849f2d7e-2add-4783-b08e-323359ebdc8a",
   "metadata": {},
   "outputs": [
    {
     "data": {
      "text/html": [
       "<div>\n",
       "<style scoped>\n",
       "    .dataframe tbody tr th:only-of-type {\n",
       "        vertical-align: middle;\n",
       "    }\n",
       "\n",
       "    .dataframe tbody tr th {\n",
       "        vertical-align: top;\n",
       "    }\n",
       "\n",
       "    .dataframe thead th {\n",
       "        text-align: right;\n",
       "    }\n",
       "</style>\n",
       "<table border=\"1\" class=\"dataframe\">\n",
       "  <thead>\n",
       "    <tr style=\"text-align: right;\">\n",
       "      <th></th>\n",
       "      <th>_id</th>\n",
       "      <th>rank</th>\n",
       "      <th>attraction_name</th>\n",
       "      <th>address</th>\n",
       "      <th>classification</th>\n",
       "      <th>attraction_search</th>\n",
       "      <th>region</th>\n",
       "      <th>std_year</th>\n",
       "    </tr>\n",
       "  </thead>\n",
       "  <tbody>\n",
       "    <tr>\n",
       "      <th>0</th>\n",
       "      <td>65e91282bb908e26c8038353</td>\n",
       "      <td>1</td>\n",
       "      <td>속초관광수산시장</td>\n",
       "      <td>강원 속초시 중앙로147번길 16-0</td>\n",
       "      <td>시장</td>\n",
       "      <td>644655</td>\n",
       "      <td>강원</td>\n",
       "      <td>2020</td>\n",
       "    </tr>\n",
       "    <tr>\n",
       "      <th>1</th>\n",
       "      <td>65e91282bb908e26c8038354</td>\n",
       "      <td>2</td>\n",
       "      <td>속초해변</td>\n",
       "      <td>강원 속초시 해오름로 186-0</td>\n",
       "      <td>자연경관(하천/해양)</td>\n",
       "      <td>276727</td>\n",
       "      <td>강원</td>\n",
       "      <td>2020</td>\n",
       "    </tr>\n",
       "    <tr>\n",
       "      <th>2</th>\n",
       "      <td>65e91282bb908e26c8038355</td>\n",
       "      <td>3</td>\n",
       "      <td>경포해변</td>\n",
       "      <td>강원 강릉시</td>\n",
       "      <td>자연경관(하천/해양)</td>\n",
       "      <td>263395</td>\n",
       "      <td>강원</td>\n",
       "      <td>2020</td>\n",
       "    </tr>\n",
       "    <tr>\n",
       "      <th>3</th>\n",
       "      <td>65e91282bb908e26c8038356</td>\n",
       "      <td>4</td>\n",
       "      <td>주문진항</td>\n",
       "      <td>강원 강릉시 해안로 1758-14</td>\n",
       "      <td>자연경관(하천/해양)</td>\n",
       "      <td>215243</td>\n",
       "      <td>강원</td>\n",
       "      <td>2020</td>\n",
       "    </tr>\n",
       "    <tr>\n",
       "      <th>4</th>\n",
       "      <td>65e91282bb908e26c8038357</td>\n",
       "      <td>5</td>\n",
       "      <td>쏠비치삼척</td>\n",
       "      <td>강원 삼척시 수로부인길 453-0</td>\n",
       "      <td>콘도미니엄</td>\n",
       "      <td>204957</td>\n",
       "      <td>강원</td>\n",
       "      <td>2020</td>\n",
       "    </tr>\n",
       "    <tr>\n",
       "      <th>...</th>\n",
       "      <td>...</td>\n",
       "      <td>...</td>\n",
       "      <td>...</td>\n",
       "      <td>...</td>\n",
       "      <td>...</td>\n",
       "      <td>...</td>\n",
       "      <td>...</td>\n",
       "      <td>...</td>\n",
       "    </tr>\n",
       "    <tr>\n",
       "      <th>13595</th>\n",
       "      <td>65e91283bb908e26c803b86e</td>\n",
       "      <td>96</td>\n",
       "      <td>듀레베이커리호암점</td>\n",
       "      <td>충북 충주시 중원대로 3250-0</td>\n",
       "      <td>간이음식</td>\n",
       "      <td>5596</td>\n",
       "      <td>충북</td>\n",
       "      <td>2023</td>\n",
       "    </tr>\n",
       "    <tr>\n",
       "      <th>13596</th>\n",
       "      <td>65e91283bb908e26c803b86f</td>\n",
       "      <td>97</td>\n",
       "      <td>오시며가시며</td>\n",
       "      <td>충북 충주시 중방곡길 56-0</td>\n",
       "      <td>한식</td>\n",
       "      <td>5591</td>\n",
       "      <td>충북</td>\n",
       "      <td>2023</td>\n",
       "    </tr>\n",
       "    <tr>\n",
       "      <th>13597</th>\n",
       "      <td>65e91283bb908e26c803b870</td>\n",
       "      <td>98</td>\n",
       "      <td>삼학도수산</td>\n",
       "      <td>충북 청주시 흥덕구 비하로 30-0</td>\n",
       "      <td>전문음식</td>\n",
       "      <td>5538</td>\n",
       "      <td>충북</td>\n",
       "      <td>2023</td>\n",
       "    </tr>\n",
       "    <tr>\n",
       "      <th>13598</th>\n",
       "      <td>65e91283bb908e26c803b871</td>\n",
       "      <td>99</td>\n",
       "      <td>청주본가청원직영점</td>\n",
       "      <td>충북 청주시 서원구 청남로 889-0</td>\n",
       "      <td>한식</td>\n",
       "      <td>5506</td>\n",
       "      <td>충북</td>\n",
       "      <td>2023</td>\n",
       "    </tr>\n",
       "    <tr>\n",
       "      <th>13599</th>\n",
       "      <td>65e91283bb908e26c803b872</td>\n",
       "      <td>100</td>\n",
       "      <td>보국가든</td>\n",
       "      <td>충북 청주시 흥덕구 심동로 654-12</td>\n",
       "      <td>한식</td>\n",
       "      <td>5495</td>\n",
       "      <td>충북</td>\n",
       "      <td>2023</td>\n",
       "    </tr>\n",
       "  </tbody>\n",
       "</table>\n",
       "<p>13600 rows × 8 columns</p>\n",
       "</div>"
      ],
      "text/plain": [
       "                            _id  rank attraction_name                address  \\\n",
       "0      65e91282bb908e26c8038353     1        속초관광수산시장   강원 속초시 중앙로147번길 16-0   \n",
       "1      65e91282bb908e26c8038354     2            속초해변      강원 속초시 해오름로 186-0   \n",
       "2      65e91282bb908e26c8038355     3            경포해변                 강원 강릉시   \n",
       "3      65e91282bb908e26c8038356     4            주문진항     강원 강릉시 해안로 1758-14   \n",
       "4      65e91282bb908e26c8038357     5           쏠비치삼척     강원 삼척시 수로부인길 453-0   \n",
       "...                         ...   ...             ...                    ...   \n",
       "13595  65e91283bb908e26c803b86e    96       듀레베이커리호암점     충북 충주시 중원대로 3250-0   \n",
       "13596  65e91283bb908e26c803b86f    97          오시며가시며       충북 충주시 중방곡길 56-0   \n",
       "13597  65e91283bb908e26c803b870    98           삼학도수산    충북 청주시 흥덕구 비하로 30-0   \n",
       "13598  65e91283bb908e26c803b871    99       청주본가청원직영점   충북 청주시 서원구 청남로 889-0   \n",
       "13599  65e91283bb908e26c803b872   100            보국가든  충북 청주시 흥덕구 심동로 654-12   \n",
       "\n",
       "      classification  attraction_search region  std_year  \n",
       "0                 시장             644655     강원      2020  \n",
       "1        자연경관(하천/해양)             276727     강원      2020  \n",
       "2        자연경관(하천/해양)             263395     강원      2020  \n",
       "3        자연경관(하천/해양)             215243     강원      2020  \n",
       "4              콘도미니엄             204957     강원      2020  \n",
       "...              ...                ...    ...       ...  \n",
       "13595           간이음식               5596     충북      2023  \n",
       "13596             한식               5591     충북      2023  \n",
       "13597           전문음식               5538     충북      2023  \n",
       "13598             한식               5506     충북      2023  \n",
       "13599             한식               5495     충북      2023  \n",
       "\n",
       "[13600 rows x 8 columns]"
      ]
     },
     "execution_count": 154,
     "metadata": {},
     "output_type": "execute_result"
    }
   ],
   "source": [
    "df_attraction"
   ]
  },
  {
   "cell_type": "code",
   "execution_count": 155,
   "id": "e8894a49-8084-4ae5-941b-9fd797f1f9fe",
   "metadata": {},
   "outputs": [
    {
     "data": {
      "text/html": [
       "<div>\n",
       "<style scoped>\n",
       "    .dataframe tbody tr th:only-of-type {\n",
       "        vertical-align: middle;\n",
       "    }\n",
       "\n",
       "    .dataframe tbody tr th {\n",
       "        vertical-align: top;\n",
       "    }\n",
       "\n",
       "    .dataframe thead th {\n",
       "        text-align: right;\n",
       "    }\n",
       "</style>\n",
       "<table border=\"1\" class=\"dataframe\">\n",
       "  <thead>\n",
       "    <tr style=\"text-align: right;\">\n",
       "      <th></th>\n",
       "      <th>_id</th>\n",
       "      <th>industry_major_cate</th>\n",
       "      <th>std_year_month</th>\n",
       "      <th>std_year</th>\n",
       "      <th>std_month</th>\n",
       "      <th>consumption_amount</th>\n",
       "      <th>region</th>\n",
       "    </tr>\n",
       "  </thead>\n",
       "  <tbody>\n",
       "    <tr>\n",
       "      <th>0</th>\n",
       "      <td>65e932a1bb908e26c804492e</td>\n",
       "      <td>전체</td>\n",
       "      <td>202012</td>\n",
       "      <td>2020</td>\n",
       "      <td>12</td>\n",
       "      <td>59888524.0</td>\n",
       "      <td>강원</td>\n",
       "    </tr>\n",
       "    <tr>\n",
       "      <th>1</th>\n",
       "      <td>65e932a1bb908e26c804492f</td>\n",
       "      <td>전체</td>\n",
       "      <td>202001</td>\n",
       "      <td>2020</td>\n",
       "      <td>1</td>\n",
       "      <td>98147222.0</td>\n",
       "      <td>강원</td>\n",
       "    </tr>\n",
       "    <tr>\n",
       "      <th>2</th>\n",
       "      <td>65e932a1bb908e26c8044930</td>\n",
       "      <td>전체</td>\n",
       "      <td>202002</td>\n",
       "      <td>2020</td>\n",
       "      <td>2</td>\n",
       "      <td>69547139.0</td>\n",
       "      <td>강원</td>\n",
       "    </tr>\n",
       "    <tr>\n",
       "      <th>3</th>\n",
       "      <td>65e932a1bb908e26c8044931</td>\n",
       "      <td>전체</td>\n",
       "      <td>202003</td>\n",
       "      <td>2020</td>\n",
       "      <td>3</td>\n",
       "      <td>62071229.0</td>\n",
       "      <td>강원</td>\n",
       "    </tr>\n",
       "    <tr>\n",
       "      <th>4</th>\n",
       "      <td>65e932a1bb908e26c8044932</td>\n",
       "      <td>전체</td>\n",
       "      <td>202004</td>\n",
       "      <td>2020</td>\n",
       "      <td>4</td>\n",
       "      <td>75022238.0</td>\n",
       "      <td>강원</td>\n",
       "    </tr>\n",
       "    <tr>\n",
       "      <th>...</th>\n",
       "      <td>...</td>\n",
       "      <td>...</td>\n",
       "      <td>...</td>\n",
       "      <td>...</td>\n",
       "      <td>...</td>\n",
       "      <td>...</td>\n",
       "      <td>...</td>\n",
       "    </tr>\n",
       "    <tr>\n",
       "      <th>5688</th>\n",
       "      <td>65e932a2bb908e26c8045f66</td>\n",
       "      <td>여가서비스업</td>\n",
       "      <td>202305</td>\n",
       "      <td>2023</td>\n",
       "      <td>5</td>\n",
       "      <td>19760050.0</td>\n",
       "      <td>충북</td>\n",
       "    </tr>\n",
       "    <tr>\n",
       "      <th>5689</th>\n",
       "      <td>65e932a2bb908e26c8045f67</td>\n",
       "      <td>쇼핑업</td>\n",
       "      <td>202305</td>\n",
       "      <td>2023</td>\n",
       "      <td>5</td>\n",
       "      <td>21217701.0</td>\n",
       "      <td>충북</td>\n",
       "    </tr>\n",
       "    <tr>\n",
       "      <th>5690</th>\n",
       "      <td>65e932a2bb908e26c8045f68</td>\n",
       "      <td>여행업</td>\n",
       "      <td>202305</td>\n",
       "      <td>2023</td>\n",
       "      <td>5</td>\n",
       "      <td>10149.0</td>\n",
       "      <td>충북</td>\n",
       "    </tr>\n",
       "    <tr>\n",
       "      <th>5691</th>\n",
       "      <td>65e932a2bb908e26c8045f69</td>\n",
       "      <td>숙박업</td>\n",
       "      <td>202305</td>\n",
       "      <td>2023</td>\n",
       "      <td>5</td>\n",
       "      <td>3267158.0</td>\n",
       "      <td>충북</td>\n",
       "    </tr>\n",
       "    <tr>\n",
       "      <th>5692</th>\n",
       "      <td>65e932a2bb908e26c8045f6a</td>\n",
       "      <td>운송업</td>\n",
       "      <td>202304</td>\n",
       "      <td>2023</td>\n",
       "      <td>4</td>\n",
       "      <td>162341.0</td>\n",
       "      <td>충북</td>\n",
       "    </tr>\n",
       "  </tbody>\n",
       "</table>\n",
       "<p>5693 rows × 7 columns</p>\n",
       "</div>"
      ],
      "text/plain": [
       "                           _id industry_major_cate  std_year_month  std_year  \\\n",
       "0     65e932a1bb908e26c804492e                  전체          202012      2020   \n",
       "1     65e932a1bb908e26c804492f                  전체          202001      2020   \n",
       "2     65e932a1bb908e26c8044930                  전체          202002      2020   \n",
       "3     65e932a1bb908e26c8044931                  전체          202003      2020   \n",
       "4     65e932a1bb908e26c8044932                  전체          202004      2020   \n",
       "...                        ...                 ...             ...       ...   \n",
       "5688  65e932a2bb908e26c8045f66              여가서비스업          202305      2023   \n",
       "5689  65e932a2bb908e26c8045f67                 쇼핑업          202305      2023   \n",
       "5690  65e932a2bb908e26c8045f68                 여행업          202305      2023   \n",
       "5691  65e932a2bb908e26c8045f69                 숙박업          202305      2023   \n",
       "5692  65e932a2bb908e26c8045f6a                 운송업          202304      2023   \n",
       "\n",
       "      std_month  consumption_amount region  \n",
       "0            12          59888524.0     강원  \n",
       "1             1          98147222.0     강원  \n",
       "2             2          69547139.0     강원  \n",
       "3             3          62071229.0     강원  \n",
       "4             4          75022238.0     강원  \n",
       "...         ...                 ...    ...  \n",
       "5688          5          19760050.0     충북  \n",
       "5689          5          21217701.0     충북  \n",
       "5690          5             10149.0     충북  \n",
       "5691          5           3267158.0     충북  \n",
       "5692          4            162341.0     충북  \n",
       "\n",
       "[5693 rows x 7 columns]"
      ]
     },
     "execution_count": 155,
     "metadata": {},
     "output_type": "execute_result"
    }
   ],
   "source": [
    "df_consume_transition"
   ]
  },
  {
   "cell_type": "code",
   "execution_count": 156,
   "id": "737ef9f4-e082-4021-843b-0ad1fe511a44",
   "metadata": {},
   "outputs": [
    {
     "data": {
      "text/html": [
       "<div>\n",
       "<style scoped>\n",
       "    .dataframe tbody tr th:only-of-type {\n",
       "        vertical-align: middle;\n",
       "    }\n",
       "\n",
       "    .dataframe tbody tr th {\n",
       "        vertical-align: top;\n",
       "    }\n",
       "\n",
       "    .dataframe thead th {\n",
       "        text-align: right;\n",
       "    }\n",
       "</style>\n",
       "<table border=\"1\" class=\"dataframe\">\n",
       "  <thead>\n",
       "    <tr style=\"text-align: right;\">\n",
       "      <th></th>\n",
       "      <th>_id</th>\n",
       "      <th>std_year</th>\n",
       "      <th>region</th>\n",
       "      <th>consumption_amount</th>\n",
       "      <th>industry_major_cate</th>\n",
       "      <th>industry_middle_cate</th>\n",
       "    </tr>\n",
       "  </thead>\n",
       "  <tbody>\n",
       "    <tr>\n",
       "      <th>0</th>\n",
       "      <td>65e912c3bb908e26c803dea3</td>\n",
       "      <td>2020</td>\n",
       "      <td>강원</td>\n",
       "      <td>2.870202e+06</td>\n",
       "      <td>쇼핑업</td>\n",
       "      <td>관광기념품</td>\n",
       "    </tr>\n",
       "    <tr>\n",
       "      <th>1</th>\n",
       "      <td>65e912c3bb908e26c803dea4</td>\n",
       "      <td>2020</td>\n",
       "      <td>강원</td>\n",
       "      <td>8.180715e+07</td>\n",
       "      <td>쇼핑업</td>\n",
       "      <td>레저용품쇼핑</td>\n",
       "    </tr>\n",
       "    <tr>\n",
       "      <th>2</th>\n",
       "      <td>65e912c3bb908e26c803dea5</td>\n",
       "      <td>2020</td>\n",
       "      <td>강원</td>\n",
       "      <td>8.001180e+07</td>\n",
       "      <td>쇼핑업</td>\n",
       "      <td>대형쇼핑몰</td>\n",
       "    </tr>\n",
       "    <tr>\n",
       "      <th>3</th>\n",
       "      <td>65e912c3bb908e26c803dea6</td>\n",
       "      <td>2020</td>\n",
       "      <td>강원</td>\n",
       "      <td>6.250369e+04</td>\n",
       "      <td>쇼핑업</td>\n",
       "      <td>면세점</td>\n",
       "    </tr>\n",
       "    <tr>\n",
       "      <th>4</th>\n",
       "      <td>65e912c3bb908e26c803dea7</td>\n",
       "      <td>2020</td>\n",
       "      <td>강원</td>\n",
       "      <td>2.938260e+07</td>\n",
       "      <td>숙박업</td>\n",
       "      <td>호텔</td>\n",
       "    </tr>\n",
       "    <tr>\n",
       "      <th>...</th>\n",
       "      <td>...</td>\n",
       "      <td>...</td>\n",
       "      <td>...</td>\n",
       "      <td>...</td>\n",
       "      <td>...</td>\n",
       "      <td>...</td>\n",
       "    </tr>\n",
       "    <tr>\n",
       "      <th>1172</th>\n",
       "      <td>65e912c3bb908e26c803e337</td>\n",
       "      <td>2023</td>\n",
       "      <td>충북</td>\n",
       "      <td>2.397506e+05</td>\n",
       "      <td>여행업</td>\n",
       "      <td>여행업</td>\n",
       "    </tr>\n",
       "    <tr>\n",
       "      <th>1173</th>\n",
       "      <td>65e912c3bb908e26c803e338</td>\n",
       "      <td>2023</td>\n",
       "      <td>충북</td>\n",
       "      <td>5.190320e+04</td>\n",
       "      <td>운송업</td>\n",
       "      <td>항공운송</td>\n",
       "    </tr>\n",
       "    <tr>\n",
       "      <th>1174</th>\n",
       "      <td>65e912c3bb908e26c803e339</td>\n",
       "      <td>2023</td>\n",
       "      <td>충북</td>\n",
       "      <td>2.589700e+05</td>\n",
       "      <td>운송업</td>\n",
       "      <td>렌터카</td>\n",
       "    </tr>\n",
       "    <tr>\n",
       "      <th>1175</th>\n",
       "      <td>65e912c3bb908e26c803e33a</td>\n",
       "      <td>2023</td>\n",
       "      <td>충북</td>\n",
       "      <td>1.114637e+06</td>\n",
       "      <td>운송업</td>\n",
       "      <td>수상운송</td>\n",
       "    </tr>\n",
       "    <tr>\n",
       "      <th>1176</th>\n",
       "      <td>65e912c3bb908e26c803e33b</td>\n",
       "      <td>2023</td>\n",
       "      <td>충북</td>\n",
       "      <td>3.024752e+04</td>\n",
       "      <td>운송업</td>\n",
       "      <td>육상운송</td>\n",
       "    </tr>\n",
       "  </tbody>\n",
       "</table>\n",
       "<p>1177 rows × 6 columns</p>\n",
       "</div>"
      ],
      "text/plain": [
       "                           _id  std_year region  consumption_amount  \\\n",
       "0     65e912c3bb908e26c803dea3      2020     강원        2.870202e+06   \n",
       "1     65e912c3bb908e26c803dea4      2020     강원        8.180715e+07   \n",
       "2     65e912c3bb908e26c803dea5      2020     강원        8.001180e+07   \n",
       "3     65e912c3bb908e26c803dea6      2020     강원        6.250369e+04   \n",
       "4     65e912c3bb908e26c803dea7      2020     강원        2.938260e+07   \n",
       "...                        ...       ...    ...                 ...   \n",
       "1172  65e912c3bb908e26c803e337      2023     충북        2.397506e+05   \n",
       "1173  65e912c3bb908e26c803e338      2023     충북        5.190320e+04   \n",
       "1174  65e912c3bb908e26c803e339      2023     충북        2.589700e+05   \n",
       "1175  65e912c3bb908e26c803e33a      2023     충북        1.114637e+06   \n",
       "1176  65e912c3bb908e26c803e33b      2023     충북        3.024752e+04   \n",
       "\n",
       "     industry_major_cate industry_middle_cate  \n",
       "0                    쇼핑업                관광기념품  \n",
       "1                    쇼핑업               레저용품쇼핑  \n",
       "2                    쇼핑업                대형쇼핑몰  \n",
       "3                    쇼핑업                  면세점  \n",
       "4                    숙박업                   호텔  \n",
       "...                  ...                  ...  \n",
       "1172                 여행업                  여행업  \n",
       "1173                 운송업                 항공운송  \n",
       "1174                 운송업                  렌터카  \n",
       "1175                 운송업                 수상운송  \n",
       "1176                 운송업                 육상운송  \n",
       "\n",
       "[1177 rows x 6 columns]"
      ]
     },
     "execution_count": 156,
     "metadata": {},
     "output_type": "execute_result"
    }
   ],
   "source": [
    "df_consume"
   ]
  },
  {
   "cell_type": "code",
   "execution_count": 157,
   "id": "770f0025-2e48-4f6d-8444-8d6f68c43cb3",
   "metadata": {},
   "outputs": [
    {
     "data": {
      "text/plain": [
       "array(['전체', '운송업', '여행업', '숙박업', '식음료업', '여가서비스업', '쇼핑업'], dtype=object)"
      ]
     },
     "execution_count": 157,
     "metadata": {},
     "output_type": "execute_result"
    }
   ],
   "source": [
    "df_consume_transition['industry_major_cate'].unique()"
   ]
  },
  {
   "cell_type": "code",
   "execution_count": 158,
   "id": "a93f069d-5fd6-4fc2-8505-efb6e507aa3d",
   "metadata": {},
   "outputs": [
    {
     "data": {
      "text/plain": [
       "array(['쇼핑업', '숙박업', '식음료업', '여가서비스업', '여행업', '운송업'], dtype=object)"
      ]
     },
     "execution_count": 158,
     "metadata": {},
     "output_type": "execute_result"
    }
   ],
   "source": [
    "df_consume['industry_major_cate'].unique()"
   ]
  },
  {
   "cell_type": "code",
   "execution_count": 159,
   "id": "726c311d-2c91-4164-8608-583fd7d4d746",
   "metadata": {},
   "outputs": [
    {
     "data": {
      "text/plain": [
       "array(['관광기념품', '레저용품쇼핑', '대형쇼핑몰', '면세점', '호텔', '콘도', '캠핑장/펜션', '기타숙박',\n",
       "       '식음료', '관광유원시설', '골프장', '기타레저', '문화서비스', '스키장', '여행업', '수상운송',\n",
       "       '렌터카', '육상운송', '항공운송', '카지노'], dtype=object)"
      ]
     },
     "execution_count": 159,
     "metadata": {},
     "output_type": "execute_result"
    }
   ],
   "source": [
    "df_consume['industry_middle_cate'].unique()"
   ]
  },
  {
   "cell_type": "code",
   "execution_count": 160,
   "id": "f48aecdd-28bf-48ca-b5a4-8d23e72a8f9d",
   "metadata": {},
   "outputs": [
    {
     "data": {
      "text/plain": [
       "array(['시장', '자연경관(하천/해양)', '콘도미니엄', '종교성지', '기타관광', '호텔', '수상레저스포츠',\n",
       "       '교통시설', '복합관광시설', '기타문화관광지', '육상레저스포츠', '랜드마크관광', '테마공원', '역사유적지',\n",
       "       '자연공원', '기타레저스포츠', '전시시설', '농/산/어촌체험', '자연경관(산)', '쇼핑몰', '백화점',\n",
       "       '도시공원', '공연시설', '대형마트', '웰니스관광', '캠핑', '레저스포츠시설', '모텔', '기타쇼핑시설',\n",
       "       '기타숙박', '데이트코스', '펜션/민박', '역사유물', '자연생태', '자연관광(산)', '면세점', '한식',\n",
       "       '음식점기타', '카페/찻집', '전문음식', '간이음식', '외국식'], dtype=object)"
      ]
     },
     "execution_count": 160,
     "metadata": {},
     "output_type": "execute_result"
    }
   ],
   "source": [
    "df_attraction['classification'].unique()"
   ]
  },
  {
   "cell_type": "markdown",
   "id": "2012e524-2cb6-480a-a88e-db8d695dba44",
   "metadata": {},
   "source": [
    "## 데이터 전처리"
   ]
  },
  {
   "cell_type": "markdown",
   "id": "553149bc-b388-4e6f-94a6-017fd886e2d3",
   "metadata": {},
   "source": [
    "### attraction 분류 : '문화관광', '자연관광', '숙박', '레저스포츠', '쇼핑', '음식'"
   ]
  },
  {
   "cell_type": "code",
   "execution_count": 161,
   "id": "258bd7c0-01a7-4b56-a1e1-60f72096adc5",
   "metadata": {},
   "outputs": [
    {
     "data": {
      "text/plain": [
       "array(['시장', '자연경관(하천/해양)', '콘도미니엄', '종교성지', '기타관광', '호텔', '수상레저스포츠',\n",
       "       '교통시설', '복합관광시설', '기타문화관광지', '육상레저스포츠', '랜드마크관광', '테마공원', '역사유적지',\n",
       "       '자연공원', '기타레저스포츠', '전시시설', '농/산/어촌체험', '자연경관(산)', '쇼핑몰', '백화점',\n",
       "       '도시공원', '공연시설', '대형마트', '웰니스관광', '캠핑', '레저스포츠시설', '모텔', '기타쇼핑시설',\n",
       "       '기타숙박', '데이트코스', '펜션/민박', '역사유물', '자연생태', '자연관광(산)', '면세점', '한식',\n",
       "       '음식점기타', '카페/찻집', '전문음식', '간이음식', '외국식'], dtype=object)"
      ]
     },
     "execution_count": 161,
     "metadata": {},
     "output_type": "execute_result"
    }
   ],
   "source": [
    "df_attraction['classification'].unique()"
   ]
  },
  {
   "cell_type": "code",
   "execution_count": 162,
   "id": "5b4245f7-ffd0-4c56-8069-e4a964ffbc07",
   "metadata": {},
   "outputs": [],
   "source": [
    "df_attraction= df_attraction.drop(df_attraction.query(\"classification =='교통시설'\").index)"
   ]
  },
  {
   "cell_type": "code",
   "execution_count": 163,
   "id": "c6e0808d-05cb-4e88-bde2-4830e580dd56",
   "metadata": {},
   "outputs": [],
   "source": [
    "df_attraction.loc[df_attraction.query(\"classification in ['카페/찻집', '간이음식', '한식', '전문음식', '외국식','음식점기타']\").index,'destination_type'] = '음식'\n",
    "# ['카페/찻집', '간이음식', '한식', '전문음식', '외국식', '음식점기타']"
   ]
  },
  {
   "cell_type": "code",
   "execution_count": 164,
   "id": "b8440739-b3a4-48ad-90f9-00a584604e49",
   "metadata": {},
   "outputs": [],
   "source": [
    "df_attraction.loc[df_attraction.query(\"classification == ['도시공원', '자연경관(하천/해양)','자연경관(산)','자연관광(산)', '자연생태','데이트코스', '자연공원','랜드마크관광']\").index,'destination_type']='자연관광'"
   ]
  },
  {
   "cell_type": "code",
   "execution_count": 165,
   "id": "71200572-69cd-403c-9731-ee748e5bcad5",
   "metadata": {},
   "outputs": [],
   "source": [
    "df_attraction.loc[df_attraction.query(\"classification == ['쇼핑몰', '백화점', '대형마트','면세점']\").index,'destination_type']='쇼핑'"
   ]
  },
  {
   "cell_type": "code",
   "execution_count": 166,
   "id": "50aee93a-1bad-4309-9028-33c139468204",
   "metadata": {},
   "outputs": [],
   "source": [
    "df_attraction.loc[df_attraction.query(\"classification == ['시장', '전시시설', '공연시설', '기타문화관광지', '테마공원','웰니스관광','농/산/어촌체험','역사유적지','종교성지']\").index,'destination_type']='문화관광'"
   ]
  },
  {
   "cell_type": "code",
   "execution_count": 167,
   "id": "b9f500be-4c0c-4b3a-af68-6cd28ee47fa8",
   "metadata": {},
   "outputs": [],
   "source": [
    "df_attraction.loc[df_attraction.query(\"classification == ['육상레저스포츠','레저스포츠시설','캠핑','수상레저스포츠', '기타레저스포츠']\").index,'destination_type']='레저스포츠'"
   ]
  },
  {
   "cell_type": "code",
   "execution_count": 168,
   "id": "c456df9e-fe10-485a-a531-a022e3c33bb9",
   "metadata": {},
   "outputs": [],
   "source": [
    "df_attraction.loc[df_attraction.query(\"classification == ['콘도미니엄', '호텔', '기타숙박']\").index,'destination_type']='숙박'"
   ]
  },
  {
   "cell_type": "code",
   "execution_count": 169,
   "id": "165d6232-9b9b-495f-8b1e-132f413c49c9",
   "metadata": {},
   "outputs": [
    {
     "data": {
      "text/plain": [
       "array(['문화관광', '자연관광', '숙박', nan, '레저스포츠', '쇼핑', '음식'], dtype=object)"
      ]
     },
     "execution_count": 169,
     "metadata": {},
     "output_type": "execute_result"
    }
   ],
   "source": [
    "df_attraction['destination_type'].unique()"
   ]
  },
  {
   "cell_type": "code",
   "execution_count": 170,
   "id": "138bc1a0-aa61-4916-996a-9cd78611cce9",
   "metadata": {
    "scrolled": true
   },
   "outputs": [
    {
     "data": {
      "text/plain": [
       "{'J호텔',\n",
       " '간월재',\n",
       " '간절곶',\n",
       " '간절곶소망우체통',\n",
       " '감천문화마을',\n",
       " '갓바위',\n",
       " '강원랜드',\n",
       " '갤러리모텔',\n",
       " '거창Y자형출렁다리',\n",
       " '경북천년숲정원',\n",
       " '경주버드파크',\n",
       " '경주양남주상절리',\n",
       " '경주화랑의언덕',\n",
       " '고석정국민관광지',\n",
       " '공구의거리',\n",
       " '공업탑',\n",
       " '광주김치타운',\n",
       " '광한루원',\n",
       " '구시청사거리',\n",
       " '국립생태원',\n",
       " '국립세종수목원연구동',\n",
       " '그랜드모텔',\n",
       " '금강보행교',\n",
       " '금강하구둑',\n",
       " '금호모텔',\n",
       " '기장해녀촌',\n",
       " '남원큰엉',\n",
       " '남해상상양떼목장편백숲',\n",
       " '내장산케이블카',\n",
       " '뉴세종모텔',\n",
       " '당산파크',\n",
       " '대관령양떼목장',\n",
       " '대둔산케이블카',\n",
       " '대왕암공원출렁다리',\n",
       " '대전신세계Art&Science',\n",
       " '도담삼봉',\n",
       " '도도리파크',\n",
       " '독일마을',\n",
       " '동의보감촌',\n",
       " '동촌유원지',\n",
       " '동피랑벽화마을',\n",
       " '두물머리',\n",
       " '등기산스카이워크',\n",
       " '등억온천지구',\n",
       " '레지던스호텔라인',\n",
       " '로얄모텔',\n",
       " '마장호수출렁다리',\n",
       " '머루와인동굴',\n",
       " '메타세쿼이아가로수길',\n",
       " '메타프로방스',\n",
       " '목포해상케이블카북항승강장',\n",
       " '무한의다리',\n",
       " '뮤즈모텔',\n",
       " '발렌타인모텔',\n",
       " '발왕산케이블카',\n",
       " '방축천음악분수',\n",
       " '백제문화단지',\n",
       " '베스트인시티호텔',\n",
       " '벽골제',\n",
       " '보롬왓',\n",
       " '보문관광단지',\n",
       " '보성녹차밭',\n",
       " '부소담악',\n",
       " '브라운도트호텔첨단점',\n",
       " '사인암',\n",
       " '사천바다케이블카대방정류장',\n",
       " '산굼부리',\n",
       " '산막이옛길',\n",
       " '삼성궁',\n",
       " '삼양대관령목장',\n",
       " '삼양라운드힐',\n",
       " '삽교호관광지',\n",
       " '샤인모텔',\n",
       " '선녀바위',\n",
       " '선바위',\n",
       " '설리스카이워크',\n",
       " '설악케이블카',\n",
       " '섬진강기차마을',\n",
       " '섭지코지',\n",
       " '세븐모텔',\n",
       " '세븐브릭스호텔',\n",
       " '세종어린이천문대',\n",
       " '세종필무인텔',\n",
       " '세천유원지',\n",
       " '속초아이대관람차',\n",
       " '송도해상케이블카',\n",
       " '송산유원지',\n",
       " '쇠소깍',\n",
       " '수성유원지',\n",
       " '수양개빛터널',\n",
       " '순창용궐산하늘길',\n",
       " '순천만국가정원',\n",
       " '순천만국가정원휴장중',\n",
       " '순천만습지',\n",
       " '순천오픈세트장',\n",
       " '스누피가든',\n",
       " '스카이무인호텔',\n",
       " '시크릿',\n",
       " '신라모텔',\n",
       " '신비의도로',\n",
       " '아난티코브',\n",
       " '안반데기',\n",
       " '앞산케이블카',\n",
       " '엑스포한빛탑',\n",
       " '여수해상케이블카놀아정류장',\n",
       " '여수해상케이블카돌산정류장',\n",
       " '영남알프스얼음골케이블카',\n",
       " '영산강6경(승촌보)승촌보문화관',\n",
       " '예당호출렁다리',\n",
       " '옐로우출렁다리',\n",
       " '옥정호출렁다리',\n",
       " '옥토끼우주센터',\n",
       " '와인터널',\n",
       " '용두암',\n",
       " '용머리해안',\n",
       " '운문댐하류보유원지',\n",
       " '원주소금산출렁다리',\n",
       " '월영교',\n",
       " '월영산출렁다리',\n",
       " '이응다리',\n",
       " '임진각',\n",
       " '자드락숲',\n",
       " '자자무인텔',\n",
       " '장생포고래문화마을',\n",
       " '저도연육교스카이워크',\n",
       " '정동원길',\n",
       " '정동진',\n",
       " '정서진',\n",
       " '제주신화월드',\n",
       " '제천옥순봉출렁다리',\n",
       " '주상절리대',\n",
       " '중문관광단지',\n",
       " '지산유원지',\n",
       " '지중해마을',\n",
       " '채계산출렁다리',\n",
       " '채석강',\n",
       " '천안상록리조트',\n",
       " '천장호출렁다리',\n",
       " '철원한탄강은하수교',\n",
       " '청남대',\n",
       " '청벽비발디펜션',\n",
       " '청자다리',\n",
       " '청풍문화재단지',\n",
       " '청풍호반케이블카',\n",
       " '촛대바위',\n",
       " '춘천삼악산호수케이블카',\n",
       " '커플링모텔',\n",
       " '탑정호출렁다리',\n",
       " '태권도원',\n",
       " '태안신두리해안사구',\n",
       " '통영케이블카',\n",
       " '파라다이스시티원더박스',\n",
       " '팔공산케이블카',\n",
       " '퍼플교',\n",
       " '펭귄마을',\n",
       " '프로방스',\n",
       " '필사랑무인텔',\n",
       " '하루모텔',\n",
       " '하슬라아트월드',\n",
       " '해상스카이워크',\n",
       " '해운대블루라인파크미포정거장',\n",
       " '헤이리예술마을',\n",
       " '헬로키티아일랜드',\n",
       " '현충사곡교천은행나무길',\n",
       " '호텔더테라스',\n",
       " '호텔세븐',\n",
       " '화원유원지휴장중',\n",
       " '황령산봉수대',\n",
       " '휘닉스평창',\n",
       " '휴휴당한옥펜션',\n",
       " '흰여울문화마을',\n",
       " '힐링빌리지펜션'}"
      ]
     },
     "execution_count": 170,
     "metadata": {},
     "output_type": "execute_result"
    }
   ],
   "source": [
    "set(df_attraction.loc[df_attraction['destination_type'].isna(),'attraction_name'].to_list())"
   ]
  },
  {
   "cell_type": "code",
   "execution_count": 171,
   "id": "f5c5b591-3473-417b-b962-6338c6462a14",
   "metadata": {},
   "outputs": [],
   "source": [
    "df_attraction.loc[df_attraction.loc[df_attraction['attraction_name'].isin(['정동진','송산유원지','운문댐하류보유원지','송산유원지','지산유원지','동촌유원지','수성유원지','세천유원지','산굼부리','벽골제','간월재','간절곶','간절곶소망우체통','갓바위','거창Y자형출렁다리','경북천년숲정원','경주양남주상절리','경주화랑의언덕','남원큰엉','내장산케이블카','대둔산케이블카','대왕암공원출렁다리','도도리파크','두물머리','등기산 스카이워크','마장호수 출렁다리','머루와인 동굴','보성 녹차밭','보롬왓','부소담악','발왕산 케이블카','목포해상케이블카 북항승강장','사인암','사천바다케이블카대방정류장','산막이옛길','삼성궁','삼양라운드힐','선녀바위','선바위','설악케이블카','섭지코지','송도해상케이블카','쇠소깍','순창용궐산하늘길','순천만습지','신비의도로','안반데기','앞산케이블카','여수해상케이블카놀아정류장','여수해상케이블카돌산정류장','영남알프스얼음골케이블카','예당호출렁다리','옐로우출렁다리','옥정호출렁다리','용두암','용머리해안','원주소금산출렁다리','월영교','월영산출렁다리','마장호수출렁다리','이응다리','머루와인동굴','메타세쿼이아가로수길','보성녹차밭','발왕산케이블카','목포해상케이블카북항승강장','임진각','자드락숲','정동원길','정서진','제천옥순봉출렁다리','주상절리대','채계산출렁다리','채석강','천장호출렁다리','철원한탄강은하수교','청남대','청자다리','청풍호반케이블카','촛대바위','춘천삼악산호수케이블카','탑정호출렁다리','태안신두리해안사구','통영케이블카','팔공산케이블카','퍼플교','현충사곡교천은행나무길','황령산봉수대'])].index,\"destination_type\"] = '자연관광'"
   ]
  },
  {
   "cell_type": "code",
   "execution_count": 172,
   "id": "613015e9-eaf7-41dd-bfc7-d5384c68a92c",
   "metadata": {},
   "outputs": [],
   "source": [
    "df_attraction.loc[df_attraction.loc[df_attraction['attraction_name'].isin(['고석정국민관광지','보문관광단지','등억온천지구','메타프로방스','중문관광단지','삽교호관광지','청풍문화재단지','하슬라아트월드','강원랜드','백제문화단지','경주버드파크','파라다이스시티원더박스','감천문화마을','공구의거리','공업탑','광주김치타운','광한루원','구시청사거리','국립생태원','국립세종수목원연구동','금강보행교','금강하구둑','기장해녀촌','남해상상양떼목장편백숲','대관령양떼목장','독일마을','동의보감촌','동피랑벽화마을','방축천 음악분수','메타세쿼이아 가로수길','삼양대관령목장','설리스카이워크','섬진강기차마을','세종어린이천문대','수양개빛터널','순천만국가정원','순천오픈세트장','스누피가든','엑스포한빛탑','영산강6경(승촌보)승촌보문화관','옥토끼우주센터','와인터널','장생포고래문화마을','지중해마을','태권도원','펭귄마을','방축천음악분수','저도연육교스카이워크','해상스카이워크','등기산스카이워크','해운대블루라인파크미포정거장','무한의다리','헤이리예술마을','헬로키티아일랜드','흰여울문화마을'])].index,\"destination_type\"] = '문화관광'"
   ]
  },
  {
   "cell_type": "code",
   "execution_count": 173,
   "id": "c6dbd5cf-a63d-4dc5-b0b5-b352e0f96aa2",
   "metadata": {},
   "outputs": [],
   "source": [
    "df_attraction.loc[df_attraction.loc[df_attraction['attraction_name'].isin(['휘닉스평창','레지던스호텔라인','브라운도트호텔첨단점','아난티코브','제주신화월드','천안상록리조트','J호텔','갤러리모텔','그랜드모텔','금호모텔','뉴세종모텔','당산파크','도담삼봉','레지던스 호텔라인','로얄모텔','뮤즈모텔','발렌타인모텔','브라운도트호텔 첨단점','베스트인시티호텔','샤인모텔','세븐모텔','세븐브릭스호텔','세종필무인텔','스카이무인호텔','시크릿','신라모텔','자자무인텔','청벽비발디펜션','커플링모텔','프로방스','필사랑무인텔','하루모텔','호텔더테라스','호텔세븐','휴휴당한옥펜션',\n",
    "'힐링빌리지펜션'])].index,\"destination_type\"] = '숙박'"
   ]
  },
  {
   "cell_type": "code",
   "execution_count": 174,
   "id": "715df47d-e8e2-44a9-a47e-cc6c59d94751",
   "metadata": {},
   "outputs": [],
   "source": [
    "df_attraction.loc[df_attraction.loc[df_attraction['attraction_name'].isin(['대전신세계Art&Science',])].index,\"destination_type\"] = '쇼핑'"
   ]
  },
  {
   "cell_type": "code",
   "execution_count": 175,
   "id": "ae31bc5b-7a4a-450a-9b19-f5fb771614c2",
   "metadata": {},
   "outputs": [],
   "source": [
    "df_attraction.dropna(subset=['destination_type'], inplace=True)"
   ]
  },
  {
   "cell_type": "code",
   "execution_count": 176,
   "id": "c9079152-8736-4ea3-b11d-d726f5de03ef",
   "metadata": {},
   "outputs": [
    {
     "data": {
      "text/plain": [
       "_id                  0\n",
       "rank                 0\n",
       "attraction_name      0\n",
       "address              0\n",
       "classification       0\n",
       "attraction_search    0\n",
       "region               0\n",
       "std_year             0\n",
       "destination_type     0\n",
       "dtype: int64"
      ]
     },
     "execution_count": 176,
     "metadata": {},
     "output_type": "execute_result"
    }
   ],
   "source": [
    "df_attraction.isnull().sum()"
   ]
  },
  {
   "cell_type": "code",
   "execution_count": 177,
   "id": "b7f6e4a3-ca9c-4c7f-b8ae-cc4b26a8a651",
   "metadata": {
    "scrolled": true
   },
   "outputs": [
    {
     "data": {
      "text/html": [
       "<div>\n",
       "<style scoped>\n",
       "    .dataframe tbody tr th:only-of-type {\n",
       "        vertical-align: middle;\n",
       "    }\n",
       "\n",
       "    .dataframe tbody tr th {\n",
       "        vertical-align: top;\n",
       "    }\n",
       "\n",
       "    .dataframe thead th {\n",
       "        text-align: right;\n",
       "    }\n",
       "</style>\n",
       "<table border=\"1\" class=\"dataframe\">\n",
       "  <thead>\n",
       "    <tr style=\"text-align: right;\">\n",
       "      <th></th>\n",
       "      <th>region</th>\n",
       "      <th>destination_type</th>\n",
       "      <th>attraction_search</th>\n",
       "    </tr>\n",
       "  </thead>\n",
       "  <tbody>\n",
       "    <tr>\n",
       "      <th>0</th>\n",
       "      <td>강원</td>\n",
       "      <td>문화관광</td>\n",
       "      <td>9738098</td>\n",
       "    </tr>\n",
       "    <tr>\n",
       "      <th>1</th>\n",
       "      <td>강원</td>\n",
       "      <td>자연관광</td>\n",
       "      <td>10257543</td>\n",
       "    </tr>\n",
       "    <tr>\n",
       "      <th>2</th>\n",
       "      <td>강원</td>\n",
       "      <td>숙박</td>\n",
       "      <td>9301901</td>\n",
       "    </tr>\n",
       "    <tr>\n",
       "      <th>3</th>\n",
       "      <td>강원</td>\n",
       "      <td>레저스포츠</td>\n",
       "      <td>2744666</td>\n",
       "    </tr>\n",
       "    <tr>\n",
       "      <th>4</th>\n",
       "      <td>강원</td>\n",
       "      <td>쇼핑</td>\n",
       "      <td>0</td>\n",
       "    </tr>\n",
       "    <tr>\n",
       "      <th>...</th>\n",
       "      <td>...</td>\n",
       "      <td>...</td>\n",
       "      <td>...</td>\n",
       "    </tr>\n",
       "    <tr>\n",
       "      <th>97</th>\n",
       "      <td>충북</td>\n",
       "      <td>자연관광</td>\n",
       "      <td>2985789</td>\n",
       "    </tr>\n",
       "    <tr>\n",
       "      <th>98</th>\n",
       "      <td>충북</td>\n",
       "      <td>숙박</td>\n",
       "      <td>1377916</td>\n",
       "    </tr>\n",
       "    <tr>\n",
       "      <th>99</th>\n",
       "      <td>충북</td>\n",
       "      <td>레저스포츠</td>\n",
       "      <td>4896847</td>\n",
       "    </tr>\n",
       "    <tr>\n",
       "      <th>100</th>\n",
       "      <td>충북</td>\n",
       "      <td>쇼핑</td>\n",
       "      <td>927965</td>\n",
       "    </tr>\n",
       "    <tr>\n",
       "      <th>101</th>\n",
       "      <td>충북</td>\n",
       "      <td>음식</td>\n",
       "      <td>3526012</td>\n",
       "    </tr>\n",
       "  </tbody>\n",
       "</table>\n",
       "<p>102 rows × 3 columns</p>\n",
       "</div>"
      ],
      "text/plain": [
       "    region destination_type  attraction_search\n",
       "0       강원             문화관광            9738098\n",
       "1       강원             자연관광           10257543\n",
       "2       강원               숙박            9301901\n",
       "3       강원            레저스포츠            2744666\n",
       "4       강원               쇼핑                  0\n",
       "..     ...              ...                ...\n",
       "97      충북             자연관광            2985789\n",
       "98      충북               숙박            1377916\n",
       "99      충북            레저스포츠            4896847\n",
       "100     충북               쇼핑             927965\n",
       "101     충북               음식            3526012\n",
       "\n",
       "[102 rows x 3 columns]"
      ]
     },
     "execution_count": 177,
     "metadata": {},
     "output_type": "execute_result"
    }
   ],
   "source": [
    "list_data = []\n",
    "for x in list(df_attraction['region'].unique()):\n",
    "    for y in list(df_attraction['destination_type'].unique()):\n",
    "        data_dict = {}\n",
    "        data_dict['region']=x\n",
    "        data_dict['destination_type']=y\n",
    "        data_dict['attraction_search']=df_attraction.loc[(df_attraction['region']==x) & (df_attraction['destination_type']==y),'attraction_search'].sum()\n",
    "        list_data.append(data_dict)\n",
    "data_attraction_sum = pd.DataFrame(data=list_data)\n",
    "data_attraction_sum"
   ]
  },
  {
   "cell_type": "code",
   "execution_count": 178,
   "id": "67e154c7-97d4-4b69-9999-0a7a0fbbd890",
   "metadata": {},
   "outputs": [
    {
     "data": {
      "text/plain": [
       "array(['문화관광', '자연관광', '숙박', '레저스포츠', '쇼핑', '음식'], dtype=object)"
      ]
     },
     "execution_count": 178,
     "metadata": {},
     "output_type": "execute_result"
    }
   ],
   "source": [
    "data_attraction_sum['destination_type'].unique()"
   ]
  },
  {
   "cell_type": "markdown",
   "id": "6f4effc6-b793-4d59-be62-07bf6e4861d2",
   "metadata": {},
   "source": [
    "### consume 분류 : '기타', '레저스포츠', '쇼핑', '숙박', '음식', '자연관광', '문화관광'"
   ]
  },
  {
   "cell_type": "code",
   "execution_count": 179,
   "id": "f9a5a62c-330d-4ce3-b338-f56a15d788cd",
   "metadata": {},
   "outputs": [],
   "source": [
    "df_consume.loc[df_consume.query(\"industry_middle_cate in ['레저용품쇼핑','캠핑장/펜션','골프장','기타레저','스키장']\").index,'industry_type'] = '레저스포츠'"
   ]
  },
  {
   "cell_type": "code",
   "execution_count": 180,
   "id": "033b90d4-0561-41b1-8fc6-d37d42edc519",
   "metadata": {},
   "outputs": [],
   "source": [
    "df_consume.loc[df_consume.query(\"industry_middle_cate in ['대형쇼핑몰','면세점']\").index,'industry_type'] = '쇼핑'"
   ]
  },
  {
   "cell_type": "code",
   "execution_count": 181,
   "id": "60ff5caf-c38a-41e6-8524-8bd270c7291a",
   "metadata": {},
   "outputs": [],
   "source": [
    "df_consume.loc[df_consume.query(\"industry_middle_cate in ['문화서비스','카지노']\").index,'industry_type'] = '문화관광'"
   ]
  },
  {
   "cell_type": "code",
   "execution_count": 182,
   "id": "060a4dd2-2d27-417e-92b8-b8fec31e0f80",
   "metadata": {},
   "outputs": [],
   "source": [
    "df_consume.loc[df_consume.query(\"industry_middle_cate in ['호텔','콘도','기타숙박']\").index,'industry_type'] = '숙박'"
   ]
  },
  {
   "cell_type": "code",
   "execution_count": 183,
   "id": "19d70185-c56a-4216-b1c3-99b6638ac6b5",
   "metadata": {},
   "outputs": [],
   "source": [
    "df_consume.loc[df_consume.query(\"industry_middle_cate in ['식음료']\").index,'industry_type'] = '음식'"
   ]
  },
  {
   "cell_type": "code",
   "execution_count": 184,
   "id": "0ddb1317-87e2-4e6d-a104-ba17a1fcaa6d",
   "metadata": {},
   "outputs": [],
   "source": [
    "df_consume.loc[df_consume.query(\"industry_middle_cate in ['관광유원시설']\").index,'industry_type'] = '자연관광'"
   ]
  },
  {
   "cell_type": "code",
   "execution_count": 185,
   "id": "d1cfffbb-8e78-4d53-9ac0-fe45c511a286",
   "metadata": {},
   "outputs": [],
   "source": [
    "df_consume.loc[df_consume.query(\"industry_middle_cate in ['수상운송','렌터카','육상운송','항공운송','관광기념품','여행업']\").index,'industry_type'] = '기타'"
   ]
  },
  {
   "cell_type": "code",
   "execution_count": 186,
   "id": "0b931297-823d-4833-b01a-ef8d941ccfca",
   "metadata": {},
   "outputs": [],
   "source": [
    "df_consume = df_consume.query(\"industry_type != '기타'\")"
   ]
  },
  {
   "cell_type": "code",
   "execution_count": 187,
   "id": "b82e5df5-ee45-4ac6-8aac-596d9d42e314",
   "metadata": {},
   "outputs": [
    {
     "data": {
      "text/plain": [
       "array(['레저스포츠', '쇼핑', '숙박', '음식', '자연관광', '문화관광'], dtype=object)"
      ]
     },
     "execution_count": 187,
     "metadata": {},
     "output_type": "execute_result"
    }
   ],
   "source": [
    "df_consume['industry_type'].unique()"
   ]
  },
  {
   "cell_type": "markdown",
   "id": "25749e0d-e6f4-4141-bf29-0f60a9d1d0c7",
   "metadata": {},
   "source": [
    "## DDA & EDA"
   ]
  },
  {
   "cell_type": "markdown",
   "id": "54e9fde9-f7ac-40e7-a89d-be49d5fef99a",
   "metadata": {
    "jp-MarkdownHeadingCollapsed": true
   },
   "source": [
    "### 관광지 유형별 전국 관광지 방문객 수 분포 비율"
   ]
  },
  {
   "cell_type": "code",
   "execution_count": 188,
   "id": "a901cf87-4046-48de-89c7-5ab737bcc105",
   "metadata": {},
   "outputs": [
    {
     "data": {
      "text/html": [
       "<div>\n",
       "<style scoped>\n",
       "    .dataframe tbody tr th:only-of-type {\n",
       "        vertical-align: middle;\n",
       "    }\n",
       "\n",
       "    .dataframe tbody tr th {\n",
       "        vertical-align: top;\n",
       "    }\n",
       "\n",
       "    .dataframe thead th {\n",
       "        text-align: right;\n",
       "    }\n",
       "</style>\n",
       "<table border=\"1\" class=\"dataframe\">\n",
       "  <thead>\n",
       "    <tr style=\"text-align: right;\">\n",
       "      <th>destination_type</th>\n",
       "      <th>레저스포츠</th>\n",
       "      <th>문화관광</th>\n",
       "      <th>쇼핑</th>\n",
       "      <th>숙박</th>\n",
       "      <th>음식</th>\n",
       "      <th>자연관광</th>\n",
       "    </tr>\n",
       "    <tr>\n",
       "      <th>region</th>\n",
       "      <th></th>\n",
       "      <th></th>\n",
       "      <th></th>\n",
       "      <th></th>\n",
       "      <th></th>\n",
       "      <th></th>\n",
       "    </tr>\n",
       "  </thead>\n",
       "  <tbody>\n",
       "    <tr>\n",
       "      <th>강원</th>\n",
       "      <td>2744666.0</td>\n",
       "      <td>9738098.0</td>\n",
       "      <td>NaN</td>\n",
       "      <td>9301901.0</td>\n",
       "      <td>10524341.0</td>\n",
       "      <td>10257543.0</td>\n",
       "    </tr>\n",
       "    <tr>\n",
       "      <th>경기</th>\n",
       "      <td>2890460.0</td>\n",
       "      <td>14317403.0</td>\n",
       "      <td>48918389.0</td>\n",
       "      <td>866923.0</td>\n",
       "      <td>15162870.0</td>\n",
       "      <td>10475938.0</td>\n",
       "    </tr>\n",
       "    <tr>\n",
       "      <th>경남</th>\n",
       "      <td>2146843.0</td>\n",
       "      <td>6600853.0</td>\n",
       "      <td>2392445.0</td>\n",
       "      <td>1348966.0</td>\n",
       "      <td>4108589.0</td>\n",
       "      <td>2668337.0</td>\n",
       "    </tr>\n",
       "    <tr>\n",
       "      <th>경북</th>\n",
       "      <td>1879754.0</td>\n",
       "      <td>7426833.0</td>\n",
       "      <td>173009.0</td>\n",
       "      <td>1870344.0</td>\n",
       "      <td>5065397.0</td>\n",
       "      <td>3621794.0</td>\n",
       "    </tr>\n",
       "    <tr>\n",
       "      <th>광주</th>\n",
       "      <td>349171.0</td>\n",
       "      <td>2136170.0</td>\n",
       "      <td>1732516.0</td>\n",
       "      <td>508094.0</td>\n",
       "      <td>2276342.0</td>\n",
       "      <td>441888.0</td>\n",
       "    </tr>\n",
       "    <tr>\n",
       "      <th>대구</th>\n",
       "      <td>489501.0</td>\n",
       "      <td>3899587.0</td>\n",
       "      <td>3930381.0</td>\n",
       "      <td>1034349.0</td>\n",
       "      <td>3285110.0</td>\n",
       "      <td>1990408.0</td>\n",
       "    </tr>\n",
       "    <tr>\n",
       "      <th>대전</th>\n",
       "      <td>640613.0</td>\n",
       "      <td>1917585.0</td>\n",
       "      <td>4037354.0</td>\n",
       "      <td>994710.0</td>\n",
       "      <td>3740999.0</td>\n",
       "      <td>1241020.0</td>\n",
       "    </tr>\n",
       "    <tr>\n",
       "      <th>부산</th>\n",
       "      <td>1120255.0</td>\n",
       "      <td>6225144.0</td>\n",
       "      <td>9010754.0</td>\n",
       "      <td>2966147.0</td>\n",
       "      <td>5844877.0</td>\n",
       "      <td>5981596.0</td>\n",
       "    </tr>\n",
       "    <tr>\n",
       "      <th>서울</th>\n",
       "      <td>818317.0</td>\n",
       "      <td>13789047.0</td>\n",
       "      <td>29481866.0</td>\n",
       "      <td>7219625.0</td>\n",
       "      <td>8221779.0</td>\n",
       "      <td>6606251.0</td>\n",
       "    </tr>\n",
       "    <tr>\n",
       "      <th>세종</th>\n",
       "      <td>552045.0</td>\n",
       "      <td>1336886.0</td>\n",
       "      <td>96362.0</td>\n",
       "      <td>264232.0</td>\n",
       "      <td>2654369.0</td>\n",
       "      <td>853113.0</td>\n",
       "    </tr>\n",
       "    <tr>\n",
       "      <th>울산</th>\n",
       "      <td>615157.0</td>\n",
       "      <td>1468137.0</td>\n",
       "      <td>1104535.0</td>\n",
       "      <td>496528.0</td>\n",
       "      <td>2211646.0</td>\n",
       "      <td>2510582.0</td>\n",
       "    </tr>\n",
       "    <tr>\n",
       "      <th>인천</th>\n",
       "      <td>2362901.0</td>\n",
       "      <td>6631686.0</td>\n",
       "      <td>5789551.0</td>\n",
       "      <td>2576608.0</td>\n",
       "      <td>7597506.0</td>\n",
       "      <td>9970233.0</td>\n",
       "    </tr>\n",
       "    <tr>\n",
       "      <th>전남</th>\n",
       "      <td>1161617.0</td>\n",
       "      <td>3603443.0</td>\n",
       "      <td>498887.0</td>\n",
       "      <td>1869836.0</td>\n",
       "      <td>4959672.0</td>\n",
       "      <td>4099961.0</td>\n",
       "    </tr>\n",
       "    <tr>\n",
       "      <th>전북</th>\n",
       "      <td>1372462.0</td>\n",
       "      <td>3730702.0</td>\n",
       "      <td>573571.0</td>\n",
       "      <td>1209553.0</td>\n",
       "      <td>3926896.0</td>\n",
       "      <td>2787978.0</td>\n",
       "    </tr>\n",
       "    <tr>\n",
       "      <th>제주</th>\n",
       "      <td>736423.0</td>\n",
       "      <td>4591529.0</td>\n",
       "      <td>148212.0</td>\n",
       "      <td>4091583.0</td>\n",
       "      <td>7072096.0</td>\n",
       "      <td>8530982.0</td>\n",
       "    </tr>\n",
       "    <tr>\n",
       "      <th>충남</th>\n",
       "      <td>1485952.0</td>\n",
       "      <td>6454280.0</td>\n",
       "      <td>1819608.0</td>\n",
       "      <td>1397756.0</td>\n",
       "      <td>5031953.0</td>\n",
       "      <td>6924783.0</td>\n",
       "    </tr>\n",
       "    <tr>\n",
       "      <th>충북</th>\n",
       "      <td>4896847.0</td>\n",
       "      <td>1972155.0</td>\n",
       "      <td>927965.0</td>\n",
       "      <td>1377916.0</td>\n",
       "      <td>3526012.0</td>\n",
       "      <td>2985789.0</td>\n",
       "    </tr>\n",
       "  </tbody>\n",
       "</table>\n",
       "</div>"
      ],
      "text/plain": [
       "destination_type      레저스포츠        문화관광          쇼핑         숙박          음식  \\\n",
       "region                                                                       \n",
       "강원                2744666.0   9738098.0         NaN  9301901.0  10524341.0   \n",
       "경기                2890460.0  14317403.0  48918389.0   866923.0  15162870.0   \n",
       "경남                2146843.0   6600853.0   2392445.0  1348966.0   4108589.0   \n",
       "경북                1879754.0   7426833.0    173009.0  1870344.0   5065397.0   \n",
       "광주                 349171.0   2136170.0   1732516.0   508094.0   2276342.0   \n",
       "대구                 489501.0   3899587.0   3930381.0  1034349.0   3285110.0   \n",
       "대전                 640613.0   1917585.0   4037354.0   994710.0   3740999.0   \n",
       "부산                1120255.0   6225144.0   9010754.0  2966147.0   5844877.0   \n",
       "서울                 818317.0  13789047.0  29481866.0  7219625.0   8221779.0   \n",
       "세종                 552045.0   1336886.0     96362.0   264232.0   2654369.0   \n",
       "울산                 615157.0   1468137.0   1104535.0   496528.0   2211646.0   \n",
       "인천                2362901.0   6631686.0   5789551.0  2576608.0   7597506.0   \n",
       "전남                1161617.0   3603443.0    498887.0  1869836.0   4959672.0   \n",
       "전북                1372462.0   3730702.0    573571.0  1209553.0   3926896.0   \n",
       "제주                 736423.0   4591529.0    148212.0  4091583.0   7072096.0   \n",
       "충남                1485952.0   6454280.0   1819608.0  1397756.0   5031953.0   \n",
       "충북                4896847.0   1972155.0    927965.0  1377916.0   3526012.0   \n",
       "\n",
       "destination_type        자연관광  \n",
       "region                        \n",
       "강원                10257543.0  \n",
       "경기                10475938.0  \n",
       "경남                 2668337.0  \n",
       "경북                 3621794.0  \n",
       "광주                  441888.0  \n",
       "대구                 1990408.0  \n",
       "대전                 1241020.0  \n",
       "부산                 5981596.0  \n",
       "서울                 6606251.0  \n",
       "세종                  853113.0  \n",
       "울산                 2510582.0  \n",
       "인천                 9970233.0  \n",
       "전남                 4099961.0  \n",
       "전북                 2787978.0  \n",
       "제주                 8530982.0  \n",
       "충남                 6924783.0  \n",
       "충북                 2985789.0  "
      ]
     },
     "execution_count": 188,
     "metadata": {},
     "output_type": "execute_result"
    }
   ],
   "source": [
    "pivot_attraction=pd.pivot_table(data=df_attraction,index=\"region\",columns = \"destination_type\",values='attraction_search',aggfunc='sum')\n",
    "pivot_attraction"
   ]
  },
  {
   "cell_type": "code",
   "execution_count": 189,
   "id": "98388f1d-07c9-459a-9c92-9a35f9319b76",
   "metadata": {},
   "outputs": [
    {
     "data": {
      "text/html": [
       "<div>\n",
       "<style scoped>\n",
       "    .dataframe tbody tr th:only-of-type {\n",
       "        vertical-align: middle;\n",
       "    }\n",
       "\n",
       "    .dataframe tbody tr th {\n",
       "        vertical-align: top;\n",
       "    }\n",
       "\n",
       "    .dataframe thead th {\n",
       "        text-align: right;\n",
       "    }\n",
       "</style>\n",
       "<table border=\"1\" class=\"dataframe\">\n",
       "  <thead>\n",
       "    <tr style=\"text-align: right;\">\n",
       "      <th>destination_type</th>\n",
       "      <th>레저스포츠</th>\n",
       "      <th>문화관광</th>\n",
       "      <th>쇼핑</th>\n",
       "      <th>숙박</th>\n",
       "      <th>음식</th>\n",
       "      <th>자연관광</th>\n",
       "    </tr>\n",
       "    <tr>\n",
       "      <th>region</th>\n",
       "      <th></th>\n",
       "      <th></th>\n",
       "      <th></th>\n",
       "      <th></th>\n",
       "      <th></th>\n",
       "      <th></th>\n",
       "    </tr>\n",
       "  </thead>\n",
       "  <tbody>\n",
       "    <tr>\n",
       "      <th>강원</th>\n",
       "      <td>2744666.0</td>\n",
       "      <td>9738098.0</td>\n",
       "      <td>0.0</td>\n",
       "      <td>9301901.0</td>\n",
       "      <td>10524341.0</td>\n",
       "      <td>10257543.0</td>\n",
       "    </tr>\n",
       "    <tr>\n",
       "      <th>경기</th>\n",
       "      <td>2890460.0</td>\n",
       "      <td>14317403.0</td>\n",
       "      <td>48918389.0</td>\n",
       "      <td>866923.0</td>\n",
       "      <td>15162870.0</td>\n",
       "      <td>10475938.0</td>\n",
       "    </tr>\n",
       "    <tr>\n",
       "      <th>경남</th>\n",
       "      <td>2146843.0</td>\n",
       "      <td>6600853.0</td>\n",
       "      <td>2392445.0</td>\n",
       "      <td>1348966.0</td>\n",
       "      <td>4108589.0</td>\n",
       "      <td>2668337.0</td>\n",
       "    </tr>\n",
       "    <tr>\n",
       "      <th>경북</th>\n",
       "      <td>1879754.0</td>\n",
       "      <td>7426833.0</td>\n",
       "      <td>173009.0</td>\n",
       "      <td>1870344.0</td>\n",
       "      <td>5065397.0</td>\n",
       "      <td>3621794.0</td>\n",
       "    </tr>\n",
       "    <tr>\n",
       "      <th>광주</th>\n",
       "      <td>349171.0</td>\n",
       "      <td>2136170.0</td>\n",
       "      <td>1732516.0</td>\n",
       "      <td>508094.0</td>\n",
       "      <td>2276342.0</td>\n",
       "      <td>441888.0</td>\n",
       "    </tr>\n",
       "    <tr>\n",
       "      <th>대구</th>\n",
       "      <td>489501.0</td>\n",
       "      <td>3899587.0</td>\n",
       "      <td>3930381.0</td>\n",
       "      <td>1034349.0</td>\n",
       "      <td>3285110.0</td>\n",
       "      <td>1990408.0</td>\n",
       "    </tr>\n",
       "    <tr>\n",
       "      <th>대전</th>\n",
       "      <td>640613.0</td>\n",
       "      <td>1917585.0</td>\n",
       "      <td>4037354.0</td>\n",
       "      <td>994710.0</td>\n",
       "      <td>3740999.0</td>\n",
       "      <td>1241020.0</td>\n",
       "    </tr>\n",
       "    <tr>\n",
       "      <th>부산</th>\n",
       "      <td>1120255.0</td>\n",
       "      <td>6225144.0</td>\n",
       "      <td>9010754.0</td>\n",
       "      <td>2966147.0</td>\n",
       "      <td>5844877.0</td>\n",
       "      <td>5981596.0</td>\n",
       "    </tr>\n",
       "    <tr>\n",
       "      <th>서울</th>\n",
       "      <td>818317.0</td>\n",
       "      <td>13789047.0</td>\n",
       "      <td>29481866.0</td>\n",
       "      <td>7219625.0</td>\n",
       "      <td>8221779.0</td>\n",
       "      <td>6606251.0</td>\n",
       "    </tr>\n",
       "    <tr>\n",
       "      <th>세종</th>\n",
       "      <td>552045.0</td>\n",
       "      <td>1336886.0</td>\n",
       "      <td>96362.0</td>\n",
       "      <td>264232.0</td>\n",
       "      <td>2654369.0</td>\n",
       "      <td>853113.0</td>\n",
       "    </tr>\n",
       "    <tr>\n",
       "      <th>울산</th>\n",
       "      <td>615157.0</td>\n",
       "      <td>1468137.0</td>\n",
       "      <td>1104535.0</td>\n",
       "      <td>496528.0</td>\n",
       "      <td>2211646.0</td>\n",
       "      <td>2510582.0</td>\n",
       "    </tr>\n",
       "    <tr>\n",
       "      <th>인천</th>\n",
       "      <td>2362901.0</td>\n",
       "      <td>6631686.0</td>\n",
       "      <td>5789551.0</td>\n",
       "      <td>2576608.0</td>\n",
       "      <td>7597506.0</td>\n",
       "      <td>9970233.0</td>\n",
       "    </tr>\n",
       "    <tr>\n",
       "      <th>전남</th>\n",
       "      <td>1161617.0</td>\n",
       "      <td>3603443.0</td>\n",
       "      <td>498887.0</td>\n",
       "      <td>1869836.0</td>\n",
       "      <td>4959672.0</td>\n",
       "      <td>4099961.0</td>\n",
       "    </tr>\n",
       "    <tr>\n",
       "      <th>전북</th>\n",
       "      <td>1372462.0</td>\n",
       "      <td>3730702.0</td>\n",
       "      <td>573571.0</td>\n",
       "      <td>1209553.0</td>\n",
       "      <td>3926896.0</td>\n",
       "      <td>2787978.0</td>\n",
       "    </tr>\n",
       "    <tr>\n",
       "      <th>제주</th>\n",
       "      <td>736423.0</td>\n",
       "      <td>4591529.0</td>\n",
       "      <td>148212.0</td>\n",
       "      <td>4091583.0</td>\n",
       "      <td>7072096.0</td>\n",
       "      <td>8530982.0</td>\n",
       "    </tr>\n",
       "    <tr>\n",
       "      <th>충남</th>\n",
       "      <td>1485952.0</td>\n",
       "      <td>6454280.0</td>\n",
       "      <td>1819608.0</td>\n",
       "      <td>1397756.0</td>\n",
       "      <td>5031953.0</td>\n",
       "      <td>6924783.0</td>\n",
       "    </tr>\n",
       "    <tr>\n",
       "      <th>충북</th>\n",
       "      <td>4896847.0</td>\n",
       "      <td>1972155.0</td>\n",
       "      <td>927965.0</td>\n",
       "      <td>1377916.0</td>\n",
       "      <td>3526012.0</td>\n",
       "      <td>2985789.0</td>\n",
       "    </tr>\n",
       "  </tbody>\n",
       "</table>\n",
       "</div>"
      ],
      "text/plain": [
       "destination_type      레저스포츠        문화관광          쇼핑         숙박          음식  \\\n",
       "region                                                                       \n",
       "강원                2744666.0   9738098.0         0.0  9301901.0  10524341.0   \n",
       "경기                2890460.0  14317403.0  48918389.0   866923.0  15162870.0   \n",
       "경남                2146843.0   6600853.0   2392445.0  1348966.0   4108589.0   \n",
       "경북                1879754.0   7426833.0    173009.0  1870344.0   5065397.0   \n",
       "광주                 349171.0   2136170.0   1732516.0   508094.0   2276342.0   \n",
       "대구                 489501.0   3899587.0   3930381.0  1034349.0   3285110.0   \n",
       "대전                 640613.0   1917585.0   4037354.0   994710.0   3740999.0   \n",
       "부산                1120255.0   6225144.0   9010754.0  2966147.0   5844877.0   \n",
       "서울                 818317.0  13789047.0  29481866.0  7219625.0   8221779.0   \n",
       "세종                 552045.0   1336886.0     96362.0   264232.0   2654369.0   \n",
       "울산                 615157.0   1468137.0   1104535.0   496528.0   2211646.0   \n",
       "인천                2362901.0   6631686.0   5789551.0  2576608.0   7597506.0   \n",
       "전남                1161617.0   3603443.0    498887.0  1869836.0   4959672.0   \n",
       "전북                1372462.0   3730702.0    573571.0  1209553.0   3926896.0   \n",
       "제주                 736423.0   4591529.0    148212.0  4091583.0   7072096.0   \n",
       "충남                1485952.0   6454280.0   1819608.0  1397756.0   5031953.0   \n",
       "충북                4896847.0   1972155.0    927965.0  1377916.0   3526012.0   \n",
       "\n",
       "destination_type        자연관광  \n",
       "region                        \n",
       "강원                10257543.0  \n",
       "경기                10475938.0  \n",
       "경남                 2668337.0  \n",
       "경북                 3621794.0  \n",
       "광주                  441888.0  \n",
       "대구                 1990408.0  \n",
       "대전                 1241020.0  \n",
       "부산                 5981596.0  \n",
       "서울                 6606251.0  \n",
       "세종                  853113.0  \n",
       "울산                 2510582.0  \n",
       "인천                 9970233.0  \n",
       "전남                 4099961.0  \n",
       "전북                 2787978.0  \n",
       "제주                 8530982.0  \n",
       "충남                 6924783.0  \n",
       "충북                 2985789.0  "
      ]
     },
     "execution_count": 189,
     "metadata": {},
     "output_type": "execute_result"
    }
   ],
   "source": [
    "pivot_attraction.fillna(0, inplace=True)\n",
    "pivot_attraction"
   ]
  },
  {
   "cell_type": "code",
   "execution_count": 190,
   "id": "11328557-a46c-481c-8e38-b2e42191626b",
   "metadata": {},
   "outputs": [
    {
     "data": {
      "text/html": [
       "<div>\n",
       "<style scoped>\n",
       "    .dataframe tbody tr th:only-of-type {\n",
       "        vertical-align: middle;\n",
       "    }\n",
       "\n",
       "    .dataframe tbody tr th {\n",
       "        vertical-align: top;\n",
       "    }\n",
       "\n",
       "    .dataframe thead th {\n",
       "        text-align: right;\n",
       "    }\n",
       "</style>\n",
       "<table border=\"1\" class=\"dataframe\">\n",
       "  <thead>\n",
       "    <tr style=\"text-align: right;\">\n",
       "      <th>destination_type</th>\n",
       "      <th>레저스포츠</th>\n",
       "      <th>문화관광</th>\n",
       "      <th>쇼핑</th>\n",
       "      <th>숙박</th>\n",
       "      <th>음식</th>\n",
       "      <th>자연관광</th>\n",
       "    </tr>\n",
       "    <tr>\n",
       "      <th>region</th>\n",
       "      <th></th>\n",
       "      <th></th>\n",
       "      <th></th>\n",
       "      <th></th>\n",
       "      <th></th>\n",
       "      <th></th>\n",
       "    </tr>\n",
       "  </thead>\n",
       "  <tbody>\n",
       "    <tr>\n",
       "      <th>강원</th>\n",
       "      <td>0.104507</td>\n",
       "      <td>0.101608</td>\n",
       "      <td>0.000000</td>\n",
       "      <td>0.236118</td>\n",
       "      <td>0.110538</td>\n",
       "      <td>0.125171</td>\n",
       "    </tr>\n",
       "    <tr>\n",
       "      <th>경기</th>\n",
       "      <td>0.110058</td>\n",
       "      <td>0.149389</td>\n",
       "      <td>0.442159</td>\n",
       "      <td>0.022006</td>\n",
       "      <td>0.159256</td>\n",
       "      <td>0.127836</td>\n",
       "    </tr>\n",
       "    <tr>\n",
       "      <th>경남</th>\n",
       "      <td>0.081744</td>\n",
       "      <td>0.068874</td>\n",
       "      <td>0.021625</td>\n",
       "      <td>0.034242</td>\n",
       "      <td>0.043153</td>\n",
       "      <td>0.032561</td>\n",
       "    </tr>\n",
       "    <tr>\n",
       "      <th>경북</th>\n",
       "      <td>0.071574</td>\n",
       "      <td>0.077492</td>\n",
       "      <td>0.001564</td>\n",
       "      <td>0.047477</td>\n",
       "      <td>0.053202</td>\n",
       "      <td>0.044196</td>\n",
       "    </tr>\n",
       "    <tr>\n",
       "      <th>광주</th>\n",
       "      <td>0.013295</td>\n",
       "      <td>0.022289</td>\n",
       "      <td>0.015660</td>\n",
       "      <td>0.012897</td>\n",
       "      <td>0.023909</td>\n",
       "      <td>0.005392</td>\n",
       "    </tr>\n",
       "    <tr>\n",
       "      <th>대구</th>\n",
       "      <td>0.018638</td>\n",
       "      <td>0.040689</td>\n",
       "      <td>0.035526</td>\n",
       "      <td>0.026256</td>\n",
       "      <td>0.034504</td>\n",
       "      <td>0.024289</td>\n",
       "    </tr>\n",
       "    <tr>\n",
       "      <th>대전</th>\n",
       "      <td>0.024392</td>\n",
       "      <td>0.020008</td>\n",
       "      <td>0.036492</td>\n",
       "      <td>0.025250</td>\n",
       "      <td>0.039292</td>\n",
       "      <td>0.015144</td>\n",
       "    </tr>\n",
       "    <tr>\n",
       "      <th>부산</th>\n",
       "      <td>0.042655</td>\n",
       "      <td>0.064954</td>\n",
       "      <td>0.081445</td>\n",
       "      <td>0.075292</td>\n",
       "      <td>0.061389</td>\n",
       "      <td>0.072992</td>\n",
       "    </tr>\n",
       "    <tr>\n",
       "      <th>서울</th>\n",
       "      <td>0.031159</td>\n",
       "      <td>0.143876</td>\n",
       "      <td>0.266478</td>\n",
       "      <td>0.183262</td>\n",
       "      <td>0.086354</td>\n",
       "      <td>0.080615</td>\n",
       "    </tr>\n",
       "    <tr>\n",
       "      <th>세종</th>\n",
       "      <td>0.021020</td>\n",
       "      <td>0.013949</td>\n",
       "      <td>0.000871</td>\n",
       "      <td>0.006707</td>\n",
       "      <td>0.027879</td>\n",
       "      <td>0.010410</td>\n",
       "    </tr>\n",
       "    <tr>\n",
       "      <th>울산</th>\n",
       "      <td>0.023423</td>\n",
       "      <td>0.015319</td>\n",
       "      <td>0.009984</td>\n",
       "      <td>0.012604</td>\n",
       "      <td>0.023229</td>\n",
       "      <td>0.030636</td>\n",
       "    </tr>\n",
       "    <tr>\n",
       "      <th>인천</th>\n",
       "      <td>0.089971</td>\n",
       "      <td>0.069196</td>\n",
       "      <td>0.052330</td>\n",
       "      <td>0.065404</td>\n",
       "      <td>0.079797</td>\n",
       "      <td>0.121665</td>\n",
       "    </tr>\n",
       "    <tr>\n",
       "      <th>전남</th>\n",
       "      <td>0.044230</td>\n",
       "      <td>0.037599</td>\n",
       "      <td>0.004509</td>\n",
       "      <td>0.047464</td>\n",
       "      <td>0.052092</td>\n",
       "      <td>0.050031</td>\n",
       "    </tr>\n",
       "    <tr>\n",
       "      <th>전북</th>\n",
       "      <td>0.052258</td>\n",
       "      <td>0.038927</td>\n",
       "      <td>0.005184</td>\n",
       "      <td>0.030703</td>\n",
       "      <td>0.041244</td>\n",
       "      <td>0.034021</td>\n",
       "    </tr>\n",
       "    <tr>\n",
       "      <th>제주</th>\n",
       "      <td>0.028040</td>\n",
       "      <td>0.047909</td>\n",
       "      <td>0.001340</td>\n",
       "      <td>0.103860</td>\n",
       "      <td>0.074279</td>\n",
       "      <td>0.104102</td>\n",
       "    </tr>\n",
       "    <tr>\n",
       "      <th>충남</th>\n",
       "      <td>0.056580</td>\n",
       "      <td>0.067345</td>\n",
       "      <td>0.016447</td>\n",
       "      <td>0.035480</td>\n",
       "      <td>0.052851</td>\n",
       "      <td>0.084502</td>\n",
       "    </tr>\n",
       "    <tr>\n",
       "      <th>충북</th>\n",
       "      <td>0.186454</td>\n",
       "      <td>0.020578</td>\n",
       "      <td>0.008388</td>\n",
       "      <td>0.034977</td>\n",
       "      <td>0.037034</td>\n",
       "      <td>0.036435</td>\n",
       "    </tr>\n",
       "  </tbody>\n",
       "</table>\n",
       "</div>"
      ],
      "text/plain": [
       "destination_type     레저스포츠      문화관광        쇼핑        숙박        음식      자연관광\n",
       "region                                                                      \n",
       "강원                0.104507  0.101608  0.000000  0.236118  0.110538  0.125171\n",
       "경기                0.110058  0.149389  0.442159  0.022006  0.159256  0.127836\n",
       "경남                0.081744  0.068874  0.021625  0.034242  0.043153  0.032561\n",
       "경북                0.071574  0.077492  0.001564  0.047477  0.053202  0.044196\n",
       "광주                0.013295  0.022289  0.015660  0.012897  0.023909  0.005392\n",
       "대구                0.018638  0.040689  0.035526  0.026256  0.034504  0.024289\n",
       "대전                0.024392  0.020008  0.036492  0.025250  0.039292  0.015144\n",
       "부산                0.042655  0.064954  0.081445  0.075292  0.061389  0.072992\n",
       "서울                0.031159  0.143876  0.266478  0.183262  0.086354  0.080615\n",
       "세종                0.021020  0.013949  0.000871  0.006707  0.027879  0.010410\n",
       "울산                0.023423  0.015319  0.009984  0.012604  0.023229  0.030636\n",
       "인천                0.089971  0.069196  0.052330  0.065404  0.079797  0.121665\n",
       "전남                0.044230  0.037599  0.004509  0.047464  0.052092  0.050031\n",
       "전북                0.052258  0.038927  0.005184  0.030703  0.041244  0.034021\n",
       "제주                0.028040  0.047909  0.001340  0.103860  0.074279  0.104102\n",
       "충남                0.056580  0.067345  0.016447  0.035480  0.052851  0.084502\n",
       "충북                0.186454  0.020578  0.008388  0.034977  0.037034  0.036435"
      ]
     },
     "execution_count": 190,
     "metadata": {},
     "output_type": "execute_result"
    }
   ],
   "source": [
    "pivot_attraction_ratio = pivot_attraction.copy()\n",
    "for j in list(pivot_attraction.columns):\n",
    "    for i in pivot_attraction.index:\n",
    "        pivot_attraction_ratio.loc[i, j] = float(pivot_attraction.loc[i, j] / pivot_attraction.loc[:, j].sum())\n",
    "pivot_attraction_ratio"
   ]
  },
  {
   "cell_type": "code",
   "execution_count": 191,
   "id": "1c870be3-c416-4aab-999f-286d358f12e5",
   "metadata": {},
   "outputs": [
    {
     "name": "stdout",
     "output_type": "stream",
     "text": [
      "* 강원 : 숙박, 자연관광, 음식, 레저스포츠, 문화관광\n",
      "* 경기 : 쇼핑, 음식, 문화관광, 자연관광, 레저스포츠\n",
      "* 경남 : 레저스포츠, 문화관광, 음식, 숙박, 자연관광\n",
      "* 경북 : 문화관광, 레저스포츠, 음식, 숙박, 자연관광\n",
      "* 광주 : 음식, 문화관광, 쇼핑, 레저스포츠, 숙박\n",
      "* 대구 : 문화관광, 쇼핑, 음식, 숙박, 자연관광\n",
      "* 대전 : 음식, 쇼핑, 숙박, 레저스포츠, 문화관광\n",
      "* 부산 : 쇼핑, 숙박, 자연관광, 문화관광, 음식\n",
      "* 서울 : 쇼핑, 숙박, 문화관광, 음식, 자연관광\n",
      "* 세종 : 음식, 레저스포츠, 문화관광, 자연관광, 숙박\n",
      "* 울산 : 자연관광, 레저스포츠, 음식, 문화관광, 숙박\n",
      "* 인천 : 자연관광, 레저스포츠, 음식, 문화관광, 숙박\n",
      "* 전남 : 음식, 자연관광, 숙박, 레저스포츠, 문화관광\n",
      "* 전북 : 레저스포츠, 음식, 문화관광, 자연관광, 숙박\n",
      "* 제주 : 자연관광, 숙박, 음식, 문화관광, 레저스포츠\n",
      "* 충남 : 자연관광, 문화관광, 레저스포츠, 음식, 숙박\n",
      "* 충북 : 레저스포츠, 음식, 자연관광, 숙박, 문화관광\n"
     ]
    }
   ],
   "source": [
    "list_concept_region = {'레저스포츠':[],'문화관광':[],'쇼핑':[],'숙박':[],'음식':[],'자연관광':[]}\n",
    "for i in list(pivot_attraction_ratio.index):\n",
    "    print(\"* {} : {}, {}, {}, {}, {}\".format(i,pivot_attraction_ratio.loc[i].sort_values(ascending=False).keys()[0],pivot_attraction_ratio.loc[i].sort_values(ascending=False).keys()[1],pivot_attraction_ratio.loc[i].sort_values(ascending=False).keys()[2],pivot_attraction_ratio.loc[i].sort_values(ascending=False).keys()[3],pivot_attraction_ratio.loc[i].sort_values(ascending=False).keys()[4]))\n",
    "    list_concept_region[pivot_attraction_ratio.loc[i].sort_values(ascending=False).keys()[0]].append(i)\n",
    "    list_concept_region[pivot_attraction_ratio.loc[i].sort_values(ascending=False).keys()[1]].append(i)\n",
    "    list_concept_region[pivot_attraction_ratio.loc[i].sort_values(ascending=False).keys()[2]].append(i)"
   ]
  },
  {
   "cell_type": "markdown",
   "id": "576ba8a3-2ce4-425e-83cd-f92a259d1f55",
   "metadata": {
    "jp-MarkdownHeadingCollapsed": true
   },
   "source": [
    "### 관광지 유형별 전국 소비액 분포 비율"
   ]
  },
  {
   "cell_type": "code",
   "execution_count": 209,
   "id": "36e5af9b-0098-436f-a10e-ae00ae3f9efe",
   "metadata": {},
   "outputs": [
    {
     "data": {
      "text/plain": [
       "region\n",
       "강원    0.060112\n",
       "경기    0.278268\n",
       "경남    0.067979\n",
       "경북    0.066037\n",
       "광주    0.023762\n",
       "대구    0.034820\n",
       "대전    0.011456\n",
       "부산    0.042133\n",
       "서울    0.150798\n",
       "세종    0.003851\n",
       "울산    0.015917\n",
       "인천    0.043618\n",
       "전남    0.044052\n",
       "전북    0.036226\n",
       "제주    0.028229\n",
       "충남    0.039204\n",
       "충북    0.053537\n",
       "Name: 레저스포츠, dtype: float64"
      ]
     },
     "execution_count": 209,
     "metadata": {},
     "output_type": "execute_result"
    }
   ],
   "source": [
    "pivot_consume=pd.pivot_table(data=df_consume,index=\"region\",columns = \"industry_type\",values='consumption_amount',aggfunc='sum')\n",
    "pivot_consume = pivot_consume/10000\n",
    "pivot_consume_ratio = pivot_consume.copy()\n",
    "for j in list(pivot_consume.columns):\n",
    "    for i in pivot_consume.index:\n",
    "        pivot_consume_ratio.loc[i, j] = float(pivot_consume.loc[i, j] / pivot_consume.loc[:, j].sum())\n",
    "pivot_consume_ratio.loc[:,'레저스포츠']"
   ]
  },
  {
   "cell_type": "code",
   "execution_count": 193,
   "id": "2e09485b-36bb-48f1-93f0-e7845abe1c03",
   "metadata": {},
   "outputs": [
    {
     "name": "stdout",
     "output_type": "stream",
     "text": [
      "* 강원 : 숙박, 자연관광, 레저스포츠, 문화관광, 음식\n",
      "* 경기 : 쇼핑, 레저스포츠, 문화관광, 음식, 자연관광\n",
      "* 경남 : 레저스포츠, 음식, 숙박, 자연관광, 문화관광\n",
      "* 경북 : 레저스포츠, 숙박, 음식, 자연관광, 문화관광\n",
      "* 광주 : 쇼핑, 음식, 레저스포츠, 자연관광, 문화관광\n",
      "* 대구 : 쇼핑, 음식, 레저스포츠, 자연관광, 숙박\n",
      "* 대전 : 쇼핑, 음식, 숙박, 문화관광, 자연관광\n",
      "* 부산 : 쇼핑, 숙박, 음식, 자연관광, 레저스포츠\n",
      "* 서울 : 문화관광, 음식, 쇼핑, 자연관광, 숙박\n",
      "* 세종 : 레저스포츠, 음식, 문화관광, 숙박, 쇼핑\n",
      "* 울산 : 음식, 레저스포츠, 숙박, 쇼핑, 문화관광\n",
      "* 인천 : 쇼핑, 음식, 레저스포츠, 숙박, 문화관광\n",
      "* 전남 : 자연관광, 숙박, 레저스포츠, 음식, 문화관광\n",
      "* 전북 : 레저스포츠, 숙박, 음식, 문화관광, 자연관광\n",
      "* 제주 : 숙박, 자연관광, 문화관광, 레저스포츠, 음식\n",
      "* 충남 : 레저스포츠, 숙박, 음식, 쇼핑, 문화관광\n",
      "* 충북 : 레저스포츠, 음식, 숙박, 자연관광, 문화관광\n"
     ]
    }
   ],
   "source": [
    "list_consume_region = {'레저스포츠':[],'문화관광':[],'쇼핑':[],'숙박':[],'음식':[],'자연관광':[]}\n",
    "for i in list(pivot_consume_ratio.index):\n",
    "    print(\"* {} : {}, {}, {}, {}, {}\".format(i,pivot_consume_ratio.loc[i].sort_values(ascending=False).keys()[0],pivot_consume_ratio.loc[i].sort_values(ascending=False).keys()[1],pivot_consume_ratio.loc[i].sort_values(ascending=False).keys()[2],pivot_consume_ratio.loc[i].sort_values(ascending=False).keys()[3],pivot_consume_ratio.loc[i].sort_values(ascending=False).keys()[4]))\n",
    "    list_consume_region[pivot_consume_ratio.loc[i].sort_values(ascending=False).keys()[0]].append(i)\n",
    "    list_consume_region[pivot_consume_ratio.loc[i].sort_values(ascending=False).keys()[1]].append(i)\n",
    "    list_consume_region[pivot_consume_ratio.loc[i].sort_values(ascending=False).keys()[2]].append(i)"
   ]
  },
  {
   "cell_type": "code",
   "execution_count": 219,
   "id": "0508c277-94c0-4e88-a75e-2327f4ff3fc1",
   "metadata": {},
   "outputs": [
    {
     "data": {
      "text/plain": [
       "<Axes: xlabel='region', ylabel='쇼핑'>"
      ]
     },
     "execution_count": 219,
     "metadata": {},
     "output_type": "execute_result"
    },
    {
     "data": {
      "image/png": "[encoded data removed]",
      "text/plain": [
       "<Figure size 640x480 with 1 Axes>"
      ]
     },
     "metadata": {},
     "output_type": "display_data"
    }
   ],
   "source": [
    "sns.lineplot(pivot_consume_ratio.loc[:,'쇼핑'])\n",
    "sns.lineplot(pivot_attraction_ratio.loc[:,'쇼핑'])"
   ]
  },
  {
   "cell_type": "code",
   "execution_count": 220,
   "id": "11531abf-76b5-461e-bd97-3ed517cfc53f",
   "metadata": {},
   "outputs": [
    {
     "data": {
      "text/plain": [
       "<Axes: xlabel='region', ylabel='음식'>"
      ]
     },
     "execution_count": 220,
     "metadata": {},
     "output_type": "execute_result"
    },
    {
     "data": {
      "image/png": "[encoded data removed]",
      "text/plain": [
       "<Figure size 640x480 with 1 Axes>"
      ]
     },
     "metadata": {},
     "output_type": "display_data"
    }
   ],
   "source": [
    "sns.lineplot(pivot_consume_ratio.loc[:,'음식'])\n",
    "sns.lineplot(pivot_attraction_ratio.loc[:,'음식'])"
   ]
  },
  {
   "cell_type": "code",
   "execution_count": 221,
   "id": "c270ea20-e842-4a31-b835-7fe345e293a5",
   "metadata": {},
   "outputs": [
    {
     "data": {
      "text/plain": [
       "<Axes: xlabel='region', ylabel='자연관광'>"
      ]
     },
     "execution_count": 221,
     "metadata": {},
     "output_type": "execute_result"
    },
    {
     "data": {
      "image/png": "[encoded data removed]",
      "text/plain": [
       "<Figure size 640x480 with 1 Axes>"
      ]
     },
     "metadata": {},
     "output_type": "display_data"
    }
   ],
   "source": [
    "sns.lineplot(pivot_consume_ratio.loc[:,'자연관광'])\n",
    "sns.lineplot(pivot_attraction_ratio.loc[:,'자연관광'])"
   ]
  },
  {
   "cell_type": "code",
   "execution_count": 222,
   "id": "0cc35e5f-8cc0-4f60-ba03-7147017942b4",
   "metadata": {},
   "outputs": [
    {
     "data": {
      "text/plain": [
       "<Axes: xlabel='region', ylabel='문화관광'>"
      ]
     },
     "execution_count": 222,
     "metadata": {},
     "output_type": "execute_result"
    },
    {
     "data": {
      "image/png": "[encoded data removed]",
      "text/plain": [
       "<Figure size 640x480 with 1 Axes>"
      ]
     },
     "metadata": {},
     "output_type": "display_data"
    }
   ],
   "source": [
    "sns.lineplot(pivot_consume_ratio.loc[:,'문화관광'])\n",
    "sns.lineplot(pivot_attraction_ratio.loc[:,'문화관광'])"
   ]
  },
  {
   "cell_type": "code",
   "execution_count": 223,
   "id": "3568f603-c451-4bf6-8de3-7a7491eda114",
   "metadata": {},
   "outputs": [
    {
     "data": {
      "text/plain": [
       "<Axes: xlabel='region', ylabel='레저스포츠'>"
      ]
     },
     "execution_count": 223,
     "metadata": {},
     "output_type": "execute_result"
    },
    {
     "data": {
      "image/png": "[encoded data removed]",
      "text/plain": [
       "<Figure size 640x480 with 1 Axes>"
      ]
     },
     "metadata": {},
     "output_type": "display_data"
    }
   ],
   "source": [
    "sns.lineplot(pivot_consume_ratio.loc[:,'레저스포츠'])\n",
    "sns.lineplot(pivot_attraction_ratio.loc[:,'레저스포츠'])"
   ]
  },
  {
   "cell_type": "code",
   "execution_count": 224,
   "id": "13dff0de-abf5-4126-a1ba-5dee78c30c79",
   "metadata": {},
   "outputs": [
    {
     "data": {
      "text/plain": [
       "<Axes: xlabel='region', ylabel='숙박'>"
      ]
     },
     "execution_count": 224,
     "metadata": {},
     "output_type": "execute_result"
    },
    {
     "data": {
      "image/png": "[encoded data removed]",
      "text/plain": [
       "<Figure size 640x480 with 1 Axes>"
      ]
     },
     "metadata": {},
     "output_type": "display_data"
    }
   ],
   "source": [
    "sns.lineplot(pivot_consume_ratio.loc[:,'숙박'])\n",
    "sns.lineplot(pivot_attraction_ratio.loc[:,'숙박'])"
   ]
  },
  {
   "cell_type": "markdown",
   "id": "e893175e-f4bf-42ff-b079-65efe8ee25c9",
   "metadata": {},
   "source": [
    "### 소비의 지역별 분포도와 관광지의 지역별 분포도를 비교해봤을 때 쇼핑을 제외한 나머지 키워드는 상관관계를 찾기 어려움"
   ]
  }
 ],
 "metadata": {
  "kernelspec": {
   "display_name": "Python 3 (ipykernel)",
   "language": "python",
   "name": "python3"
  },
  "language_info": {
   "codemirror_mode": {
    "name": "ipython",
    "version": 3
   },
   "file_extension": ".py",
   "mimetype": "text/x-python",
   "name": "python",
   "nbconvert_exporter": "python",
   "pygments_lexer": "ipython3",
   "version": "3.11.8"
  }
 },
 "nbformat": 4,
 "nbformat_minor": 5
}
