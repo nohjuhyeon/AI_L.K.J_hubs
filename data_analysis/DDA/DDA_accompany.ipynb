{
 "cells": [
  {
   "cell_type": "markdown",
   "id": "8d1439f7-4337-4f1d-ad7e-5fd5ab3aeba3",
   "metadata": {},
   "source": [
    "## 데이터 불러오기"
   ]
  },
  {
   "cell_type": "code",
   "execution_count": 38,
   "id": "6bac689b-1128-4a3e-8169-bfe640d5976f",
   "metadata": {},
   "outputs": [],
   "source": [
    "import pandas as pd\n",
    "import matplotlib.pyplot as plt\n",
    "import matplotlib as mpl\n",
    "import seaborn as sns\n",
    "mpl.rc('font', family='NanumBarunGothic') # 혹은 다른 설치한 Nanum 폰트 사용"
   ]
  },
  {
   "cell_type": "code",
   "execution_count": 39,
   "id": "5a8d41d7-a747-46e2-adb5-4b3470e3351b",
   "metadata": {},
   "outputs": [
    {
     "name": "stdout",
     "output_type": "stream",
     "text": [
      "Reading package lists... Done\n",
      "Building dependency tree... Done\n",
      "Reading state information... Done\n",
      "fonts-nanum is already the newest version (20200506-1).\n",
      "0 upgraded, 0 newly installed, 0 to remove and 0 not upgraded.\n",
      "Font directories:\n",
      "\t/root/.local/share/fonts\n",
      "\t/usr/local/share/fonts\n",
      "\t/usr/share/fonts\n",
      "\t/root/.fonts\n",
      "\t/usr/share/fonts/truetype\n",
      "\t/usr/share/fonts/truetype/dejavu\n",
      "\t/usr/share/fonts/truetype/nanum\n",
      "/root/.local/share/fonts: skipping, no such directory\n",
      "/usr/local/share/fonts: caching, new cache contents: 0 fonts, 0 dirs\n",
      "/usr/share/fonts: caching, new cache contents: 0 fonts, 1 dirs\n",
      "/usr/share/fonts/truetype: caching, new cache contents: 0 fonts, 2 dirs\n",
      "/usr/share/fonts/truetype/dejavu: caching, new cache contents: 22 fonts, 0 dirs\n",
      "/usr/share/fonts/truetype/nanum: caching, new cache contents: 12 fonts, 0 dirs\n",
      "/root/.fonts: skipping, no such directory\n",
      "/usr/share/fonts/truetype: skipping, looped directory detected\n",
      "/usr/share/fonts/truetype/dejavu: skipping, looped directory detected\n",
      "/usr/share/fonts/truetype/nanum: skipping, looped directory detected\n",
      "/var/cache/fontconfig: cleaning cache directory\n",
      "/root/.cache/fontconfig: not cleaning non-existent cache directory\n",
      "/root/.fontconfig: not cleaning non-existent cache directory\n",
      "fc-cache: succeeded\n"
     ]
    }
   ],
   "source": [
    "### 한글 폰트 설치\n",
    "!apt-get install -y fonts-nanum\n",
    "!fc-cache -fv\n",
    "!rm ~/.cache/matplotlib -rf\n",
    "# 설치 후 colab의 경우 Runtime > Restart session 필요"
   ]
  },
  {
   "cell_type": "code",
   "execution_count": 40,
   "id": "7e15edc0-21bc-4545-89e4-6eb111437dfe",
   "metadata": {},
   "outputs": [
    {
     "data": {
      "text/html": [
       "<div>\n",
       "<style scoped>\n",
       "    .dataframe tbody tr th:only-of-type {\n",
       "        vertical-align: middle;\n",
       "    }\n",
       "\n",
       "    .dataframe tbody tr th {\n",
       "        vertical-align: top;\n",
       "    }\n",
       "\n",
       "    .dataframe thead th {\n",
       "        text-align: right;\n",
       "    }\n",
       "</style>\n",
       "<table border=\"1\" class=\"dataframe\">\n",
       "  <thead>\n",
       "    <tr style=\"text-align: right;\">\n",
       "      <th></th>\n",
       "      <th>_id</th>\n",
       "      <th>기준연월</th>\n",
       "      <th>동반유형명</th>\n",
       "      <th>언급건수</th>\n",
       "      <th>지역구분</th>\n",
       "    </tr>\n",
       "  </thead>\n",
       "  <tbody>\n",
       "    <tr>\n",
       "      <th>0</th>\n",
       "      <td>65d866aabb908e26c802af5d</td>\n",
       "      <td>202308</td>\n",
       "      <td>기타가족</td>\n",
       "      <td>115629</td>\n",
       "      <td>인천</td>\n",
       "    </tr>\n",
       "    <tr>\n",
       "      <th>1</th>\n",
       "      <td>65d866aabb908e26c802af5e</td>\n",
       "      <td>202312</td>\n",
       "      <td>기타가족</td>\n",
       "      <td>110697</td>\n",
       "      <td>인천</td>\n",
       "    </tr>\n",
       "    <tr>\n",
       "      <th>2</th>\n",
       "      <td>65d866aabb908e26c802af5f</td>\n",
       "      <td>202307</td>\n",
       "      <td>기타가족</td>\n",
       "      <td>109663</td>\n",
       "      <td>인천</td>\n",
       "    </tr>\n",
       "    <tr>\n",
       "      <th>3</th>\n",
       "      <td>65d866aabb908e26c802af60</td>\n",
       "      <td>202310</td>\n",
       "      <td>기타가족</td>\n",
       "      <td>108737</td>\n",
       "      <td>인천</td>\n",
       "    </tr>\n",
       "    <tr>\n",
       "      <th>4</th>\n",
       "      <td>65d866aabb908e26c802af61</td>\n",
       "      <td>202305</td>\n",
       "      <td>기타가족</td>\n",
       "      <td>108036</td>\n",
       "      <td>인천</td>\n",
       "    </tr>\n",
       "    <tr>\n",
       "      <th>...</th>\n",
       "      <td>...</td>\n",
       "      <td>...</td>\n",
       "      <td>...</td>\n",
       "      <td>...</td>\n",
       "      <td>...</td>\n",
       "    </tr>\n",
       "    <tr>\n",
       "      <th>535</th>\n",
       "      <td>65d866aabb908e26c802b174</td>\n",
       "      <td>202310</td>\n",
       "      <td>학생</td>\n",
       "      <td>8098</td>\n",
       "      <td>강원</td>\n",
       "    </tr>\n",
       "    <tr>\n",
       "      <th>536</th>\n",
       "      <td>65d866aabb908e26c802b175</td>\n",
       "      <td>202303</td>\n",
       "      <td>학생</td>\n",
       "      <td>8051</td>\n",
       "      <td>강원</td>\n",
       "    </tr>\n",
       "    <tr>\n",
       "      <th>537</th>\n",
       "      <td>65d866aabb908e26c802b176</td>\n",
       "      <td>202311</td>\n",
       "      <td>학생</td>\n",
       "      <td>8051</td>\n",
       "      <td>강원</td>\n",
       "    </tr>\n",
       "    <tr>\n",
       "      <th>538</th>\n",
       "      <td>65d866aabb908e26c802b177</td>\n",
       "      <td>202305</td>\n",
       "      <td>학생</td>\n",
       "      <td>7678</td>\n",
       "      <td>강원</td>\n",
       "    </tr>\n",
       "    <tr>\n",
       "      <th>539</th>\n",
       "      <td>65d866aabb908e26c802b178</td>\n",
       "      <td>202304</td>\n",
       "      <td>학생</td>\n",
       "      <td>7211</td>\n",
       "      <td>강원</td>\n",
       "    </tr>\n",
       "  </tbody>\n",
       "</table>\n",
       "<p>540 rows × 5 columns</p>\n",
       "</div>"
      ],
      "text/plain": [
       "                          _id    기준연월 동반유형명    언급건수 지역구분\n",
       "0    65d866aabb908e26c802af5d  202308  기타가족  115629   인천\n",
       "1    65d866aabb908e26c802af5e  202312  기타가족  110697   인천\n",
       "2    65d866aabb908e26c802af5f  202307  기타가족  109663   인천\n",
       "3    65d866aabb908e26c802af60  202310  기타가족  108737   인천\n",
       "4    65d866aabb908e26c802af61  202305  기타가족  108036   인천\n",
       "..                        ...     ...   ...     ...  ...\n",
       "535  65d866aabb908e26c802b174  202310    학생    8098   강원\n",
       "536  65d866aabb908e26c802b175  202303    학생    8051   강원\n",
       "537  65d866aabb908e26c802b176  202311    학생    8051   강원\n",
       "538  65d866aabb908e26c802b177  202305    학생    7678   강원\n",
       "539  65d866aabb908e26c802b178  202304    학생    7211   강원\n",
       "\n",
       "[540 rows x 5 columns]"
      ]
     },
     "execution_count": 40,
     "metadata": {},
     "output_type": "execute_result"
    }
   ],
   "source": [
    "import pymongo\n",
    "client=pymongo.MongoClient(\"192.168.10.240\",27017)\n",
    "db= client['AI_LKJ']\n",
    "collection=db['accompany_2023']\n",
    "data = collection.find()\n",
    "df_accompany = pd.DataFrame(data)\n",
    "df_accompany"
   ]
  },
  {
   "cell_type": "code",
   "execution_count": 41,
   "id": "be7bc744-7f87-4a69-a925-d285220db025",
   "metadata": {},
   "outputs": [
    {
     "data": {
      "text/html": [
       "<div>\n",
       "<style scoped>\n",
       "    .dataframe tbody tr th:only-of-type {\n",
       "        vertical-align: middle;\n",
       "    }\n",
       "\n",
       "    .dataframe tbody tr th {\n",
       "        vertical-align: top;\n",
       "    }\n",
       "\n",
       "    .dataframe thead th {\n",
       "        text-align: right;\n",
       "    }\n",
       "</style>\n",
       "<table border=\"1\" class=\"dataframe\">\n",
       "  <thead>\n",
       "    <tr style=\"text-align: right;\">\n",
       "      <th></th>\n",
       "      <th>_id</th>\n",
       "      <th>순위</th>\n",
       "      <th>분류</th>\n",
       "      <th>관련 키워드</th>\n",
       "      <th>언급건수</th>\n",
       "      <th>지역구분</th>\n",
       "    </tr>\n",
       "  </thead>\n",
       "  <tbody>\n",
       "    <tr>\n",
       "      <th>29</th>\n",
       "      <td>65dc4814bb908e26c802e9e1</td>\n",
       "      <td>30</td>\n",
       "      <td>학생</td>\n",
       "      <td>초등학생</td>\n",
       "      <td>30587</td>\n",
       "      <td>인천</td>\n",
       "    </tr>\n",
       "    <tr>\n",
       "      <th>36</th>\n",
       "      <td>65dc4814bb908e26c802e9e8</td>\n",
       "      <td>37</td>\n",
       "      <td>학생</td>\n",
       "      <td>대학생</td>\n",
       "      <td>23377</td>\n",
       "      <td>인천</td>\n",
       "    </tr>\n",
       "    <tr>\n",
       "      <th>50</th>\n",
       "      <td>65dc4814bb908e26c802e9f6</td>\n",
       "      <td>51</td>\n",
       "      <td>학생</td>\n",
       "      <td>중학생</td>\n",
       "      <td>14040</td>\n",
       "      <td>인천</td>\n",
       "    </tr>\n",
       "    <tr>\n",
       "      <th>53</th>\n",
       "      <td>65dc4814bb908e26c802e9f9</td>\n",
       "      <td>54</td>\n",
       "      <td>학생</td>\n",
       "      <td>고등학생</td>\n",
       "      <td>13193</td>\n",
       "      <td>인천</td>\n",
       "    </tr>\n",
       "    <tr>\n",
       "      <th>69</th>\n",
       "      <td>65dc4814bb908e26c802ea09</td>\n",
       "      <td>70</td>\n",
       "      <td>학생</td>\n",
       "      <td>초딩</td>\n",
       "      <td>8552</td>\n",
       "      <td>인천</td>\n",
       "    </tr>\n",
       "    <tr>\n",
       "      <th>...</th>\n",
       "      <td>...</td>\n",
       "      <td>...</td>\n",
       "      <td>...</td>\n",
       "      <td>...</td>\n",
       "      <td>...</td>\n",
       "      <td>...</td>\n",
       "    </tr>\n",
       "    <tr>\n",
       "      <th>1826</th>\n",
       "      <td>65dc4814bb908e26c802f0e6</td>\n",
       "      <td>188</td>\n",
       "      <td>학생</td>\n",
       "      <td>초4</td>\n",
       "      <td>788</td>\n",
       "      <td>강원</td>\n",
       "    </tr>\n",
       "    <tr>\n",
       "      <th>1827</th>\n",
       "      <td>65dc4814bb908e26c802f0e7</td>\n",
       "      <td>189</td>\n",
       "      <td>학생</td>\n",
       "      <td>고삼</td>\n",
       "      <td>728</td>\n",
       "      <td>강원</td>\n",
       "    </tr>\n",
       "    <tr>\n",
       "      <th>1832</th>\n",
       "      <td>65dc4814bb908e26c802f0ec</td>\n",
       "      <td>194</td>\n",
       "      <td>학생</td>\n",
       "      <td>초5</td>\n",
       "      <td>685</td>\n",
       "      <td>강원</td>\n",
       "    </tr>\n",
       "    <tr>\n",
       "      <th>1855</th>\n",
       "      <td>65dc4814bb908e26c802f103</td>\n",
       "      <td>217</td>\n",
       "      <td>학생</td>\n",
       "      <td>초2</td>\n",
       "      <td>504</td>\n",
       "      <td>강원</td>\n",
       "    </tr>\n",
       "    <tr>\n",
       "      <th>1867</th>\n",
       "      <td>65dc4814bb908e26c802f10f</td>\n",
       "      <td>229</td>\n",
       "      <td>학생</td>\n",
       "      <td>재수생</td>\n",
       "      <td>424</td>\n",
       "      <td>강원</td>\n",
       "    </tr>\n",
       "  </tbody>\n",
       "</table>\n",
       "<p>100 rows × 6 columns</p>\n",
       "</div>"
      ],
      "text/plain": [
       "                           _id   순위  분류 관련 키워드   언급건수 지역구분\n",
       "29    65dc4814bb908e26c802e9e1   30  학생   초등학생  30587   인천\n",
       "36    65dc4814bb908e26c802e9e8   37  학생    대학생  23377   인천\n",
       "50    65dc4814bb908e26c802e9f6   51  학생    중학생  14040   인천\n",
       "53    65dc4814bb908e26c802e9f9   54  학생   고등학생  13193   인천\n",
       "69    65dc4814bb908e26c802ea09   70  학생     초딩   8552   인천\n",
       "...                        ...  ...  ..    ...    ...  ...\n",
       "1826  65dc4814bb908e26c802f0e6  188  학생     초4    788   강원\n",
       "1827  65dc4814bb908e26c802f0e7  189  학생     고삼    728   강원\n",
       "1832  65dc4814bb908e26c802f0ec  194  학생     초5    685   강원\n",
       "1855  65dc4814bb908e26c802f103  217  학생     초2    504   강원\n",
       "1867  65dc4814bb908e26c802f10f  229  학생    재수생    424   강원\n",
       "\n",
       "[100 rows x 6 columns]"
      ]
     },
     "execution_count": 41,
     "metadata": {},
     "output_type": "execute_result"
    }
   ],
   "source": [
    "import pymongo\n",
    "client=pymongo.MongoClient(\"192.168.10.240\",27017)\n",
    "db= client['AI_LKJ']\n",
    "collection=db['accompany_keyword_2023']\n",
    "data = collection.find()\n",
    "df_accompany_keyword = pd.DataFrame(data)\n",
    "df_accompany_keyword.query('분류 == \"학생\"')"
   ]
  },
  {
   "cell_type": "code",
   "execution_count": 42,
   "id": "3af3ffe6-278e-43e8-af09-29727c6d424e",
   "metadata": {},
   "outputs": [
    {
     "data": {
      "text/plain": [
       "동반유형명\n",
       "기타가족    60\n",
       "친구      60\n",
       "회사동료    60\n",
       "부모님     60\n",
       "자녀      60\n",
       "배우자     60\n",
       "싱글      60\n",
       "연인      60\n",
       "학생      60\n",
       "Name: count, dtype: int64"
      ]
     },
     "execution_count": 42,
     "metadata": {},
     "output_type": "execute_result"
    }
   ],
   "source": [
    "df_accompany['동반유형명'].value_counts()"
   ]
  },
  {
   "cell_type": "markdown",
   "id": "f7958ffd-67ac-49a5-a923-1bd804f0a2fb",
   "metadata": {},
   "source": [
    "## 데이터 전처리"
   ]
  },
  {
   "cell_type": "markdown",
   "id": "0c310206-317f-431d-917b-6417c36cf382",
   "metadata": {
    "jp-MarkdownHeadingCollapsed": true
   },
   "source": [
    "### 결측치 확인"
   ]
  },
  {
   "cell_type": "code",
   "execution_count": 43,
   "id": "3d40198e-5bec-4657-ac22-c628a9851140",
   "metadata": {},
   "outputs": [
    {
     "data": {
      "text/plain": [
       "_id      0\n",
       "기준연월     0\n",
       "동반유형명    0\n",
       "언급건수     0\n",
       "지역구분     0\n",
       "dtype: int64"
      ]
     },
     "execution_count": 43,
     "metadata": {},
     "output_type": "execute_result"
    }
   ],
   "source": [
    "df_accompany.isnull().sum()"
   ]
  },
  {
   "cell_type": "code",
   "execution_count": 44,
   "id": "20afb07b-bdd0-4c76-9d1e-53bd01cea0c0",
   "metadata": {},
   "outputs": [
    {
     "data": {
      "text/plain": [
       "_id       0\n",
       "순위        0\n",
       "분류        0\n",
       "관련 키워드    0\n",
       "언급건수      0\n",
       "지역구분      0\n",
       "dtype: int64"
      ]
     },
     "execution_count": 44,
     "metadata": {},
     "output_type": "execute_result"
    }
   ],
   "source": [
    "df_accompany_keyword.isnull().sum()"
   ]
  },
  {
   "cell_type": "code",
   "execution_count": 45,
   "id": "47e7a8ef-d34f-4272-9b5d-20accdb4a702",
   "metadata": {},
   "outputs": [
    {
     "data": {
      "text/plain": [
       "관련 키워드\n",
       "울랑이      5\n",
       "아이들아빠    5\n",
       "와이프느님    5\n",
       "외할아버님    5\n",
       "며늘애      5\n",
       "        ..\n",
       "우리부인     1\n",
       "첫째손주     1\n",
       "홀캉스      1\n",
       "마낫님      1\n",
       "예비시아빠    1\n",
       "Name: count, Length: 423, dtype: int64"
      ]
     },
     "execution_count": 45,
     "metadata": {},
     "output_type": "execute_result"
    }
   ],
   "source": [
    "df_accompany_keyword['관련 키워드'].value_counts()"
   ]
  },
  {
   "cell_type": "code",
   "execution_count": 46,
   "id": "adc9c2ba-fe51-4ed5-9226-b6337f7f059b",
   "metadata": {},
   "outputs": [
    {
     "data": {
      "text/plain": [
       "array(['기타가족', '친구', '회사동료', '부모님', '자녀', '배우자', '싱글', '연인', '학생'],\n",
       "      dtype=object)"
      ]
     },
     "execution_count": 46,
     "metadata": {},
     "output_type": "execute_result"
    }
   ],
   "source": [
    "df_accompany['동반유형명'].unique()"
   ]
  },
  {
   "cell_type": "markdown",
   "id": "274ecbf5-c5e8-4472-8dfc-f20dbcd94791",
   "metadata": {
    "jp-MarkdownHeadingCollapsed": true
   },
   "source": [
    "### 비슷한 동반유형명 통일"
   ]
  },
  {
   "cell_type": "code",
   "execution_count": 47,
   "id": "89af3800-59f5-46d3-8a18-f2ac5a1990c2",
   "metadata": {},
   "outputs": [],
   "source": [
    "family_list = ['기타가족','부모님','자녀','배우자']\n",
    "condition_family = f\"동반유형명 in {family_list}\"\n",
    "df_accompany.loc[df_accompany.query(condition_family).index,'동반유형명']=\"가족\""
   ]
  },
  {
   "cell_type": "code",
   "execution_count": 48,
   "id": "65916455-02bf-4be4-a22b-e0125f60058f",
   "metadata": {},
   "outputs": [
    {
     "data": {
      "text/plain": [
       "array(['가족', '친구', '회사동료', '싱글', '연인', '학생'], dtype=object)"
      ]
     },
     "execution_count": 48,
     "metadata": {},
     "output_type": "execute_result"
    }
   ],
   "source": [
    "df_accompany['동반유형명'].unique()"
   ]
  },
  {
   "cell_type": "markdown",
   "id": "e9ff71cd-ca31-446b-9dd6-91abf9734ffd",
   "metadata": {
    "jp-MarkdownHeadingCollapsed": true
   },
   "source": [
    "### 관련 없는 동반유형명 삭제"
   ]
  },
  {
   "cell_type": "code",
   "execution_count": 49,
   "id": "035aa874-d245-4208-991c-8b5c7391aa68",
   "metadata": {},
   "outputs": [],
   "source": [
    "df_accompany = df_accompany.drop(list(df_accompany.query(\"동반유형명=='학생'\").index))"
   ]
  },
  {
   "cell_type": "code",
   "execution_count": 50,
   "id": "2581b953-e0cc-4d3d-a502-482c541a9029",
   "metadata": {},
   "outputs": [
    {
     "data": {
      "text/html": [
       "<div>\n",
       "<style scoped>\n",
       "    .dataframe tbody tr th:only-of-type {\n",
       "        vertical-align: middle;\n",
       "    }\n",
       "\n",
       "    .dataframe tbody tr th {\n",
       "        vertical-align: top;\n",
       "    }\n",
       "\n",
       "    .dataframe thead th {\n",
       "        text-align: right;\n",
       "    }\n",
       "</style>\n",
       "<table border=\"1\" class=\"dataframe\">\n",
       "  <thead>\n",
       "    <tr style=\"text-align: right;\">\n",
       "      <th></th>\n",
       "      <th>_id</th>\n",
       "      <th>기준연월</th>\n",
       "      <th>동반유형명</th>\n",
       "      <th>언급건수</th>\n",
       "      <th>지역구분</th>\n",
       "    </tr>\n",
       "  </thead>\n",
       "  <tbody>\n",
       "  </tbody>\n",
       "</table>\n",
       "</div>"
      ],
      "text/plain": [
       "Empty DataFrame\n",
       "Columns: [_id, 기준연월, 동반유형명, 언급건수, 지역구분]\n",
       "Index: []"
      ]
     },
     "execution_count": 50,
     "metadata": {},
     "output_type": "execute_result"
    }
   ],
   "source": [
    "df_accompany.query(\"동반유형명=='학생'\")"
   ]
  },
  {
   "cell_type": "markdown",
   "id": "9fa674be-dcaa-43db-ba13-11e4f775d826",
   "metadata": {},
   "source": [
    "### 동반 유형별 언급건수 확인"
   ]
  },
  {
   "cell_type": "code",
   "execution_count": 51,
   "id": "196aee4c-4dde-4c5e-87b0-faced0db6b41",
   "metadata": {},
   "outputs": [
    {
     "data": {
      "text/html": [
       "<div>\n",
       "<style scoped>\n",
       "    .dataframe tbody tr th:only-of-type {\n",
       "        vertical-align: middle;\n",
       "    }\n",
       "\n",
       "    .dataframe tbody tr th {\n",
       "        vertical-align: top;\n",
       "    }\n",
       "\n",
       "    .dataframe thead th {\n",
       "        text-align: right;\n",
       "    }\n",
       "</style>\n",
       "<table border=\"1\" class=\"dataframe\">\n",
       "  <thead>\n",
       "    <tr style=\"text-align: right;\">\n",
       "      <th>기준연월</th>\n",
       "      <th>202301</th>\n",
       "      <th>202302</th>\n",
       "      <th>202303</th>\n",
       "      <th>202304</th>\n",
       "      <th>202305</th>\n",
       "      <th>202306</th>\n",
       "      <th>202307</th>\n",
       "      <th>202308</th>\n",
       "      <th>202309</th>\n",
       "      <th>202310</th>\n",
       "      <th>202311</th>\n",
       "      <th>202312</th>\n",
       "    </tr>\n",
       "    <tr>\n",
       "      <th>동반유형명</th>\n",
       "      <th></th>\n",
       "      <th></th>\n",
       "      <th></th>\n",
       "      <th></th>\n",
       "      <th></th>\n",
       "      <th></th>\n",
       "      <th></th>\n",
       "      <th></th>\n",
       "      <th></th>\n",
       "      <th></th>\n",
       "      <th></th>\n",
       "      <th></th>\n",
       "    </tr>\n",
       "  </thead>\n",
       "  <tbody>\n",
       "    <tr>\n",
       "      <th>가족</th>\n",
       "      <td>1531211</td>\n",
       "      <td>1486639</td>\n",
       "      <td>1586251</td>\n",
       "      <td>1569915</td>\n",
       "      <td>1811072</td>\n",
       "      <td>1799385</td>\n",
       "      <td>1868967</td>\n",
       "      <td>2024762</td>\n",
       "      <td>1786088</td>\n",
       "      <td>1834109</td>\n",
       "      <td>1792104</td>\n",
       "      <td>1866623</td>\n",
       "    </tr>\n",
       "    <tr>\n",
       "      <th>싱글</th>\n",
       "      <td>189139</td>\n",
       "      <td>188529</td>\n",
       "      <td>201430</td>\n",
       "      <td>196404</td>\n",
       "      <td>211585</td>\n",
       "      <td>224835</td>\n",
       "      <td>239541</td>\n",
       "      <td>254801</td>\n",
       "      <td>224482</td>\n",
       "      <td>221709</td>\n",
       "      <td>225698</td>\n",
       "      <td>231463</td>\n",
       "    </tr>\n",
       "    <tr>\n",
       "      <th>연인</th>\n",
       "      <td>144027</td>\n",
       "      <td>152177</td>\n",
       "      <td>170891</td>\n",
       "      <td>168656</td>\n",
       "      <td>191085</td>\n",
       "      <td>203444</td>\n",
       "      <td>209997</td>\n",
       "      <td>226793</td>\n",
       "      <td>207444</td>\n",
       "      <td>208702</td>\n",
       "      <td>216496</td>\n",
       "      <td>238636</td>\n",
       "    </tr>\n",
       "    <tr>\n",
       "      <th>친구</th>\n",
       "      <td>469539</td>\n",
       "      <td>480851</td>\n",
       "      <td>551530</td>\n",
       "      <td>539607</td>\n",
       "      <td>590993</td>\n",
       "      <td>632138</td>\n",
       "      <td>689576</td>\n",
       "      <td>743655</td>\n",
       "      <td>672432</td>\n",
       "      <td>668137</td>\n",
       "      <td>707408</td>\n",
       "      <td>759265</td>\n",
       "    </tr>\n",
       "    <tr>\n",
       "      <th>회사동료</th>\n",
       "      <td>298533</td>\n",
       "      <td>295775</td>\n",
       "      <td>340726</td>\n",
       "      <td>374500</td>\n",
       "      <td>389223</td>\n",
       "      <td>424240</td>\n",
       "      <td>495438</td>\n",
       "      <td>526299</td>\n",
       "      <td>488365</td>\n",
       "      <td>488114</td>\n",
       "      <td>544659</td>\n",
       "      <td>572078</td>\n",
       "    </tr>\n",
       "  </tbody>\n",
       "</table>\n",
       "</div>"
      ],
      "text/plain": [
       "기준연월    202301   202302   202303   202304   202305   202306   202307   202308  \\\n",
       "동반유형명                                                                           \n",
       "가족     1531211  1486639  1586251  1569915  1811072  1799385  1868967  2024762   \n",
       "싱글      189139   188529   201430   196404   211585   224835   239541   254801   \n",
       "연인      144027   152177   170891   168656   191085   203444   209997   226793   \n",
       "친구      469539   480851   551530   539607   590993   632138   689576   743655   \n",
       "회사동료    298533   295775   340726   374500   389223   424240   495438   526299   \n",
       "\n",
       "기준연월    202309   202310   202311   202312  \n",
       "동반유형명                                      \n",
       "가족     1786088  1834109  1792104  1866623  \n",
       "싱글      224482   221709   225698   231463  \n",
       "연인      207444   208702   216496   238636  \n",
       "친구      672432   668137   707408   759265  \n",
       "회사동료    488365   488114   544659   572078  "
      ]
     },
     "execution_count": 51,
     "metadata": {},
     "output_type": "execute_result"
    }
   ],
   "source": [
    "pivot_accompany= pd.pivot_table(data=df_accompany,index=['동반유형명'], values=['언급건수'],columns=['기준연월'], aggfunc='sum')\n",
    "pivot_accompany=pivot_accompany.loc[:,'언급건수']\n",
    "pivot_accompany"
   ]
  },
  {
   "cell_type": "code",
   "execution_count": 92,
   "id": "aaaeec33-76f8-44c3-af5b-c38e4200bfea",
   "metadata": {},
   "outputs": [
    {
     "data": {
      "text/html": [
       "<div>\n",
       "<style scoped>\n",
       "    .dataframe tbody tr th:only-of-type {\n",
       "        vertical-align: middle;\n",
       "    }\n",
       "\n",
       "    .dataframe tbody tr th {\n",
       "        vertical-align: top;\n",
       "    }\n",
       "\n",
       "    .dataframe thead th {\n",
       "        text-align: right;\n",
       "    }\n",
       "</style>\n",
       "<table border=\"1\" class=\"dataframe\">\n",
       "  <thead>\n",
       "    <tr style=\"text-align: right;\">\n",
       "      <th>기준연월</th>\n",
       "      <th>202301</th>\n",
       "      <th>202302</th>\n",
       "      <th>202303</th>\n",
       "      <th>202304</th>\n",
       "      <th>202305</th>\n",
       "      <th>202306</th>\n",
       "      <th>202307</th>\n",
       "      <th>202308</th>\n",
       "      <th>202309</th>\n",
       "      <th>202310</th>\n",
       "      <th>202311</th>\n",
       "      <th>202312</th>\n",
       "      <th>total</th>\n",
       "    </tr>\n",
       "    <tr>\n",
       "      <th>동반유형명</th>\n",
       "      <th></th>\n",
       "      <th></th>\n",
       "      <th></th>\n",
       "      <th></th>\n",
       "      <th></th>\n",
       "      <th></th>\n",
       "      <th></th>\n",
       "      <th></th>\n",
       "      <th></th>\n",
       "      <th></th>\n",
       "      <th></th>\n",
       "      <th></th>\n",
       "      <th></th>\n",
       "    </tr>\n",
       "  </thead>\n",
       "  <tbody>\n",
       "    <tr>\n",
       "      <th>가족</th>\n",
       "      <td>1531211.0</td>\n",
       "      <td>1486639.0</td>\n",
       "      <td>1586251.0</td>\n",
       "      <td>1569915.0</td>\n",
       "      <td>1811072.0</td>\n",
       "      <td>1799385.0</td>\n",
       "      <td>1868967.0</td>\n",
       "      <td>2024762.0</td>\n",
       "      <td>1786088.0</td>\n",
       "      <td>1834109.0</td>\n",
       "      <td>1792104.0</td>\n",
       "      <td>1866623.0</td>\n",
       "      <td>125742756.0</td>\n",
       "    </tr>\n",
       "    <tr>\n",
       "      <th>싱글</th>\n",
       "      <td>189139.0</td>\n",
       "      <td>188529.0</td>\n",
       "      <td>201430.0</td>\n",
       "      <td>196404.0</td>\n",
       "      <td>211585.0</td>\n",
       "      <td>224835.0</td>\n",
       "      <td>239541.0</td>\n",
       "      <td>254801.0</td>\n",
       "      <td>224482.0</td>\n",
       "      <td>221709.0</td>\n",
       "      <td>225698.0</td>\n",
       "      <td>231463.0</td>\n",
       "      <td>15657696.0</td>\n",
       "    </tr>\n",
       "    <tr>\n",
       "      <th>연인</th>\n",
       "      <td>144027.0</td>\n",
       "      <td>152177.0</td>\n",
       "      <td>170891.0</td>\n",
       "      <td>168656.0</td>\n",
       "      <td>191085.0</td>\n",
       "      <td>203444.0</td>\n",
       "      <td>209997.0</td>\n",
       "      <td>226793.0</td>\n",
       "      <td>207444.0</td>\n",
       "      <td>208702.0</td>\n",
       "      <td>216496.0</td>\n",
       "      <td>238636.0</td>\n",
       "      <td>14030088.0</td>\n",
       "    </tr>\n",
       "    <tr>\n",
       "      <th>친구</th>\n",
       "      <td>469539.0</td>\n",
       "      <td>480851.0</td>\n",
       "      <td>551530.0</td>\n",
       "      <td>539607.0</td>\n",
       "      <td>590993.0</td>\n",
       "      <td>632138.0</td>\n",
       "      <td>689576.0</td>\n",
       "      <td>743655.0</td>\n",
       "      <td>672432.0</td>\n",
       "      <td>668137.0</td>\n",
       "      <td>707408.0</td>\n",
       "      <td>759265.0</td>\n",
       "      <td>45030786.0</td>\n",
       "    </tr>\n",
       "    <tr>\n",
       "      <th>회사동료</th>\n",
       "      <td>298533.0</td>\n",
       "      <td>295775.0</td>\n",
       "      <td>340726.0</td>\n",
       "      <td>374500.0</td>\n",
       "      <td>389223.0</td>\n",
       "      <td>424240.0</td>\n",
       "      <td>495438.0</td>\n",
       "      <td>526299.0</td>\n",
       "      <td>488365.0</td>\n",
       "      <td>488114.0</td>\n",
       "      <td>544659.0</td>\n",
       "      <td>572078.0</td>\n",
       "      <td>31427700.0</td>\n",
       "    </tr>\n",
       "    <tr>\n",
       "      <th>total</th>\n",
       "      <td>18427143.0</td>\n",
       "      <td>15623826.0</td>\n",
       "      <td>17104968.0</td>\n",
       "      <td>17094492.0</td>\n",
       "      <td>19163748.0</td>\n",
       "      <td>19704252.0</td>\n",
       "      <td>21021114.0</td>\n",
       "      <td>22657860.0</td>\n",
       "      <td>20272866.0</td>\n",
       "      <td>20524626.0</td>\n",
       "      <td>20918190.0</td>\n",
       "      <td>22008390.0</td>\n",
       "      <td>822141387.0</td>\n",
       "    </tr>\n",
       "  </tbody>\n",
       "</table>\n",
       "</div>"
      ],
      "text/plain": [
       "기준연월       202301      202302      202303      202304      202305      202306  \\\n",
       "동반유형명                                                                           \n",
       "가족      1531211.0   1486639.0   1586251.0   1569915.0   1811072.0   1799385.0   \n",
       "싱글       189139.0    188529.0    201430.0    196404.0    211585.0    224835.0   \n",
       "연인       144027.0    152177.0    170891.0    168656.0    191085.0    203444.0   \n",
       "친구       469539.0    480851.0    551530.0    539607.0    590993.0    632138.0   \n",
       "회사동료     298533.0    295775.0    340726.0    374500.0    389223.0    424240.0   \n",
       "total  18427143.0  15623826.0  17104968.0  17094492.0  19163748.0  19704252.0   \n",
       "\n",
       "기준연월       202307      202308      202309      202310      202311      202312  \\\n",
       "동반유형명                                                                           \n",
       "가족      1868967.0   2024762.0   1786088.0   1834109.0   1792104.0   1866623.0   \n",
       "싱글       239541.0    254801.0    224482.0    221709.0    225698.0    231463.0   \n",
       "연인       209997.0    226793.0    207444.0    208702.0    216496.0    238636.0   \n",
       "친구       689576.0    743655.0    672432.0    668137.0    707408.0    759265.0   \n",
       "회사동료     495438.0    526299.0    488365.0    488114.0    544659.0    572078.0   \n",
       "total  21021114.0  22657860.0  20272866.0  20524626.0  20918190.0  22008390.0   \n",
       "\n",
       "기준연월         total  \n",
       "동반유형명               \n",
       "가족     125742756.0  \n",
       "싱글      15657696.0  \n",
       "연인      14030088.0  \n",
       "친구      45030786.0  \n",
       "회사동료    31427700.0  \n",
       "total  822141387.0  "
      ]
     },
     "execution_count": 92,
     "metadata": {},
     "output_type": "execute_result"
    }
   ],
   "source": [
    "pivot_accompany.loc['total',202301]=pivot_accompany[202301].sum()\n",
    "pivot_accompany.loc['total',202302]=pivot_accompany[202302].sum()\n",
    "pivot_accompany.loc['total',202303]=pivot_accompany[202303].sum()\n",
    "pivot_accompany.loc['total',202304]=pivot_accompany[202304].sum()\n",
    "pivot_accompany.loc['total',202305]=pivot_accompany[202305].sum()\n",
    "pivot_accompany.loc['total',202306]=pivot_accompany[202306].sum()\n",
    "pivot_accompany.loc['total',202307]=pivot_accompany[202307].sum()\n",
    "pivot_accompany.loc['total',202308]=pivot_accompany[202308].sum()\n",
    "pivot_accompany.loc['total',202309]=pivot_accompany[202309].sum()\n",
    "pivot_accompany.loc['total',202310]=pivot_accompany[202310].sum()\n",
    "pivot_accompany.loc['total',202311]=pivot_accompany[202311].sum()\n",
    "pivot_accompany.loc['total',202312]=pivot_accompany[202312].sum()\n",
    "pivot_accompany.loc['가족','total']=pivot_accompany.loc['가족',:].sum()\n",
    "pivot_accompany.loc['싱글','total']=pivot_accompany.loc['싱글',:].sum()\n",
    "pivot_accompany.loc['연인','total']=pivot_accompany.loc['연인',:].sum()\n",
    "pivot_accompany.loc['친구','total']=pivot_accompany.loc['친구',:].sum()\n",
    "pivot_accompany.loc['회사동료','total']=pivot_accompany.loc['회사동료',:].sum()\n",
    "pivot_accompany.loc['total','total']=pivot_accompany.loc['total',:].sum()\n",
    "# pivot_accompany.loc[:'회사동료',:202312]\n",
    "pivot_accompany\n",
    "# pivot_accompany.loc['total',202301]=pivot_accompany[202301].sum()\n",
    "# pivot_accompany[202301].sum()"
   ]
  },
  {
   "cell_type": "markdown",
   "id": "2a0fcb23-8869-40f9-bb54-afc2f1bb1abd",
   "metadata": {
    "jp-MarkdownHeadingCollapsed": true
   },
   "source": [
    "## 기술 데이터 분석(DDA)"
   ]
  },
  {
   "cell_type": "markdown",
   "id": "62c839af-4b83-4489-b3d3-107630292dc3",
   "metadata": {},
   "source": [
    "### 데이터 분포 확인\n",
    "* 언급량이 8월, 12월, 7월 순으로 가장 많고, 2월,1월,3월 순으로 가장 적음\n",
    "* 가족, 친구, 회상동료, 싱글, 연인 순으로 언급량이 많음\n",
    "* 서울, 부산, 인천, 강원, 제주 순으로 언급량이 많음"
   ]
  },
  {
   "cell_type": "code",
   "execution_count": 151,
   "id": "1dd6bd63-2bfb-450a-8859-7e38bd44ec3f",
   "metadata": {},
   "outputs": [
    {
     "data": {
      "image/png": "[encoded data removed]",
      "text/plain": [
       "<Figure size 1200x600 with 1 Axes>"
      ]
     },
     "metadata": {},
     "output_type": "display_data"
    }
   ],
   "source": [
    "plt.figure(figsize=(12, 6))\n",
    "sns.barplot(data=df_accompany,x='기준연월',y='언급건수', estimator=sum,errorbar=None)\n",
    "plt.show()"
   ]
  },
  {
   "cell_type": "code",
   "execution_count": 152,
   "id": "3f754807-17de-4d60-9cc3-0ff0c4427a2b",
   "metadata": {},
   "outputs": [
    {
     "data": {
      "image/png": "[encoded data removed]",
      "text/plain": [
       "<Figure size 1200x600 with 1 Axes>"
      ]
     },
     "metadata": {},
     "output_type": "display_data"
    }
   ],
   "source": [
    "plt.figure(figsize=(12, 6))\n",
    "sns.barplot(data=df_accompany,x='동반유형명',y='언급건수', estimator=sum,errorbar=None)\n",
    "plt.show()"
   ]
  },
  {
   "cell_type": "code",
   "execution_count": 153,
   "id": "053e98bf-10ba-42b1-add7-7d06f4fc64dd",
   "metadata": {},
   "outputs": [
    {
     "data": {
      "image/png": "[encoded data removed]",
      "text/plain": [
       "<Figure size 1200x600 with 1 Axes>"
      ]
     },
     "metadata": {},
     "output_type": "display_data"
    }
   ],
   "source": [
    "plt.figure(figsize=(12, 6))\n",
    "sns.barplot(data=df_accompany,x='지역구분',y='언급건수', estimator=sum,errorbar=None)\n",
    "plt.show()"
   ]
  },
  {
   "cell_type": "markdown",
   "id": "ed130980-bd6b-4a8a-8c05-ad0a71b1f456",
   "metadata": {},
   "source": [
    "## 탐색 데이터 분석(EDA)"
   ]
  },
  {
   "cell_type": "markdown",
   "id": "7563996b-661b-4567-aa66-42e81145704e",
   "metadata": {
    "jp-MarkdownHeadingCollapsed": true
   },
   "source": [
    "### 월별 동반유형 비교\n",
    "* 월별로 확인했을 때는 큰 차이가 없었지만 비교적 1,2월에는 검색량이 적었고, 8월,12월에는 많음\n",
    "* 휴가철과 송년회가 영향을 미쳤을 것으로 예상\n",
    "* 특히, 회사동료의 경우 12월에 가장 많은 검색량을 보였는데, 송년회의 영향일 것으로 예상됨"
   ]
  },
  {
   "cell_type": "code",
   "execution_count": 110,
   "id": "93c39f30-e2f2-45b2-8383-acabc6ea062f",
   "metadata": {},
   "outputs": [
    {
     "data": {
      "text/plain": [
       "동반유형명\n",
       "가족      125742756.0\n",
       "친구       45030786.0\n",
       "회사동료     31427700.0\n",
       "싱글       15657696.0\n",
       "연인       14030088.0\n",
       "Name: total, dtype: float64"
      ]
     },
     "execution_count": 110,
     "metadata": {},
     "output_type": "execute_result"
    }
   ],
   "source": [
    "pivot_accompany.loc[:'회사동료','total'].sort_values(ascending=False)"
   ]
  },
  {
   "cell_type": "code",
   "execution_count": 107,
   "id": "95919577-ef4a-40a1-be4d-58e0ac7f239a",
   "metadata": {},
   "outputs": [
    {
     "data": {
      "text/plain": [
       "기준연월\n",
       "202308    22657860.0\n",
       "202312    22008390.0\n",
       "202307    21021114.0\n",
       "202311    20918190.0\n",
       "202310    20524626.0\n",
       "202309    20272866.0\n",
       "202306    19704252.0\n",
       "202305    19163748.0\n",
       "202301    18427143.0\n",
       "202303    17104968.0\n",
       "202304    17094492.0\n",
       "202302    15623826.0\n",
       "Name: total, dtype: float64"
      ]
     },
     "execution_count": 107,
     "metadata": {},
     "output_type": "execute_result"
    }
   ],
   "source": [
    "pivot_accompany.loc['total',:202312].sort_values(ascending=False)"
   ]
  },
  {
   "cell_type": "code",
   "execution_count": 111,
   "id": "477d9d4b-0e05-4081-9c47-6f1f6ed41804",
   "metadata": {},
   "outputs": [
    {
     "data": {
      "text/plain": [
       "기준연월\n",
       "202308    2024762.0\n",
       "202307    1868967.0\n",
       "202312    1866623.0\n",
       "202310    1834109.0\n",
       "202305    1811072.0\n",
       "202306    1799385.0\n",
       "202311    1792104.0\n",
       "202309    1786088.0\n",
       "202303    1586251.0\n",
       "202304    1569915.0\n",
       "202301    1531211.0\n",
       "202302    1486639.0\n",
       "Name: 가족, dtype: float64"
      ]
     },
     "execution_count": 111,
     "metadata": {},
     "output_type": "execute_result"
    }
   ],
   "source": [
    "pivot_accompany.loc['가족',:202312].sort_values(ascending=False)"
   ]
  },
  {
   "cell_type": "code",
   "execution_count": 112,
   "id": "43cd51a9-0a1d-4bb0-afc9-9a32a95c7145",
   "metadata": {},
   "outputs": [
    {
     "data": {
      "text/plain": [
       "기준연월\n",
       "202312    759265.0\n",
       "202308    743655.0\n",
       "202311    707408.0\n",
       "202307    689576.0\n",
       "202309    672432.0\n",
       "202310    668137.0\n",
       "202306    632138.0\n",
       "202305    590993.0\n",
       "202303    551530.0\n",
       "202304    539607.0\n",
       "202302    480851.0\n",
       "202301    469539.0\n",
       "Name: 친구, dtype: float64"
      ]
     },
     "execution_count": 112,
     "metadata": {},
     "output_type": "execute_result"
    }
   ],
   "source": [
    "pivot_accompany.loc['친구',:202312].sort_values(ascending=False)"
   ]
  },
  {
   "cell_type": "code",
   "execution_count": 115,
   "id": "78937ffc-c4dd-4b06-989c-74baa4ee5c34",
   "metadata": {},
   "outputs": [
    {
     "data": {
      "text/plain": [
       "기준연월\n",
       "202312    238636.0\n",
       "202308    226793.0\n",
       "202311    216496.0\n",
       "202307    209997.0\n",
       "202310    208702.0\n",
       "202309    207444.0\n",
       "202306    203444.0\n",
       "202305    191085.0\n",
       "202303    170891.0\n",
       "202304    168656.0\n",
       "202302    152177.0\n",
       "202301    144027.0\n",
       "Name: 연인, dtype: float64"
      ]
     },
     "execution_count": 115,
     "metadata": {},
     "output_type": "execute_result"
    }
   ],
   "source": [
    "pivot_accompany.loc['연인',:202312].sort_values(ascending=False)"
   ]
  },
  {
   "cell_type": "code",
   "execution_count": 114,
   "id": "5fbe1297-2994-421d-826b-1fee5df3d1bc",
   "metadata": {},
   "outputs": [
    {
     "data": {
      "text/plain": [
       "기준연월\n",
       "202308    254801.0\n",
       "202307    239541.0\n",
       "202312    231463.0\n",
       "202311    225698.0\n",
       "202306    224835.0\n",
       "202309    224482.0\n",
       "202310    221709.0\n",
       "202305    211585.0\n",
       "202303    201430.0\n",
       "202304    196404.0\n",
       "202301    189139.0\n",
       "202302    188529.0\n",
       "Name: 싱글, dtype: float64"
      ]
     },
     "execution_count": 114,
     "metadata": {},
     "output_type": "execute_result"
    }
   ],
   "source": [
    "pivot_accompany.loc['싱글',:202312].sort_values(ascending=False)"
   ]
  },
  {
   "cell_type": "code",
   "execution_count": 149,
   "id": "c138fa88-4bea-44a8-b425-f42d52ad885b",
   "metadata": {
    "scrolled": true
   },
   "outputs": [
    {
     "data": {
      "text/plain": [
       "기준연월\n",
       "202312    572078.0\n",
       "202311    544659.0\n",
       "202308    526299.0\n",
       "202307    495438.0\n",
       "202309    488365.0\n",
       "202310    488114.0\n",
       "202306    424240.0\n",
       "202305    389223.0\n",
       "202304    374500.0\n",
       "202303    340726.0\n",
       "202301    298533.0\n",
       "202302    295775.0\n",
       "Name: 회사동료, dtype: float64"
      ]
     },
     "execution_count": 149,
     "metadata": {},
     "output_type": "execute_result"
    }
   ],
   "source": [
    "pivot_accompany.loc['회사동료',:202312].sort_values(ascending=False)"
   ]
  },
  {
   "cell_type": "code",
   "execution_count": 126,
   "id": "329ecf9b-099e-49bf-8ae6-ab1f013501dd",
   "metadata": {},
   "outputs": [
    {
     "data": {
      "image/png": "[encoded data removed]",
      "text/plain": [
       "<Figure size 1200x600 with 1 Axes>"
      ]
     },
     "metadata": {},
     "output_type": "display_data"
    }
   ],
   "source": [
    "plt.figure(figsize=(12, 6))\n",
    "sns.barplot(data=df_accompany,x='기준연월',y='언급건수', hue='지역구분', estimator=sum,errorbar=None)\n",
    "plt.show()"
   ]
  },
  {
   "cell_type": "code",
   "execution_count": 121,
   "id": "f1feb7a6-ed9e-4bcb-84ca-66968c65137f",
   "metadata": {},
   "outputs": [
    {
     "data": {
      "image/png": "[encoded data removed]",
      "text/plain": [
       "<Figure size 1200x600 with 1 Axes>"
      ]
     },
     "metadata": {},
     "output_type": "display_data"
    }
   ],
   "source": [
    "plt.figure(figsize=(12, 6))\n",
    "sns.barplot(data=df_accompany,x='기준연월',y='언급건수', hue='동반유형명', estimator=sum,errorbar=None)\n",
    "plt.show()"
   ]
  },
  {
   "cell_type": "code",
   "execution_count": 123,
   "id": "38012a0f-1432-462b-8c79-d8c13ca08f4d",
   "metadata": {},
   "outputs": [],
   "source": [
    "# plt.figure(figsize=(12, 6))\n",
    "# sns.lineplot(data=df_accompany,x='기준연월',y='언급건수', hue='동반유형명', estimator=sum,errorbar=None)\n",
    "# plt.show()"
   ]
  },
  {
   "cell_type": "markdown",
   "id": "bda6efed-ec8b-4716-a4c0-62b8769e871f",
   "metadata": {},
   "source": [
    "### 지역과 동반유형 비교\n",
    "* 전체적으로 서울에 관련된 검색량이 가장 많았고, 부산, 인천,제주,강원 순으로 많음\n",
    "* 하지만, 가족의 경우 강원이 인천, 제주보다 검색량이 더 많음"
   ]
  },
  {
   "cell_type": "code",
   "execution_count": 147,
   "id": "49e13b6d-1dea-48b1-b2c5-c6d2c56285d0",
   "metadata": {},
   "outputs": [
    {
     "data": {
      "image/png": "[encoded data removed]",
      "text/plain": [
       "<Figure size 1200x600 with 1 Axes>"
      ]
     },
     "metadata": {},
     "output_type": "display_data"
    }
   ],
   "source": [
    "plt.figure(figsize=(12, 6))\n",
    "sns.barplot(data=df_accompany,x='동반유형명',y='언급건수',hue='지역구분', estimator=sum,errorbar=None)\n",
    "plt.show()"
   ]
  },
  {
   "cell_type": "code",
   "execution_count": 141,
   "id": "38fec85b-7b7c-4e24-a2c5-183b19250760",
   "metadata": {},
   "outputs": [
    {
     "data": {
      "image/png": "[encoded data removed]",
      "text/plain": [
       "<Figure size 1200x600 with 1 Axes>"
      ]
     },
     "metadata": {},
     "output_type": "display_data"
    }
   ],
   "source": [
    "plt.figure(figsize=(12, 6))\n",
    "sns.barplot(data=df_accompany,x='지역구분',y='언급건수',hue='동반유형명', estimator=sum,errorbar=None)\n",
    "plt.show()"
   ]
  },
  {
   "cell_type": "markdown",
   "id": "ad0752fc-4706-4162-bf75-d160313222e8",
   "metadata": {},
   "source": [
    "## 평가"
   ]
  },
  {
   "cell_type": "markdown",
   "id": "3fa48a4b-ec0f-483e-a51e-1c2f520e0e34",
   "metadata": {},
   "source": [
    "### 정리\n",
    "* 다른 동반 유형에 비해 가족의 검색량이 상당히 많음\n",
    "* 다른 지역에 비해 서울의 검색량이 상당히 많음\n",
    "* 월별로 확인했을 때는 큰 차이가 없었지만 비교적 1,2월에는 검색량이 적었고, 8월,12월에는 많음\n",
    "\n",
    "### 결론\n",
    "* 월별로 확인했을 때 8,12월에 검색량이 많은 것은 휴가철과 송년회가 영향을 미쳤을 것으로 예상\n",
    "* 특히, 회사동료의 경우 12월에 가장 많은 검색량을 보였는데, 송년회의 영향일 것으로 예상됨\n",
    "* 서울 지역의 검색량이 상당히 많았는데, 이는 모임의 목적으로 만나기 위해 검색한 데이터도 포함되어 이러한 결과가 나온 것으로 예상"
   ]
  },
  {
   "cell_type": "code",
   "execution_count": null,
   "id": "0939caf3-a0a4-479e-b393-815162d30670",
   "metadata": {},
   "outputs": [],
   "source": []
  }
 ],
 "metadata": {
  "kernelspec": {
   "display_name": "Python 3 (ipykernel)",
   "language": "python",
   "name": "python3"
  },
  "language_info": {
   "codemirror_mode": {
    "name": "ipython",
    "version": 3
   },
   "file_extension": ".py",
   "mimetype": "text/x-python",
   "name": "python",
   "nbconvert_exporter": "python",
   "pygments_lexer": "ipython3",
   "version": "3.11.8"
  }
 },
 "nbformat": 4,
 "nbformat_minor": 5
}
