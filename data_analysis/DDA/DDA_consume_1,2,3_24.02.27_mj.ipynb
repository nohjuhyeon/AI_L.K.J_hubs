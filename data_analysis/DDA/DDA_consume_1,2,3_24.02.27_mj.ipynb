{
 "cells": [
  {
   "cell_type": "markdown",
   "id": "c8f56df1-49ad-4080-b61c-95e767fb3403",
   "metadata": {},
   "source": [
    "# 시각화"
   ]
  },
  {
   "cell_type": "code",
   "execution_count": 6,
   "id": "d016df7b-114a-4022-9829-ec8d51766011",
   "metadata": {
    "collapsed": true,
    "jupyter": {
     "outputs_hidden": true
    }
   },
   "outputs": [
    {
     "name": "stdout",
     "output_type": "stream",
     "text": [
      "Reading package lists... Done\n",
      "Building dependency tree... Done\n",
      "Reading state information... Done\n",
      "fonts-nanum is already the newest version (20200506-1).\n",
      "0 upgraded, 0 newly installed, 0 to remove and 0 not upgraded.\n",
      "Font directories:\n",
      "\t/root/.local/share/fonts\n",
      "\t/usr/local/share/fonts\n",
      "\t/usr/share/fonts\n",
      "\t/root/.fonts\n",
      "\t/usr/share/fonts/truetype\n",
      "\t/usr/share/fonts/truetype/dejavu\n",
      "\t/usr/share/fonts/truetype/nanum\n",
      "/root/.local/share/fonts: skipping, no such directory\n",
      "/usr/local/share/fonts: caching, new cache contents: 0 fonts, 0 dirs\n",
      "/usr/share/fonts: caching, new cache contents: 0 fonts, 1 dirs\n",
      "/usr/share/fonts/truetype: caching, new cache contents: 0 fonts, 2 dirs\n",
      "/usr/share/fonts/truetype/dejavu: caching, new cache contents: 22 fonts, 0 dirs\n",
      "/usr/share/fonts/truetype/nanum: caching, new cache contents: 12 fonts, 0 dirs\n",
      "/root/.fonts: skipping, no such directory\n",
      "/usr/share/fonts/truetype: skipping, looped directory detected\n",
      "/usr/share/fonts/truetype/dejavu: skipping, looped directory detected\n",
      "/usr/share/fonts/truetype/nanum: skipping, looped directory detected\n",
      "/var/cache/fontconfig: cleaning cache directory\n",
      "/root/.cache/fontconfig: not cleaning non-existent cache directory\n",
      "/root/.fontconfig: not cleaning non-existent cache directory\n",
      "fc-cache: succeeded\n"
     ]
    }
   ],
   "source": [
    "# 한글 폰트 설치\n",
    "!apt-get install -y fonts-nanum\n",
    "!fc-cache -fv\n",
    "!rm ~/.cache/matplotlib -rf\n",
    "# 설치 후 colab 경우 Reuntime > Restart session 필요"
   ]
  },
  {
   "cell_type": "code",
   "execution_count": 7,
   "id": "408e7306-e49a-4f29-a1ba-d3979fbe6948",
   "metadata": {
    "collapsed": true,
    "jupyter": {
     "outputs_hidden": true
    }
   },
   "outputs": [],
   "source": [
    "import matplotlib.pyplot as plt\n",
    "import matplotlib as mpl\n",
    "import seaborn as sns\n",
    "mpl.rc('font', family='NanumBarunGothic') # 혹은 다른 설치한 Nanum 폰트 사용"
   ]
  },
  {
   "cell_type": "markdown",
   "id": "313535db-e796-422f-998d-4cd426d83bdd",
   "metadata": {},
   "source": [
    "# 데이터 전처리"
   ]
  },
  {
   "cell_type": "markdown",
   "id": "f62d3a92-4cd3-4820-8c19-ad8e2836527a",
   "metadata": {},
   "source": [
    "## 관광 소비 - consume_2023"
   ]
  },
  {
   "cell_type": "code",
   "execution_count": 119,
   "id": "5913a24c-8ea4-4298-8b56-c78a31a478ef",
   "metadata": {
    "collapsed": true,
    "jupyter": {
     "outputs_hidden": true
    }
   },
   "outputs": [
    {
     "data": {
      "text/html": [
       "<div>\n",
       "<style scoped>\n",
       "    .dataframe tbody tr th:only-of-type {\n",
       "        vertical-align: middle;\n",
       "    }\n",
       "\n",
       "    .dataframe tbody tr th {\n",
       "        vertical-align: top;\n",
       "    }\n",
       "\n",
       "    .dataframe thead th {\n",
       "        text-align: right;\n",
       "    }\n",
       "</style>\n",
       "<table border=\"1\" class=\"dataframe\">\n",
       "  <thead>\n",
       "    <tr style=\"text-align: right;\">\n",
       "      <th></th>\n",
       "      <th>_id</th>\n",
       "      <th>업종대분류명</th>\n",
       "      <th>업종중분류명</th>\n",
       "      <th>중분류 소비액(천원)</th>\n",
       "      <th>지역구분</th>\n",
       "    </tr>\n",
       "  </thead>\n",
       "  <tbody>\n",
       "    <tr>\n",
       "      <th>0</th>\n",
       "      <td>65d866b9bb908e26c802b17a</td>\n",
       "      <td>쇼핑업</td>\n",
       "      <td>면세점</td>\n",
       "      <td>1.923002e+08</td>\n",
       "      <td>인천</td>\n",
       "    </tr>\n",
       "    <tr>\n",
       "      <th>1</th>\n",
       "      <td>65d866b9bb908e26c802b17b</td>\n",
       "      <td>쇼핑업</td>\n",
       "      <td>관광기념품</td>\n",
       "      <td>1.809399e+06</td>\n",
       "      <td>인천</td>\n",
       "    </tr>\n",
       "    <tr>\n",
       "      <th>2</th>\n",
       "      <td>65d866b9bb908e26c802b17c</td>\n",
       "      <td>쇼핑업</td>\n",
       "      <td>레저용품쇼핑</td>\n",
       "      <td>1.117589e+08</td>\n",
       "      <td>인천</td>\n",
       "    </tr>\n",
       "    <tr>\n",
       "      <th>3</th>\n",
       "      <td>65d866b9bb908e26c802b17d</td>\n",
       "      <td>쇼핑업</td>\n",
       "      <td>대형쇼핑몰</td>\n",
       "      <td>4.024763e+08</td>\n",
       "      <td>인천</td>\n",
       "    </tr>\n",
       "    <tr>\n",
       "      <th>4</th>\n",
       "      <td>65d866b9bb908e26c802b17e</td>\n",
       "      <td>숙박업</td>\n",
       "      <td>호텔</td>\n",
       "      <td>3.535387e+07</td>\n",
       "      <td>인천</td>\n",
       "    </tr>\n",
       "  </tbody>\n",
       "</table>\n",
       "</div>"
      ],
      "text/plain": [
       "                        _id 업종대분류명  업종중분류명   중분류 소비액(천원) 지역구분\n",
       "0  65d866b9bb908e26c802b17a    쇼핑업     면세점  1.923002e+08   인천\n",
       "1  65d866b9bb908e26c802b17b    쇼핑업   관광기념품  1.809399e+06   인천\n",
       "2  65d866b9bb908e26c802b17c    쇼핑업  레저용품쇼핑  1.117589e+08   인천\n",
       "3  65d866b9bb908e26c802b17d    쇼핑업   대형쇼핑몰  4.024763e+08   인천\n",
       "4  65d866b9bb908e26c802b17e    숙박업      호텔  3.535387e+07   인천"
      ]
     },
     "execution_count": 119,
     "metadata": {},
     "output_type": "execute_result"
    }
   ],
   "source": [
    "import numpy as np\n",
    "import pandas as pd\n",
    "import pymongo\n",
    "client=pymongo.MongoClient(\"192.168.10.240\",27017)\n",
    "db= client['AI_LKJ']\n",
    "collection=db['consume_2023']\n",
    "data = collection.find()\n",
    "df_consume = pd.DataFrame(data)\n",
    "df_consume[:5]"
   ]
  },
  {
   "cell_type": "markdown",
   "id": "76f0fd25-f484-49c1-8ffc-7c4d1ba8dda0",
   "metadata": {},
   "source": [
    "### 1번 중간 점검 : 지역별 상위 1-3위 소비 항목\n",
    "- 결측치와 이상치 확인\n",
    "- 전체적인 컬럼 확인\n",
    "- 지역구분 컬럼 확인\n",
    "- 업종대분류명 컬럼 확인\n",
    "  - 쇼핑업 ('면세점', '관광기념품', '레저용품쇼핑', '대형쇼핑몰')\n",
    "  - 숙박업 ('호텔', '콘도', '캠핑장/펜션', '기타숙박')\n",
    "  - 식음료업\n",
    "  - 여가서비스업 ('관광유원시설', '골프장', '기타레저', '문화서비스', '스키장', '카지노')\n",
    "  - 여행업\n",
    "  - 운송업 ('수상운송', '항공운송', '렌터카', '육상운송')\n",
    "- 인천 -> 가장 많이 소비하는 항목 : 식음료, 대형쇼핑몰, 면세점\n",
    "- 부산 -> 가장 많이 소비하는 항목 : 식음료, 대형쇼핑몰, 레저용품쇼핑\n",
    "- 서울 -> 가장 많이 소비하는 항목 : 식음료, 대형쇼핑몰, 항공운송\n",
    "- 제주 -> 가장 많이 소비하는 항목 : 식음료, 면세점, 골프장\n",
    "- 강원 -> 가장 많이 소비하는 항목 : 식음료, 골프장, 콘도"
   ]
  },
  {
   "cell_type": "code",
   "execution_count": 9,
   "id": "dd4972f5-287e-4f99-b17a-c8490dc5030d",
   "metadata": {
    "collapsed": true,
    "jupyter": {
     "outputs_hidden": true
    }
   },
   "outputs": [
    {
     "data": {
      "text/plain": [
       "_id            0\n",
       "업종대분류명         0\n",
       "업종중분류명         0\n",
       "중분류 소비액(천원)    0\n",
       "지역구분           0\n",
       "dtype: int64"
      ]
     },
     "execution_count": 9,
     "metadata": {},
     "output_type": "execute_result"
    }
   ],
   "source": [
    "# 결측치와 이상치 확인     -> 없음 확인\n",
    "df_consume.isnull().sum()"
   ]
  },
  {
   "cell_type": "code",
   "execution_count": 10,
   "id": "cd76c4be-046c-403a-8aa4-8680516a1f39",
   "metadata": {
    "collapsed": true,
    "jupyter": {
     "outputs_hidden": true
    }
   },
   "outputs": [
    {
     "data": {
      "text/plain": [
       "Index(['_id', '업종대분류명', '업종중분류명', '중분류 소비액(천원)', '지역구분'], dtype='object')"
      ]
     },
     "execution_count": 10,
     "metadata": {},
     "output_type": "execute_result"
    }
   ],
   "source": [
    "# 전체적인 컬럼 확인     -> '_id', '업종대분류명', '업종중분류명', '중분류 소비액(천원)', '지역구분'\n",
    "df_consume.columns"
   ]
  },
  {
   "cell_type": "code",
   "execution_count": 11,
   "id": "e261d65f-883b-4b98-9e1d-f3c992d351db",
   "metadata": {
    "collapsed": true,
    "jupyter": {
     "outputs_hidden": true
    }
   },
   "outputs": [
    {
     "data": {
      "text/plain": [
       "array(['인천', '부산', '서울', '제주', '강원'], dtype=object)"
      ]
     },
     "execution_count": 11,
     "metadata": {},
     "output_type": "execute_result"
    }
   ],
   "source": [
    "# 지역구분 컬럼 확인     -> '인천', '부산', '서울', '제주', '강원'\n",
    "df_consume['지역구분'].unique()"
   ]
  },
  {
   "cell_type": "code",
   "execution_count": 12,
   "id": "9d289fed-9e10-4f45-b1d0-a54d6337c1ec",
   "metadata": {
    "collapsed": true,
    "jupyter": {
     "outputs_hidden": true
    }
   },
   "outputs": [
    {
     "data": {
      "text/plain": [
       "array(['쇼핑업', '숙박업', '식음료업', '여가서비스업', '여행업', '운송업'], dtype=object)"
      ]
     },
     "execution_count": 12,
     "metadata": {},
     "output_type": "execute_result"
    }
   ],
   "source": [
    "# 컬럼    -> '쇼핑업', '숙박업', '식음료업', '여가서비스업', '여행업', '운송업'\n",
    "df_consume['업종대분류명'].unique()"
   ]
  },
  {
   "cell_type": "code",
   "execution_count": 13,
   "id": "54685d7f-8c8a-47a8-a9f3-31da95716a89",
   "metadata": {
    "collapsed": true,
    "jupyter": {
     "outputs_hidden": true
    }
   },
   "outputs": [
    {
     "data": {
      "text/plain": [
       "array(['면세점', '관광기념품', '레저용품쇼핑', '대형쇼핑몰'], dtype=object)"
      ]
     },
     "execution_count": 13,
     "metadata": {},
     "output_type": "execute_result"
    }
   ],
   "source": [
    "# 쇼핑업 컬럼 확인     -> '면세점', '관광기념품', '레저용품쇼핑', '대형쇼핑몰'\n",
    "df_consume[df_consume['업종대분류명'] == '쇼핑업']['업종중분류명'].unique()"
   ]
  },
  {
   "cell_type": "code",
   "execution_count": 14,
   "id": "fa10bc34-ea8e-42f1-b14b-2155817ba386",
   "metadata": {
    "collapsed": true,
    "jupyter": {
     "outputs_hidden": true
    }
   },
   "outputs": [
    {
     "data": {
      "text/plain": [
       "array(['호텔', '콘도', '캠핑장/펜션', '기타숙박'], dtype=object)"
      ]
     },
     "execution_count": 14,
     "metadata": {},
     "output_type": "execute_result"
    }
   ],
   "source": [
    "# 숙박업 컬럼 확인    -> '호텔', '콘도', '캠핑장/펜션', '기타숙박'\n",
    "df_consume[df_consume['업종대분류명'] == '숙박업']['업종중분류명'].unique()"
   ]
  },
  {
   "cell_type": "code",
   "execution_count": 15,
   "id": "fadac4a4-a3e7-4f97-bc03-761f957bb2b7",
   "metadata": {
    "collapsed": true,
    "jupyter": {
     "outputs_hidden": true
    }
   },
   "outputs": [
    {
     "data": {
      "text/plain": [
       "array(['식음료'], dtype=object)"
      ]
     },
     "execution_count": 15,
     "metadata": {},
     "output_type": "execute_result"
    }
   ],
   "source": [
    "# 식음료업 컬럼 확인   -> '식음료'\n",
    "df_consume[df_consume['업종대분류명'] == '식음료업']['업종중분류명'].unique()"
   ]
  },
  {
   "cell_type": "code",
   "execution_count": 16,
   "id": "5fbff737-67a6-42a7-b867-8941e35ec7ca",
   "metadata": {
    "collapsed": true,
    "jupyter": {
     "outputs_hidden": true
    }
   },
   "outputs": [
    {
     "data": {
      "text/plain": [
       "array(['관광유원시설', '골프장', '기타레저', '문화서비스', '스키장', '카지노'], dtype=object)"
      ]
     },
     "execution_count": 16,
     "metadata": {},
     "output_type": "execute_result"
    }
   ],
   "source": [
    "# 여가서비스업 컬럼 확인      -> '관광유원시설', '골프장', '기타레저', '문화서비스', '스키장', '카지노'\n",
    "df_consume[df_consume['업종대분류명'] == '여가서비스업']['업종중분류명'].unique()"
   ]
  },
  {
   "cell_type": "code",
   "execution_count": 17,
   "id": "84389dda-f3d8-4a4c-8448-6d593171f7f6",
   "metadata": {
    "collapsed": true,
    "jupyter": {
     "outputs_hidden": true
    }
   },
   "outputs": [
    {
     "data": {
      "text/plain": [
       "array(['여행업'], dtype=object)"
      ]
     },
     "execution_count": 17,
     "metadata": {},
     "output_type": "execute_result"
    }
   ],
   "source": [
    "# 여행업 컬럼 확인    -> '여행업'\n",
    "df_consume[df_consume['업종대분류명'] == '여행업']['업종중분류명'].unique()"
   ]
  },
  {
   "cell_type": "code",
   "execution_count": 18,
   "id": "0eb40b84-284b-46b9-a6f3-ed6ae6d69f9c",
   "metadata": {
    "collapsed": true,
    "jupyter": {
     "outputs_hidden": true
    }
   },
   "outputs": [
    {
     "data": {
      "text/plain": [
       "array(['수상운송', '항공운송', '렌터카', '육상운송'], dtype=object)"
      ]
     },
     "execution_count": 18,
     "metadata": {},
     "output_type": "execute_result"
    }
   ],
   "source": [
    "# 운송업 컬럼 확인     -> '수상운송', '항공운송', '렌터카', '육상운송'\n",
    "df_consume[df_consume['업종대분류명'] == '운송업']['업종중분류명'].unique()"
   ]
  },
  {
   "cell_type": "code",
   "execution_count": 19,
   "id": "c5318adf-f991-414c-844e-415fef9eb9af",
   "metadata": {
    "collapsed": true,
    "jupyter": {
     "outputs_hidden": true
    }
   },
   "outputs": [
    {
     "data": {
      "text/html": [
       "<div>\n",
       "<style scoped>\n",
       "    .dataframe tbody tr th:only-of-type {\n",
       "        vertical-align: middle;\n",
       "    }\n",
       "\n",
       "    .dataframe tbody tr th {\n",
       "        vertical-align: top;\n",
       "    }\n",
       "\n",
       "    .dataframe thead th {\n",
       "        text-align: right;\n",
       "    }\n",
       "</style>\n",
       "<table border=\"1\" class=\"dataframe\">\n",
       "  <thead>\n",
       "    <tr style=\"text-align: right;\">\n",
       "      <th></th>\n",
       "      <th>_id</th>\n",
       "      <th>업종대분류명</th>\n",
       "      <th>업종중분류명</th>\n",
       "      <th>중분류 소비액(천원)</th>\n",
       "      <th>지역구분</th>\n",
       "    </tr>\n",
       "  </thead>\n",
       "  <tbody>\n",
       "    <tr>\n",
       "      <th>8</th>\n",
       "      <td>65d866b9bb908e26c802b182</td>\n",
       "      <td>식음료업</td>\n",
       "      <td>식음료</td>\n",
       "      <td>1.094968e+09</td>\n",
       "      <td>인천</td>\n",
       "    </tr>\n",
       "    <tr>\n",
       "      <th>3</th>\n",
       "      <td>65d866b9bb908e26c802b17d</td>\n",
       "      <td>쇼핑업</td>\n",
       "      <td>대형쇼핑몰</td>\n",
       "      <td>4.024763e+08</td>\n",
       "      <td>인천</td>\n",
       "    </tr>\n",
       "    <tr>\n",
       "      <th>0</th>\n",
       "      <td>65d866b9bb908e26c802b17a</td>\n",
       "      <td>쇼핑업</td>\n",
       "      <td>면세점</td>\n",
       "      <td>1.923002e+08</td>\n",
       "      <td>인천</td>\n",
       "    </tr>\n",
       "    <tr>\n",
       "      <th>2</th>\n",
       "      <td>65d866b9bb908e26c802b17c</td>\n",
       "      <td>쇼핑업</td>\n",
       "      <td>레저용품쇼핑</td>\n",
       "      <td>1.117589e+08</td>\n",
       "      <td>인천</td>\n",
       "    </tr>\n",
       "    <tr>\n",
       "      <th>10</th>\n",
       "      <td>65d866b9bb908e26c802b184</td>\n",
       "      <td>여가서비스업</td>\n",
       "      <td>골프장</td>\n",
       "      <td>7.042452e+07</td>\n",
       "      <td>인천</td>\n",
       "    </tr>\n",
       "  </tbody>\n",
       "</table>\n",
       "</div>"
      ],
      "text/plain": [
       "                         _id  업종대분류명  업종중분류명   중분류 소비액(천원) 지역구분\n",
       "8   65d866b9bb908e26c802b182    식음료업     식음료  1.094968e+09   인천\n",
       "3   65d866b9bb908e26c802b17d     쇼핑업   대형쇼핑몰  4.024763e+08   인천\n",
       "0   65d866b9bb908e26c802b17a     쇼핑업     면세점  1.923002e+08   인천\n",
       "2   65d866b9bb908e26c802b17c     쇼핑업  레저용품쇼핑  1.117589e+08   인천\n",
       "10  65d866b9bb908e26c802b184  여가서비스업     골프장  7.042452e+07   인천"
      ]
     },
     "execution_count": 19,
     "metadata": {},
     "output_type": "execute_result"
    }
   ],
   "source": [
    "# 인천     -> 가장 많이 소비하는 항목 : 식음료업, 쇼핑업, 여가서비스업\n",
    "df_consume_IC = df_consume[df_consume['지역구분'] == '인천'].sort_values('중분류 소비액(천원)', ascending=False)\n",
    "df_consume_IC[:5]"
   ]
  },
  {
   "cell_type": "code",
   "execution_count": 20,
   "id": "bfc17ae2-725d-4f5d-a5e7-32bd3b4abb39",
   "metadata": {
    "collapsed": true,
    "jupyter": {
     "outputs_hidden": true
    }
   },
   "outputs": [
    {
     "data": {
      "text/html": [
       "<div>\n",
       "<style scoped>\n",
       "    .dataframe tbody tr th:only-of-type {\n",
       "        vertical-align: middle;\n",
       "    }\n",
       "\n",
       "    .dataframe tbody tr th {\n",
       "        vertical-align: top;\n",
       "    }\n",
       "\n",
       "    .dataframe thead th {\n",
       "        text-align: right;\n",
       "    }\n",
       "</style>\n",
       "<table border=\"1\" class=\"dataframe\">\n",
       "  <thead>\n",
       "    <tr style=\"text-align: right;\">\n",
       "      <th></th>\n",
       "      <th>_id</th>\n",
       "      <th>업종대분류명</th>\n",
       "      <th>업종중분류명</th>\n",
       "      <th>중분류 소비액(천원)</th>\n",
       "      <th>지역구분</th>\n",
       "    </tr>\n",
       "  </thead>\n",
       "  <tbody>\n",
       "    <tr>\n",
       "      <th>26</th>\n",
       "      <td>65d866b9bb908e26c802b194</td>\n",
       "      <td>식음료업</td>\n",
       "      <td>식음료</td>\n",
       "      <td>1.572065e+09</td>\n",
       "      <td>부산</td>\n",
       "    </tr>\n",
       "    <tr>\n",
       "      <th>21</th>\n",
       "      <td>65d866b9bb908e26c802b18f</td>\n",
       "      <td>쇼핑업</td>\n",
       "      <td>대형쇼핑몰</td>\n",
       "      <td>1.169068e+09</td>\n",
       "      <td>부산</td>\n",
       "    </tr>\n",
       "    <tr>\n",
       "      <th>20</th>\n",
       "      <td>65d866b9bb908e26c802b18e</td>\n",
       "      <td>쇼핑업</td>\n",
       "      <td>레저용품쇼핑</td>\n",
       "      <td>9.479305e+07</td>\n",
       "      <td>부산</td>\n",
       "    </tr>\n",
       "    <tr>\n",
       "      <th>34</th>\n",
       "      <td>65d866b9bb908e26c802b19c</td>\n",
       "      <td>운송업</td>\n",
       "      <td>항공운송</td>\n",
       "      <td>8.322821e+07</td>\n",
       "      <td>부산</td>\n",
       "    </tr>\n",
       "    <tr>\n",
       "      <th>27</th>\n",
       "      <td>65d866b9bb908e26c802b195</td>\n",
       "      <td>여가서비스업</td>\n",
       "      <td>골프장</td>\n",
       "      <td>6.529713e+07</td>\n",
       "      <td>부산</td>\n",
       "    </tr>\n",
       "  </tbody>\n",
       "</table>\n",
       "</div>"
      ],
      "text/plain": [
       "                         _id  업종대분류명  업종중분류명   중분류 소비액(천원) 지역구분\n",
       "26  65d866b9bb908e26c802b194    식음료업     식음료  1.572065e+09   부산\n",
       "21  65d866b9bb908e26c802b18f     쇼핑업   대형쇼핑몰  1.169068e+09   부산\n",
       "20  65d866b9bb908e26c802b18e     쇼핑업  레저용품쇼핑  9.479305e+07   부산\n",
       "34  65d866b9bb908e26c802b19c     운송업    항공운송  8.322821e+07   부산\n",
       "27  65d866b9bb908e26c802b195  여가서비스업     골프장  6.529713e+07   부산"
      ]
     },
     "execution_count": 20,
     "metadata": {},
     "output_type": "execute_result"
    }
   ],
   "source": [
    "# 부산     -> 가장 많이 소비하는 항목 : 식음료, 대형쇼핑몰, 레저용품쇼핑\n",
    "df_consume_BS = df_consume[df_consume['지역구분'] == '부산'].sort_values('중분류 소비액(천원)', ascending=False)\n",
    "df_consume_BS[:5]"
   ]
  },
  {
   "cell_type": "code",
   "execution_count": 21,
   "id": "3f308acb-6c63-4cf3-a0dc-dae8b1b83361",
   "metadata": {
    "collapsed": true,
    "jupyter": {
     "outputs_hidden": true
    }
   },
   "outputs": [
    {
     "data": {
      "text/html": [
       "<div>\n",
       "<style scoped>\n",
       "    .dataframe tbody tr th:only-of-type {\n",
       "        vertical-align: middle;\n",
       "    }\n",
       "\n",
       "    .dataframe tbody tr th {\n",
       "        vertical-align: top;\n",
       "    }\n",
       "\n",
       "    .dataframe thead th {\n",
       "        text-align: right;\n",
       "    }\n",
       "</style>\n",
       "<table border=\"1\" class=\"dataframe\">\n",
       "  <thead>\n",
       "    <tr style=\"text-align: right;\">\n",
       "      <th></th>\n",
       "      <th>_id</th>\n",
       "      <th>업종대분류명</th>\n",
       "      <th>업종중분류명</th>\n",
       "      <th>중분류 소비액(천원)</th>\n",
       "      <th>지역구분</th>\n",
       "    </tr>\n",
       "  </thead>\n",
       "  <tbody>\n",
       "    <tr>\n",
       "      <th>44</th>\n",
       "      <td>65d866b9bb908e26c802b1a6</td>\n",
       "      <td>식음료업</td>\n",
       "      <td>식음료</td>\n",
       "      <td>6.706266e+09</td>\n",
       "      <td>서울</td>\n",
       "    </tr>\n",
       "    <tr>\n",
       "      <th>39</th>\n",
       "      <td>65d866b9bb908e26c802b1a1</td>\n",
       "      <td>쇼핑업</td>\n",
       "      <td>대형쇼핑몰</td>\n",
       "      <td>3.153516e+09</td>\n",
       "      <td>서울</td>\n",
       "    </tr>\n",
       "    <tr>\n",
       "      <th>51</th>\n",
       "      <td>65d866b9bb908e26c802b1ad</td>\n",
       "      <td>운송업</td>\n",
       "      <td>항공운송</td>\n",
       "      <td>6.125839e+08</td>\n",
       "      <td>서울</td>\n",
       "    </tr>\n",
       "    <tr>\n",
       "      <th>38</th>\n",
       "      <td>65d866b9bb908e26c802b1a0</td>\n",
       "      <td>쇼핑업</td>\n",
       "      <td>레저용품쇼핑</td>\n",
       "      <td>4.710455e+08</td>\n",
       "      <td>서울</td>\n",
       "    </tr>\n",
       "    <tr>\n",
       "      <th>52</th>\n",
       "      <td>65d866b9bb908e26c802b1ae</td>\n",
       "      <td>운송업</td>\n",
       "      <td>육상운송</td>\n",
       "      <td>3.925824e+08</td>\n",
       "      <td>서울</td>\n",
       "    </tr>\n",
       "  </tbody>\n",
       "</table>\n",
       "</div>"
      ],
      "text/plain": [
       "                         _id 업종대분류명  업종중분류명   중분류 소비액(천원) 지역구분\n",
       "44  65d866b9bb908e26c802b1a6   식음료업     식음료  6.706266e+09   서울\n",
       "39  65d866b9bb908e26c802b1a1    쇼핑업   대형쇼핑몰  3.153516e+09   서울\n",
       "51  65d866b9bb908e26c802b1ad    운송업    항공운송  6.125839e+08   서울\n",
       "38  65d866b9bb908e26c802b1a0    쇼핑업  레저용품쇼핑  4.710455e+08   서울\n",
       "52  65d866b9bb908e26c802b1ae    운송업    육상운송  3.925824e+08   서울"
      ]
     },
     "execution_count": 21,
     "metadata": {},
     "output_type": "execute_result"
    }
   ],
   "source": [
    "# 서울     -> 가장 많이 소비하는 항목 : 식음료, 데형쇼핑몰, 항공운송\n",
    "df_consume_SU = df_consume[df_consume['지역구분'] == '서울'].sort_values('중분류 소비액(천원)', ascending=False)\n",
    "df_consume_SU[:5]"
   ]
  },
  {
   "cell_type": "code",
   "execution_count": 22,
   "id": "762c4f1a-da8f-4383-8153-362748d7928c",
   "metadata": {
    "collapsed": true,
    "jupyter": {
     "outputs_hidden": true
    }
   },
   "outputs": [
    {
     "data": {
      "text/html": [
       "<div>\n",
       "<style scoped>\n",
       "    .dataframe tbody tr th:only-of-type {\n",
       "        vertical-align: middle;\n",
       "    }\n",
       "\n",
       "    .dataframe tbody tr th {\n",
       "        vertical-align: top;\n",
       "    }\n",
       "\n",
       "    .dataframe thead th {\n",
       "        text-align: right;\n",
       "    }\n",
       "</style>\n",
       "<table border=\"1\" class=\"dataframe\">\n",
       "  <thead>\n",
       "    <tr style=\"text-align: right;\">\n",
       "      <th></th>\n",
       "      <th>_id</th>\n",
       "      <th>업종대분류명</th>\n",
       "      <th>업종중분류명</th>\n",
       "      <th>중분류 소비액(천원)</th>\n",
       "      <th>지역구분</th>\n",
       "    </tr>\n",
       "  </thead>\n",
       "  <tbody>\n",
       "    <tr>\n",
       "      <th>63</th>\n",
       "      <td>65d866b9bb908e26c802b1b9</td>\n",
       "      <td>식음료업</td>\n",
       "      <td>식음료</td>\n",
       "      <td>4.536980e+08</td>\n",
       "      <td>제주</td>\n",
       "    </tr>\n",
       "    <tr>\n",
       "      <th>55</th>\n",
       "      <td>65d866b9bb908e26c802b1b1</td>\n",
       "      <td>쇼핑업</td>\n",
       "      <td>면세점</td>\n",
       "      <td>1.666889e+08</td>\n",
       "      <td>제주</td>\n",
       "    </tr>\n",
       "    <tr>\n",
       "      <th>65</th>\n",
       "      <td>65d866b9bb908e26c802b1bb</td>\n",
       "      <td>여가서비스업</td>\n",
       "      <td>골프장</td>\n",
       "      <td>6.811381e+07</td>\n",
       "      <td>제주</td>\n",
       "    </tr>\n",
       "    <tr>\n",
       "      <th>71</th>\n",
       "      <td>65d866b9bb908e26c802b1c1</td>\n",
       "      <td>운송업</td>\n",
       "      <td>항공운송</td>\n",
       "      <td>6.523355e+07</td>\n",
       "      <td>제주</td>\n",
       "    </tr>\n",
       "    <tr>\n",
       "      <th>59</th>\n",
       "      <td>65d866b9bb908e26c802b1b5</td>\n",
       "      <td>숙박업</td>\n",
       "      <td>호텔</td>\n",
       "      <td>6.442682e+07</td>\n",
       "      <td>제주</td>\n",
       "    </tr>\n",
       "  </tbody>\n",
       "</table>\n",
       "</div>"
      ],
      "text/plain": [
       "                         _id  업종대분류명 업종중분류명   중분류 소비액(천원) 지역구분\n",
       "63  65d866b9bb908e26c802b1b9    식음료업    식음료  4.536980e+08   제주\n",
       "55  65d866b9bb908e26c802b1b1     쇼핑업    면세점  1.666889e+08   제주\n",
       "65  65d866b9bb908e26c802b1bb  여가서비스업    골프장  6.811381e+07   제주\n",
       "71  65d866b9bb908e26c802b1c1     운송업   항공운송  6.523355e+07   제주\n",
       "59  65d866b9bb908e26c802b1b5     숙박업     호텔  6.442682e+07   제주"
      ]
     },
     "execution_count": 22,
     "metadata": {},
     "output_type": "execute_result"
    }
   ],
   "source": [
    "# 제주     -> 가장 많이 소비하는 항목 : 식음료, 면세점, 골프장\n",
    "df_consume_JJ = df_consume[df_consume['지역구분'] == '제주'].sort_values('중분류 소비액(천원)', ascending=False)\n",
    "df_consume_JJ[:5]"
   ]
  },
  {
   "cell_type": "code",
   "execution_count": 23,
   "id": "9757141e-6997-41bf-8426-45e4b6f595bf",
   "metadata": {
    "collapsed": true,
    "jupyter": {
     "outputs_hidden": true
    }
   },
   "outputs": [
    {
     "data": {
      "text/html": [
       "<div>\n",
       "<style scoped>\n",
       "    .dataframe tbody tr th:only-of-type {\n",
       "        vertical-align: middle;\n",
       "    }\n",
       "\n",
       "    .dataframe tbody tr th {\n",
       "        vertical-align: top;\n",
       "    }\n",
       "\n",
       "    .dataframe thead th {\n",
       "        text-align: right;\n",
       "    }\n",
       "</style>\n",
       "<table border=\"1\" class=\"dataframe\">\n",
       "  <thead>\n",
       "    <tr style=\"text-align: right;\">\n",
       "      <th></th>\n",
       "      <th>_id</th>\n",
       "      <th>업종대분류명</th>\n",
       "      <th>업종중분류명</th>\n",
       "      <th>중분류 소비액(천원)</th>\n",
       "      <th>지역구분</th>\n",
       "    </tr>\n",
       "  </thead>\n",
       "  <tbody>\n",
       "    <tr>\n",
       "      <th>82</th>\n",
       "      <td>65d866b9bb908e26c802b1cc</td>\n",
       "      <td>식음료업</td>\n",
       "      <td>식음료</td>\n",
       "      <td>7.474988e+08</td>\n",
       "      <td>강원</td>\n",
       "    </tr>\n",
       "    <tr>\n",
       "      <th>84</th>\n",
       "      <td>65d866b9bb908e26c802b1ce</td>\n",
       "      <td>여가서비스업</td>\n",
       "      <td>골프장</td>\n",
       "      <td>1.677711e+08</td>\n",
       "      <td>강원</td>\n",
       "    </tr>\n",
       "    <tr>\n",
       "      <th>79</th>\n",
       "      <td>65d866b9bb908e26c802b1c9</td>\n",
       "      <td>숙박업</td>\n",
       "      <td>콘도</td>\n",
       "      <td>9.706013e+07</td>\n",
       "      <td>강원</td>\n",
       "    </tr>\n",
       "    <tr>\n",
       "      <th>75</th>\n",
       "      <td>65d866b9bb908e26c802b1c5</td>\n",
       "      <td>쇼핑업</td>\n",
       "      <td>레저용품쇼핑</td>\n",
       "      <td>8.134143e+07</td>\n",
       "      <td>강원</td>\n",
       "    </tr>\n",
       "    <tr>\n",
       "      <th>76</th>\n",
       "      <td>65d866b9bb908e26c802b1c6</td>\n",
       "      <td>쇼핑업</td>\n",
       "      <td>대형쇼핑몰</td>\n",
       "      <td>8.008767e+07</td>\n",
       "      <td>강원</td>\n",
       "    </tr>\n",
       "  </tbody>\n",
       "</table>\n",
       "</div>"
      ],
      "text/plain": [
       "                         _id  업종대분류명  업종중분류명   중분류 소비액(천원) 지역구분\n",
       "82  65d866b9bb908e26c802b1cc    식음료업     식음료  7.474988e+08   강원\n",
       "84  65d866b9bb908e26c802b1ce  여가서비스업     골프장  1.677711e+08   강원\n",
       "79  65d866b9bb908e26c802b1c9     숙박업      콘도  9.706013e+07   강원\n",
       "75  65d866b9bb908e26c802b1c5     쇼핑업  레저용품쇼핑  8.134143e+07   강원\n",
       "76  65d866b9bb908e26c802b1c6     쇼핑업   대형쇼핑몰  8.008767e+07   강원"
      ]
     },
     "execution_count": 23,
     "metadata": {},
     "output_type": "execute_result"
    }
   ],
   "source": [
    "# 강원     -> 가장 많이 소비하는 항목 : 식음료, 골프장, 콘도\n",
    "df_consume_GW = df_consume[df_consume['지역구분'] == '강원'].sort_values('중분류 소비액(천원)', ascending=False)\n",
    "df_consume_GW[:5]"
   ]
  },
  {
   "cell_type": "markdown",
   "id": "a679222d-e0c3-4120-853c-81e56a7f66f0",
   "metadata": {},
   "source": [
    "## ------------------------------------------------------------------------"
   ]
  },
  {
   "cell_type": "markdown",
   "id": "50f7024e-99cd-4f3d-bf0b-853df8530ae6",
   "metadata": {},
   "source": [
    "## 관광 소비 추이 - consume_transition_2023"
   ]
  },
  {
   "cell_type": "code",
   "execution_count": 190,
   "id": "12bf87d2-112a-45cc-ab24-8183f2e00102",
   "metadata": {
    "collapsed": true,
    "jupyter": {
     "outputs_hidden": true
    }
   },
   "outputs": [
    {
     "data": {
      "text/html": [
       "<div>\n",
       "<style scoped>\n",
       "    .dataframe tbody tr th:only-of-type {\n",
       "        vertical-align: middle;\n",
       "    }\n",
       "\n",
       "    .dataframe tbody tr th {\n",
       "        vertical-align: top;\n",
       "    }\n",
       "\n",
       "    .dataframe thead th {\n",
       "        text-align: right;\n",
       "    }\n",
       "</style>\n",
       "<table border=\"1\" class=\"dataframe\">\n",
       "  <thead>\n",
       "    <tr style=\"text-align: right;\">\n",
       "      <th></th>\n",
       "      <th>_id</th>\n",
       "      <th>기준연월</th>\n",
       "      <th>업종대분류명</th>\n",
       "      <th>소비액(천원)</th>\n",
       "      <th>지역구분</th>\n",
       "    </tr>\n",
       "  </thead>\n",
       "  <tbody>\n",
       "    <tr>\n",
       "      <th>0</th>\n",
       "      <td>65d86688bb908e26c802a96a</td>\n",
       "      <td>202312</td>\n",
       "      <td>전체</td>\n",
       "      <td>174935427.0</td>\n",
       "      <td>인천</td>\n",
       "    </tr>\n",
       "    <tr>\n",
       "      <th>1</th>\n",
       "      <td>65d86688bb908e26c802a96b</td>\n",
       "      <td>202301</td>\n",
       "      <td>전체</td>\n",
       "      <td>156103505.0</td>\n",
       "      <td>인천</td>\n",
       "    </tr>\n",
       "    <tr>\n",
       "      <th>2</th>\n",
       "      <td>65d86688bb908e26c802a96c</td>\n",
       "      <td>202302</td>\n",
       "      <td>전체</td>\n",
       "      <td>148694606.0</td>\n",
       "      <td>인천</td>\n",
       "    </tr>\n",
       "    <tr>\n",
       "      <th>3</th>\n",
       "      <td>65d86688bb908e26c802a96d</td>\n",
       "      <td>202303</td>\n",
       "      <td>전체</td>\n",
       "      <td>164691002.0</td>\n",
       "      <td>인천</td>\n",
       "    </tr>\n",
       "    <tr>\n",
       "      <th>4</th>\n",
       "      <td>65d86688bb908e26c802a96e</td>\n",
       "      <td>202304</td>\n",
       "      <td>전체</td>\n",
       "      <td>172693160.0</td>\n",
       "      <td>인천</td>\n",
       "    </tr>\n",
       "  </tbody>\n",
       "</table>\n",
       "</div>"
      ],
      "text/plain": [
       "                        _id    기준연월 업종대분류명      소비액(천원) 지역구분\n",
       "0  65d86688bb908e26c802a96a  202312     전체  174935427.0   인천\n",
       "1  65d86688bb908e26c802a96b  202301     전체  156103505.0   인천\n",
       "2  65d86688bb908e26c802a96c  202302     전체  148694606.0   인천\n",
       "3  65d86688bb908e26c802a96d  202303     전체  164691002.0   인천\n",
       "4  65d86688bb908e26c802a96e  202304     전체  172693160.0   인천"
      ]
     },
     "execution_count": 190,
     "metadata": {},
     "output_type": "execute_result"
    }
   ],
   "source": [
    "import pandas as pd\n",
    "import pymongo\n",
    "client=pymongo.MongoClient(\"192.168.10.240\",27017)\n",
    "db= client['AI_LKJ']\n",
    "collection=db['consume_transition_2023']\n",
    "data = collection.find()\n",
    "df_consume_transition = pd.DataFrame(data)\n",
    "df_consume_transition[:5]"
   ]
  },
  {
   "cell_type": "code",
   "execution_count": 191,
   "id": "a2eac4e7-304d-4937-aff1-ad4aae771249",
   "metadata": {
    "collapsed": true,
    "jupyter": {
     "outputs_hidden": true
    }
   },
   "outputs": [],
   "source": [
    "condition_IC = \"지역구분 == '인천'\"\n",
    "condition_BS = \"지역구분 == '부산'\"\n",
    "condition_SU = \"지역구분 == '서울'\"\n",
    "condition_JJ = \"지역구분 == '제주'\"\n",
    "condition_GW = \"지역구분 == '강원'\""
   ]
  },
  {
   "cell_type": "markdown",
   "id": "9051e2ed-1ff5-45b7-bb5d-9195e2ac9f42",
   "metadata": {},
   "source": [
    "### 2번 중간 점검 : 지역별 소비액이 가장 높은 항목을 전체에서 %인지 비교\n",
    "- 결측치와 이상치 확인\n",
    "- 전체적인 컬럼 확인\n",
    "- 지역구분 컬럼 확인\n",
    "- 업종대분류명 컬럼 확인\n",
    "- 지역별 & 월별 소비액이 가장 높은 항목 1위 - 3위\n",
    "  - 인천 : 식음료업, 쇼핑업 / 1월,12월 제외하고 여가서비스업 순으로 많음.\n",
    "  - 부산 : 식음료업, 쇼핑업 / 3,4,6,9,10월 제외하고 숙박업 순으로 많음.\n",
    "  - 서울 : 식음료업, 쇼핑업, 운송업\n",
    "  - 제주 : 식음료업, 쇼핑업, 숙박업\n",
    "  - 강원 : 식음료업, 3월 - 11월까지 여가서비스업이 대략 2위를 차지한다."
   ]
  },
  {
   "cell_type": "code",
   "execution_count": 192,
   "id": "1d7539b7-721c-4b9e-9ba8-2331fc5237ea",
   "metadata": {
    "collapsed": true,
    "jupyter": {
     "outputs_hidden": true
    }
   },
   "outputs": [
    {
     "data": {
      "text/plain": [
       "_id        0\n",
       "기준연월       0\n",
       "업종대분류명     0\n",
       "소비액(천원)    0\n",
       "지역구분       0\n",
       "dtype: int64"
      ]
     },
     "execution_count": 192,
     "metadata": {},
     "output_type": "execute_result"
    }
   ],
   "source": [
    "# 결측치와 이상치 확인     -> 없음 확인\n",
    "df_consume_transition.isnull().sum()"
   ]
  },
  {
   "cell_type": "code",
   "execution_count": 193,
   "id": "1b1d92c7-e551-4d4a-ba16-2540d76f6334",
   "metadata": {
    "collapsed": true,
    "jupyter": {
     "outputs_hidden": true
    }
   },
   "outputs": [
    {
     "data": {
      "text/plain": [
       "Index(['_id', '기준연월', '업종대분류명', '소비액(천원)', '지역구분'], dtype='object')"
      ]
     },
     "execution_count": 193,
     "metadata": {},
     "output_type": "execute_result"
    }
   ],
   "source": [
    "# 전체적 컬럼 확인     -> '_id', '기준연월', '업종대분류명', '소비액(천원)', '지역구분'\n",
    "df_consume_transition.columns"
   ]
  },
  {
   "cell_type": "code",
   "execution_count": 194,
   "id": "ac0d0cb6-9a36-4a7f-83fd-2c688f21955c",
   "metadata": {
    "collapsed": true,
    "jupyter": {
     "outputs_hidden": true
    }
   },
   "outputs": [
    {
     "data": {
      "text/plain": [
       "array(['인천', '부산', '서울', '제주', '강원'], dtype=object)"
      ]
     },
     "execution_count": 194,
     "metadata": {},
     "output_type": "execute_result"
    }
   ],
   "source": [
    "# 지역구분 컬럼 확인     -> '인천', '부산', '서울', '제주', '강원'\n",
    "df_consume_transition['지역구분'].unique()"
   ]
  },
  {
   "cell_type": "code",
   "execution_count": 195,
   "id": "50121acf-f78a-42bc-ad24-bcb03d9e74ab",
   "metadata": {
    "collapsed": true,
    "jupyter": {
     "outputs_hidden": true
    }
   },
   "outputs": [
    {
     "data": {
      "text/plain": [
       "array(['전체', '운송업', '여행업', '숙박업', '식음료업', '여가서비스업', '쇼핑업'], dtype=object)"
      ]
     },
     "execution_count": 195,
     "metadata": {},
     "output_type": "execute_result"
    }
   ],
   "source": [
    "# 컬럼    -> '전체', '운송업', '여행업', '숙박업', '식음료업', '여가서비스업', '쇼핑업'\n",
    "df_consume_transition['업종대분류명'].unique()"
   ]
  },
  {
   "cell_type": "code",
   "execution_count": 196,
   "id": "ae3efb02-b836-4d5c-9b67-540073fb1770",
   "metadata": {
    "collapsed": true,
    "jupyter": {
     "outputs_hidden": true
    }
   },
   "outputs": [
    {
     "data": {
      "text/html": [
       "<div>\n",
       "<style scoped>\n",
       "    .dataframe tbody tr th:only-of-type {\n",
       "        vertical-align: middle;\n",
       "    }\n",
       "\n",
       "    .dataframe tbody tr th {\n",
       "        vertical-align: top;\n",
       "    }\n",
       "\n",
       "    .dataframe thead th {\n",
       "        text-align: right;\n",
       "    }\n",
       "</style>\n",
       "<table border=\"1\" class=\"dataframe\">\n",
       "  <thead>\n",
       "    <tr style=\"text-align: right;\">\n",
       "      <th></th>\n",
       "      <th>_id</th>\n",
       "      <th>기준연월</th>\n",
       "      <th>업종대분류명</th>\n",
       "      <th>소비액(천원)</th>\n",
       "      <th>지역구분</th>\n",
       "    </tr>\n",
       "  </thead>\n",
       "  <tbody>\n",
       "    <tr>\n",
       "      <th>0</th>\n",
       "      <td>65d86688bb908e26c802a96a</td>\n",
       "      <td>202312</td>\n",
       "      <td>전체</td>\n",
       "      <td>174935427.0</td>\n",
       "      <td>인천</td>\n",
       "    </tr>\n",
       "    <tr>\n",
       "      <th>1</th>\n",
       "      <td>65d86688bb908e26c802a96b</td>\n",
       "      <td>202301</td>\n",
       "      <td>전체</td>\n",
       "      <td>156103505.0</td>\n",
       "      <td>인천</td>\n",
       "    </tr>\n",
       "    <tr>\n",
       "      <th>2</th>\n",
       "      <td>65d86688bb908e26c802a96c</td>\n",
       "      <td>202302</td>\n",
       "      <td>전체</td>\n",
       "      <td>148694606.0</td>\n",
       "      <td>인천</td>\n",
       "    </tr>\n",
       "    <tr>\n",
       "      <th>3</th>\n",
       "      <td>65d86688bb908e26c802a96d</td>\n",
       "      <td>202303</td>\n",
       "      <td>전체</td>\n",
       "      <td>164691002.0</td>\n",
       "      <td>인천</td>\n",
       "    </tr>\n",
       "    <tr>\n",
       "      <th>4</th>\n",
       "      <td>65d86688bb908e26c802a96e</td>\n",
       "      <td>202304</td>\n",
       "      <td>전체</td>\n",
       "      <td>172693160.0</td>\n",
       "      <td>인천</td>\n",
       "    </tr>\n",
       "    <tr>\n",
       "      <th>...</th>\n",
       "      <td>...</td>\n",
       "      <td>...</td>\n",
       "      <td>...</td>\n",
       "      <td>...</td>\n",
       "      <td>...</td>\n",
       "    </tr>\n",
       "    <tr>\n",
       "      <th>79</th>\n",
       "      <td>65d86688bb908e26c802a9b9</td>\n",
       "      <td>202305</td>\n",
       "      <td>운송업</td>\n",
       "      <td>4431657.0</td>\n",
       "      <td>인천</td>\n",
       "    </tr>\n",
       "    <tr>\n",
       "      <th>80</th>\n",
       "      <td>65d86688bb908e26c802a9ba</td>\n",
       "      <td>202305</td>\n",
       "      <td>여행업</td>\n",
       "      <td>40797.0</td>\n",
       "      <td>인천</td>\n",
       "    </tr>\n",
       "    <tr>\n",
       "      <th>81</th>\n",
       "      <td>65d86688bb908e26c802a9bb</td>\n",
       "      <td>202305</td>\n",
       "      <td>숙박업</td>\n",
       "      <td>5638931.0</td>\n",
       "      <td>인천</td>\n",
       "    </tr>\n",
       "    <tr>\n",
       "      <th>82</th>\n",
       "      <td>65d86688bb908e26c802a9bc</td>\n",
       "      <td>202304</td>\n",
       "      <td>식음료업</td>\n",
       "      <td>94262228.0</td>\n",
       "      <td>인천</td>\n",
       "    </tr>\n",
       "    <tr>\n",
       "      <th>83</th>\n",
       "      <td>65d86688bb908e26c802a9bd</td>\n",
       "      <td>202304</td>\n",
       "      <td>여가서비스업</td>\n",
       "      <td>9397900.0</td>\n",
       "      <td>인천</td>\n",
       "    </tr>\n",
       "  </tbody>\n",
       "</table>\n",
       "<p>84 rows × 5 columns</p>\n",
       "</div>"
      ],
      "text/plain": [
       "                         _id    기준연월  업종대분류명      소비액(천원) 지역구분\n",
       "0   65d86688bb908e26c802a96a  202312      전체  174935427.0   인천\n",
       "1   65d86688bb908e26c802a96b  202301      전체  156103505.0   인천\n",
       "2   65d86688bb908e26c802a96c  202302      전체  148694606.0   인천\n",
       "3   65d86688bb908e26c802a96d  202303      전체  164691002.0   인천\n",
       "4   65d86688bb908e26c802a96e  202304      전체  172693160.0   인천\n",
       "..                       ...     ...     ...          ...  ...\n",
       "79  65d86688bb908e26c802a9b9  202305     운송업    4431657.0   인천\n",
       "80  65d86688bb908e26c802a9ba  202305     여행업      40797.0   인천\n",
       "81  65d86688bb908e26c802a9bb  202305     숙박업    5638931.0   인천\n",
       "82  65d86688bb908e26c802a9bc  202304    식음료업   94262228.0   인천\n",
       "83  65d86688bb908e26c802a9bd  202304  여가서비스업    9397900.0   인천\n",
       "\n",
       "[84 rows x 5 columns]"
      ]
     },
     "execution_count": 196,
     "metadata": {},
     "output_type": "execute_result"
    }
   ],
   "source": [
    "df_consume_transition.query(condition_IC)"
   ]
  },
  {
   "cell_type": "code",
   "execution_count": 215,
   "id": "64de5138-1d23-4555-92d8-a42a73bbffb1",
   "metadata": {
    "collapsed": true,
    "jupyter": {
     "outputs_hidden": true
    }
   },
   "outputs": [
    {
     "data": {
      "text/plain": [
       "업종대분류명\n",
       "식음료업      54.369566\n",
       "쇼핑업       35.172158\n",
       "여가서비스업     5.126200\n",
       "숙박업        3.414940\n",
       "운송업        1.900736\n",
       "여행업        0.016399\n",
       "Name: 소비액(천원), dtype: float64"
      ]
     },
     "execution_count": 215,
     "metadata": {},
     "output_type": "execute_result"
    }
   ],
   "source": [
    "# 업종대분류명에서 전체 행을 제거 후 각 항목별 % 확인\n",
    "df_consume_transition_drop = df_consume_transition[df_consume_transition['업종대분류명'] != '전체']\n",
    "IC_visitors = df_consume_transition_drop.query(condition_IC).groupby('업종대분류명')['소비액(천원)'].sum().sort_values(ascending=False)\n",
    "sum_IC = IC_visitors.sum()\n",
    "percentages_IC = (IC_visitors / sum_IC) * 100\n",
    "percentages_IC"
   ]
  },
  {
   "cell_type": "code",
   "execution_count": 205,
   "id": "c31421e2-019d-4aeb-bab8-3a4b768482cb",
   "metadata": {
    "collapsed": true,
    "jupyter": {
     "outputs_hidden": true
    }
   },
   "outputs": [
    {
     "name": "stderr",
     "output_type": "stream",
     "text": [
      "/tmp/ipykernel_21/1898421299.py:5: DeprecationWarning: DataFrameGroupBy.apply operated on the grouping columns. This behavior is deprecated, and in a future version of pandas the grouping columns will be excluded from the operation. Either pass `include_groups=False` to exclude the groupings or explicitly select the grouping columns after groupby to silence this warning.\n",
      "  .apply(lambda x: x.nlargest(3, '소비액(천원)'))\n"
     ]
    },
    {
     "data": {
      "text/html": [
       "<div>\n",
       "<style scoped>\n",
       "    .dataframe tbody tr th:only-of-type {\n",
       "        vertical-align: middle;\n",
       "    }\n",
       "\n",
       "    .dataframe tbody tr th {\n",
       "        vertical-align: top;\n",
       "    }\n",
       "\n",
       "    .dataframe thead th {\n",
       "        text-align: right;\n",
       "    }\n",
       "</style>\n",
       "<table border=\"1\" class=\"dataframe\">\n",
       "  <thead>\n",
       "    <tr style=\"text-align: right;\">\n",
       "      <th></th>\n",
       "      <th>_id</th>\n",
       "      <th>기준연월</th>\n",
       "      <th>업종대분류명</th>\n",
       "      <th>소비액(천원)</th>\n",
       "      <th>지역구분</th>\n",
       "    </tr>\n",
       "  </thead>\n",
       "  <tbody>\n",
       "    <tr>\n",
       "      <th>0</th>\n",
       "      <td>65d86688bb908e26c802a9a5</td>\n",
       "      <td>202301</td>\n",
       "      <td>식음료업</td>\n",
       "      <td>84806064.0</td>\n",
       "      <td>인천</td>\n",
       "    </tr>\n",
       "    <tr>\n",
       "      <th>1</th>\n",
       "      <td>65d86688bb908e26c802a9a7</td>\n",
       "      <td>202301</td>\n",
       "      <td>쇼핑업</td>\n",
       "      <td>57554835.0</td>\n",
       "      <td>인천</td>\n",
       "    </tr>\n",
       "    <tr>\n",
       "      <th>2</th>\n",
       "      <td>65d86688bb908e26c802a9b4</td>\n",
       "      <td>202301</td>\n",
       "      <td>숙박업</td>\n",
       "      <td>5913636.0</td>\n",
       "      <td>인천</td>\n",
       "    </tr>\n",
       "    <tr>\n",
       "      <th>3</th>\n",
       "      <td>65d86688bb908e26c802a994</td>\n",
       "      <td>202302</td>\n",
       "      <td>식음료업</td>\n",
       "      <td>83989650.0</td>\n",
       "      <td>인천</td>\n",
       "    </tr>\n",
       "    <tr>\n",
       "      <th>4</th>\n",
       "      <td>65d86688bb908e26c802a9a1</td>\n",
       "      <td>202302</td>\n",
       "      <td>쇼핑업</td>\n",
       "      <td>50948382.0</td>\n",
       "      <td>인천</td>\n",
       "    </tr>\n",
       "    <tr>\n",
       "      <th>5</th>\n",
       "      <td>65d86688bb908e26c802a9a0</td>\n",
       "      <td>202302</td>\n",
       "      <td>여가서비스업</td>\n",
       "      <td>5742183.0</td>\n",
       "      <td>인천</td>\n",
       "    </tr>\n",
       "    <tr>\n",
       "      <th>6</th>\n",
       "      <td>65d86688bb908e26c802a999</td>\n",
       "      <td>202303</td>\n",
       "      <td>식음료업</td>\n",
       "      <td>91062428.0</td>\n",
       "      <td>인천</td>\n",
       "    </tr>\n",
       "    <tr>\n",
       "      <th>7</th>\n",
       "      <td>65d86688bb908e26c802a99b</td>\n",
       "      <td>202303</td>\n",
       "      <td>쇼핑업</td>\n",
       "      <td>57799925.0</td>\n",
       "      <td>인천</td>\n",
       "    </tr>\n",
       "    <tr>\n",
       "      <th>8</th>\n",
       "      <td>65d86688bb908e26c802a99a</td>\n",
       "      <td>202303</td>\n",
       "      <td>여가서비스업</td>\n",
       "      <td>7971954.0</td>\n",
       "      <td>인천</td>\n",
       "    </tr>\n",
       "    <tr>\n",
       "      <th>9</th>\n",
       "      <td>65d86688bb908e26c802a9bc</td>\n",
       "      <td>202304</td>\n",
       "      <td>식음료업</td>\n",
       "      <td>94262228.0</td>\n",
       "      <td>인천</td>\n",
       "    </tr>\n",
       "  </tbody>\n",
       "</table>\n",
       "</div>"
      ],
      "text/plain": [
       "                        _id    기준연월  업종대분류명     소비액(천원) 지역구분\n",
       "0  65d86688bb908e26c802a9a5  202301    식음료업  84806064.0   인천\n",
       "1  65d86688bb908e26c802a9a7  202301     쇼핑업  57554835.0   인천\n",
       "2  65d86688bb908e26c802a9b4  202301     숙박업   5913636.0   인천\n",
       "3  65d86688bb908e26c802a994  202302    식음료업  83989650.0   인천\n",
       "4  65d86688bb908e26c802a9a1  202302     쇼핑업  50948382.0   인천\n",
       "5  65d86688bb908e26c802a9a0  202302  여가서비스업   5742183.0   인천\n",
       "6  65d86688bb908e26c802a999  202303    식음료업  91062428.0   인천\n",
       "7  65d86688bb908e26c802a99b  202303     쇼핑업  57799925.0   인천\n",
       "8  65d86688bb908e26c802a99a  202303  여가서비스업   7971954.0   인천\n",
       "9  65d86688bb908e26c802a9bc  202304    식음료업  94262228.0   인천"
      ]
     },
     "execution_count": 205,
     "metadata": {},
     "output_type": "execute_result"
    }
   ],
   "source": [
    "# 인천 & 소비액이 가장 높은 항목 1위 - 3위\n",
    "df_consume_transition_IC_filter = df_consume_transition[(df_consume_transition['업종대분류명'] != '전체') & (df_consume_transition['지역구분'] == '인천')]\n",
    "IC_top3_sectors = (\n",
    "    df_consume_transition_IC_filter.groupby('기준연월')\n",
    "    .apply(lambda x: x.nlargest(3, '소비액(천원)'))\n",
    "    .reset_index(drop=True)\n",
    ")\n",
    "IC_top3_sectors[:10]\n",
    "# IC_top3_sectors['월별_분류명']=IC_top3_sectors['기준연월'].astype(str)+'_'+IC_top3_sectors['업종대분류명']\n",
    "# IC_top3_sectors"
   ]
  },
  {
   "cell_type": "code",
   "execution_count": 216,
   "id": "93d048f2-c7c9-4058-954a-46c0f113a1a0",
   "metadata": {
    "collapsed": true,
    "jupyter": {
     "outputs_hidden": true
    }
   },
   "outputs": [
    {
     "data": {
      "image/png": "[encoded data removed]",
      "text/plain": [
       "<Figure size 1000x700 with 1 Axes>"
      ]
     },
     "metadata": {},
     "output_type": "display_data"
    }
   ],
   "source": [
    "pivot_IC_top3_sectors = IC_top3_sectors.pivot_table(index='기준연월', columns='업종대분류명', values='소비액(천원)', aggfunc='sum')\n",
    "pivot_IC_top3_sectors.plot(kind='bar', stacked=True, figsize=(10, 7))\n",
    "plt.title('인천_기준연월별 업종대분류명에 따른 소비액')\n",
    "plt.xlabel('기준연월')\n",
    "plt.ylabel('소비액(천원)')\n",
    "plt.legend(title='업종대분류명')\n",
    "plt.show()"
   ]
  },
  {
   "cell_type": "code",
   "execution_count": 152,
   "id": "ee70552b-f4b1-4508-907a-a726ac1b9e48",
   "metadata": {
    "collapsed": true,
    "jupyter": {
     "outputs_hidden": true
    }
   },
   "outputs": [
    {
     "data": {
      "image/png": "[encoded data removed]",
      "text/plain": [
       "<Figure size 1000x600 with 1 Axes>"
      ]
     },
     "metadata": {},
     "output_type": "display_data"
    }
   ],
   "source": [
    "# 인천 & 상위 1위 - 3위 차트화\n",
    "plt.figure(figsize=(10, 6))\n",
    "# sns.barplot(data=IC_top3_sectors, x='기준연월', y='소비액(천원)', hue='업종대분류명', estimator=sum)\n",
    "sns.lineplot(data=IC_top3_sectors, x='기준연월', y='소비액(천원)', hue='업종대분류명', estimator=sum)\n",
    "plt.title('인천 TOP3', fontsize=20)\n",
    "plt.show()"
   ]
  },
  {
   "cell_type": "code",
   "execution_count": 69,
   "id": "c2c55c89-5995-41a7-a365-d31a040e8ea5",
   "metadata": {
    "collapsed": true,
    "jupyter": {
     "outputs_hidden": true
    }
   },
   "outputs": [
    {
     "name": "stderr",
     "output_type": "stream",
     "text": [
      "/tmp/ipykernel_21/4096860050.py:5: DeprecationWarning: DataFrameGroupBy.apply operated on the grouping columns. This behavior is deprecated, and in a future version of pandas the grouping columns will be excluded from the operation. Either pass `include_groups=False` to exclude the groupings or explicitly select the grouping columns after groupby to silence this warning.\n",
      "  .apply(lambda x: x.nlargest(3, '소비액(천원)'))\n"
     ]
    },
    {
     "data": {
      "text/html": [
       "<div>\n",
       "<style scoped>\n",
       "    .dataframe tbody tr th:only-of-type {\n",
       "        vertical-align: middle;\n",
       "    }\n",
       "\n",
       "    .dataframe tbody tr th {\n",
       "        vertical-align: top;\n",
       "    }\n",
       "\n",
       "    .dataframe thead th {\n",
       "        text-align: right;\n",
       "    }\n",
       "</style>\n",
       "<table border=\"1\" class=\"dataframe\">\n",
       "  <thead>\n",
       "    <tr style=\"text-align: right;\">\n",
       "      <th></th>\n",
       "      <th>_id</th>\n",
       "      <th>기준연월</th>\n",
       "      <th>업종대분류명</th>\n",
       "      <th>소비액(천원)</th>\n",
       "      <th>지역구분</th>\n",
       "    </tr>\n",
       "  </thead>\n",
       "  <tbody>\n",
       "    <tr>\n",
       "      <th>0</th>\n",
       "      <td>65d86688bb908e26c802a9f8</td>\n",
       "      <td>202301</td>\n",
       "      <td>식음료업</td>\n",
       "      <td>125632365.0</td>\n",
       "      <td>부산</td>\n",
       "    </tr>\n",
       "    <tr>\n",
       "      <th>1</th>\n",
       "      <td>65d86688bb908e26c802a9fa</td>\n",
       "      <td>202301</td>\n",
       "      <td>쇼핑업</td>\n",
       "      <td>107216707.0</td>\n",
       "      <td>부산</td>\n",
       "    </tr>\n",
       "    <tr>\n",
       "      <th>2</th>\n",
       "      <td>65d86688bb908e26c802aa08</td>\n",
       "      <td>202301</td>\n",
       "      <td>숙박업</td>\n",
       "      <td>10273648.0</td>\n",
       "      <td>부산</td>\n",
       "    </tr>\n",
       "    <tr>\n",
       "      <th>3</th>\n",
       "      <td>65d86688bb908e26c802a9f2</td>\n",
       "      <td>202302</td>\n",
       "      <td>식음료업</td>\n",
       "      <td>122457023.0</td>\n",
       "      <td>부산</td>\n",
       "    </tr>\n",
       "    <tr>\n",
       "      <th>4</th>\n",
       "      <td>65d86688bb908e26c802a9f4</td>\n",
       "      <td>202302</td>\n",
       "      <td>쇼핑업</td>\n",
       "      <td>94358710.0</td>\n",
       "      <td>부산</td>\n",
       "    </tr>\n",
       "    <tr>\n",
       "      <th>5</th>\n",
       "      <td>65d86688bb908e26c802a9f7</td>\n",
       "      <td>202302</td>\n",
       "      <td>숙박업</td>\n",
       "      <td>10558776.0</td>\n",
       "      <td>부산</td>\n",
       "    </tr>\n",
       "    <tr>\n",
       "      <th>6</th>\n",
       "      <td>65d86688bb908e26c802a9ec</td>\n",
       "      <td>202303</td>\n",
       "      <td>식음료업</td>\n",
       "      <td>127989436.0</td>\n",
       "      <td>부산</td>\n",
       "    </tr>\n",
       "    <tr>\n",
       "      <th>7</th>\n",
       "      <td>65d86688bb908e26c802a9ee</td>\n",
       "      <td>202303</td>\n",
       "      <td>쇼핑업</td>\n",
       "      <td>107430880.0</td>\n",
       "      <td>부산</td>\n",
       "    </tr>\n",
       "    <tr>\n",
       "      <th>8</th>\n",
       "      <td>65d86688bb908e26c802a9ed</td>\n",
       "      <td>202303</td>\n",
       "      <td>여가서비스업</td>\n",
       "      <td>9410203.0</td>\n",
       "      <td>부산</td>\n",
       "    </tr>\n",
       "    <tr>\n",
       "      <th>9</th>\n",
       "      <td>65d86688bb908e26c802aa10</td>\n",
       "      <td>202304</td>\n",
       "      <td>식음료업</td>\n",
       "      <td>130727192.0</td>\n",
       "      <td>부산</td>\n",
       "    </tr>\n",
       "  </tbody>\n",
       "</table>\n",
       "</div>"
      ],
      "text/plain": [
       "                        _id    기준연월  업종대분류명      소비액(천원) 지역구분\n",
       "0  65d86688bb908e26c802a9f8  202301    식음료업  125632365.0   부산\n",
       "1  65d86688bb908e26c802a9fa  202301     쇼핑업  107216707.0   부산\n",
       "2  65d86688bb908e26c802aa08  202301     숙박업   10273648.0   부산\n",
       "3  65d86688bb908e26c802a9f2  202302    식음료업  122457023.0   부산\n",
       "4  65d86688bb908e26c802a9f4  202302     쇼핑업   94358710.0   부산\n",
       "5  65d86688bb908e26c802a9f7  202302     숙박업   10558776.0   부산\n",
       "6  65d86688bb908e26c802a9ec  202303    식음료업  127989436.0   부산\n",
       "7  65d86688bb908e26c802a9ee  202303     쇼핑업  107430880.0   부산\n",
       "8  65d86688bb908e26c802a9ed  202303  여가서비스업    9410203.0   부산\n",
       "9  65d86688bb908e26c802aa10  202304    식음료업  130727192.0   부산"
      ]
     },
     "execution_count": 69,
     "metadata": {},
     "output_type": "execute_result"
    }
   ],
   "source": [
    "# 부산 & 소비액이 가장 높은 항목 1위 - 3위\n",
    "df_consume_transition_BS_filter = df_consume_transition[(df_consume_transition['업종대분류명'] != '전체') & (df_consume_transition['지역구분'] == '부산')]\n",
    "BS_top3_sectors = (\n",
    "    df_consume_transition_BS_filter.groupby('기준연월')\n",
    "    .apply(lambda x: x.nlargest(3, '소비액(천원)'))\n",
    "    .reset_index(drop=True)\n",
    ")\n",
    "BS_top3_sectors[:10]"
   ]
  },
  {
   "cell_type": "code",
   "execution_count": 218,
   "id": "166bf7dd-a8d9-47e9-8c07-bb679d473671",
   "metadata": {
    "collapsed": true,
    "jupyter": {
     "outputs_hidden": true
    }
   },
   "outputs": [
    {
     "data": {
      "image/png": "[encoded data removed]",
      "text/plain": [
       "<Figure size 1000x700 with 1 Axes>"
      ]
     },
     "metadata": {},
     "output_type": "display_data"
    }
   ],
   "source": [
    "pivot_BS_top3_sectors = BS_top3_sectors.pivot_table(index='기준연월', columns='업종대분류명', values='소비액(천원)', aggfunc='sum')\n",
    "pivot_BS_top3_sectors.plot(kind='bar', stacked=True, figsize=(10, 7))\n",
    "plt.title('부산_기준연월별 업종대분류명에 따른 소비액')\n",
    "plt.xlabel('기준연월')\n",
    "plt.ylabel('소비액(천원)')\n",
    "plt.legend(title='업종대분류명')\n",
    "plt.show()"
   ]
  },
  {
   "cell_type": "code",
   "execution_count": 151,
   "id": "dd61eff9-f14a-41a1-b92a-d8f057c9ed85",
   "metadata": {
    "collapsed": true,
    "jupyter": {
     "outputs_hidden": true
    }
   },
   "outputs": [
    {
     "data": {
      "image/png": "[encoded data removed]",
      "text/plain": [
       "<Figure size 1000x600 with 1 Axes>"
      ]
     },
     "metadata": {},
     "output_type": "display_data"
    }
   ],
   "source": [
    "# 부산 & 상위 1위 - 3위 차트화\n",
    "plt.figure(figsize=(10, 6))\n",
    "# sns.barplot(data=BS_top3_sectors, x='기준연월', y='소비액(천원)', hue='업종대분류명', estimator=sum)\n",
    "sns.lineplot(data=BS_top3_sectors, x='기준연월', y='소비액(천원)', hue='업종대분류명', estimator=sum)\n",
    "plt.title('부산 TOP3', fontsize=20)\n",
    "plt.show()"
   ]
  },
  {
   "cell_type": "code",
   "execution_count": 71,
   "id": "2d4a155e-b623-4d28-8142-71f1e062d373",
   "metadata": {
    "collapsed": true,
    "jupyter": {
     "outputs_hidden": true
    }
   },
   "outputs": [
    {
     "name": "stderr",
     "output_type": "stream",
     "text": [
      "/tmp/ipykernel_21/1531560479.py:5: DeprecationWarning: DataFrameGroupBy.apply operated on the grouping columns. This behavior is deprecated, and in a future version of pandas the grouping columns will be excluded from the operation. Either pass `include_groups=False` to exclude the groupings or explicitly select the grouping columns after groupby to silence this warning.\n",
      "  .apply(lambda x: x.nlargest(3, '소비액(천원)'))\n"
     ]
    },
    {
     "data": {
      "text/html": [
       "<div>\n",
       "<style scoped>\n",
       "    .dataframe tbody tr th:only-of-type {\n",
       "        vertical-align: middle;\n",
       "    }\n",
       "\n",
       "    .dataframe tbody tr th {\n",
       "        vertical-align: top;\n",
       "    }\n",
       "\n",
       "    .dataframe thead th {\n",
       "        text-align: right;\n",
       "    }\n",
       "</style>\n",
       "<table border=\"1\" class=\"dataframe\">\n",
       "  <thead>\n",
       "    <tr style=\"text-align: right;\">\n",
       "      <th></th>\n",
       "      <th>_id</th>\n",
       "      <th>기준연월</th>\n",
       "      <th>업종대분류명</th>\n",
       "      <th>소비액(천원)</th>\n",
       "      <th>지역구분</th>\n",
       "    </tr>\n",
       "  </thead>\n",
       "  <tbody>\n",
       "    <tr>\n",
       "      <th>0</th>\n",
       "      <td>65d86688bb908e26c802aa4c</td>\n",
       "      <td>202301</td>\n",
       "      <td>식음료업</td>\n",
       "      <td>528261224.0</td>\n",
       "      <td>서울</td>\n",
       "    </tr>\n",
       "    <tr>\n",
       "      <th>1</th>\n",
       "      <td>65d86688bb908e26c802aa4e</td>\n",
       "      <td>202301</td>\n",
       "      <td>쇼핑업</td>\n",
       "      <td>299398921.0</td>\n",
       "      <td>서울</td>\n",
       "    </tr>\n",
       "    <tr>\n",
       "      <th>2</th>\n",
       "      <td>65d86688bb908e26c802aa4f</td>\n",
       "      <td>202301</td>\n",
       "      <td>운송업</td>\n",
       "      <td>79958227.0</td>\n",
       "      <td>서울</td>\n",
       "    </tr>\n",
       "    <tr>\n",
       "      <th>3</th>\n",
       "      <td>65d86688bb908e26c802aa46</td>\n",
       "      <td>202302</td>\n",
       "      <td>식음료업</td>\n",
       "      <td>537993937.0</td>\n",
       "      <td>서울</td>\n",
       "    </tr>\n",
       "    <tr>\n",
       "      <th>4</th>\n",
       "      <td>65d86688bb908e26c802aa48</td>\n",
       "      <td>202302</td>\n",
       "      <td>쇼핑업</td>\n",
       "      <td>284494845.0</td>\n",
       "      <td>서울</td>\n",
       "    </tr>\n",
       "    <tr>\n",
       "      <th>5</th>\n",
       "      <td>65d86688bb908e26c802aa49</td>\n",
       "      <td>202302</td>\n",
       "      <td>운송업</td>\n",
       "      <td>76356775.0</td>\n",
       "      <td>서울</td>\n",
       "    </tr>\n",
       "    <tr>\n",
       "      <th>6</th>\n",
       "      <td>65d86688bb908e26c802aa40</td>\n",
       "      <td>202303</td>\n",
       "      <td>식음료업</td>\n",
       "      <td>588932836.0</td>\n",
       "      <td>서울</td>\n",
       "    </tr>\n",
       "    <tr>\n",
       "      <th>7</th>\n",
       "      <td>65d86688bb908e26c802aa42</td>\n",
       "      <td>202303</td>\n",
       "      <td>쇼핑업</td>\n",
       "      <td>319081679.0</td>\n",
       "      <td>서울</td>\n",
       "    </tr>\n",
       "    <tr>\n",
       "      <th>8</th>\n",
       "      <td>65d86688bb908e26c802aa43</td>\n",
       "      <td>202303</td>\n",
       "      <td>운송업</td>\n",
       "      <td>81637286.0</td>\n",
       "      <td>서울</td>\n",
       "    </tr>\n",
       "    <tr>\n",
       "      <th>9</th>\n",
       "      <td>65d86688bb908e26c802aa64</td>\n",
       "      <td>202304</td>\n",
       "      <td>식음료업</td>\n",
       "      <td>576514758.0</td>\n",
       "      <td>서울</td>\n",
       "    </tr>\n",
       "  </tbody>\n",
       "</table>\n",
       "</div>"
      ],
      "text/plain": [
       "                        _id    기준연월 업종대분류명      소비액(천원) 지역구분\n",
       "0  65d86688bb908e26c802aa4c  202301   식음료업  528261224.0   서울\n",
       "1  65d86688bb908e26c802aa4e  202301    쇼핑업  299398921.0   서울\n",
       "2  65d86688bb908e26c802aa4f  202301    운송업   79958227.0   서울\n",
       "3  65d86688bb908e26c802aa46  202302   식음료업  537993937.0   서울\n",
       "4  65d86688bb908e26c802aa48  202302    쇼핑업  284494845.0   서울\n",
       "5  65d86688bb908e26c802aa49  202302    운송업   76356775.0   서울\n",
       "6  65d86688bb908e26c802aa40  202303   식음료업  588932836.0   서울\n",
       "7  65d86688bb908e26c802aa42  202303    쇼핑업  319081679.0   서울\n",
       "8  65d86688bb908e26c802aa43  202303    운송업   81637286.0   서울\n",
       "9  65d86688bb908e26c802aa64  202304   식음료업  576514758.0   서울"
      ]
     },
     "execution_count": 71,
     "metadata": {},
     "output_type": "execute_result"
    }
   ],
   "source": [
    "# 서울 & 소비액이 가장 높은 항목 1위 - 3위\n",
    "df_consume_transition_SU_filter = df_consume_transition[(df_consume_transition['업종대분류명'] != '전체') & (df_consume_transition['지역구분'] == '서울')]\n",
    "SU_top3_sectors = (\n",
    "    df_consume_transition_SU_filter.groupby('기준연월')\n",
    "    .apply(lambda x: x.nlargest(3, '소비액(천원)'))\n",
    "    .reset_index(drop=True)\n",
    ")\n",
    "SU_top3_sectors[:10]"
   ]
  },
  {
   "cell_type": "code",
   "execution_count": 219,
   "id": "18a50a2b-c2a8-47e4-87df-98509d43f909",
   "metadata": {
    "collapsed": true,
    "jupyter": {
     "outputs_hidden": true
    }
   },
   "outputs": [
    {
     "data": {
      "image/png": "[encoded data removed]",
      "text/plain": [
       "<Figure size 1000x700 with 1 Axes>"
      ]
     },
     "metadata": {},
     "output_type": "display_data"
    }
   ],
   "source": [
    "pivot_SU_top3_sectors = SU_top3_sectors.pivot_table(index='기준연월', columns='업종대분류명', values='소비액(천원)', aggfunc='sum')\n",
    "pivot_SU_top3_sectors.plot(kind='bar', stacked=True, figsize=(10, 7))\n",
    "plt.title('서울_기준연월별 업종대분류명에 따른 소비액')\n",
    "plt.xlabel('기준연월')\n",
    "plt.ylabel('소비액(천원)')\n",
    "plt.legend(title='업종대분류명')\n",
    "plt.show()"
   ]
  },
  {
   "cell_type": "code",
   "execution_count": 150,
   "id": "48c3f718-430b-4a9e-b603-21d6af358189",
   "metadata": {
    "collapsed": true,
    "jupyter": {
     "outputs_hidden": true
    }
   },
   "outputs": [
    {
     "data": {
      "image/png": "[encoded data removed]",
      "text/plain": [
       "<Figure size 1000x600 with 1 Axes>"
      ]
     },
     "metadata": {},
     "output_type": "display_data"
    }
   ],
   "source": [
    "# 서울 & 상위 1위 - 3위 차트화\n",
    "plt.figure(figsize=(10, 6))\n",
    "# sns.barplot(data=SU_top3_sectors, x='기준연월', y='소비액(천원)', hue='업종대분류명', estimator=sum)\n",
    "sns.lineplot(data=SU_top3_sectors, x='기준연월', y='소비액(천원)', hue='업종대분류명', estimator=sum)\n",
    "plt.title('서울 TOP3', fontsize=20)\n",
    "plt.show()"
   ]
  },
  {
   "cell_type": "code",
   "execution_count": 73,
   "id": "eaf422a8-642c-452c-8d6f-65dcfe83d2a5",
   "metadata": {
    "collapsed": true,
    "jupyter": {
     "outputs_hidden": true
    }
   },
   "outputs": [
    {
     "name": "stderr",
     "output_type": "stream",
     "text": [
      "/tmp/ipykernel_21/3311276111.py:5: DeprecationWarning: DataFrameGroupBy.apply operated on the grouping columns. This behavior is deprecated, and in a future version of pandas the grouping columns will be excluded from the operation. Either pass `include_groups=False` to exclude the groupings or explicitly select the grouping columns after groupby to silence this warning.\n",
      "  .apply(lambda x: x.nlargest(3, '소비액(천원)'))\n"
     ]
    },
    {
     "data": {
      "text/html": [
       "<div>\n",
       "<style scoped>\n",
       "    .dataframe tbody tr th:only-of-type {\n",
       "        vertical-align: middle;\n",
       "    }\n",
       "\n",
       "    .dataframe tbody tr th {\n",
       "        vertical-align: top;\n",
       "    }\n",
       "\n",
       "    .dataframe thead th {\n",
       "        text-align: right;\n",
       "    }\n",
       "</style>\n",
       "<table border=\"1\" class=\"dataframe\">\n",
       "  <thead>\n",
       "    <tr style=\"text-align: right;\">\n",
       "      <th></th>\n",
       "      <th>_id</th>\n",
       "      <th>기준연월</th>\n",
       "      <th>업종대분류명</th>\n",
       "      <th>소비액(천원)</th>\n",
       "      <th>지역구분</th>\n",
       "    </tr>\n",
       "  </thead>\n",
       "  <tbody>\n",
       "    <tr>\n",
       "      <th>0</th>\n",
       "      <td>65d86688bb908e26c802aaa0</td>\n",
       "      <td>202301</td>\n",
       "      <td>식음료업</td>\n",
       "      <td>36146556.0</td>\n",
       "      <td>제주</td>\n",
       "    </tr>\n",
       "    <tr>\n",
       "      <th>1</th>\n",
       "      <td>65d86688bb908e26c802aaa2</td>\n",
       "      <td>202301</td>\n",
       "      <td>쇼핑업</td>\n",
       "      <td>22456942.0</td>\n",
       "      <td>제주</td>\n",
       "    </tr>\n",
       "    <tr>\n",
       "      <th>2</th>\n",
       "      <td>65d86688bb908e26c802aab0</td>\n",
       "      <td>202301</td>\n",
       "      <td>숙박업</td>\n",
       "      <td>12448179.0</td>\n",
       "      <td>제주</td>\n",
       "    </tr>\n",
       "    <tr>\n",
       "      <th>3</th>\n",
       "      <td>65d86688bb908e26c802aa9a</td>\n",
       "      <td>202302</td>\n",
       "      <td>식음료업</td>\n",
       "      <td>36869745.0</td>\n",
       "      <td>제주</td>\n",
       "    </tr>\n",
       "    <tr>\n",
       "      <th>4</th>\n",
       "      <td>65d86688bb908e26c802aa9c</td>\n",
       "      <td>202302</td>\n",
       "      <td>쇼핑업</td>\n",
       "      <td>22193415.0</td>\n",
       "      <td>제주</td>\n",
       "    </tr>\n",
       "    <tr>\n",
       "      <th>5</th>\n",
       "      <td>65d86688bb908e26c802aa9f</td>\n",
       "      <td>202302</td>\n",
       "      <td>숙박업</td>\n",
       "      <td>12158258.0</td>\n",
       "      <td>제주</td>\n",
       "    </tr>\n",
       "    <tr>\n",
       "      <th>6</th>\n",
       "      <td>65d86688bb908e26c802aa94</td>\n",
       "      <td>202303</td>\n",
       "      <td>식음료업</td>\n",
       "      <td>37047860.0</td>\n",
       "      <td>제주</td>\n",
       "    </tr>\n",
       "    <tr>\n",
       "      <th>7</th>\n",
       "      <td>65d86688bb908e26c802aa96</td>\n",
       "      <td>202303</td>\n",
       "      <td>쇼핑업</td>\n",
       "      <td>24707282.0</td>\n",
       "      <td>제주</td>\n",
       "    </tr>\n",
       "    <tr>\n",
       "      <th>8</th>\n",
       "      <td>65d86688bb908e26c802aa99</td>\n",
       "      <td>202303</td>\n",
       "      <td>숙박업</td>\n",
       "      <td>10350926.0</td>\n",
       "      <td>제주</td>\n",
       "    </tr>\n",
       "    <tr>\n",
       "      <th>9</th>\n",
       "      <td>65d86688bb908e26c802aab8</td>\n",
       "      <td>202304</td>\n",
       "      <td>식음료업</td>\n",
       "      <td>40691345.0</td>\n",
       "      <td>제주</td>\n",
       "    </tr>\n",
       "  </tbody>\n",
       "</table>\n",
       "</div>"
      ],
      "text/plain": [
       "                        _id    기준연월 업종대분류명     소비액(천원) 지역구분\n",
       "0  65d86688bb908e26c802aaa0  202301   식음료업  36146556.0   제주\n",
       "1  65d86688bb908e26c802aaa2  202301    쇼핑업  22456942.0   제주\n",
       "2  65d86688bb908e26c802aab0  202301    숙박업  12448179.0   제주\n",
       "3  65d86688bb908e26c802aa9a  202302   식음료업  36869745.0   제주\n",
       "4  65d86688bb908e26c802aa9c  202302    쇼핑업  22193415.0   제주\n",
       "5  65d86688bb908e26c802aa9f  202302    숙박업  12158258.0   제주\n",
       "6  65d86688bb908e26c802aa94  202303   식음료업  37047860.0   제주\n",
       "7  65d86688bb908e26c802aa96  202303    쇼핑업  24707282.0   제주\n",
       "8  65d86688bb908e26c802aa99  202303    숙박업  10350926.0   제주\n",
       "9  65d86688bb908e26c802aab8  202304   식음료업  40691345.0   제주"
      ]
     },
     "execution_count": 73,
     "metadata": {},
     "output_type": "execute_result"
    }
   ],
   "source": [
    "# 제주 & 소비액이 가장 높은 항목 1위 - 3위\n",
    "df_consume_transition_JJ_filter = df_consume_transition[(df_consume_transition['업종대분류명'] != '전체') & (df_consume_transition['지역구분'] == '제주')]\n",
    "JJ_top3_sectors = (\n",
    "    df_consume_transition_JJ_filter.groupby('기준연월')\n",
    "    .apply(lambda x: x.nlargest(3, '소비액(천원)'))\n",
    "    .reset_index(drop=True)\n",
    ")\n",
    "JJ_top3_sectors[:10]"
   ]
  },
  {
   "cell_type": "code",
   "execution_count": 220,
   "id": "3fad4ddf-bdfc-43f1-aaae-7f8bd6f3f024",
   "metadata": {
    "collapsed": true,
    "jupyter": {
     "outputs_hidden": true
    }
   },
   "outputs": [
    {
     "data": {
      "image/png": "[encoded data removed]",
      "text/plain": [
       "<Figure size 1000x700 with 1 Axes>"
      ]
     },
     "metadata": {},
     "output_type": "display_data"
    }
   ],
   "source": [
    "pivot_JJ_top3_sectors = JJ_top3_sectors.pivot_table(index='기준연월', columns='업종대분류명', values='소비액(천원)', aggfunc='sum')\n",
    "pivot_JJ_top3_sectors.plot(kind='bar', stacked=True, figsize=(10, 7))\n",
    "plt.title('제주_기준연월별 업종대분류명에 따른 소비액')\n",
    "plt.xlabel('기준연월')\n",
    "plt.ylabel('소비액(천원)')\n",
    "plt.legend(title='업종대분류명')\n",
    "plt.show()"
   ]
  },
  {
   "cell_type": "code",
   "execution_count": 148,
   "id": "ae326bc4-8b50-41ca-9bf9-7021173808c6",
   "metadata": {
    "collapsed": true,
    "jupyter": {
     "outputs_hidden": true
    }
   },
   "outputs": [
    {
     "data": {
      "image/png": "[encoded data removed]",
      "text/plain": [
       "<Figure size 1000x600 with 1 Axes>"
      ]
     },
     "metadata": {},
     "output_type": "display_data"
    }
   ],
   "source": [
    "# 제주 & 상위 1위 - 3위 차트화\n",
    "plt.figure(figsize=(10, 6))\n",
    "# sns.barplot(data=JJ_top3_sectors, x='기준연월', y='소비액(천원)', hue='업종대분류명', estimator=sum)\n",
    "sns.lineplot(data=JJ_top3_sectors, x='기준연월', y='소비액(천원)', hue='업종대분류명', estimator=sum)\n",
    "plt.title('제주 TOP3', fontsize=20)\n",
    "plt.show()"
   ]
  },
  {
   "cell_type": "code",
   "execution_count": 224,
   "id": "16df6684-8cd4-4abb-8122-3c10c34277a5",
   "metadata": {
    "collapsed": true,
    "jupyter": {
     "outputs_hidden": true
    }
   },
   "outputs": [
    {
     "name": "stderr",
     "output_type": "stream",
     "text": [
      "/tmp/ipykernel_21/359896220.py:5: DeprecationWarning: DataFrameGroupBy.apply operated on the grouping columns. This behavior is deprecated, and in a future version of pandas the grouping columns will be excluded from the operation. Either pass `include_groups=False` to exclude the groupings or explicitly select the grouping columns after groupby to silence this warning.\n",
      "  .apply(lambda x: x.nlargest(3, '소비액(천원)'))\n"
     ]
    },
    {
     "data": {
      "text/html": [
       "<div>\n",
       "<style scoped>\n",
       "    .dataframe tbody tr th:only-of-type {\n",
       "        vertical-align: middle;\n",
       "    }\n",
       "\n",
       "    .dataframe tbody tr th {\n",
       "        vertical-align: top;\n",
       "    }\n",
       "\n",
       "    .dataframe thead th {\n",
       "        text-align: right;\n",
       "    }\n",
       "</style>\n",
       "<table border=\"1\" class=\"dataframe\">\n",
       "  <thead>\n",
       "    <tr style=\"text-align: right;\">\n",
       "      <th></th>\n",
       "      <th>_id</th>\n",
       "      <th>기준연월</th>\n",
       "      <th>업종대분류명</th>\n",
       "      <th>소비액(천원)</th>\n",
       "      <th>지역구분</th>\n",
       "    </tr>\n",
       "  </thead>\n",
       "  <tbody>\n",
       "    <tr>\n",
       "      <th>0</th>\n",
       "      <td>65d86688bb908e26c802aaf5</td>\n",
       "      <td>202301</td>\n",
       "      <td>식음료업</td>\n",
       "      <td>56357544.0</td>\n",
       "      <td>강원</td>\n",
       "    </tr>\n",
       "    <tr>\n",
       "      <th>1</th>\n",
       "      <td>65d86688bb908e26c802ab04</td>\n",
       "      <td>202301</td>\n",
       "      <td>숙박업</td>\n",
       "      <td>22262889.0</td>\n",
       "      <td>강원</td>\n",
       "    </tr>\n",
       "    <tr>\n",
       "      <th>2</th>\n",
       "      <td>65d86688bb908e26c802aaf7</td>\n",
       "      <td>202301</td>\n",
       "      <td>쇼핑업</td>\n",
       "      <td>14314328.0</td>\n",
       "      <td>강원</td>\n",
       "    </tr>\n",
       "    <tr>\n",
       "      <th>3</th>\n",
       "      <td>65d86688bb908e26c802aae4</td>\n",
       "      <td>202302</td>\n",
       "      <td>식음료업</td>\n",
       "      <td>56329509.0</td>\n",
       "      <td>강원</td>\n",
       "    </tr>\n",
       "    <tr>\n",
       "      <th>4</th>\n",
       "      <td>65d86688bb908e26c802aaf3</td>\n",
       "      <td>202302</td>\n",
       "      <td>숙박업</td>\n",
       "      <td>18559891.0</td>\n",
       "      <td>강원</td>\n",
       "    </tr>\n",
       "    <tr>\n",
       "      <th>5</th>\n",
       "      <td>65d86688bb908e26c802aaf1</td>\n",
       "      <td>202302</td>\n",
       "      <td>쇼핑업</td>\n",
       "      <td>12654560.0</td>\n",
       "      <td>강원</td>\n",
       "    </tr>\n",
       "    <tr>\n",
       "      <th>6</th>\n",
       "      <td>65d86688bb908e26c802aae9</td>\n",
       "      <td>202303</td>\n",
       "      <td>식음료업</td>\n",
       "      <td>50554545.0</td>\n",
       "      <td>강원</td>\n",
       "    </tr>\n",
       "    <tr>\n",
       "      <th>7</th>\n",
       "      <td>65d86688bb908e26c802aaea</td>\n",
       "      <td>202303</td>\n",
       "      <td>여가서비스업</td>\n",
       "      <td>15807408.0</td>\n",
       "      <td>강원</td>\n",
       "    </tr>\n",
       "    <tr>\n",
       "      <th>8</th>\n",
       "      <td>65d86688bb908e26c802aaeb</td>\n",
       "      <td>202303</td>\n",
       "      <td>쇼핑업</td>\n",
       "      <td>13595242.0</td>\n",
       "      <td>강원</td>\n",
       "    </tr>\n",
       "    <tr>\n",
       "      <th>9</th>\n",
       "      <td>65d86688bb908e26c802ab0d</td>\n",
       "      <td>202304</td>\n",
       "      <td>식음료업</td>\n",
       "      <td>58426095.0</td>\n",
       "      <td>강원</td>\n",
       "    </tr>\n",
       "    <tr>\n",
       "      <th>10</th>\n",
       "      <td>65d86688bb908e26c802aaef</td>\n",
       "      <td>202304</td>\n",
       "      <td>여가서비스업</td>\n",
       "      <td>20297641.0</td>\n",
       "      <td>강원</td>\n",
       "    </tr>\n",
       "    <tr>\n",
       "      <th>11</th>\n",
       "      <td>65d86688bb908e26c802aae5</td>\n",
       "      <td>202304</td>\n",
       "      <td>쇼핑업</td>\n",
       "      <td>13757898.0</td>\n",
       "      <td>강원</td>\n",
       "    </tr>\n",
       "    <tr>\n",
       "      <th>12</th>\n",
       "      <td>65d86688bb908e26c802ab07</td>\n",
       "      <td>202305</td>\n",
       "      <td>식음료업</td>\n",
       "      <td>64644925.0</td>\n",
       "      <td>강원</td>\n",
       "    </tr>\n",
       "    <tr>\n",
       "      <th>13</th>\n",
       "      <td>65d86688bb908e26c802ab08</td>\n",
       "      <td>202305</td>\n",
       "      <td>여가서비스업</td>\n",
       "      <td>23690855.0</td>\n",
       "      <td>강원</td>\n",
       "    </tr>\n",
       "    <tr>\n",
       "      <th>14</th>\n",
       "      <td>65d86688bb908e26c802ab09</td>\n",
       "      <td>202305</td>\n",
       "      <td>쇼핑업</td>\n",
       "      <td>14914005.0</td>\n",
       "      <td>강원</td>\n",
       "    </tr>\n",
       "    <tr>\n",
       "      <th>15</th>\n",
       "      <td>65d86688bb908e26c802ab01</td>\n",
       "      <td>202306</td>\n",
       "      <td>식음료업</td>\n",
       "      <td>64348547.0</td>\n",
       "      <td>강원</td>\n",
       "    </tr>\n",
       "    <tr>\n",
       "      <th>16</th>\n",
       "      <td>65d86688bb908e26c802ab02</td>\n",
       "      <td>202306</td>\n",
       "      <td>여가서비스업</td>\n",
       "      <td>23727974.0</td>\n",
       "      <td>강원</td>\n",
       "    </tr>\n",
       "    <tr>\n",
       "      <th>17</th>\n",
       "      <td>65d86688bb908e26c802ab05</td>\n",
       "      <td>202306</td>\n",
       "      <td>숙박업</td>\n",
       "      <td>15309433.0</td>\n",
       "      <td>강원</td>\n",
       "    </tr>\n",
       "    <tr>\n",
       "      <th>18</th>\n",
       "      <td>65d86688bb908e26c802aafb</td>\n",
       "      <td>202307</td>\n",
       "      <td>식음료업</td>\n",
       "      <td>73056818.0</td>\n",
       "      <td>강원</td>\n",
       "    </tr>\n",
       "    <tr>\n",
       "      <th>19</th>\n",
       "      <td>65d86688bb908e26c802aaff</td>\n",
       "      <td>202307</td>\n",
       "      <td>숙박업</td>\n",
       "      <td>22072894.0</td>\n",
       "      <td>강원</td>\n",
       "    </tr>\n",
       "    <tr>\n",
       "      <th>20</th>\n",
       "      <td>65d86688bb908e26c802aafc</td>\n",
       "      <td>202307</td>\n",
       "      <td>여가서비스업</td>\n",
       "      <td>20968890.0</td>\n",
       "      <td>강원</td>\n",
       "    </tr>\n",
       "    <tr>\n",
       "      <th>21</th>\n",
       "      <td>65d86688bb908e26c802aad1</td>\n",
       "      <td>202308</td>\n",
       "      <td>식음료업</td>\n",
       "      <td>87317996.0</td>\n",
       "      <td>강원</td>\n",
       "    </tr>\n",
       "    <tr>\n",
       "      <th>22</th>\n",
       "      <td>65d86688bb908e26c802aad4</td>\n",
       "      <td>202308</td>\n",
       "      <td>숙박업</td>\n",
       "      <td>28713164.0</td>\n",
       "      <td>강원</td>\n",
       "    </tr>\n",
       "    <tr>\n",
       "      <th>23</th>\n",
       "      <td>65d86688bb908e26c802aad2</td>\n",
       "      <td>202308</td>\n",
       "      <td>여가서비스업</td>\n",
       "      <td>22857590.0</td>\n",
       "      <td>강원</td>\n",
       "    </tr>\n",
       "    <tr>\n",
       "      <th>24</th>\n",
       "      <td>65d86688bb908e26c802aacb</td>\n",
       "      <td>202309</td>\n",
       "      <td>식음료업</td>\n",
       "      <td>61913926.0</td>\n",
       "      <td>강원</td>\n",
       "    </tr>\n",
       "    <tr>\n",
       "      <th>25</th>\n",
       "      <td>65d86688bb908e26c802aacc</td>\n",
       "      <td>202309</td>\n",
       "      <td>여가서비스업</td>\n",
       "      <td>20475225.0</td>\n",
       "      <td>강원</td>\n",
       "    </tr>\n",
       "    <tr>\n",
       "      <th>26</th>\n",
       "      <td>65d86688bb908e26c802aacf</td>\n",
       "      <td>202309</td>\n",
       "      <td>숙박업</td>\n",
       "      <td>14630705.0</td>\n",
       "      <td>강원</td>\n",
       "    </tr>\n",
       "    <tr>\n",
       "      <th>27</th>\n",
       "      <td>65d86688bb908e26c802aad7</td>\n",
       "      <td>202310</td>\n",
       "      <td>식음료업</td>\n",
       "      <td>68242677.0</td>\n",
       "      <td>강원</td>\n",
       "    </tr>\n",
       "    <tr>\n",
       "      <th>28</th>\n",
       "      <td>65d86688bb908e26c802aad6</td>\n",
       "      <td>202310</td>\n",
       "      <td>여가서비스업</td>\n",
       "      <td>24437841.0</td>\n",
       "      <td>강원</td>\n",
       "    </tr>\n",
       "    <tr>\n",
       "      <th>29</th>\n",
       "      <td>65d86688bb908e26c802aac9</td>\n",
       "      <td>202310</td>\n",
       "      <td>숙박업</td>\n",
       "      <td>15986909.0</td>\n",
       "      <td>강원</td>\n",
       "    </tr>\n",
       "    <tr>\n",
       "      <th>30</th>\n",
       "      <td>65d86688bb908e26c802aadd</td>\n",
       "      <td>202311</td>\n",
       "      <td>식음료업</td>\n",
       "      <td>49584010.0</td>\n",
       "      <td>강원</td>\n",
       "    </tr>\n",
       "    <tr>\n",
       "      <th>31</th>\n",
       "      <td>65d86688bb908e26c802aadc</td>\n",
       "      <td>202311</td>\n",
       "      <td>여가서비스업</td>\n",
       "      <td>16303094.0</td>\n",
       "      <td>강원</td>\n",
       "    </tr>\n",
       "    <tr>\n",
       "      <th>32</th>\n",
       "      <td>65d86688bb908e26c802aadb</td>\n",
       "      <td>202311</td>\n",
       "      <td>쇼핑업</td>\n",
       "      <td>13742129.0</td>\n",
       "      <td>강원</td>\n",
       "    </tr>\n",
       "    <tr>\n",
       "      <th>33</th>\n",
       "      <td>65d86688bb908e26c802aae2</td>\n",
       "      <td>202312</td>\n",
       "      <td>식음료업</td>\n",
       "      <td>56722167.0</td>\n",
       "      <td>강원</td>\n",
       "    </tr>\n",
       "    <tr>\n",
       "      <th>34</th>\n",
       "      <td>65d86688bb908e26c802aade</td>\n",
       "      <td>202312</td>\n",
       "      <td>숙박업</td>\n",
       "      <td>18235066.0</td>\n",
       "      <td>강원</td>\n",
       "    </tr>\n",
       "    <tr>\n",
       "      <th>35</th>\n",
       "      <td>65d86688bb908e26c802aae0</td>\n",
       "      <td>202312</td>\n",
       "      <td>쇼핑업</td>\n",
       "      <td>14522071.0</td>\n",
       "      <td>강원</td>\n",
       "    </tr>\n",
       "  </tbody>\n",
       "</table>\n",
       "</div>"
      ],
      "text/plain": [
       "                         _id    기준연월  업종대분류명     소비액(천원) 지역구분\n",
       "0   65d86688bb908e26c802aaf5  202301    식음료업  56357544.0   강원\n",
       "1   65d86688bb908e26c802ab04  202301     숙박업  22262889.0   강원\n",
       "2   65d86688bb908e26c802aaf7  202301     쇼핑업  14314328.0   강원\n",
       "3   65d86688bb908e26c802aae4  202302    식음료업  56329509.0   강원\n",
       "4   65d86688bb908e26c802aaf3  202302     숙박업  18559891.0   강원\n",
       "5   65d86688bb908e26c802aaf1  202302     쇼핑업  12654560.0   강원\n",
       "6   65d86688bb908e26c802aae9  202303    식음료업  50554545.0   강원\n",
       "7   65d86688bb908e26c802aaea  202303  여가서비스업  15807408.0   강원\n",
       "8   65d86688bb908e26c802aaeb  202303     쇼핑업  13595242.0   강원\n",
       "9   65d86688bb908e26c802ab0d  202304    식음료업  58426095.0   강원\n",
       "10  65d86688bb908e26c802aaef  202304  여가서비스업  20297641.0   강원\n",
       "11  65d86688bb908e26c802aae5  202304     쇼핑업  13757898.0   강원\n",
       "12  65d86688bb908e26c802ab07  202305    식음료업  64644925.0   강원\n",
       "13  65d86688bb908e26c802ab08  202305  여가서비스업  23690855.0   강원\n",
       "14  65d86688bb908e26c802ab09  202305     쇼핑업  14914005.0   강원\n",
       "15  65d86688bb908e26c802ab01  202306    식음료업  64348547.0   강원\n",
       "16  65d86688bb908e26c802ab02  202306  여가서비스업  23727974.0   강원\n",
       "17  65d86688bb908e26c802ab05  202306     숙박업  15309433.0   강원\n",
       "18  65d86688bb908e26c802aafb  202307    식음료업  73056818.0   강원\n",
       "19  65d86688bb908e26c802aaff  202307     숙박업  22072894.0   강원\n",
       "20  65d86688bb908e26c802aafc  202307  여가서비스업  20968890.0   강원\n",
       "21  65d86688bb908e26c802aad1  202308    식음료업  87317996.0   강원\n",
       "22  65d86688bb908e26c802aad4  202308     숙박업  28713164.0   강원\n",
       "23  65d86688bb908e26c802aad2  202308  여가서비스업  22857590.0   강원\n",
       "24  65d86688bb908e26c802aacb  202309    식음료업  61913926.0   강원\n",
       "25  65d86688bb908e26c802aacc  202309  여가서비스업  20475225.0   강원\n",
       "26  65d86688bb908e26c802aacf  202309     숙박업  14630705.0   강원\n",
       "27  65d86688bb908e26c802aad7  202310    식음료업  68242677.0   강원\n",
       "28  65d86688bb908e26c802aad6  202310  여가서비스업  24437841.0   강원\n",
       "29  65d86688bb908e26c802aac9  202310     숙박업  15986909.0   강원\n",
       "30  65d86688bb908e26c802aadd  202311    식음료업  49584010.0   강원\n",
       "31  65d86688bb908e26c802aadc  202311  여가서비스업  16303094.0   강원\n",
       "32  65d86688bb908e26c802aadb  202311     쇼핑업  13742129.0   강원\n",
       "33  65d86688bb908e26c802aae2  202312    식음료업  56722167.0   강원\n",
       "34  65d86688bb908e26c802aade  202312     숙박업  18235066.0   강원\n",
       "35  65d86688bb908e26c802aae0  202312     쇼핑업  14522071.0   강원"
      ]
     },
     "execution_count": 224,
     "metadata": {},
     "output_type": "execute_result"
    }
   ],
   "source": [
    "# 강원 & 소비액이 가장 높은 항목 1위 - 3위\n",
    "df_consume_transition_GW_filter = df_consume_transition[(df_consume_transition['업종대분류명'] != '전체') & (df_consume_transition['지역구분'] == '강원')]\n",
    "GW_top3_sectors = (\n",
    "    df_consume_transition_GW_filter.groupby('기준연월')\n",
    "    .apply(lambda x: x.nlargest(3, '소비액(천원)'))\n",
    "    .reset_index(drop=True)\n",
    ")\n",
    "GW_top3_sectors[:]"
   ]
  },
  {
   "cell_type": "code",
   "execution_count": 222,
   "id": "3d2ed59f-39a9-485f-ab53-0535f90d2e93",
   "metadata": {
    "collapsed": true,
    "jupyter": {
     "outputs_hidden": true
    }
   },
   "outputs": [
    {
     "data": {
      "image/png": "[encoded data removed]",
      "text/plain": [
       "<Figure size 1000x700 with 1 Axes>"
      ]
     },
     "metadata": {},
     "output_type": "display_data"
    }
   ],
   "source": [
    "pivot_GW_top3_sectors = GW_top3_sectors.pivot_table(index='기준연월', columns='업종대분류명', values='소비액(천원)', aggfunc='sum')\n",
    "pivot_GW_top3_sectors.plot(kind='bar', stacked=True, figsize=(10, 7))\n",
    "plt.title('강원_기준연월별 업종대분류명에 따른 소비액')\n",
    "plt.xlabel('기준연월')\n",
    "plt.ylabel('소비액(천원)')\n",
    "plt.legend(title='업종대분류명')\n",
    "plt.show()"
   ]
  },
  {
   "cell_type": "code",
   "execution_count": 153,
   "id": "b7d589e6-7d92-42f0-9fdf-faf1e4bf63fb",
   "metadata": {
    "collapsed": true,
    "jupyter": {
     "outputs_hidden": true
    }
   },
   "outputs": [
    {
     "data": {
      "image/png": "[encoded data removed]",
      "text/plain": [
       "<Figure size 1000x600 with 1 Axes>"
      ]
     },
     "metadata": {},
     "output_type": "display_data"
    }
   ],
   "source": [
    "# 강원 & 상위 1위 - 3위 차트화\n",
    "plt.figure(figsize=(10, 6))\n",
    "# sns.barplot(data=GW_top3_sectors, x='기준연월', y='소비액(천원)', hue='업종대분류명', estimator=sum)\n",
    "sns.lineplot(data=GW_top3_sectors, x='기준연월', y='소비액(천원)', hue='업종대분류명', estimator=sum)\n",
    "plt.title('강원 TOP3', fontsize=20)\n",
    "plt.show()"
   ]
  },
  {
   "cell_type": "markdown",
   "id": "28f3873f-adf4-4ebd-9d36-09cfd733be26",
   "metadata": {},
   "source": [
    "## ------------------------------------------------------------------------"
   ]
  },
  {
   "cell_type": "markdown",
   "id": "af53e890-7a6a-4613-9b2c-f71b301ceb83",
   "metadata": {},
   "source": [
    "## 전국 대비 관광 소비 추이 - consume_transition_entire_2023"
   ]
  },
  {
   "cell_type": "code",
   "execution_count": 76,
   "id": "9e36c517-7062-431f-9eb9-033abea05f31",
   "metadata": {
    "collapsed": true,
    "jupyter": {
     "outputs_hidden": true
    }
   },
   "outputs": [
    {
     "data": {
      "text/html": [
       "<div>\n",
       "<style scoped>\n",
       "    .dataframe tbody tr th:only-of-type {\n",
       "        vertical-align: middle;\n",
       "    }\n",
       "\n",
       "    .dataframe tbody tr th {\n",
       "        vertical-align: top;\n",
       "    }\n",
       "\n",
       "    .dataframe thead th {\n",
       "        text-align: right;\n",
       "    }\n",
       "</style>\n",
       "<table border=\"1\" class=\"dataframe\">\n",
       "  <thead>\n",
       "    <tr style=\"text-align: right;\">\n",
       "      <th></th>\n",
       "      <th>_id</th>\n",
       "      <th>기준연월</th>\n",
       "      <th>지역명</th>\n",
       "      <th>관광소비액(백만원)</th>\n",
       "      <th>전국 관광소비액(백만원)</th>\n",
       "      <th>전국 대비 관광소비율</th>\n",
       "      <th>지역구분</th>\n",
       "    </tr>\n",
       "  </thead>\n",
       "  <tbody>\n",
       "    <tr>\n",
       "      <th>0</th>\n",
       "      <td>65d8667bbb908e26c802a92d</td>\n",
       "      <td>202301</td>\n",
       "      <td>인천광역시</td>\n",
       "      <td>156104.0</td>\n",
       "      <td>3193641.0</td>\n",
       "      <td>4.9</td>\n",
       "      <td>인천</td>\n",
       "    </tr>\n",
       "    <tr>\n",
       "      <th>1</th>\n",
       "      <td>65d8667bbb908e26c802a92e</td>\n",
       "      <td>202302</td>\n",
       "      <td>인천광역시</td>\n",
       "      <td>148695.0</td>\n",
       "      <td>3112274.0</td>\n",
       "      <td>4.8</td>\n",
       "      <td>인천</td>\n",
       "    </tr>\n",
       "    <tr>\n",
       "      <th>2</th>\n",
       "      <td>65d8667bbb908e26c802a92f</td>\n",
       "      <td>202303</td>\n",
       "      <td>인천광역시</td>\n",
       "      <td>164691.0</td>\n",
       "      <td>3478043.0</td>\n",
       "      <td>4.7</td>\n",
       "      <td>인천</td>\n",
       "    </tr>\n",
       "    <tr>\n",
       "      <th>3</th>\n",
       "      <td>65d8667bbb908e26c802a930</td>\n",
       "      <td>202304</td>\n",
       "      <td>인천광역시</td>\n",
       "      <td>172693.0</td>\n",
       "      <td>3619532.0</td>\n",
       "      <td>4.8</td>\n",
       "      <td>인천</td>\n",
       "    </tr>\n",
       "    <tr>\n",
       "      <th>4</th>\n",
       "      <td>65d8667bbb908e26c802a931</td>\n",
       "      <td>202305</td>\n",
       "      <td>인천광역시</td>\n",
       "      <td>180669.0</td>\n",
       "      <td>3803919.0</td>\n",
       "      <td>4.7</td>\n",
       "      <td>인천</td>\n",
       "    </tr>\n",
       "  </tbody>\n",
       "</table>\n",
       "</div>"
      ],
      "text/plain": [
       "                        _id    기준연월    지역명  관광소비액(백만원)  전국 관광소비액(백만원)  \\\n",
       "0  65d8667bbb908e26c802a92d  202301  인천광역시    156104.0      3193641.0   \n",
       "1  65d8667bbb908e26c802a92e  202302  인천광역시    148695.0      3112274.0   \n",
       "2  65d8667bbb908e26c802a92f  202303  인천광역시    164691.0      3478043.0   \n",
       "3  65d8667bbb908e26c802a930  202304  인천광역시    172693.0      3619532.0   \n",
       "4  65d8667bbb908e26c802a931  202305  인천광역시    180669.0      3803919.0   \n",
       "\n",
       "   전국 대비 관광소비율 지역구분  \n",
       "0          4.9   인천  \n",
       "1          4.8   인천  \n",
       "2          4.7   인천  \n",
       "3          4.8   인천  \n",
       "4          4.7   인천  "
      ]
     },
     "execution_count": 76,
     "metadata": {},
     "output_type": "execute_result"
    }
   ],
   "source": [
    "import pandas as pd\n",
    "import pymongo\n",
    "client=pymongo.MongoClient(\"192.168.10.240\",27017)\n",
    "db= client['AI_LKJ']\n",
    "collection=db['consume_transition_entire_2023']\n",
    "data = collection.find()\n",
    "df_consume_transition_entire = pd.DataFrame(data)\n",
    "df_consume_transition_entire[:5]"
   ]
  },
  {
   "cell_type": "markdown",
   "id": "18c2e5f1-582d-4aaf-a81f-48ff348fb174",
   "metadata": {
    "jp-MarkdownHeadingCollapsed": true
   },
   "source": [
    "### 3번 중간 점검 : '전국 대비 관광소비율'이 높으며 관광소비액을 최대인 월 정리\n",
    "- 결측치와 이상치 확인\n",
    "- 전체적인 컬럼 확인\n",
    "- 지역구분 컬럼 확인\n",
    "- 지역별 & 월별 전국 대비 관광소비율 높은 월 정리\n",
    "  - 인천 : 7월(4.9%), 9월(4.9%), 12월(4.9%)\n",
    "  - 부산 : 12월(8.2%), 1월(8.1%), 2월(7.8%)\n",
    "  - 서울 : 12월(31.6%), 2월(31.2%), 1월(31.0%)\n",
    "  - 제주 : 8월(2.9%), 2월(2.7%), 6월(2.7%)\n",
    "  - 강원 : 8월(4.3%), 7월(3.6%), 10월(3.4%)"
   ]
  },
  {
   "cell_type": "code",
   "execution_count": 77,
   "id": "a005fa1d-a672-45b7-a985-6e8eaed6816f",
   "metadata": {
    "collapsed": true,
    "jupyter": {
     "outputs_hidden": true
    }
   },
   "outputs": [
    {
     "data": {
      "text/plain": [
       "_id              0\n",
       "기준연월             0\n",
       "지역명              0\n",
       "관광소비액(백만원)       0\n",
       "전국 관광소비액(백만원)    0\n",
       "전국 대비 관광소비율      0\n",
       "지역구분             0\n",
       "dtype: int64"
      ]
     },
     "execution_count": 77,
     "metadata": {},
     "output_type": "execute_result"
    }
   ],
   "source": [
    "# 결측치와 이상치 확인     -> 없음 확인\n",
    "df_consume_transition_entire.isnull().sum()"
   ]
  },
  {
   "cell_type": "code",
   "execution_count": 78,
   "id": "0b203eb9-97d8-4eb5-bbd2-47fbfb9a383d",
   "metadata": {
    "collapsed": true,
    "jupyter": {
     "outputs_hidden": true
    }
   },
   "outputs": [
    {
     "data": {
      "text/plain": [
       "Index(['_id', '기준연월', '지역명', '관광소비액(백만원)', '전국 관광소비액(백만원)', '전국 대비 관광소비율',\n",
       "       '지역구분'],\n",
       "      dtype='object')"
      ]
     },
     "execution_count": 78,
     "metadata": {},
     "output_type": "execute_result"
    }
   ],
   "source": [
    "# 컬럼 확인     -> '_id', '기준연월', '지역명', '관광소비액(백만원)', '전국 관광소비액(백만원)', '전국 대비 관광소비율', '지역구분'\n",
    "df_consume_transition_entire.columns"
   ]
  },
  {
   "cell_type": "code",
   "execution_count": 79,
   "id": "b830aa71-6d97-48eb-94ba-73284febec0d",
   "metadata": {
    "collapsed": true,
    "jupyter": {
     "outputs_hidden": true
    }
   },
   "outputs": [
    {
     "data": {
      "text/plain": [
       "array(['인천', '부산', '서울', '제주', '강원'], dtype=object)"
      ]
     },
     "execution_count": 79,
     "metadata": {},
     "output_type": "execute_result"
    }
   ],
   "source": [
    "# 지역구분 컬럼 확인     -> '인천', '부산', '서울', '제주', '강원'\n",
    "df_consume_transition_entire['지역구분'].unique()"
   ]
  },
  {
   "cell_type": "code",
   "execution_count": 80,
   "id": "2d9b8538-b1f5-49c5-acd9-d12cb3cb47c9",
   "metadata": {
    "collapsed": true,
    "jupyter": {
     "outputs_hidden": true
    }
   },
   "outputs": [
    {
     "data": {
      "text/html": [
       "<div>\n",
       "<style scoped>\n",
       "    .dataframe tbody tr th:only-of-type {\n",
       "        vertical-align: middle;\n",
       "    }\n",
       "\n",
       "    .dataframe tbody tr th {\n",
       "        vertical-align: top;\n",
       "    }\n",
       "\n",
       "    .dataframe thead th {\n",
       "        text-align: right;\n",
       "    }\n",
       "</style>\n",
       "<table border=\"1\" class=\"dataframe\">\n",
       "  <thead>\n",
       "    <tr style=\"text-align: right;\">\n",
       "      <th></th>\n",
       "      <th>_id</th>\n",
       "      <th>기준연월</th>\n",
       "      <th>지역명</th>\n",
       "      <th>관광소비액(백만원)</th>\n",
       "      <th>전국 관광소비액(백만원)</th>\n",
       "      <th>전국 대비 관광소비율</th>\n",
       "      <th>지역구분</th>\n",
       "    </tr>\n",
       "  </thead>\n",
       "  <tbody>\n",
       "    <tr>\n",
       "      <th>6</th>\n",
       "      <td>65d8667bbb908e26c802a933</td>\n",
       "      <td>202307</td>\n",
       "      <td>인천광역시</td>\n",
       "      <td>174388.0</td>\n",
       "      <td>3589248.0</td>\n",
       "      <td>4.9</td>\n",
       "      <td>인천</td>\n",
       "    </tr>\n",
       "    <tr>\n",
       "      <th>11</th>\n",
       "      <td>65d8667bbb908e26c802a938</td>\n",
       "      <td>202312</td>\n",
       "      <td>인천광역시</td>\n",
       "      <td>174935.0</td>\n",
       "      <td>3565655.0</td>\n",
       "      <td>4.9</td>\n",
       "      <td>인천</td>\n",
       "    </tr>\n",
       "    <tr>\n",
       "      <th>8</th>\n",
       "      <td>65d8667bbb908e26c802a935</td>\n",
       "      <td>202309</td>\n",
       "      <td>인천광역시</td>\n",
       "      <td>168310.0</td>\n",
       "      <td>3456150.0</td>\n",
       "      <td>4.9</td>\n",
       "      <td>인천</td>\n",
       "    </tr>\n",
       "    <tr>\n",
       "      <th>0</th>\n",
       "      <td>65d8667bbb908e26c802a92d</td>\n",
       "      <td>202301</td>\n",
       "      <td>인천광역시</td>\n",
       "      <td>156104.0</td>\n",
       "      <td>3193641.0</td>\n",
       "      <td>4.9</td>\n",
       "      <td>인천</td>\n",
       "    </tr>\n",
       "    <tr>\n",
       "      <th>9</th>\n",
       "      <td>65d8667bbb908e26c802a936</td>\n",
       "      <td>202310</td>\n",
       "      <td>인천광역시</td>\n",
       "      <td>176363.0</td>\n",
       "      <td>3672830.0</td>\n",
       "      <td>4.8</td>\n",
       "      <td>인천</td>\n",
       "    </tr>\n",
       "    <tr>\n",
       "      <th>3</th>\n",
       "      <td>65d8667bbb908e26c802a930</td>\n",
       "      <td>202304</td>\n",
       "      <td>인천광역시</td>\n",
       "      <td>172693.0</td>\n",
       "      <td>3619532.0</td>\n",
       "      <td>4.8</td>\n",
       "      <td>인천</td>\n",
       "    </tr>\n",
       "    <tr>\n",
       "      <th>5</th>\n",
       "      <td>65d8667bbb908e26c802a932</td>\n",
       "      <td>202306</td>\n",
       "      <td>인천광역시</td>\n",
       "      <td>172816.0</td>\n",
       "      <td>3569349.0</td>\n",
       "      <td>4.8</td>\n",
       "      <td>인천</td>\n",
       "    </tr>\n",
       "    <tr>\n",
       "      <th>7</th>\n",
       "      <td>65d8667bbb908e26c802a934</td>\n",
       "      <td>202308</td>\n",
       "      <td>인천광역시</td>\n",
       "      <td>167264.0</td>\n",
       "      <td>3506755.0</td>\n",
       "      <td>4.8</td>\n",
       "      <td>인천</td>\n",
       "    </tr>\n",
       "    <tr>\n",
       "      <th>1</th>\n",
       "      <td>65d8667bbb908e26c802a92e</td>\n",
       "      <td>202302</td>\n",
       "      <td>인천광역시</td>\n",
       "      <td>148695.0</td>\n",
       "      <td>3112274.0</td>\n",
       "      <td>4.8</td>\n",
       "      <td>인천</td>\n",
       "    </tr>\n",
       "    <tr>\n",
       "      <th>4</th>\n",
       "      <td>65d8667bbb908e26c802a931</td>\n",
       "      <td>202305</td>\n",
       "      <td>인천광역시</td>\n",
       "      <td>180669.0</td>\n",
       "      <td>3803919.0</td>\n",
       "      <td>4.7</td>\n",
       "      <td>인천</td>\n",
       "    </tr>\n",
       "    <tr>\n",
       "      <th>2</th>\n",
       "      <td>65d8667bbb908e26c802a92f</td>\n",
       "      <td>202303</td>\n",
       "      <td>인천광역시</td>\n",
       "      <td>164691.0</td>\n",
       "      <td>3478043.0</td>\n",
       "      <td>4.7</td>\n",
       "      <td>인천</td>\n",
       "    </tr>\n",
       "    <tr>\n",
       "      <th>10</th>\n",
       "      <td>65d8667bbb908e26c802a937</td>\n",
       "      <td>202311</td>\n",
       "      <td>인천광역시</td>\n",
       "      <td>157007.0</td>\n",
       "      <td>3352999.0</td>\n",
       "      <td>4.7</td>\n",
       "      <td>인천</td>\n",
       "    </tr>\n",
       "  </tbody>\n",
       "</table>\n",
       "</div>"
      ],
      "text/plain": [
       "                         _id    기준연월    지역명  관광소비액(백만원)  전국 관광소비액(백만원)  \\\n",
       "6   65d8667bbb908e26c802a933  202307  인천광역시    174388.0      3589248.0   \n",
       "11  65d8667bbb908e26c802a938  202312  인천광역시    174935.0      3565655.0   \n",
       "8   65d8667bbb908e26c802a935  202309  인천광역시    168310.0      3456150.0   \n",
       "0   65d8667bbb908e26c802a92d  202301  인천광역시    156104.0      3193641.0   \n",
       "9   65d8667bbb908e26c802a936  202310  인천광역시    176363.0      3672830.0   \n",
       "3   65d8667bbb908e26c802a930  202304  인천광역시    172693.0      3619532.0   \n",
       "5   65d8667bbb908e26c802a932  202306  인천광역시    172816.0      3569349.0   \n",
       "7   65d8667bbb908e26c802a934  202308  인천광역시    167264.0      3506755.0   \n",
       "1   65d8667bbb908e26c802a92e  202302  인천광역시    148695.0      3112274.0   \n",
       "4   65d8667bbb908e26c802a931  202305  인천광역시    180669.0      3803919.0   \n",
       "2   65d8667bbb908e26c802a92f  202303  인천광역시    164691.0      3478043.0   \n",
       "10  65d8667bbb908e26c802a937  202311  인천광역시    157007.0      3352999.0   \n",
       "\n",
       "    전국 대비 관광소비율 지역구분  \n",
       "6           4.9   인천  \n",
       "11          4.9   인천  \n",
       "8           4.9   인천  \n",
       "0           4.9   인천  \n",
       "9           4.8   인천  \n",
       "3           4.8   인천  \n",
       "5           4.8   인천  \n",
       "7           4.8   인천  \n",
       "1           4.8   인천  \n",
       "4           4.7   인천  \n",
       "2           4.7   인천  \n",
       "10          4.7   인천  "
      ]
     },
     "execution_count": 80,
     "metadata": {},
     "output_type": "execute_result"
    }
   ],
   "source": [
    "# 인천 -> '전국 대비 관광소비율'이 높으며 관광소비액을 최대인 월 정리\n",
    "df_consume_transition_entire_IC = df_consume_transition_entire[df_consume_transition_entire['지역구분'] == '인천'].sort_values('전국 대비 관광소비율', ascending=False)\n",
    "df_consume_transition_entire_IC_whole = df_consume_transition_entire_IC.sort_values(by=['전국 대비 관광소비율', '전국 관광소비액(백만원)'], ascending=[False, False])\n",
    "df_consume_transition_entire_IC_whole"
   ]
  },
  {
   "cell_type": "code",
   "execution_count": 81,
   "id": "da802505-2424-4d59-8a34-d1cab86ba5f4",
   "metadata": {
    "collapsed": true,
    "jupyter": {
     "outputs_hidden": true
    }
   },
   "outputs": [
    {
     "data": {
      "text/html": [
       "<div>\n",
       "<style scoped>\n",
       "    .dataframe tbody tr th:only-of-type {\n",
       "        vertical-align: middle;\n",
       "    }\n",
       "\n",
       "    .dataframe tbody tr th {\n",
       "        vertical-align: top;\n",
       "    }\n",
       "\n",
       "    .dataframe thead th {\n",
       "        text-align: right;\n",
       "    }\n",
       "</style>\n",
       "<table border=\"1\" class=\"dataframe\">\n",
       "  <thead>\n",
       "    <tr style=\"text-align: right;\">\n",
       "      <th></th>\n",
       "      <th>_id</th>\n",
       "      <th>기준연월</th>\n",
       "      <th>지역명</th>\n",
       "      <th>관광소비액(백만원)</th>\n",
       "      <th>전국 관광소비액(백만원)</th>\n",
       "      <th>전국 대비 관광소비율</th>\n",
       "      <th>지역구분</th>\n",
       "    </tr>\n",
       "  </thead>\n",
       "  <tbody>\n",
       "    <tr>\n",
       "      <th>23</th>\n",
       "      <td>65d8667bbb908e26c802a944</td>\n",
       "      <td>202312</td>\n",
       "      <td>부산광역시</td>\n",
       "      <td>292906.0</td>\n",
       "      <td>3565655.0</td>\n",
       "      <td>8.2</td>\n",
       "      <td>부산</td>\n",
       "    </tr>\n",
       "    <tr>\n",
       "      <th>12</th>\n",
       "      <td>65d8667bbb908e26c802a939</td>\n",
       "      <td>202301</td>\n",
       "      <td>부산광역시</td>\n",
       "      <td>258888.0</td>\n",
       "      <td>3193641.0</td>\n",
       "      <td>8.1</td>\n",
       "      <td>부산</td>\n",
       "    </tr>\n",
       "    <tr>\n",
       "      <th>13</th>\n",
       "      <td>65d8667bbb908e26c802a93a</td>\n",
       "      <td>202302</td>\n",
       "      <td>부산광역시</td>\n",
       "      <td>243923.0</td>\n",
       "      <td>3112274.0</td>\n",
       "      <td>7.8</td>\n",
       "      <td>부산</td>\n",
       "    </tr>\n",
       "    <tr>\n",
       "      <th>22</th>\n",
       "      <td>65d8667bbb908e26c802a943</td>\n",
       "      <td>202311</td>\n",
       "      <td>부산광역시</td>\n",
       "      <td>258185.0</td>\n",
       "      <td>3352999.0</td>\n",
       "      <td>7.7</td>\n",
       "      <td>부산</td>\n",
       "    </tr>\n",
       "    <tr>\n",
       "      <th>21</th>\n",
       "      <td>65d8667bbb908e26c802a942</td>\n",
       "      <td>202310</td>\n",
       "      <td>부산광역시</td>\n",
       "      <td>278167.0</td>\n",
       "      <td>3672830.0</td>\n",
       "      <td>7.6</td>\n",
       "      <td>부산</td>\n",
       "    </tr>\n",
       "    <tr>\n",
       "      <th>19</th>\n",
       "      <td>65d8667bbb908e26c802a940</td>\n",
       "      <td>202308</td>\n",
       "      <td>부산광역시</td>\n",
       "      <td>268179.0</td>\n",
       "      <td>3506755.0</td>\n",
       "      <td>7.6</td>\n",
       "      <td>부산</td>\n",
       "    </tr>\n",
       "    <tr>\n",
       "      <th>20</th>\n",
       "      <td>65d8667bbb908e26c802a941</td>\n",
       "      <td>202309</td>\n",
       "      <td>부산광역시</td>\n",
       "      <td>261700.0</td>\n",
       "      <td>3456150.0</td>\n",
       "      <td>7.6</td>\n",
       "      <td>부산</td>\n",
       "    </tr>\n",
       "    <tr>\n",
       "      <th>18</th>\n",
       "      <td>65d8667bbb908e26c802a93f</td>\n",
       "      <td>202307</td>\n",
       "      <td>부산광역시</td>\n",
       "      <td>268419.0</td>\n",
       "      <td>3589248.0</td>\n",
       "      <td>7.5</td>\n",
       "      <td>부산</td>\n",
       "    </tr>\n",
       "    <tr>\n",
       "      <th>14</th>\n",
       "      <td>65d8667bbb908e26c802a93b</td>\n",
       "      <td>202303</td>\n",
       "      <td>부산광역시</td>\n",
       "      <td>261158.0</td>\n",
       "      <td>3478043.0</td>\n",
       "      <td>7.5</td>\n",
       "      <td>부산</td>\n",
       "    </tr>\n",
       "    <tr>\n",
       "      <th>15</th>\n",
       "      <td>65d8667bbb908e26c802a93c</td>\n",
       "      <td>202304</td>\n",
       "      <td>부산광역시</td>\n",
       "      <td>267174.0</td>\n",
       "      <td>3619532.0</td>\n",
       "      <td>7.4</td>\n",
       "      <td>부산</td>\n",
       "    </tr>\n",
       "    <tr>\n",
       "      <th>17</th>\n",
       "      <td>65d8667bbb908e26c802a93e</td>\n",
       "      <td>202306</td>\n",
       "      <td>부산광역시</td>\n",
       "      <td>262734.0</td>\n",
       "      <td>3569349.0</td>\n",
       "      <td>7.4</td>\n",
       "      <td>부산</td>\n",
       "    </tr>\n",
       "    <tr>\n",
       "      <th>16</th>\n",
       "      <td>65d8667bbb908e26c802a93d</td>\n",
       "      <td>202305</td>\n",
       "      <td>부산광역시</td>\n",
       "      <td>274612.0</td>\n",
       "      <td>3803919.0</td>\n",
       "      <td>7.2</td>\n",
       "      <td>부산</td>\n",
       "    </tr>\n",
       "  </tbody>\n",
       "</table>\n",
       "</div>"
      ],
      "text/plain": [
       "                         _id    기준연월    지역명  관광소비액(백만원)  전국 관광소비액(백만원)  \\\n",
       "23  65d8667bbb908e26c802a944  202312  부산광역시    292906.0      3565655.0   \n",
       "12  65d8667bbb908e26c802a939  202301  부산광역시    258888.0      3193641.0   \n",
       "13  65d8667bbb908e26c802a93a  202302  부산광역시    243923.0      3112274.0   \n",
       "22  65d8667bbb908e26c802a943  202311  부산광역시    258185.0      3352999.0   \n",
       "21  65d8667bbb908e26c802a942  202310  부산광역시    278167.0      3672830.0   \n",
       "19  65d8667bbb908e26c802a940  202308  부산광역시    268179.0      3506755.0   \n",
       "20  65d8667bbb908e26c802a941  202309  부산광역시    261700.0      3456150.0   \n",
       "18  65d8667bbb908e26c802a93f  202307  부산광역시    268419.0      3589248.0   \n",
       "14  65d8667bbb908e26c802a93b  202303  부산광역시    261158.0      3478043.0   \n",
       "15  65d8667bbb908e26c802a93c  202304  부산광역시    267174.0      3619532.0   \n",
       "17  65d8667bbb908e26c802a93e  202306  부산광역시    262734.0      3569349.0   \n",
       "16  65d8667bbb908e26c802a93d  202305  부산광역시    274612.0      3803919.0   \n",
       "\n",
       "    전국 대비 관광소비율 지역구분  \n",
       "23          8.2   부산  \n",
       "12          8.1   부산  \n",
       "13          7.8   부산  \n",
       "22          7.7   부산  \n",
       "21          7.6   부산  \n",
       "19          7.6   부산  \n",
       "20          7.6   부산  \n",
       "18          7.5   부산  \n",
       "14          7.5   부산  \n",
       "15          7.4   부산  \n",
       "17          7.4   부산  \n",
       "16          7.2   부산  "
      ]
     },
     "execution_count": 81,
     "metadata": {},
     "output_type": "execute_result"
    }
   ],
   "source": [
    "# 부산 -> '전국 대비 관광소비율'이 높으며 관광소비액을 최대인 월 정리\n",
    "df_consume_transition_entire_BS = df_consume_transition_entire[df_consume_transition_entire['지역구분'] == '부산'].sort_values('전국 대비 관광소비율', ascending=False)\n",
    "df_consume_transition_entire_BS_whole = df_consume_transition_entire_BS.sort_values(by=['전국 대비 관광소비율', '전국 관광소비액(백만원)'], ascending=[False, False])\n",
    "df_consume_transition_entire_BS_whole"
   ]
  },
  {
   "cell_type": "code",
   "execution_count": 82,
   "id": "4fadc7ae-8305-4e8b-95ce-075ed098f82f",
   "metadata": {
    "collapsed": true,
    "jupyter": {
     "outputs_hidden": true
    }
   },
   "outputs": [
    {
     "data": {
      "text/html": [
       "<div>\n",
       "<style scoped>\n",
       "    .dataframe tbody tr th:only-of-type {\n",
       "        vertical-align: middle;\n",
       "    }\n",
       "\n",
       "    .dataframe tbody tr th {\n",
       "        vertical-align: top;\n",
       "    }\n",
       "\n",
       "    .dataframe thead th {\n",
       "        text-align: right;\n",
       "    }\n",
       "</style>\n",
       "<table border=\"1\" class=\"dataframe\">\n",
       "  <thead>\n",
       "    <tr style=\"text-align: right;\">\n",
       "      <th></th>\n",
       "      <th>_id</th>\n",
       "      <th>기준연월</th>\n",
       "      <th>지역명</th>\n",
       "      <th>관광소비액(백만원)</th>\n",
       "      <th>전국 관광소비액(백만원)</th>\n",
       "      <th>전국 대비 관광소비율</th>\n",
       "      <th>지역구분</th>\n",
       "    </tr>\n",
       "  </thead>\n",
       "  <tbody>\n",
       "    <tr>\n",
       "      <th>35</th>\n",
       "      <td>65d8667bbb908e26c802a950</td>\n",
       "      <td>202312</td>\n",
       "      <td>서울특별시</td>\n",
       "      <td>1127462.0</td>\n",
       "      <td>3565655.0</td>\n",
       "      <td>31.6</td>\n",
       "      <td>서울</td>\n",
       "    </tr>\n",
       "    <tr>\n",
       "      <th>25</th>\n",
       "      <td>65d8667bbb908e26c802a946</td>\n",
       "      <td>202302</td>\n",
       "      <td>서울특별시</td>\n",
       "      <td>972234.0</td>\n",
       "      <td>3112274.0</td>\n",
       "      <td>31.2</td>\n",
       "      <td>서울</td>\n",
       "    </tr>\n",
       "    <tr>\n",
       "      <th>24</th>\n",
       "      <td>65d8667bbb908e26c802a945</td>\n",
       "      <td>202301</td>\n",
       "      <td>서울특별시</td>\n",
       "      <td>989276.0</td>\n",
       "      <td>3193641.0</td>\n",
       "      <td>31.0</td>\n",
       "      <td>서울</td>\n",
       "    </tr>\n",
       "    <tr>\n",
       "      <th>26</th>\n",
       "      <td>65d8667bbb908e26c802a947</td>\n",
       "      <td>202303</td>\n",
       "      <td>서울특별시</td>\n",
       "      <td>1061652.0</td>\n",
       "      <td>3478043.0</td>\n",
       "      <td>30.5</td>\n",
       "      <td>서울</td>\n",
       "    </tr>\n",
       "    <tr>\n",
       "      <th>34</th>\n",
       "      <td>65d8667bbb908e26c802a94f</td>\n",
       "      <td>202311</td>\n",
       "      <td>서울특별시</td>\n",
       "      <td>1007137.0</td>\n",
       "      <td>3352999.0</td>\n",
       "      <td>30.0</td>\n",
       "      <td>서울</td>\n",
       "    </tr>\n",
       "    <tr>\n",
       "      <th>30</th>\n",
       "      <td>65d8667bbb908e26c802a94b</td>\n",
       "      <td>202307</td>\n",
       "      <td>서울특별시</td>\n",
       "      <td>1070818.0</td>\n",
       "      <td>3589248.0</td>\n",
       "      <td>29.8</td>\n",
       "      <td>서울</td>\n",
       "    </tr>\n",
       "    <tr>\n",
       "      <th>29</th>\n",
       "      <td>65d8667bbb908e26c802a94a</td>\n",
       "      <td>202306</td>\n",
       "      <td>서울특별시</td>\n",
       "      <td>1061383.0</td>\n",
       "      <td>3569349.0</td>\n",
       "      <td>29.7</td>\n",
       "      <td>서울</td>\n",
       "    </tr>\n",
       "    <tr>\n",
       "      <th>28</th>\n",
       "      <td>65d8667bbb908e26c802a949</td>\n",
       "      <td>202305</td>\n",
       "      <td>서울특별시</td>\n",
       "      <td>1116071.0</td>\n",
       "      <td>3803919.0</td>\n",
       "      <td>29.3</td>\n",
       "      <td>서울</td>\n",
       "    </tr>\n",
       "    <tr>\n",
       "      <th>27</th>\n",
       "      <td>65d8667bbb908e26c802a948</td>\n",
       "      <td>202304</td>\n",
       "      <td>서울특별시</td>\n",
       "      <td>1053476.0</td>\n",
       "      <td>3619532.0</td>\n",
       "      <td>29.1</td>\n",
       "      <td>서울</td>\n",
       "    </tr>\n",
       "    <tr>\n",
       "      <th>32</th>\n",
       "      <td>65d8667bbb908e26c802a94d</td>\n",
       "      <td>202309</td>\n",
       "      <td>서울특별시</td>\n",
       "      <td>1001844.0</td>\n",
       "      <td>3456150.0</td>\n",
       "      <td>29.0</td>\n",
       "      <td>서울</td>\n",
       "    </tr>\n",
       "    <tr>\n",
       "      <th>31</th>\n",
       "      <td>65d8667bbb908e26c802a94c</td>\n",
       "      <td>202308</td>\n",
       "      <td>서울특별시</td>\n",
       "      <td>1006149.0</td>\n",
       "      <td>3506755.0</td>\n",
       "      <td>28.7</td>\n",
       "      <td>서울</td>\n",
       "    </tr>\n",
       "    <tr>\n",
       "      <th>33</th>\n",
       "      <td>65d8667bbb908e26c802a94e</td>\n",
       "      <td>202310</td>\n",
       "      <td>서울특별시</td>\n",
       "      <td>1032694.0</td>\n",
       "      <td>3672830.0</td>\n",
       "      <td>28.1</td>\n",
       "      <td>서울</td>\n",
       "    </tr>\n",
       "  </tbody>\n",
       "</table>\n",
       "</div>"
      ],
      "text/plain": [
       "                         _id    기준연월    지역명  관광소비액(백만원)  전국 관광소비액(백만원)  \\\n",
       "35  65d8667bbb908e26c802a950  202312  서울특별시   1127462.0      3565655.0   \n",
       "25  65d8667bbb908e26c802a946  202302  서울특별시    972234.0      3112274.0   \n",
       "24  65d8667bbb908e26c802a945  202301  서울특별시    989276.0      3193641.0   \n",
       "26  65d8667bbb908e26c802a947  202303  서울특별시   1061652.0      3478043.0   \n",
       "34  65d8667bbb908e26c802a94f  202311  서울특별시   1007137.0      3352999.0   \n",
       "30  65d8667bbb908e26c802a94b  202307  서울특별시   1070818.0      3589248.0   \n",
       "29  65d8667bbb908e26c802a94a  202306  서울특별시   1061383.0      3569349.0   \n",
       "28  65d8667bbb908e26c802a949  202305  서울특별시   1116071.0      3803919.0   \n",
       "27  65d8667bbb908e26c802a948  202304  서울특별시   1053476.0      3619532.0   \n",
       "32  65d8667bbb908e26c802a94d  202309  서울특별시   1001844.0      3456150.0   \n",
       "31  65d8667bbb908e26c802a94c  202308  서울특별시   1006149.0      3506755.0   \n",
       "33  65d8667bbb908e26c802a94e  202310  서울특별시   1032694.0      3672830.0   \n",
       "\n",
       "    전국 대비 관광소비율 지역구분  \n",
       "35         31.6   서울  \n",
       "25         31.2   서울  \n",
       "24         31.0   서울  \n",
       "26         30.5   서울  \n",
       "34         30.0   서울  \n",
       "30         29.8   서울  \n",
       "29         29.7   서울  \n",
       "28         29.3   서울  \n",
       "27         29.1   서울  \n",
       "32         29.0   서울  \n",
       "31         28.7   서울  \n",
       "33         28.1   서울  "
      ]
     },
     "execution_count": 82,
     "metadata": {},
     "output_type": "execute_result"
    }
   ],
   "source": [
    "# 서울 -> '전국 대비 관광소비율'이 높으며 관광소비액을 최대인 월 정리\n",
    "df_consume_transition_entire_SU = df_consume_transition_entire[df_consume_transition_entire['지역구분'] == '서울'].sort_values('전국 대비 관광소비율', ascending=False)\n",
    "df_consume_transition_entire_SU_whole = df_consume_transition_entire_SU.sort_values(by=['전국 대비 관광소비율', '전국 관광소비액(백만원)'], ascending=[False, False])\n",
    "df_consume_transition_entire_SU_whole"
   ]
  },
  {
   "cell_type": "code",
   "execution_count": 83,
   "id": "c98630e6-13df-4a67-934f-b3565c146816",
   "metadata": {
    "collapsed": true,
    "jupyter": {
     "outputs_hidden": true
    }
   },
   "outputs": [
    {
     "data": {
      "text/html": [
       "<div>\n",
       "<style scoped>\n",
       "    .dataframe tbody tr th:only-of-type {\n",
       "        vertical-align: middle;\n",
       "    }\n",
       "\n",
       "    .dataframe tbody tr th {\n",
       "        vertical-align: top;\n",
       "    }\n",
       "\n",
       "    .dataframe thead th {\n",
       "        text-align: right;\n",
       "    }\n",
       "</style>\n",
       "<table border=\"1\" class=\"dataframe\">\n",
       "  <thead>\n",
       "    <tr style=\"text-align: right;\">\n",
       "      <th></th>\n",
       "      <th>_id</th>\n",
       "      <th>기준연월</th>\n",
       "      <th>지역명</th>\n",
       "      <th>관광소비액(백만원)</th>\n",
       "      <th>전국 관광소비액(백만원)</th>\n",
       "      <th>전국 대비 관광소비율</th>\n",
       "      <th>지역구분</th>\n",
       "    </tr>\n",
       "  </thead>\n",
       "  <tbody>\n",
       "    <tr>\n",
       "      <th>43</th>\n",
       "      <td>65d8667bbb908e26c802a958</td>\n",
       "      <td>202308</td>\n",
       "      <td>제주특별자치도</td>\n",
       "      <td>102788.0</td>\n",
       "      <td>3506755.0</td>\n",
       "      <td>2.9</td>\n",
       "      <td>제주</td>\n",
       "    </tr>\n",
       "    <tr>\n",
       "      <th>41</th>\n",
       "      <td>65d8667bbb908e26c802a956</td>\n",
       "      <td>202306</td>\n",
       "      <td>제주특별자치도</td>\n",
       "      <td>96518.0</td>\n",
       "      <td>3569349.0</td>\n",
       "      <td>2.7</td>\n",
       "      <td>제주</td>\n",
       "    </tr>\n",
       "    <tr>\n",
       "      <th>37</th>\n",
       "      <td>65d8667bbb908e26c802a952</td>\n",
       "      <td>202302</td>\n",
       "      <td>제주특별자치도</td>\n",
       "      <td>84610.0</td>\n",
       "      <td>3112274.0</td>\n",
       "      <td>2.7</td>\n",
       "      <td>제주</td>\n",
       "    </tr>\n",
       "    <tr>\n",
       "      <th>40</th>\n",
       "      <td>65d8667bbb908e26c802a955</td>\n",
       "      <td>202305</td>\n",
       "      <td>제주특별자치도</td>\n",
       "      <td>100666.0</td>\n",
       "      <td>3803919.0</td>\n",
       "      <td>2.6</td>\n",
       "      <td>제주</td>\n",
       "    </tr>\n",
       "    <tr>\n",
       "      <th>39</th>\n",
       "      <td>65d8667bbb908e26c802a954</td>\n",
       "      <td>202304</td>\n",
       "      <td>제주특별자치도</td>\n",
       "      <td>95733.0</td>\n",
       "      <td>3619532.0</td>\n",
       "      <td>2.6</td>\n",
       "      <td>제주</td>\n",
       "    </tr>\n",
       "    <tr>\n",
       "      <th>36</th>\n",
       "      <td>65d8667bbb908e26c802a951</td>\n",
       "      <td>202301</td>\n",
       "      <td>제주특별자치도</td>\n",
       "      <td>83872.0</td>\n",
       "      <td>3193641.0</td>\n",
       "      <td>2.6</td>\n",
       "      <td>제주</td>\n",
       "    </tr>\n",
       "    <tr>\n",
       "      <th>45</th>\n",
       "      <td>65d8667bbb908e26c802a95a</td>\n",
       "      <td>202310</td>\n",
       "      <td>제주특별자치도</td>\n",
       "      <td>92968.0</td>\n",
       "      <td>3672830.0</td>\n",
       "      <td>2.5</td>\n",
       "      <td>제주</td>\n",
       "    </tr>\n",
       "    <tr>\n",
       "      <th>42</th>\n",
       "      <td>65d8667bbb908e26c802a957</td>\n",
       "      <td>202307</td>\n",
       "      <td>제주특별자치도</td>\n",
       "      <td>91259.0</td>\n",
       "      <td>3589248.0</td>\n",
       "      <td>2.5</td>\n",
       "      <td>제주</td>\n",
       "    </tr>\n",
       "    <tr>\n",
       "      <th>38</th>\n",
       "      <td>65d8667bbb908e26c802a953</td>\n",
       "      <td>202303</td>\n",
       "      <td>제주특별자치도</td>\n",
       "      <td>86661.0</td>\n",
       "      <td>3478043.0</td>\n",
       "      <td>2.5</td>\n",
       "      <td>제주</td>\n",
       "    </tr>\n",
       "    <tr>\n",
       "      <th>44</th>\n",
       "      <td>65d8667bbb908e26c802a959</td>\n",
       "      <td>202309</td>\n",
       "      <td>제주특별자치도</td>\n",
       "      <td>81507.0</td>\n",
       "      <td>3456150.0</td>\n",
       "      <td>2.4</td>\n",
       "      <td>제주</td>\n",
       "    </tr>\n",
       "    <tr>\n",
       "      <th>46</th>\n",
       "      <td>65d8667bbb908e26c802a95b</td>\n",
       "      <td>202311</td>\n",
       "      <td>제주특별자치도</td>\n",
       "      <td>78435.0</td>\n",
       "      <td>3352999.0</td>\n",
       "      <td>2.3</td>\n",
       "      <td>제주</td>\n",
       "    </tr>\n",
       "    <tr>\n",
       "      <th>47</th>\n",
       "      <td>65d8667bbb908e26c802a95c</td>\n",
       "      <td>202312</td>\n",
       "      <td>제주특별자치도</td>\n",
       "      <td>74784.0</td>\n",
       "      <td>3565655.0</td>\n",
       "      <td>2.1</td>\n",
       "      <td>제주</td>\n",
       "    </tr>\n",
       "  </tbody>\n",
       "</table>\n",
       "</div>"
      ],
      "text/plain": [
       "                         _id    기준연월      지역명  관광소비액(백만원)  전국 관광소비액(백만원)  \\\n",
       "43  65d8667bbb908e26c802a958  202308  제주특별자치도    102788.0      3506755.0   \n",
       "41  65d8667bbb908e26c802a956  202306  제주특별자치도     96518.0      3569349.0   \n",
       "37  65d8667bbb908e26c802a952  202302  제주특별자치도     84610.0      3112274.0   \n",
       "40  65d8667bbb908e26c802a955  202305  제주특별자치도    100666.0      3803919.0   \n",
       "39  65d8667bbb908e26c802a954  202304  제주특별자치도     95733.0      3619532.0   \n",
       "36  65d8667bbb908e26c802a951  202301  제주특별자치도     83872.0      3193641.0   \n",
       "45  65d8667bbb908e26c802a95a  202310  제주특별자치도     92968.0      3672830.0   \n",
       "42  65d8667bbb908e26c802a957  202307  제주특별자치도     91259.0      3589248.0   \n",
       "38  65d8667bbb908e26c802a953  202303  제주특별자치도     86661.0      3478043.0   \n",
       "44  65d8667bbb908e26c802a959  202309  제주특별자치도     81507.0      3456150.0   \n",
       "46  65d8667bbb908e26c802a95b  202311  제주특별자치도     78435.0      3352999.0   \n",
       "47  65d8667bbb908e26c802a95c  202312  제주특별자치도     74784.0      3565655.0   \n",
       "\n",
       "    전국 대비 관광소비율 지역구분  \n",
       "43          2.9   제주  \n",
       "41          2.7   제주  \n",
       "37          2.7   제주  \n",
       "40          2.6   제주  \n",
       "39          2.6   제주  \n",
       "36          2.6   제주  \n",
       "45          2.5   제주  \n",
       "42          2.5   제주  \n",
       "38          2.5   제주  \n",
       "44          2.4   제주  \n",
       "46          2.3   제주  \n",
       "47          2.1   제주  "
      ]
     },
     "execution_count": 83,
     "metadata": {},
     "output_type": "execute_result"
    }
   ],
   "source": [
    "# 제주 -> '전국 대비 관광소비율'이 높으며 관광소비액을 최대인 월 정리\n",
    "df_consume_transition_entire_JJ = df_consume_transition_entire[df_consume_transition_entire['지역구분'] == '제주'].sort_values('전국 대비 관광소비율', ascending=False)\n",
    "df_consume_transition_entire_JJ_whole = df_consume_transition_entire_JJ.sort_values(by=['전국 대비 관광소비율', '전국 관광소비액(백만원)'], ascending=[False, False])\n",
    "df_consume_transition_entire_JJ_whole"
   ]
  },
  {
   "cell_type": "code",
   "execution_count": 84,
   "id": "76a7452e-b143-46b7-964f-bca48f0f4e39",
   "metadata": {
    "collapsed": true,
    "jupyter": {
     "outputs_hidden": true
    }
   },
   "outputs": [
    {
     "data": {
      "text/html": [
       "<div>\n",
       "<style scoped>\n",
       "    .dataframe tbody tr th:only-of-type {\n",
       "        vertical-align: middle;\n",
       "    }\n",
       "\n",
       "    .dataframe tbody tr th {\n",
       "        vertical-align: top;\n",
       "    }\n",
       "\n",
       "    .dataframe thead th {\n",
       "        text-align: right;\n",
       "    }\n",
       "</style>\n",
       "<table border=\"1\" class=\"dataframe\">\n",
       "  <thead>\n",
       "    <tr style=\"text-align: right;\">\n",
       "      <th></th>\n",
       "      <th>_id</th>\n",
       "      <th>기준연월</th>\n",
       "      <th>지역명</th>\n",
       "      <th>관광소비액(백만원)</th>\n",
       "      <th>전국 관광소비액(백만원)</th>\n",
       "      <th>전국 대비 관광소비율</th>\n",
       "      <th>지역구분</th>\n",
       "    </tr>\n",
       "  </thead>\n",
       "  <tbody>\n",
       "    <tr>\n",
       "      <th>55</th>\n",
       "      <td>65d8667bbb908e26c802a964</td>\n",
       "      <td>202308</td>\n",
       "      <td>강원특별자치도</td>\n",
       "      <td>152452.0</td>\n",
       "      <td>3506755.0</td>\n",
       "      <td>4.3</td>\n",
       "      <td>강원</td>\n",
       "    </tr>\n",
       "    <tr>\n",
       "      <th>54</th>\n",
       "      <td>65d8667bbb908e26c802a963</td>\n",
       "      <td>202307</td>\n",
       "      <td>강원특별자치도</td>\n",
       "      <td>130557.0</td>\n",
       "      <td>3589248.0</td>\n",
       "      <td>3.6</td>\n",
       "      <td>강원</td>\n",
       "    </tr>\n",
       "    <tr>\n",
       "      <th>57</th>\n",
       "      <td>65d8667bbb908e26c802a966</td>\n",
       "      <td>202310</td>\n",
       "      <td>강원특별자치도</td>\n",
       "      <td>123845.0</td>\n",
       "      <td>3672830.0</td>\n",
       "      <td>3.4</td>\n",
       "      <td>강원</td>\n",
       "    </tr>\n",
       "    <tr>\n",
       "      <th>53</th>\n",
       "      <td>65d8667bbb908e26c802a962</td>\n",
       "      <td>202306</td>\n",
       "      <td>강원특별자치도</td>\n",
       "      <td>116836.0</td>\n",
       "      <td>3569349.0</td>\n",
       "      <td>3.3</td>\n",
       "      <td>강원</td>\n",
       "    </tr>\n",
       "    <tr>\n",
       "      <th>56</th>\n",
       "      <td>65d8667bbb908e26c802a965</td>\n",
       "      <td>202309</td>\n",
       "      <td>강원특별자치도</td>\n",
       "      <td>110187.0</td>\n",
       "      <td>3456150.0</td>\n",
       "      <td>3.2</td>\n",
       "      <td>강원</td>\n",
       "    </tr>\n",
       "    <tr>\n",
       "      <th>48</th>\n",
       "      <td>65d8667bbb908e26c802a95d</td>\n",
       "      <td>202301</td>\n",
       "      <td>강원특별자치도</td>\n",
       "      <td>100757.0</td>\n",
       "      <td>3193641.0</td>\n",
       "      <td>3.2</td>\n",
       "      <td>강원</td>\n",
       "    </tr>\n",
       "    <tr>\n",
       "      <th>52</th>\n",
       "      <td>65d8667bbb908e26c802a961</td>\n",
       "      <td>202305</td>\n",
       "      <td>강원특별자치도</td>\n",
       "      <td>118153.0</td>\n",
       "      <td>3803919.0</td>\n",
       "      <td>3.1</td>\n",
       "      <td>강원</td>\n",
       "    </tr>\n",
       "    <tr>\n",
       "      <th>49</th>\n",
       "      <td>65d8667bbb908e26c802a95e</td>\n",
       "      <td>202302</td>\n",
       "      <td>강원특별자치도</td>\n",
       "      <td>97582.0</td>\n",
       "      <td>3112274.0</td>\n",
       "      <td>3.1</td>\n",
       "      <td>강원</td>\n",
       "    </tr>\n",
       "    <tr>\n",
       "      <th>51</th>\n",
       "      <td>65d8667bbb908e26c802a960</td>\n",
       "      <td>202304</td>\n",
       "      <td>강원특별자치도</td>\n",
       "      <td>104424.0</td>\n",
       "      <td>3619532.0</td>\n",
       "      <td>2.9</td>\n",
       "      <td>강원</td>\n",
       "    </tr>\n",
       "    <tr>\n",
       "      <th>59</th>\n",
       "      <td>65d8667bbb908e26c802a968</td>\n",
       "      <td>202312</td>\n",
       "      <td>강원특별자치도</td>\n",
       "      <td>98166.0</td>\n",
       "      <td>3565655.0</td>\n",
       "      <td>2.8</td>\n",
       "      <td>강원</td>\n",
       "    </tr>\n",
       "    <tr>\n",
       "      <th>58</th>\n",
       "      <td>65d8667bbb908e26c802a967</td>\n",
       "      <td>202311</td>\n",
       "      <td>강원특별자치도</td>\n",
       "      <td>90570.0</td>\n",
       "      <td>3352999.0</td>\n",
       "      <td>2.7</td>\n",
       "      <td>강원</td>\n",
       "    </tr>\n",
       "    <tr>\n",
       "      <th>50</th>\n",
       "      <td>65d8667bbb908e26c802a95f</td>\n",
       "      <td>202303</td>\n",
       "      <td>강원특별자치도</td>\n",
       "      <td>89771.0</td>\n",
       "      <td>3478043.0</td>\n",
       "      <td>2.6</td>\n",
       "      <td>강원</td>\n",
       "    </tr>\n",
       "  </tbody>\n",
       "</table>\n",
       "</div>"
      ],
      "text/plain": [
       "                         _id    기준연월      지역명  관광소비액(백만원)  전국 관광소비액(백만원)  \\\n",
       "55  65d8667bbb908e26c802a964  202308  강원특별자치도    152452.0      3506755.0   \n",
       "54  65d8667bbb908e26c802a963  202307  강원특별자치도    130557.0      3589248.0   \n",
       "57  65d8667bbb908e26c802a966  202310  강원특별자치도    123845.0      3672830.0   \n",
       "53  65d8667bbb908e26c802a962  202306  강원특별자치도    116836.0      3569349.0   \n",
       "56  65d8667bbb908e26c802a965  202309  강원특별자치도    110187.0      3456150.0   \n",
       "48  65d8667bbb908e26c802a95d  202301  강원특별자치도    100757.0      3193641.0   \n",
       "52  65d8667bbb908e26c802a961  202305  강원특별자치도    118153.0      3803919.0   \n",
       "49  65d8667bbb908e26c802a95e  202302  강원특별자치도     97582.0      3112274.0   \n",
       "51  65d8667bbb908e26c802a960  202304  강원특별자치도    104424.0      3619532.0   \n",
       "59  65d8667bbb908e26c802a968  202312  강원특별자치도     98166.0      3565655.0   \n",
       "58  65d8667bbb908e26c802a967  202311  강원특별자치도     90570.0      3352999.0   \n",
       "50  65d8667bbb908e26c802a95f  202303  강원특별자치도     89771.0      3478043.0   \n",
       "\n",
       "    전국 대비 관광소비율 지역구분  \n",
       "55          4.3   강원  \n",
       "54          3.6   강원  \n",
       "57          3.4   강원  \n",
       "53          3.3   강원  \n",
       "56          3.2   강원  \n",
       "48          3.2   강원  \n",
       "52          3.1   강원  \n",
       "49          3.1   강원  \n",
       "51          2.9   강원  \n",
       "59          2.8   강원  \n",
       "58          2.7   강원  \n",
       "50          2.6   강원  "
      ]
     },
     "execution_count": 84,
     "metadata": {},
     "output_type": "execute_result"
    }
   ],
   "source": [
    "# 강원 -> '전국 대비 관광소비율'이 높으며 관광소비액을 최대인 월 정리\n",
    "df_consume_transition_entire_GW = df_consume_transition_entire[df_consume_transition_entire['지역구분'] == '강원'].sort_values('전국 대비 관광소비율', ascending=False)\n",
    "df_consume_transition_entire_GW_whole = df_consume_transition_entire_GW.sort_values(by=['전국 대비 관광소비율', '전국 관광소비액(백만원)'], ascending=[False, False])\n",
    "df_consume_transition_entire_GW_whole"
   ]
  },
  {
   "cell_type": "markdown",
   "id": "73376501-f996-4ab9-9ca9-fa48dc2505d9",
   "metadata": {},
   "source": [
    "## ------------------------------------------------------------------------"
   ]
  },
  {
   "cell_type": "code",
   "execution_count": 225,
   "id": "74d3cb1b-5b89-4039-896d-db43a389d56b",
   "metadata": {
    "collapsed": true,
    "jupyter": {
     "outputs_hidden": true
    }
   },
   "outputs": [
    {
     "data": {
      "image/png": "[encoded data removed]",
      "text/plain": [
       "<Figure size 640x480 with 1 Axes>"
      ]
     },
     "metadata": {},
     "output_type": "display_data"
    }
   ],
   "source": [
    "# 3번 각 지역별 전국 대비 관광소비율 상위 1위 비교(파이 차트)\n",
    "IC = df_consume_transition_entire_IC_whole.iloc[0,5]\n",
    "BS = df_consume_transition_entire_BS_whole.iloc[0,5]\n",
    "SU = df_consume_transition_entire_SU_whole.iloc[0,5]\n",
    "JJ = df_consume_transition_entire_JJ_whole.iloc[0,5]\n",
    "GW = df_consume_transition_entire_GW_whole.iloc[0,5]\n",
    "data = [IC, BS,SU, JJ, GW]\n",
    "labels = ['인천(7월)', '부산(12월)', '서울(12월)', '제주(8월)', '강원(8월)']\n",
    "plt.pie(data, labels=labels, autopct='%.1f%%')\n",
    "plt.title('1년 지역별 관광소비율 TOP 1', fontsize=20)\n",
    "plt.show()"
   ]
  },
  {
   "cell_type": "markdown",
   "id": "236a9fa5-65c0-436e-866d-af6395dc51f5",
   "metadata": {},
   "source": [
    "# 1번 중간 점검 : 지역별 상위 1-3위 소비 항목\n",
    "- 인천 -> 가장 많이 소비하는 항목 : 식음료, 대형쇼핑몰, 면세점\n",
    "- 부산 -> 가장 많이 소비하는 항목 : 식음료, 대형쇼핑몰, 레저용품쇼핑\n",
    "- 서울 -> 가장 많이 소비하는 항목 : 식음료, 대형쇼핑몰, 항공운송\n",
    "- 제주 -> 가장 많이 소비하는 항목 : 식음료, 면세점, 골프장\n",
    "- 강원 -> 가장 많이 소비하는 항목 : 식음료, 골프장, 콘도\n",
    "\n",
    "# 2번 중간 점검 : 지역별 소비액이 가장 높은 항목을 전체에서 %인지 비교\n",
    "- 인천 : 식음료업, 쇼핑업 / 1월,12월 제외하고 여가서비스업 순으로 많음.\n",
    "- 부산 : 식음료업, 쇼핑업 / 3,4,6,9,10월 제외하고 숙박업 순으로 많음.\n",
    "- 서울 : 식음료업, 쇼핑업, 운송업\n",
    "- 제주 : 식음료업, 쇼핑업, 숙박업\n",
    "- 강원 : 식음료업, 3월 - 11월까지 여가서비스업이 대략 2위를 차지한다.\n",
    "\n",
    "# 3번 중간 점검 : '전국 대비 관광소비율'이 높으며 관광소비액을 최대인 월 정리\n",
    "- 인천 : 7월(4.9%), 9월(4.9%), 12월(4.9%)\n",
    "- 부산 : 12월(8.2%), 1월(8.1%), 2월(7.8%)\n",
    "- 서울 : 12월(31.6%), 2월(31.2%), 1월(31.0%)\n",
    "- 제주 : 8월(2.9%), 2월(2.7%), 6월(2.7%)\n",
    "- 강원 : 8월(4.3%), 7월(3.6%), 10월(3.4%)"
   ]
  }
 ],
 "metadata": {
  "kernelspec": {
   "display_name": "Python 3 (ipykernel)",
   "language": "python",
   "name": "python3"
  },
  "language_info": {
   "codemirror_mode": {
    "name": "ipython",
    "version": 3
   },
   "file_extension": ".py",
   "mimetype": "text/x-python",
   "name": "python",
   "nbconvert_exporter": "python",
   "pygments_lexer": "ipython3",
   "version": "3.11.8"
  }
 },
 "nbformat": 4,
 "nbformat_minor": 5
}
