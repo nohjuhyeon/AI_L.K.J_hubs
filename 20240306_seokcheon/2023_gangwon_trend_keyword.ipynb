{
 "cells": [
  {
   "cell_type": "code",
   "execution_count": 2,
   "id": "9e973514-3102-4958-a9b8-f57ccc426c10",
   "metadata": {},
   "outputs": [],
   "source": [
    "import pandas as pd\n",
    "import pymongo\n",
    "import seaborn as sns\n",
    "import numpy as np\n",
    "import matplotlib.pyplot as plt\n",
    "import matplotlib as mpl\n",
    "mpl.rc('font', family='NanumBarunGothic') # 혹은 다른 설치한 Nanum 폰트 사용\n",
    "import scipy\n",
    "import scipy.stats as stats"
   ]
  },
  {
   "cell_type": "markdown",
   "id": "9d76eb41-8d57-4b01-abb3-d436402c7204",
   "metadata": {},
   "source": [
    "### 데이터 전처리"
   ]
  },
  {
   "cell_type": "code",
   "execution_count": 19,
   "id": "347b065d-3646-4502-8c76-1c689302d8ca",
   "metadata": {},
   "outputs": [
    {
     "data": {
      "text/html": [
       "<div>\n",
       "<style scoped>\n",
       "    .dataframe tbody tr th:only-of-type {\n",
       "        vertical-align: middle;\n",
       "    }\n",
       "\n",
       "    .dataframe tbody tr th {\n",
       "        vertical-align: top;\n",
       "    }\n",
       "\n",
       "    .dataframe thead th {\n",
       "        text-align: right;\n",
       "    }\n",
       "</style>\n",
       "<table border=\"1\" class=\"dataframe\">\n",
       "  <thead>\n",
       "    <tr style=\"text-align: right;\">\n",
       "      <th></th>\n",
       "      <th>순위</th>\n",
       "      <th>분류</th>\n",
       "      <th>관련 키워드</th>\n",
       "      <th>언급건수</th>\n",
       "    </tr>\n",
       "  </thead>\n",
       "  <tbody>\n",
       "    <tr>\n",
       "      <th>0</th>\n",
       "      <td>1</td>\n",
       "      <td>휴식/힐링</td>\n",
       "      <td>힐링</td>\n",
       "      <td>203972</td>\n",
       "    </tr>\n",
       "    <tr>\n",
       "      <th>1</th>\n",
       "      <td>2</td>\n",
       "      <td>레포츠</td>\n",
       "      <td>캠핑</td>\n",
       "      <td>104746</td>\n",
       "    </tr>\n",
       "    <tr>\n",
       "      <th>2</th>\n",
       "      <td>3</td>\n",
       "      <td>레포츠</td>\n",
       "      <td>등산</td>\n",
       "      <td>85976</td>\n",
       "    </tr>\n",
       "    <tr>\n",
       "      <th>3</th>\n",
       "      <td>4</td>\n",
       "      <td>레포츠</td>\n",
       "      <td>스키</td>\n",
       "      <td>76129</td>\n",
       "    </tr>\n",
       "    <tr>\n",
       "      <th>4</th>\n",
       "      <td>5</td>\n",
       "      <td>레포츠</td>\n",
       "      <td>서핑</td>\n",
       "      <td>58103</td>\n",
       "    </tr>\n",
       "    <tr>\n",
       "      <th>...</th>\n",
       "      <td>...</td>\n",
       "      <td>...</td>\n",
       "      <td>...</td>\n",
       "      <td>...</td>\n",
       "    </tr>\n",
       "    <tr>\n",
       "      <th>424</th>\n",
       "      <td>420</td>\n",
       "      <td>휴식/힐링</td>\n",
       "      <td>백캉스</td>\n",
       "      <td>1</td>\n",
       "    </tr>\n",
       "    <tr>\n",
       "      <th>425</th>\n",
       "      <td>420</td>\n",
       "      <td>레포츠</td>\n",
       "      <td>오프로드라이딩</td>\n",
       "      <td>1</td>\n",
       "    </tr>\n",
       "    <tr>\n",
       "      <th>426</th>\n",
       "      <td>420</td>\n",
       "      <td>체험</td>\n",
       "      <td>현지인체험</td>\n",
       "      <td>1</td>\n",
       "    </tr>\n",
       "    <tr>\n",
       "      <th>427</th>\n",
       "      <td>420</td>\n",
       "      <td>레포츠</td>\n",
       "      <td>bsac</td>\n",
       "      <td>1</td>\n",
       "    </tr>\n",
       "    <tr>\n",
       "      <th>428</th>\n",
       "      <td>420</td>\n",
       "      <td>체험</td>\n",
       "      <td>전기자전거체험</td>\n",
       "      <td>1</td>\n",
       "    </tr>\n",
       "  </tbody>\n",
       "</table>\n",
       "<p>429 rows × 4 columns</p>\n",
       "</div>"
      ],
      "text/plain": [
       "      순위     분류   관련 키워드    언급건수\n",
       "0      1  휴식/힐링       힐링  203972\n",
       "1      2    레포츠       캠핑  104746\n",
       "2      3    레포츠       등산   85976\n",
       "3      4    레포츠       스키   76129\n",
       "4      5    레포츠       서핑   58103\n",
       "..   ...    ...      ...     ...\n",
       "424  420  휴식/힐링      백캉스       1\n",
       "425  420    레포츠  오프로드라이딩       1\n",
       "426  420     체험    현지인체험       1\n",
       "427  420    레포츠     bsac       1\n",
       "428  420     체험  전기자전거체험       1\n",
       "\n",
       "[429 rows x 4 columns]"
      ]
     },
     "execution_count": 19,
     "metadata": {},
     "output_type": "execute_result"
    }
   ],
   "source": [
    "df_trend_2023_gangwon = pd.read_csv(\"20240305141835_여행유형_트렌드 키워드.csv\", encoding='cp949')\n",
    "df_trend_2023_gangwon"
   ]
  },
  {
   "cell_type": "code",
   "execution_count": 20,
   "id": "3f0d35a9-2e86-462f-b6e8-e64990abc503",
   "metadata": {},
   "outputs": [
    {
     "data": {
      "text/plain": [
       "순위        0\n",
       "분류        0\n",
       "관련 키워드    0\n",
       "언급건수      0\n",
       "dtype: int64"
      ]
     },
     "execution_count": 20,
     "metadata": {},
     "output_type": "execute_result"
    }
   ],
   "source": [
    "df_trend_2023_gangwon.isnull().sum()"
   ]
  },
  {
   "cell_type": "markdown",
   "id": "840ce8c7-bdc8-415e-bc6d-477703b2efa2",
   "metadata": {},
   "source": [
    "### 데이터 가공"
   ]
  },
  {
   "cell_type": "code",
   "execution_count": 21,
   "id": "b00fc5d7-cc26-4017-b4fe-18bfbef55989",
   "metadata": {},
   "outputs": [
    {
     "data": {
      "text/html": [
       "<div>\n",
       "<style scoped>\n",
       "    .dataframe tbody tr th:only-of-type {\n",
       "        vertical-align: middle;\n",
       "    }\n",
       "\n",
       "    .dataframe tbody tr th {\n",
       "        vertical-align: top;\n",
       "    }\n",
       "\n",
       "    .dataframe thead th {\n",
       "        text-align: right;\n",
       "    }\n",
       "</style>\n",
       "<table border=\"1\" class=\"dataframe\">\n",
       "  <thead>\n",
       "    <tr style=\"text-align: right;\">\n",
       "      <th></th>\n",
       "      <th>순위</th>\n",
       "      <th>분류</th>\n",
       "      <th>관련 키워드</th>\n",
       "      <th>언급건수</th>\n",
       "      <th>지역구분</th>\n",
       "    </tr>\n",
       "  </thead>\n",
       "  <tbody>\n",
       "    <tr>\n",
       "      <th>0</th>\n",
       "      <td>1</td>\n",
       "      <td>휴식/힐링</td>\n",
       "      <td>힐링</td>\n",
       "      <td>203972</td>\n",
       "      <td>강원</td>\n",
       "    </tr>\n",
       "    <tr>\n",
       "      <th>1</th>\n",
       "      <td>2</td>\n",
       "      <td>레포츠</td>\n",
       "      <td>캠핑</td>\n",
       "      <td>104746</td>\n",
       "      <td>강원</td>\n",
       "    </tr>\n",
       "    <tr>\n",
       "      <th>2</th>\n",
       "      <td>3</td>\n",
       "      <td>레포츠</td>\n",
       "      <td>등산</td>\n",
       "      <td>85976</td>\n",
       "      <td>강원</td>\n",
       "    </tr>\n",
       "    <tr>\n",
       "      <th>3</th>\n",
       "      <td>4</td>\n",
       "      <td>레포츠</td>\n",
       "      <td>스키</td>\n",
       "      <td>76129</td>\n",
       "      <td>강원</td>\n",
       "    </tr>\n",
       "    <tr>\n",
       "      <th>4</th>\n",
       "      <td>5</td>\n",
       "      <td>레포츠</td>\n",
       "      <td>서핑</td>\n",
       "      <td>58103</td>\n",
       "      <td>강원</td>\n",
       "    </tr>\n",
       "    <tr>\n",
       "      <th>...</th>\n",
       "      <td>...</td>\n",
       "      <td>...</td>\n",
       "      <td>...</td>\n",
       "      <td>...</td>\n",
       "      <td>...</td>\n",
       "    </tr>\n",
       "    <tr>\n",
       "      <th>424</th>\n",
       "      <td>420</td>\n",
       "      <td>휴식/힐링</td>\n",
       "      <td>백캉스</td>\n",
       "      <td>1</td>\n",
       "      <td>강원</td>\n",
       "    </tr>\n",
       "    <tr>\n",
       "      <th>425</th>\n",
       "      <td>420</td>\n",
       "      <td>레포츠</td>\n",
       "      <td>오프로드라이딩</td>\n",
       "      <td>1</td>\n",
       "      <td>강원</td>\n",
       "    </tr>\n",
       "    <tr>\n",
       "      <th>426</th>\n",
       "      <td>420</td>\n",
       "      <td>체험</td>\n",
       "      <td>현지인체험</td>\n",
       "      <td>1</td>\n",
       "      <td>강원</td>\n",
       "    </tr>\n",
       "    <tr>\n",
       "      <th>427</th>\n",
       "      <td>420</td>\n",
       "      <td>레포츠</td>\n",
       "      <td>bsac</td>\n",
       "      <td>1</td>\n",
       "      <td>강원</td>\n",
       "    </tr>\n",
       "    <tr>\n",
       "      <th>428</th>\n",
       "      <td>420</td>\n",
       "      <td>체험</td>\n",
       "      <td>전기자전거체험</td>\n",
       "      <td>1</td>\n",
       "      <td>강원</td>\n",
       "    </tr>\n",
       "  </tbody>\n",
       "</table>\n",
       "<p>429 rows × 5 columns</p>\n",
       "</div>"
      ],
      "text/plain": [
       "      순위     분류   관련 키워드    언급건수 지역구분\n",
       "0      1  휴식/힐링       힐링  203972   강원\n",
       "1      2    레포츠       캠핑  104746   강원\n",
       "2      3    레포츠       등산   85976   강원\n",
       "3      4    레포츠       스키   76129   강원\n",
       "4      5    레포츠       서핑   58103   강원\n",
       "..   ...    ...      ...     ...  ...\n",
       "424  420  휴식/힐링      백캉스       1   강원\n",
       "425  420    레포츠  오프로드라이딩       1   강원\n",
       "426  420     체험    현지인체험       1   강원\n",
       "427  420    레포츠     bsac       1   강원\n",
       "428  420     체험  전기자전거체험       1   강원\n",
       "\n",
       "[429 rows x 5 columns]"
      ]
     },
     "execution_count": 21,
     "metadata": {},
     "output_type": "execute_result"
    }
   ],
   "source": [
    "df_trend_2023_gangwon['지역구분'] = '강원'\n",
    "df_trend_2023_gangwon"
   ]
  },
  {
   "cell_type": "code",
   "execution_count": 22,
   "id": "7a0e2f9a-3ee9-4fe3-8fee-44b44d8959e5",
   "metadata": {},
   "outputs": [
    {
     "data": {
      "text/plain": [
       "<Axes: xlabel='관련 키워드', ylabel='언급건수'>"
      ]
     },
     "execution_count": 22,
     "metadata": {},
     "output_type": "execute_result"
    },
    {
     "data": {
      "image/png": "[encoded data removed]",
      "text/plain": [
       "<Figure size 640x480 with 1 Axes>"
      ]
     },
     "metadata": {},
     "output_type": "display_data"
    }
   ],
   "source": [
    "sns.barplot(data=df_trend_2023_gangwon.query(\"분류 == '휴식/힐링'\")[:5] , x=\"관련 키워드\", y=\"언급건수\")"
   ]
  },
  {
   "cell_type": "markdown",
   "id": "b2ee06a3-ccda-4120-89b6-c1a12b1ed839",
   "metadata": {},
   "source": [
    "### insight\n",
    "- 2023년 강원 트렌드 언급건수 : 힐링>나들이>휴양>불멍>야영 순\n",
    "- 접근전략 : 강원도는 힐링과 관련된 트렌드 여행을 추천"
   ]
  }
 ],
 "metadata": {
  "kernelspec": {
   "display_name": "Python 3 (ipykernel)",
   "language": "python",
   "name": "python3"
  },
  "language_info": {
   "codemirror_mode": {
    "name": "ipython",
    "version": 3
   },
   "file_extension": ".py",
   "mimetype": "text/x-python",
   "name": "python",
   "nbconvert_exporter": "python",
   "pygments_lexer": "ipython3",
   "version": "3.11.8"
  }
 },
 "nbformat": 4,
 "nbformat_minor": 5
}
