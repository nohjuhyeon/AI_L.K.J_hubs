{
 "cells": [
  {
   "cell_type": "code",
   "execution_count": 6,
   "id": "795a3ba5-973c-412c-bca9-f5593a3624a0",
   "metadata": {},
   "outputs": [
    {
     "name": "stdout",
     "output_type": "stream",
     "text": [
      "Inserted user id: 65d5a0a98a13efaec2fa7565\n"
     ]
    }
   ],
   "source": [
    "from pymongo import MongoClient\n",
    "\n",
    "# MongoDB 서버에 연결\n",
    "client = MongoClient('mongodb://mongodb:27017/')    # connect in case local\n",
    "# client = MongoClient('mongodb://172.30.144.1:27017/')    # connect in case remote\n",
    "\n",
    "# 'mydatabase' 데이터베이스 선택 (없으면 자동 생성)\n",
    "db = client['mydatabase']\n",
    "\n",
    "# 'users' 컬렉션 선택 (없으면 자동 생성)\n",
    "collection = db['users']\n",
    "\n",
    "# 입력할 데이터\n",
    "user_data = {\n",
    "    'name': 'John Doe',\n",
    "    'age': 30,\n",
    "    'email': 'johndoe@example.com'\n",
    "}\n",
    "\n",
    "# 데이터 입력\n",
    "result = collection.insert_one(user_data)\n",
    "\n",
    "# 입력된 문서의 ID 출력\n",
    "print('Inserted user id:', result.inserted_id)\n"
   ]
  },
  {
   "cell_type": "code",
   "execution_count": null,
   "id": "c4a2b6b7-e11c-4a3c-bc14-bb1b044712b1",
   "metadata": {},
   "outputs": [],
   "source": []
  }
 ],
 "metadata": {
  "kernelspec": {
   "display_name": "Python 3 (ipykernel)",
   "language": "python",
   "name": "python3"
  },
  "language_info": {
   "codemirror_mode": {
    "name": "ipython",
    "version": 3
   },
   "file_extension": ".py",
   "mimetype": "text/x-python",
   "name": "python",
   "nbconvert_exporter": "python",
   "pygments_lexer": "ipython3",
   "version": "3.11.8"
  }
 },
 "nbformat": 4,
 "nbformat_minor": 5
}
