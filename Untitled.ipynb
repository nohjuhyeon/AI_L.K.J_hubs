{
 "cells": [
  {
   "cell_type": "code",
   "execution_count": 5,
   "id": "60455f01-86cd-4159-ae1e-46094e8a1f31",
   "metadata": {},
   "outputs": [
    {
     "data": {
      "text/html": [
       "<div>\n",
       "<style scoped>\n",
       "    .dataframe tbody tr th:only-of-type {\n",
       "        vertical-align: middle;\n",
       "    }\n",
       "\n",
       "    .dataframe tbody tr th {\n",
       "        vertical-align: top;\n",
       "    }\n",
       "\n",
       "    .dataframe thead th {\n",
       "        text-align: right;\n",
       "    }\n",
       "</style>\n",
       "<table border=\"1\" class=\"dataframe\">\n",
       "  <thead>\n",
       "    <tr style=\"text-align: right;\">\n",
       "      <th></th>\n",
       "      <th>_id</th>\n",
       "      <th>industry_major_cate</th>\n",
       "      <th>std_year_month</th>\n",
       "      <th>std_year</th>\n",
       "      <th>std_month</th>\n",
       "      <th>consumption_amount</th>\n",
       "      <th>region</th>\n",
       "    </tr>\n",
       "  </thead>\n",
       "  <tbody>\n",
       "    <tr>\n",
       "      <th>0</th>\n",
       "      <td>65e932a1bb908e26c804492e</td>\n",
       "      <td>전체</td>\n",
       "      <td>202012</td>\n",
       "      <td>2020</td>\n",
       "      <td>12</td>\n",
       "      <td>59888524.0</td>\n",
       "      <td>강원</td>\n",
       "    </tr>\n",
       "    <tr>\n",
       "      <th>1</th>\n",
       "      <td>65e932a1bb908e26c804492f</td>\n",
       "      <td>전체</td>\n",
       "      <td>202001</td>\n",
       "      <td>2020</td>\n",
       "      <td>1</td>\n",
       "      <td>98147222.0</td>\n",
       "      <td>강원</td>\n",
       "    </tr>\n",
       "    <tr>\n",
       "      <th>2</th>\n",
       "      <td>65e932a1bb908e26c8044930</td>\n",
       "      <td>전체</td>\n",
       "      <td>202002</td>\n",
       "      <td>2020</td>\n",
       "      <td>2</td>\n",
       "      <td>69547139.0</td>\n",
       "      <td>강원</td>\n",
       "    </tr>\n",
       "    <tr>\n",
       "      <th>3</th>\n",
       "      <td>65e932a1bb908e26c8044931</td>\n",
       "      <td>전체</td>\n",
       "      <td>202003</td>\n",
       "      <td>2020</td>\n",
       "      <td>3</td>\n",
       "      <td>62071229.0</td>\n",
       "      <td>강원</td>\n",
       "    </tr>\n",
       "    <tr>\n",
       "      <th>4</th>\n",
       "      <td>65e932a1bb908e26c8044932</td>\n",
       "      <td>전체</td>\n",
       "      <td>202004</td>\n",
       "      <td>2020</td>\n",
       "      <td>4</td>\n",
       "      <td>75022238.0</td>\n",
       "      <td>강원</td>\n",
       "    </tr>\n",
       "  </tbody>\n",
       "</table>\n",
       "</div>"
      ],
      "text/plain": [
       "                        _id industry_major_cate  std_year_month  std_year  \\\n",
       "0  65e932a1bb908e26c804492e                  전체          202012      2020   \n",
       "1  65e932a1bb908e26c804492f                  전체          202001      2020   \n",
       "2  65e932a1bb908e26c8044930                  전체          202002      2020   \n",
       "3  65e932a1bb908e26c8044931                  전체          202003      2020   \n",
       "4  65e932a1bb908e26c8044932                  전체          202004      2020   \n",
       "\n",
       "   std_month  consumption_amount region  \n",
       "0         12          59888524.0     강원  \n",
       "1          1          98147222.0     강원  \n",
       "2          2          69547139.0     강원  \n",
       "3          3          62071229.0     강원  \n",
       "4          4          75022238.0     강원  "
      ]
     },
     "execution_count": 5,
     "metadata": {},
     "output_type": "execute_result"
    }
   ],
   "source": [
    "import numpy as np\n",
    "import pandas as pd\n",
    "import pymongo\n",
    "client=pymongo.MongoClient(\"192.168.10.240\",27017)\n",
    "db= client['AI_LKJ']\n",
    "collection=db['data_consume_transition']\n",
    "data = collection.find()\n",
    "df_consume_transition = pd.DataFrame(data)\n",
    "df_consume_transition[:5]"
   ]
  },
  {
   "cell_type": "code",
   "execution_count": 6,
   "id": "c0bcf82c-8207-416a-845f-47439bfef3c5",
   "metadata": {},
   "outputs": [
    {
     "data": {
      "text/plain": [
       "5693"
      ]
     },
     "execution_count": 6,
     "metadata": {},
     "output_type": "execute_result"
    }
   ],
   "source": [
    "len(df_consume_transition)"
   ]
  },
  {
   "cell_type": "code",
   "execution_count": 7,
   "id": "b37413b2-9137-4bc7-80b0-2cee9f2eb5e7",
   "metadata": {},
   "outputs": [
    {
     "data": {
      "text/plain": [
       "816"
      ]
     },
     "execution_count": 7,
     "metadata": {},
     "output_type": "execute_result"
    }
   ],
   "source": [
    "df_consume_transition = df_consume_transition[df_consume_transition['industry_major_cate'] == '전체']\n",
    "df_consume_transition\n",
    "len(df_consume_transition)"
   ]
  },
  {
   "cell_type": "code",
   "execution_count": null,
   "id": "3f1e0b6f-8c77-4139-94d4-950782dda41f",
   "metadata": {},
   "outputs": [],
   "source": []
  }
 ],
 "metadata": {
  "kernelspec": {
   "display_name": "Python 3 (ipykernel)",
   "language": "python",
   "name": "python3"
  },
  "language_info": {
   "codemirror_mode": {
    "name": "ipython",
    "version": 3
   },
   "file_extension": ".py",
   "mimetype": "text/x-python",
   "name": "python",
   "nbconvert_exporter": "python",
   "pygments_lexer": "ipython3",
   "version": "3.11.8"
  }
 },
 "nbformat": 4,
 "nbformat_minor": 5
}
