{
 "cells": [
  {
   "cell_type": "markdown",
   "id": "fc97cf93-94a2-43bf-a01d-83cc6018d09c",
   "metadata": {},
   "source": [
    "# 시각화"
   ]
  },
  {
   "cell_type": "code",
   "execution_count": 1,
   "id": "02ed02e7-ed87-49d0-8e22-c1c1c93710a7",
   "metadata": {
    "scrolled": true
   },
   "outputs": [
    {
     "name": "stdout",
     "output_type": "stream",
     "text": [
      "Reading package lists... Done\n",
      "Building dependency tree... Done\n",
      "Reading state information... Done\n",
      "fonts-nanum is already the newest version (20200506-1).\n",
      "0 upgraded, 0 newly installed, 0 to remove and 0 not upgraded.\n",
      "Font directories:\n",
      "\t/root/.local/share/fonts\n",
      "\t/usr/local/share/fonts\n",
      "\t/usr/share/fonts\n",
      "\t/root/.fonts\n",
      "\t/usr/share/fonts/truetype\n",
      "\t/usr/share/fonts/truetype/dejavu\n",
      "\t/usr/share/fonts/truetype/nanum\n",
      "/root/.local/share/fonts: skipping, no such directory\n",
      "/usr/local/share/fonts: caching, new cache contents: 0 fonts, 0 dirs\n",
      "/usr/share/fonts: caching, new cache contents: 0 fonts, 1 dirs\n",
      "/usr/share/fonts/truetype: caching, new cache contents: 0 fonts, 2 dirs\n",
      "/usr/share/fonts/truetype/dejavu: caching, new cache contents: 22 fonts, 0 dirs\n",
      "/usr/share/fonts/truetype/nanum: caching, new cache contents: 12 fonts, 0 dirs\n",
      "/root/.fonts: skipping, no such directory\n",
      "/usr/share/fonts/truetype: skipping, looped directory detected\n",
      "/usr/share/fonts/truetype/dejavu: skipping, looped directory detected\n",
      "/usr/share/fonts/truetype/nanum: skipping, looped directory detected\n",
      "/var/cache/fontconfig: cleaning cache directory\n",
      "/root/.cache/fontconfig: not cleaning non-existent cache directory\n",
      "/root/.fontconfig: not cleaning non-existent cache directory\n",
      "fc-cache: succeeded\n"
     ]
    }
   ],
   "source": [
    "# 한글 폰트 설치\n",
    "!apt-get install -y fonts-nanum\n",
    "!fc-cache -fv\n",
    "!rm ~/.cache/matplotlib -rf\n",
    "# 설치 후 colab 경우 Reuntime > Restart session 필요"
   ]
  },
  {
   "cell_type": "code",
   "execution_count": 2,
   "id": "6e69766a-d610-4006-80f0-342587c97550",
   "metadata": {},
   "outputs": [],
   "source": [
    "import matplotlib.pyplot as plt\n",
    "import matplotlib as mpl\n",
    "import seaborn as sns\n",
    "import matplotlib.pyplot as plt\n",
    "mpl.rc('font', family='NanumBarunGothic') # 혹은 다른 설치한 Nanum 폰트 사용"
   ]
  },
  {
   "cell_type": "markdown",
   "id": "470365af-467a-4821-b7da-290df0d05c2c",
   "metadata": {},
   "source": [
    "# 데이터 전처리"
   ]
  },
  {
   "cell_type": "markdown",
   "id": "75acee0c-e400-4270-89b2-f90cdb61f175",
   "metadata": {},
   "source": [
    "## 관광여행횟수_성별_연령_월별(2020-2022) = gender_age_month(2020-2022)"
   ]
  },
  {
   "cell_type": "markdown",
   "id": "3f73b0bb-3ca6-48c6-a5e4-387193ad459f",
   "metadata": {},
   "source": [
    "### 1. 년도별 전체(소계) 비교 - 2020, 2021, 2022년도 합계\n",
    "### 2. 3년도는 합치고 월별 비교(계절별 확인하기위해)\n",
    "### 3. 3년도는 합치고 남여 비교\n",
    "### 4. 3년도는 합치고 나이대별 비교"
   ]
  },
  {
   "cell_type": "code",
   "execution_count": 3,
   "id": "40c60fda-cecf-47bb-bf19-9bf87bd740eb",
   "metadata": {},
   "outputs": [
    {
     "data": {
      "text/html": [
       "<div>\n",
       "<style scoped>\n",
       "    .dataframe tbody tr th:only-of-type {\n",
       "        vertical-align: middle;\n",
       "    }\n",
       "\n",
       "    .dataframe tbody tr th {\n",
       "        vertical-align: top;\n",
       "    }\n",
       "\n",
       "    .dataframe thead th {\n",
       "        text-align: right;\n",
       "    }\n",
       "</style>\n",
       "<table border=\"1\" class=\"dataframe\">\n",
       "  <thead>\n",
       "    <tr style=\"text-align: right;\">\n",
       "      <th></th>\n",
       "      <th>_id</th>\n",
       "      <th>classification</th>\n",
       "      <th>values</th>\n",
       "      <th>year</th>\n",
       "      <th>month</th>\n",
       "      <th>visitor_counts</th>\n",
       "    </tr>\n",
       "  </thead>\n",
       "  <tbody>\n",
       "    <tr>\n",
       "      <th>0</th>\n",
       "      <td>662616c8db3227b4f2b2649c</td>\n",
       "      <td>전체</td>\n",
       "      <td>소계</td>\n",
       "      <td>2020</td>\n",
       "      <td>1월</td>\n",
       "      <td>18037</td>\n",
       "    </tr>\n",
       "    <tr>\n",
       "      <th>1</th>\n",
       "      <td>662616c8db3227b4f2b2649d</td>\n",
       "      <td>전체</td>\n",
       "      <td>소계</td>\n",
       "      <td>2020</td>\n",
       "      <td>2월</td>\n",
       "      <td>11381</td>\n",
       "    </tr>\n",
       "    <tr>\n",
       "      <th>2</th>\n",
       "      <td>662616c8db3227b4f2b2649e</td>\n",
       "      <td>전체</td>\n",
       "      <td>소계</td>\n",
       "      <td>2020</td>\n",
       "      <td>3월</td>\n",
       "      <td>9131</td>\n",
       "    </tr>\n",
       "    <tr>\n",
       "      <th>3</th>\n",
       "      <td>662616c8db3227b4f2b2649f</td>\n",
       "      <td>전체</td>\n",
       "      <td>소계</td>\n",
       "      <td>2020</td>\n",
       "      <td>4월</td>\n",
       "      <td>12443</td>\n",
       "    </tr>\n",
       "    <tr>\n",
       "      <th>4</th>\n",
       "      <td>662616c8db3227b4f2b264a0</td>\n",
       "      <td>전체</td>\n",
       "      <td>소계</td>\n",
       "      <td>2020</td>\n",
       "      <td>5월</td>\n",
       "      <td>15824</td>\n",
       "    </tr>\n",
       "    <tr>\n",
       "      <th>...</th>\n",
       "      <td>...</td>\n",
       "      <td>...</td>\n",
       "      <td>...</td>\n",
       "      <td>...</td>\n",
       "      <td>...</td>\n",
       "      <td>...</td>\n",
       "    </tr>\n",
       "    <tr>\n",
       "      <th>355</th>\n",
       "      <td>662616c8db3227b4f2b265ff</td>\n",
       "      <td>연령</td>\n",
       "      <td>70대 이상</td>\n",
       "      <td>2022</td>\n",
       "      <td>8월</td>\n",
       "      <td>1008</td>\n",
       "    </tr>\n",
       "    <tr>\n",
       "      <th>356</th>\n",
       "      <td>662616c8db3227b4f2b26600</td>\n",
       "      <td>연령</td>\n",
       "      <td>70대 이상</td>\n",
       "      <td>2022</td>\n",
       "      <td>9월</td>\n",
       "      <td>1427</td>\n",
       "    </tr>\n",
       "    <tr>\n",
       "      <th>357</th>\n",
       "      <td>662616c8db3227b4f2b26601</td>\n",
       "      <td>연령</td>\n",
       "      <td>70대 이상</td>\n",
       "      <td>2022</td>\n",
       "      <td>10월</td>\n",
       "      <td>1320</td>\n",
       "    </tr>\n",
       "    <tr>\n",
       "      <th>358</th>\n",
       "      <td>662616c8db3227b4f2b26602</td>\n",
       "      <td>연령</td>\n",
       "      <td>70대 이상</td>\n",
       "      <td>2022</td>\n",
       "      <td>11월</td>\n",
       "      <td>1278</td>\n",
       "    </tr>\n",
       "    <tr>\n",
       "      <th>359</th>\n",
       "      <td>662616c8db3227b4f2b26603</td>\n",
       "      <td>연령</td>\n",
       "      <td>70대 이상</td>\n",
       "      <td>2022</td>\n",
       "      <td>12월</td>\n",
       "      <td>1191</td>\n",
       "    </tr>\n",
       "  </tbody>\n",
       "</table>\n",
       "<p>360 rows × 6 columns</p>\n",
       "</div>"
      ],
      "text/plain": [
       "                          _id classification  values  year month  \\\n",
       "0    662616c8db3227b4f2b2649c             전체      소계  2020    1월   \n",
       "1    662616c8db3227b4f2b2649d             전체      소계  2020    2월   \n",
       "2    662616c8db3227b4f2b2649e             전체      소계  2020    3월   \n",
       "3    662616c8db3227b4f2b2649f             전체      소계  2020    4월   \n",
       "4    662616c8db3227b4f2b264a0             전체      소계  2020    5월   \n",
       "..                        ...            ...     ...   ...   ...   \n",
       "355  662616c8db3227b4f2b265ff             연령  70대 이상  2022    8월   \n",
       "356  662616c8db3227b4f2b26600             연령  70대 이상  2022    9월   \n",
       "357  662616c8db3227b4f2b26601             연령  70대 이상  2022   10월   \n",
       "358  662616c8db3227b4f2b26602             연령  70대 이상  2022   11월   \n",
       "359  662616c8db3227b4f2b26603             연령  70대 이상  2022   12월   \n",
       "\n",
       "     visitor_counts  \n",
       "0             18037  \n",
       "1             11381  \n",
       "2              9131  \n",
       "3             12443  \n",
       "4             15824  \n",
       "..              ...  \n",
       "355            1008  \n",
       "356            1427  \n",
       "357            1320  \n",
       "358            1278  \n",
       "359            1191  \n",
       "\n",
       "[360 rows x 6 columns]"
      ]
     },
     "execution_count": 3,
     "metadata": {},
     "output_type": "execute_result"
    }
   ],
   "source": [
    "import numpy as np\n",
    "import pandas as pd\n",
    "import pymongo\n",
    "client=pymongo.MongoClient(\"192.168.10.240\",27017)\n",
    "db= client['AI_LKJ']\n",
    "collection=db['gender_age_month(2020-2022)']\n",
    "data = collection.find()\n",
    "df_gender_age_month = pd.DataFrame(data)\n",
    "df_gender_age_month"
   ]
  },
  {
   "cell_type": "code",
   "execution_count": 4,
   "id": "d26f13c5-aa23-4d4d-b0d6-184d9342fb1f",
   "metadata": {},
   "outputs": [
    {
     "data": {
      "text/plain": [
       "_id               0\n",
       "classification    0\n",
       "values            0\n",
       "year              0\n",
       "month             0\n",
       "visitor_counts    0\n",
       "dtype: int64"
      ]
     },
     "execution_count": 4,
     "metadata": {},
     "output_type": "execute_result"
    }
   ],
   "source": [
    "# 결측치와 이상치 확인     -> 없음 확인\n",
    "df_gender_age_month.isnull().sum()"
   ]
  },
  {
   "cell_type": "code",
   "execution_count": 5,
   "id": "89c51bd5-4bcf-44aa-8140-5e2fc38e5eac",
   "metadata": {},
   "outputs": [
    {
     "data": {
      "text/plain": [
       "Index(['_id', 'classification', 'values', 'year', 'month', 'visitor_counts'], dtype='object')"
      ]
     },
     "execution_count": 5,
     "metadata": {},
     "output_type": "execute_result"
    }
   ],
   "source": [
    "# 전체적인 컬럼 확인\n",
    "df_gender_age_month.columns"
   ]
  },
  {
   "cell_type": "code",
   "execution_count": 6,
   "id": "1b0d4afe-67e3-48cd-baf1-12a034559012",
   "metadata": {},
   "outputs": [],
   "source": [
    "# 년도별 전체(소계) 비교 - 2020, 2021, 2022년도 합계\n",
    "df_gender_age_month_totalsum = df_gender_age_month[df_gender_age_month['classification'] == '전체'].sort_values('visitor_counts', ascending=False)"
   ]
  },
  {
   "cell_type": "code",
   "execution_count": 7,
   "id": "6c30d1d4-c098-40d6-89d4-3409eb00ccd4",
   "metadata": {},
   "outputs": [
    {
     "data": {
      "text/html": [
       "<div>\n",
       "<style scoped>\n",
       "    .dataframe tbody tr th:only-of-type {\n",
       "        vertical-align: middle;\n",
       "    }\n",
       "\n",
       "    .dataframe tbody tr th {\n",
       "        vertical-align: top;\n",
       "    }\n",
       "\n",
       "    .dataframe thead th {\n",
       "        text-align: right;\n",
       "    }\n",
       "</style>\n",
       "<table border=\"1\" class=\"dataframe\">\n",
       "  <thead>\n",
       "    <tr style=\"text-align: right;\">\n",
       "      <th></th>\n",
       "      <th>visitor_counts</th>\n",
       "    </tr>\n",
       "    <tr>\n",
       "      <th>year</th>\n",
       "      <th></th>\n",
       "    </tr>\n",
       "  </thead>\n",
       "  <tbody>\n",
       "    <tr>\n",
       "      <th>2020</th>\n",
       "      <td>170642</td>\n",
       "    </tr>\n",
       "    <tr>\n",
       "      <th>2021</th>\n",
       "      <td>198801</td>\n",
       "    </tr>\n",
       "    <tr>\n",
       "      <th>2022</th>\n",
       "      <td>241688</td>\n",
       "    </tr>\n",
       "  </tbody>\n",
       "</table>\n",
       "</div>"
      ],
      "text/plain": [
       "      visitor_counts\n",
       "year                \n",
       "2020          170642\n",
       "2021          198801\n",
       "2022          241688"
      ]
     },
     "execution_count": 7,
     "metadata": {},
     "output_type": "execute_result"
    }
   ],
   "source": [
    "## 년도별 전체(소계) 비교 - 2020, 2021, 2022년도 합계\n",
    "pd.pivot_table(data=df_gender_age_month_totalsum,index='year',values='visitor_counts',aggfunc='sum')"
   ]
  },
  {
   "cell_type": "code",
   "execution_count": 8,
   "id": "7bac7669-58ef-4115-adf7-e03adcddab41",
   "metadata": {},
   "outputs": [],
   "source": [
    "# 3년도는 합치고 월별 비교(계절별 확인하기위해)\n",
    "df_gender_age_month_season = df_gender_age_month[df_gender_age_month['classification'] == '전체'].sort_values('visitor_counts', ascending=False)"
   ]
  },
  {
   "cell_type": "code",
   "execution_count": 31,
   "id": "9ac36e47-961b-427f-abda-232d420cdf52",
   "metadata": {},
   "outputs": [
    {
     "data": {
      "text/html": [
       "<div>\n",
       "<style scoped>\n",
       "    .dataframe tbody tr th:only-of-type {\n",
       "        vertical-align: middle;\n",
       "    }\n",
       "\n",
       "    .dataframe tbody tr th {\n",
       "        vertical-align: top;\n",
       "    }\n",
       "\n",
       "    .dataframe thead th {\n",
       "        text-align: right;\n",
       "    }\n",
       "</style>\n",
       "<table border=\"1\" class=\"dataframe\">\n",
       "  <thead>\n",
       "    <tr style=\"text-align: right;\">\n",
       "      <th></th>\n",
       "      <th>visitor_counts</th>\n",
       "    </tr>\n",
       "    <tr>\n",
       "      <th>month</th>\n",
       "      <th></th>\n",
       "    </tr>\n",
       "  </thead>\n",
       "  <tbody>\n",
       "    <tr>\n",
       "      <th>1월</th>\n",
       "      <td>47483</td>\n",
       "    </tr>\n",
       "    <tr>\n",
       "      <th>2월</th>\n",
       "      <td>39540</td>\n",
       "    </tr>\n",
       "    <tr>\n",
       "      <th>3월</th>\n",
       "      <td>41117</td>\n",
       "    </tr>\n",
       "    <tr>\n",
       "      <th>4월</th>\n",
       "      <td>49234</td>\n",
       "    </tr>\n",
       "    <tr>\n",
       "      <th>5월</th>\n",
       "      <td>56499</td>\n",
       "    </tr>\n",
       "    <tr>\n",
       "      <th>6월</th>\n",
       "      <td>53528</td>\n",
       "    </tr>\n",
       "    <tr>\n",
       "      <th>7월</th>\n",
       "      <td>58016</td>\n",
       "    </tr>\n",
       "    <tr>\n",
       "      <th>8월</th>\n",
       "      <td>59698</td>\n",
       "    </tr>\n",
       "    <tr>\n",
       "      <th>9월</th>\n",
       "      <td>50931</td>\n",
       "    </tr>\n",
       "    <tr>\n",
       "      <th>10월</th>\n",
       "      <td>53753</td>\n",
       "    </tr>\n",
       "    <tr>\n",
       "      <th>11월</th>\n",
       "      <td>51309</td>\n",
       "    </tr>\n",
       "    <tr>\n",
       "      <th>12월</th>\n",
       "      <td>50023</td>\n",
       "    </tr>\n",
       "  </tbody>\n",
       "</table>\n",
       "</div>"
      ],
      "text/plain": [
       "       visitor_counts\n",
       "month                \n",
       "1월              47483\n",
       "2월              39540\n",
       "3월              41117\n",
       "4월              49234\n",
       "5월              56499\n",
       "6월              53528\n",
       "7월              58016\n",
       "8월              59698\n",
       "9월              50931\n",
       "10월             53753\n",
       "11월             51309\n",
       "12월             50023"
      ]
     },
     "execution_count": 31,
     "metadata": {},
     "output_type": "execute_result"
    }
   ],
   "source": [
    "## 3년도는 합치고 월별 비교(계절별 확인하기위해)\n",
    "pivot_season_month = pd.pivot_table(data=df_gender_age_month_season,index='month',values='visitor_counts',aggfunc='sum').sort_values('visitor_counts', ascending=False)\n",
    "pivot_season_month = pivot_month.reindex(['1월', '2월', '3월', '4월', '5월', '6월', '7월', '8월', '9월', '10월','11월','12월'])\n",
    "pivot_season_month"
   ]
  },
  {
   "cell_type": "code",
   "execution_count": 66,
   "id": "3969713f-c5ba-4fa5-a448-100ba1dfd8ea",
   "metadata": {},
   "outputs": [
    {
     "data": {
      "image/png": "[encoded data removed]",
      "text/plain": [
       "<Figure size 1000x600 with 1 Axes>"
      ]
     },
     "metadata": {},
     "output_type": "display_data"
    }
   ],
   "source": [
    "### 3년도는 합치고 월별 비교 차트화\n",
    "plt.figure(figsize=(10, 6))\n",
    "# pivot_members_sex_day.plot(kind='bar',  figsize=(10, 7))\n",
    "sns.barplot(data=pivot_season_month, x='month', y='visitor_counts')\n",
    "# 그래프 제목, x축 레이블, y축 레이블 설정\n",
    "plt.title('월별 여행횟수 비교', fontsize=15)\n",
    "plt.xlabel('월')\n",
    "plt.ylabel('여행 횟수(천회)')\n",
    "\n",
    "# 그래프 표시\n",
    "plt.show()"
   ]
  },
  {
   "cell_type": "code",
   "execution_count": 13,
   "id": "296b757a-9e40-4268-9e49-8aa023cbdb5c",
   "metadata": {},
   "outputs": [],
   "source": [
    "# 3년도는 합치고 남여 비교\n",
    "df_gender_age_month_gendercompare = df_gender_age_month[df_gender_age_month['classification'] == '성별'].sort_values('visitor_counts', ascending=False)"
   ]
  },
  {
   "cell_type": "code",
   "execution_count": 14,
   "id": "13810062-b343-4310-a22c-c91ea7a08033",
   "metadata": {},
   "outputs": [
    {
     "data": {
      "text/html": [
       "<div>\n",
       "<style scoped>\n",
       "    .dataframe tbody tr th:only-of-type {\n",
       "        vertical-align: middle;\n",
       "    }\n",
       "\n",
       "    .dataframe tbody tr th {\n",
       "        vertical-align: top;\n",
       "    }\n",
       "\n",
       "    .dataframe thead th {\n",
       "        text-align: right;\n",
       "    }\n",
       "</style>\n",
       "<table border=\"1\" class=\"dataframe\">\n",
       "  <thead>\n",
       "    <tr style=\"text-align: right;\">\n",
       "      <th></th>\n",
       "      <th>visitor_counts</th>\n",
       "    </tr>\n",
       "    <tr>\n",
       "      <th>values</th>\n",
       "      <th></th>\n",
       "    </tr>\n",
       "  </thead>\n",
       "  <tbody>\n",
       "    <tr>\n",
       "      <th>남자</th>\n",
       "      <td>299824</td>\n",
       "    </tr>\n",
       "    <tr>\n",
       "      <th>여자</th>\n",
       "      <td>311310</td>\n",
       "    </tr>\n",
       "  </tbody>\n",
       "</table>\n",
       "</div>"
      ],
      "text/plain": [
       "        visitor_counts\n",
       "values                \n",
       "남자              299824\n",
       "여자              311310"
      ]
     },
     "execution_count": 14,
     "metadata": {},
     "output_type": "execute_result"
    }
   ],
   "source": [
    "## 3년도는 합치고 남여 비교\n",
    "pd.pivot_table(data=df_gender_age_month_gendercompare,index='values',values='visitor_counts',aggfunc='sum')"
   ]
  },
  {
   "cell_type": "code",
   "execution_count": 44,
   "id": "00d4bd2c-263c-4903-8b99-b0f84a6b86bc",
   "metadata": {},
   "outputs": [],
   "source": [
    "# 3년도는 합치고 나이대별 비교\n",
    "df_gender_age_month_agecompare = df_gender_age_month[df_gender_age_month['classification'] == '연령'].sort_values('visitor_counts', ascending=False)"
   ]
  },
  {
   "cell_type": "code",
   "execution_count": 47,
   "id": "15ebfb06-b0a1-4033-bf64-1eb6e97f778c",
   "metadata": {},
   "outputs": [
    {
     "data": {
      "text/html": [
       "<div>\n",
       "<style scoped>\n",
       "    .dataframe tbody tr th:only-of-type {\n",
       "        vertical-align: middle;\n",
       "    }\n",
       "\n",
       "    .dataframe tbody tr th {\n",
       "        vertical-align: top;\n",
       "    }\n",
       "\n",
       "    .dataframe thead th {\n",
       "        text-align: right;\n",
       "    }\n",
       "</style>\n",
       "<table border=\"1\" class=\"dataframe\">\n",
       "  <thead>\n",
       "    <tr style=\"text-align: right;\">\n",
       "      <th></th>\n",
       "      <th>visitor_counts</th>\n",
       "    </tr>\n",
       "    <tr>\n",
       "      <th>values</th>\n",
       "      <th></th>\n",
       "    </tr>\n",
       "  </thead>\n",
       "  <tbody>\n",
       "    <tr>\n",
       "      <th>15~19세</th>\n",
       "      <td>19151</td>\n",
       "    </tr>\n",
       "    <tr>\n",
       "      <th>20대</th>\n",
       "      <td>118615</td>\n",
       "    </tr>\n",
       "    <tr>\n",
       "      <th>30대</th>\n",
       "      <td>124631</td>\n",
       "    </tr>\n",
       "    <tr>\n",
       "      <th>40대</th>\n",
       "      <td>126390</td>\n",
       "    </tr>\n",
       "    <tr>\n",
       "      <th>50대</th>\n",
       "      <td>120709</td>\n",
       "    </tr>\n",
       "    <tr>\n",
       "      <th>60대</th>\n",
       "      <td>73860</td>\n",
       "    </tr>\n",
       "    <tr>\n",
       "      <th>70대 이상</th>\n",
       "      <td>27772</td>\n",
       "    </tr>\n",
       "  </tbody>\n",
       "</table>\n",
       "</div>"
      ],
      "text/plain": [
       "        visitor_counts\n",
       "values                \n",
       "15~19세           19151\n",
       "20대             118615\n",
       "30대             124631\n",
       "40대             126390\n",
       "50대             120709\n",
       "60대              73860\n",
       "70대 이상           27772"
      ]
     },
     "execution_count": 47,
     "metadata": {},
     "output_type": "execute_result"
    }
   ],
   "source": [
    "## 3년도는 합치고 나이대별 비교\n",
    "# pivot_agecompare_month = pd.pivot_table(data=df_gender_age_month_agecompare,index='values',columns='month',values='visitor_counts',aggfunc='sum')\n",
    "pivot_agecompare_month = pd.pivot_table(data=df_gender_age_month_agecompare,index='values',values='visitor_counts',aggfunc='sum')\n",
    "# pivot_agecompare_month = pivot_month.reindex(['1월', '2월', '3월', '4월', '5월', '6월', '7월', '8월', '9월', '10월','11월','12월'])\n",
    "pivot_agecompare_month"
   ]
  },
  {
   "cell_type": "code",
   "execution_count": 67,
   "id": "31ad1bb0-2816-468b-8844-a9477d94f485",
   "metadata": {},
   "outputs": [
    {
     "data": {
      "image/png": "[encoded data removed]",
      "text/plain": [
       "<Figure size 1000x600 with 1 Axes>"
      ]
     },
     "metadata": {},
     "output_type": "display_data"
    }
   ],
   "source": [
    "### 3년도는 합치고 나이대별 비교 차트화\n",
    "plt.figure(figsize=(10, 6))\n",
    "sns.barplot(data=pivot_agecompare_month, x='values', y='visitor_counts')\n",
    "# 그래프 제목, x축 레이블, y축 레이블 설정\n",
    "plt.title('연령대별 여행횟수 비교', fontsize=15)\n",
    "plt.xlabel('연령')\n",
    "plt.ylabel('여행횟수(천회)')\n",
    "\n",
    "# 그래프 표시\n",
    "plt.show()"
   ]
  },
  {
   "cell_type": "code",
   "execution_count": 68,
   "id": "b24dc0db-87ce-4e35-aba4-80321fd58e9f",
   "metadata": {},
   "outputs": [],
   "source": [
    "# 3년도는 합치고 월별 남여 비교\n",
    "df_gender_age_month_monthgendercompare = df_gender_age_month[df_gender_age_month['classification'] == '성별'].sort_values('visitor_counts', ascending=False)"
   ]
  },
  {
   "cell_type": "code",
   "execution_count": 69,
   "id": "0af52ea7-7948-449f-80c0-c52c5aa38257",
   "metadata": {},
   "outputs": [
    {
     "data": {
      "text/html": [
       "<div>\n",
       "<style scoped>\n",
       "    .dataframe tbody tr th:only-of-type {\n",
       "        vertical-align: middle;\n",
       "    }\n",
       "\n",
       "    .dataframe tbody tr th {\n",
       "        vertical-align: top;\n",
       "    }\n",
       "\n",
       "    .dataframe thead th {\n",
       "        text-align: right;\n",
       "    }\n",
       "</style>\n",
       "<table border=\"1\" class=\"dataframe\">\n",
       "  <thead>\n",
       "    <tr style=\"text-align: right;\">\n",
       "      <th>values</th>\n",
       "      <th>남자</th>\n",
       "      <th>여자</th>\n",
       "    </tr>\n",
       "    <tr>\n",
       "      <th>month</th>\n",
       "      <th></th>\n",
       "      <th></th>\n",
       "    </tr>\n",
       "  </thead>\n",
       "  <tbody>\n",
       "    <tr>\n",
       "      <th>1월</th>\n",
       "      <td>23442</td>\n",
       "      <td>24041</td>\n",
       "    </tr>\n",
       "    <tr>\n",
       "      <th>2월</th>\n",
       "      <td>19729</td>\n",
       "      <td>19811</td>\n",
       "    </tr>\n",
       "    <tr>\n",
       "      <th>3월</th>\n",
       "      <td>19951</td>\n",
       "      <td>21167</td>\n",
       "    </tr>\n",
       "    <tr>\n",
       "      <th>4월</th>\n",
       "      <td>23763</td>\n",
       "      <td>25472</td>\n",
       "    </tr>\n",
       "    <tr>\n",
       "      <th>5월</th>\n",
       "      <td>26880</td>\n",
       "      <td>29621</td>\n",
       "    </tr>\n",
       "    <tr>\n",
       "      <th>6월</th>\n",
       "      <td>26138</td>\n",
       "      <td>27391</td>\n",
       "    </tr>\n",
       "    <tr>\n",
       "      <th>7월</th>\n",
       "      <td>28887</td>\n",
       "      <td>29129</td>\n",
       "    </tr>\n",
       "    <tr>\n",
       "      <th>8월</th>\n",
       "      <td>29641</td>\n",
       "      <td>30056</td>\n",
       "    </tr>\n",
       "    <tr>\n",
       "      <th>9월</th>\n",
       "      <td>25341</td>\n",
       "      <td>25590</td>\n",
       "    </tr>\n",
       "    <tr>\n",
       "      <th>10월</th>\n",
       "      <td>25993</td>\n",
       "      <td>27760</td>\n",
       "    </tr>\n",
       "    <tr>\n",
       "      <th>11월</th>\n",
       "      <td>24837</td>\n",
       "      <td>26471</td>\n",
       "    </tr>\n",
       "    <tr>\n",
       "      <th>12월</th>\n",
       "      <td>25222</td>\n",
       "      <td>24801</td>\n",
       "    </tr>\n",
       "  </tbody>\n",
       "</table>\n",
       "</div>"
      ],
      "text/plain": [
       "values     남자     여자\n",
       "month               \n",
       "1월      23442  24041\n",
       "2월      19729  19811\n",
       "3월      19951  21167\n",
       "4월      23763  25472\n",
       "5월      26880  29621\n",
       "6월      26138  27391\n",
       "7월      28887  29129\n",
       "8월      29641  30056\n",
       "9월      25341  25590\n",
       "10월     25993  27760\n",
       "11월     24837  26471\n",
       "12월     25222  24801"
      ]
     },
     "execution_count": 69,
     "metadata": {},
     "output_type": "execute_result"
    }
   ],
   "source": [
    "## 월별 남여 여행비율이 다른것이다?\n",
    "pivot_sex=pd.pivot_table(data=df_gender_age_month_monthgendercompare,index='month',columns='values',values='visitor_counts',aggfunc='sum')\n",
    "pivot_sex=pivot_sex.reindex(['1월', '2월', '3월', '4월', '5월', '6월', '7월', '8월', '9월', '10월','11월','12월'])\n",
    "pivot_sex"
   ]
  },
  {
   "cell_type": "code",
   "execution_count": 79,
   "id": "167ff31f-b08f-41d7-a0ce-f2b3b96cd4e3",
   "metadata": {},
   "outputs": [
    {
     "data": {
      "text/plain": [
       "<Figure size 1000x600 with 0 Axes>"
      ]
     },
     "metadata": {},
     "output_type": "display_data"
    },
    {
     "data": {
      "image/png": "[encoded data removed]",
      "text/plain": [
       "<Figure size 1000x700 with 1 Axes>"
      ]
     },
     "metadata": {},
     "output_type": "display_data"
    }
   ],
   "source": [
    "### 3년도는 합치고 월별 남여 비교 차트화\n",
    "plt.figure(figsize=(10, 6))\n",
    "# pivot_sex.plot(kind='bar', stacked=True, figsize=(10, 7))\n",
    "ax = pivot_sex.plot(kind='bar', figsize=(10, 7))\n",
    "# 그래프 제목, x축 레이블, y축 레이블 설정\n",
    "plt.title('월별 남여 비교', fontsize=15)\n",
    "plt.xlabel('월')\n",
    "plt.ylabel('여행횟수(천회)')\n",
    "\n",
    "# 범례 추가\n",
    "ax.legend([\"남성\", \"여성\"], loc='upper right')\n",
    "\n",
    "# 그래프 표시\n",
    "plt.show()"
   ]
  },
  {
   "cell_type": "code",
   "execution_count": null,
   "id": "0a149873-c70c-4a9e-9080-fd655003a4c2",
   "metadata": {},
   "outputs": [],
   "source": []
  },
  {
   "cell_type": "code",
   "execution_count": null,
   "id": "e07aa731-b7cc-4b3e-b753-3bf03f65872d",
   "metadata": {},
   "outputs": [],
   "source": []
  },
  {
   "cell_type": "code",
   "execution_count": null,
   "id": "fb7ae8d4-7852-4382-96ec-c804121f96e3",
   "metadata": {},
   "outputs": [],
   "source": []
  },
  {
   "cell_type": "code",
   "execution_count": null,
   "id": "24cadeba-cfa3-4541-a7c9-a391792df597",
   "metadata": {},
   "outputs": [],
   "source": []
  },
  {
   "cell_type": "code",
   "execution_count": null,
   "id": "5910f4ef-747c-467f-b0cf-e334c747a6d3",
   "metadata": {},
   "outputs": [],
   "source": [
    "df_gender_age_month_2020 = df_gender_age_month[df_gender_age_month['classification'] == '전체'].sort_values('visitor_counts', ascending=False)\n",
    "df_gender_age_month_2020"
   ]
  },
  {
   "cell_type": "code",
   "execution_count": null,
   "id": "0cd2c48a-ddf7-46f8-84dd-bbd28188d5ee",
   "metadata": {},
   "outputs": [],
   "source": [
    "# pd.pivot_table(data=df_gender_age_month_2020,index='year',columns='month',values='visitor_counts',aggfunc='sum')\n",
    "# pd.pivot_table(data=df_gender_age_month_2020,index='year',values='visitor_counts',aggfunc='sum')\n",
    "pd.pivot_table(data=df_gender_age_month,index='values',columns='month',values='visitor_counts',aggfunc='mean')\n",
    "# pd.pivot_table(data=df_gender_age_month_2020,index='month',values='visitor_counts',aggfunc='mean')"
   ]
  },
  {
   "cell_type": "code",
   "execution_count": null,
   "id": "ab71d1e2-f48c-4ac8-9c06-dbe75d539c19",
   "metadata": {},
   "outputs": [],
   "source": []
  }
 ],
 "metadata": {
  "kernelspec": {
   "display_name": "Python 3 (ipykernel)",
   "language": "python",
   "name": "python3"
  },
  "language_info": {
   "codemirror_mode": {
    "name": "ipython",
    "version": 3
   },
   "file_extension": ".py",
   "mimetype": "text/x-python",
   "name": "python",
   "nbconvert_exporter": "python",
   "pygments_lexer": "ipython3",
   "version": "3.11.8"
  }
 },
 "nbformat": 4,
 "nbformat_minor": 5
}
